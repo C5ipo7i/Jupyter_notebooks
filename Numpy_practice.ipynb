{
 "cells": [
  {
   "cell_type": "code",
   "execution_count": 2,
   "metadata": {
    "collapsed": true
   },
   "outputs": [],
   "source": [
    "import numpy as np"
   ]
  },
  {
   "cell_type": "markdown",
   "metadata": {},
   "source": [
    "# Slicing"
   ]
  },
  {
   "cell_type": "code",
   "execution_count": 3,
   "metadata": {},
   "outputs": [
    {
     "name": "stdout",
     "output_type": "stream",
     "text": [
      "[0 1 2 3 4 5 6 7 8 9]\n",
      "[5 6 7 8 9]\n",
      "[0 5]\n",
      "[9 8 7 6 5 4 3 2 1 0]\n"
     ]
    }
   ],
   "source": [
    "q = np.arange(10)\n",
    "print(q)\n",
    "print(q[5:])\n",
    "print(q[::5])\n",
    "print(q[::-1])"
   ]
  },
  {
   "cell_type": "markdown",
   "metadata": {},
   "source": [
    "# Cumsum\n",
    "\n",
    "In the event of using future rewards. Sequentially start summing closer and closer to the end"
   ]
  },
  {
   "cell_type": "code",
   "execution_count": 20,
   "metadata": {
    "collapsed": true
   },
   "outputs": [],
   "source": [
    "discount = 0.995\n",
    "m_rewards = [1 for i in range(10)]"
   ]
  },
  {
   "cell_type": "markdown",
   "metadata": {},
   "source": [
    "# Shaping rewards\n",
    "\n",
    "1. Isolate the future rewards (created by cumsum)\n",
    "2. Create a new array so we can sequentially discount the Rewards_future, which will be come 10! ? because at each step, we start again with the discounting. \n",
    "3. The future rewards array reflects all the future rewards for the current trajectory."
   ]
  },
  {
   "cell_type": "code",
   "execution_count": 23,
   "metadata": {},
   "outputs": [
    {
     "name": "stdout",
     "output_type": "stream",
     "text": [
      "m_rewards [1, 1, 1, 1, 1, 1, 1, 1, 1, 1]\n",
      "m_cum_rewards [10  9  8  7  6  5  4  3  2  1]\n",
      "discounts [ 1.          0.995       0.990025    0.98507488  0.9801495   0.97524875\n",
      "  0.97037251  0.96552065  0.96069304  0.95588958]\n",
      "discounted_rewards [ 10.           8.955        7.9202       6.89552412   5.880897\n",
      "   4.87624377   3.88149004   2.89656194   1.92138609   0.95588958]\n"
     ]
    }
   ],
   "source": [
    "# This is what makes sense to me\n",
    "m_cum_rewards = np.asarray(m_rewards).cumsum(axis=0)[::-1]\n",
    "print('m_rewards',m_rewards)\n",
    "print('m_cum_rewards',m_cum_rewards)\n",
    "discounts = discount**np.arange(len(m_rewards))\n",
    "print('discounts',discounts)\n",
    "discounted_rewards = np.asarray(m_cum_rewards)*discounted\n",
    "print('discounted_rewards',discounted_rewards)"
   ]
  },
  {
   "cell_type": "code",
   "execution_count": 4,
   "metadata": {},
   "outputs": [
    {
     "name": "stdout",
     "output_type": "stream",
     "text": [
      "[0 1 2 3 4 5 6 7 8 9]\n",
      "[45 45 44 42 39 35 30 24 17  9]\n"
     ]
    }
   ],
   "source": [
    "a = np.arange(10)\n",
    "b = a[::-1].cumsum(axis=0)[::-1]\n",
    "print(a)\n",
    "print(b)"
   ]
  },
  {
   "cell_type": "code",
   "execution_count": 18,
   "metadata": {},
   "outputs": [
    {
     "name": "stdout",
     "output_type": "stream",
     "text": [
      "discounted [ 1.          0.995       0.990025    0.98507488  0.9801495   0.97524875\n",
      "  0.97037251  0.96552065  0.96069304  0.95588958]\n",
      "np.asarray(rewards) [0 1 2 3 4 5 6 7 8 9]\n",
      "discounted[:,np.newaxis] [[ 1.        ]\n",
      " [ 0.995     ]\n",
      " [ 0.990025  ]\n",
      " [ 0.98507488]\n",
      " [ 0.9801495 ]\n",
      " [ 0.97524875]\n",
      " [ 0.97037251]\n",
      " [ 0.96552065]\n",
      " [ 0.96069304]\n",
      " [ 0.95588958]]\n",
      "discounted_rewards.shape (10, 10)\n",
      "discounted_rewards [[ 0.          1.          2.          3.          4.          5.          6.\n",
      "   7.          8.          9.        ]\n",
      " [ 0.          0.995       1.99        2.985       3.98        4.975       5.97\n",
      "   6.965       7.96        8.955     ]\n",
      " [ 0.          0.990025    1.98005     2.970075    3.9601      4.950125\n",
      "   5.94015     6.930175    7.9202      8.910225  ]\n",
      " [ 0.          0.98507488  1.97014975  2.95522463  3.9402995   4.92537438\n",
      "   5.91044925  6.89552412  7.880599    8.86567388]\n",
      " [ 0.          0.9801495   1.960299    2.9404485   3.920598    4.9007475\n",
      "   5.880897    6.8610465   7.841196    8.82134551]\n",
      " [ 0.          0.97524875  1.95049751  2.92574626  3.90099501  4.87624377\n",
      "   5.85149252  6.82674127  7.80199002  8.77723878]\n",
      " [ 0.          0.97037251  1.94074502  2.91111753  3.88149004  4.85186255\n",
      "   5.82223506  6.79260757  7.76298007  8.73335258]\n",
      " [ 0.          0.96552065  1.93104129  2.89656194  3.86208259  4.82760323\n",
      "   5.79312388  6.75864453  7.72416517  8.68968582]\n",
      " [ 0.          0.96069304  1.92138609  2.88207913  3.84277217  4.80346522\n",
      "   5.76415826  6.72485131  7.68554435  8.64623739]\n",
      " [ 0.          0.95588958  1.91177916  2.86766874  3.82355831  4.77944789\n",
      "   5.73533747  6.69122705  7.64711663  8.60300621]]\n"
     ]
    }
   ],
   "source": [
    "\n",
    "# rewards = [1 for i in range(10)]\n",
    "rewards = list(range(10))\n",
    "\n",
    "discounted = discount**np.arange(len(rewards))\n",
    "discounted_rewards = np.asarray(rewards)*discounted[:,np.newaxis]\n",
    "print('discounted',discounted)\n",
    "print('np.asarray(rewards)',np.asarray(rewards))\n",
    "print('discounted[:,np.newaxis]',discounted[:,np.newaxis])\n",
    "print('discounted_rewards.shape',discounted_rewards.shape)\n",
    "print('discounted_rewards',discounted_rewards)"
   ]
  },
  {
   "cell_type": "code",
   "execution_count": 10,
   "metadata": {},
   "outputs": [],
   "source": [
    "# convert rewards to future rewards\n",
    "future_rewards = discounted_rewards[::-1].cumsum(axis=0)[::-1]\n",
    "\n",
    "mean = np.mean(future_rewards, axis=1)\n",
    "std = np.std(future_rewards, axis=1) + 1.0e-10\n",
    "\n",
    "rewards_normalized = (future_rewards - mean[:,np.newaxis])/std[:,np.newaxis]"
   ]
  },
  {
   "cell_type": "code",
   "execution_count": 11,
   "metadata": {},
   "outputs": [
    {
     "name": "stdout",
     "output_type": "stream",
     "text": [
      "[[  0.           9.77797391  19.55594781  29.33392172  39.11189563\n",
      "   48.88986953  58.66784344  68.44581735  78.22379125  88.00176516]\n",
      " [  0.           8.77797391  17.55594781  26.33392172  35.11189563\n",
      "   43.88986953  52.66784344  61.44581735  70.22379125  79.00176516]\n",
      " [  0.           7.78297391  15.56594781  23.34892172  31.13189563\n",
      "   38.91486953  46.69784344  54.48081735  62.26379125  70.04676516]\n",
      " [  0.           6.79294891  13.58589781  20.37884672  27.17179563\n",
      "   33.96474453  40.75769344  47.55064235  54.34359125  61.13654016]\n",
      " [  0.           5.80787403  11.61574806  17.4236221   23.23149613\n",
      "   29.03937016  34.84724419  40.65511822  46.46299225  52.27086629]\n",
      " [  0.           4.82772453   9.65544906  14.48317359  19.31089812\n",
      "   24.13862266  28.96634719  33.79407172  38.62179625  43.44952078]\n",
      " [  0.           3.85247578   7.70495156  11.55742733  15.40990311\n",
      "   19.26237889  23.11485467  26.96733045  30.81980622  34.672282  ]\n",
      " [  0.           2.88210327   5.76420654   8.64630981  11.52841307\n",
      "   14.41051634  17.29261961  20.17472288  23.05682615  25.93892942]\n",
      " [  0.           1.91658262   3.83316524   5.74974787   7.66633049\n",
      "    9.58291311  11.49949573  13.41607835  15.33266098  17.2492436 ]\n",
      " [  0.           0.95588958   1.91177916   2.86766874   3.82355831\n",
      "    4.77944789   5.73533747   6.69122705   7.64711663   8.60300621]]\n",
      "[[-1.5666989  -1.21854359 -0.87038828 -0.52223297 -0.17407766  0.17407766\n",
      "   0.52223297  0.87038828  1.21854359  1.5666989 ]\n",
      " [-1.5666989  -1.21854359 -0.87038828 -0.52223297 -0.17407766  0.17407766\n",
      "   0.52223297  0.87038828  1.21854359  1.5666989 ]\n",
      " [-1.5666989  -1.21854359 -0.87038828 -0.52223297 -0.17407766  0.17407766\n",
      "   0.52223297  0.87038828  1.21854359  1.5666989 ]\n",
      " [-1.5666989  -1.21854359 -0.87038828 -0.52223297 -0.17407766  0.17407766\n",
      "   0.52223297  0.87038828  1.21854359  1.5666989 ]\n",
      " [-1.5666989  -1.21854359 -0.87038828 -0.52223297 -0.17407766  0.17407766\n",
      "   0.52223297  0.87038828  1.21854359  1.5666989 ]\n",
      " [-1.5666989  -1.21854359 -0.87038828 -0.52223297 -0.17407766  0.17407766\n",
      "   0.52223297  0.87038828  1.21854359  1.5666989 ]\n",
      " [-1.5666989  -1.21854359 -0.87038828 -0.52223297 -0.17407766  0.17407766\n",
      "   0.52223297  0.87038828  1.21854359  1.5666989 ]\n",
      " [-1.5666989  -1.21854359 -0.87038828 -0.52223297 -0.17407766  0.17407766\n",
      "   0.52223297  0.87038828  1.21854359  1.5666989 ]\n",
      " [-1.5666989  -1.21854359 -0.87038828 -0.52223297 -0.17407766  0.17407766\n",
      "   0.52223297  0.87038828  1.21854359  1.5666989 ]\n",
      " [-1.5666989  -1.21854359 -0.87038828 -0.52223297 -0.17407766  0.17407766\n",
      "   0.52223297  0.87038828  1.21854359  1.5666989 ]]\n"
     ]
    }
   ],
   "source": [
    "print(future_rewards)\n",
    "print(rewards_normalized)"
   ]
  },
  {
   "cell_type": "code",
   "execution_count": 27,
   "metadata": {
    "collapsed": true
   },
   "outputs": [],
   "source": [
    "mean = np.mean(future_rewards,axis=1)\n",
    "std = np.std(future_rewards,axis=1) + 1e-10\n",
    "rewards_normalized = (future_rewards - mean[:,np.newaxis])/std[:,np.newaxis]"
   ]
  },
  {
   "cell_type": "code",
   "execution_count": 32,
   "metadata": {},
   "outputs": [
    {
     "name": "stdout",
     "output_type": "stream",
     "text": [
      "(10,)\n",
      "(10,)\n",
      "(10, 10)\n",
      "[[-1.5666989  -1.21854359 -0.87038828 -0.52223297 -0.17407766  0.17407766\n",
      "   0.52223297  0.87038828  1.21854359  1.5666989 ]\n",
      " [-1.5666989  -1.21854359 -0.87038828 -0.52223297 -0.17407766  0.17407766\n",
      "   0.52223297  0.87038828  1.21854359  1.5666989 ]\n",
      " [-1.5666989  -1.21854359 -0.87038828 -0.52223297 -0.17407766  0.17407766\n",
      "   0.52223297  0.87038828  1.21854359  1.5666989 ]\n",
      " [-1.5666989  -1.21854359 -0.87038828 -0.52223297 -0.17407766  0.17407766\n",
      "   0.52223297  0.87038828  1.21854359  1.5666989 ]\n",
      " [-1.5666989  -1.21854359 -0.87038828 -0.52223297 -0.17407766  0.17407766\n",
      "   0.52223297  0.87038828  1.21854359  1.5666989 ]\n",
      " [-1.5666989  -1.21854359 -0.87038828 -0.52223297 -0.17407766  0.17407766\n",
      "   0.52223297  0.87038828  1.21854359  1.5666989 ]\n",
      " [-1.5666989  -1.21854359 -0.87038828 -0.52223297 -0.17407766  0.17407766\n",
      "   0.52223297  0.87038828  1.21854359  1.5666989 ]\n",
      " [-1.5666989  -1.21854359 -0.87038828 -0.52223297 -0.17407766  0.17407766\n",
      "   0.52223297  0.87038828  1.21854359  1.5666989 ]\n",
      " [-1.5666989  -1.21854359 -0.87038828 -0.52223297 -0.17407766  0.17407766\n",
      "   0.52223297  0.87038828  1.21854359  1.5666989 ]\n",
      " [-1.5666989  -1.21854359 -0.87038828 -0.52223297 -0.17407766  0.17407766\n",
      "   0.52223297  0.87038828  1.21854359  1.5666989 ]]\n"
     ]
    }
   ],
   "source": [
    "print(mean.shape)\n",
    "print(std.shape)\n",
    "print(rewards_normalized.shape)\n",
    "print(rewards_normalized)"
   ]
  },
  {
   "cell_type": "markdown",
   "metadata": {},
   "source": [
    "# Newaxis\n",
    "\n",
    "Creates a new axis to fill out.\n",
    "*For future rewards*"
   ]
  },
  {
   "cell_type": "code",
   "execution_count": 15,
   "metadata": {},
   "outputs": [
    {
     "name": "stdout",
     "output_type": "stream",
     "text": [
      "[0.995 0.995 0.995 0.995 0.995 0.995 0.995 0.995 0.995 0.995]\n",
      "[0, 1, 2, 3, 4, 5, 6, 7, 8, 9]\n",
      "[[0.    0.995 1.99  2.985 3.98  4.975 5.97  6.965 7.96  8.955]\n",
      " [0.    0.995 1.99  2.985 3.98  4.975 5.97  6.965 7.96  8.955]\n",
      " [0.    0.995 1.99  2.985 3.98  4.975 5.97  6.965 7.96  8.955]\n",
      " [0.    0.995 1.99  2.985 3.98  4.975 5.97  6.965 7.96  8.955]\n",
      " [0.    0.995 1.99  2.985 3.98  4.975 5.97  6.965 7.96  8.955]\n",
      " [0.    0.995 1.99  2.985 3.98  4.975 5.97  6.965 7.96  8.955]\n",
      " [0.    0.995 1.99  2.985 3.98  4.975 5.97  6.965 7.96  8.955]\n",
      " [0.    0.995 1.99  2.985 3.98  4.975 5.97  6.965 7.96  8.955]\n",
      " [0.    0.995 1.99  2.985 3.98  4.975 5.97  6.965 7.96  8.955]\n",
      " [0.    0.995 1.99  2.985 3.98  4.975 5.97  6.965 7.96  8.955]]\n"
     ]
    }
   ],
   "source": [
    "rewards = list(range(10))\n",
    "discount = np.full(10,0.995)\n",
    "print(discount)\n",
    "print(rewards)\n",
    "discounted_rewards = np.asarray(rewards)*discount[:,np.newaxis]\n",
    "print(discounted_rewards)"
   ]
  },
  {
   "cell_type": "code",
   "execution_count": null,
   "metadata": {
    "collapsed": true
   },
   "outputs": [],
   "source": [
    "# "
   ]
  }
 ],
 "metadata": {
  "kernelspec": {
   "display_name": "Python 3",
   "language": "python",
   "name": "python3"
  },
  "language_info": {
   "codemirror_mode": {
    "name": "ipython",
    "version": 3
   },
   "file_extension": ".py",
   "mimetype": "text/x-python",
   "name": "python",
   "nbconvert_exporter": "python",
   "pygments_lexer": "ipython3",
   "version": "3.5.4"
  }
 },
 "nbformat": 4,
 "nbformat_minor": 2
}

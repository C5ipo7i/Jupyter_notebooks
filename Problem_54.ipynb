{
 "cells": [
  {
   "cell_type": "markdown",
   "metadata": {},
   "source": [
    "# Euler project problem 54\n",
    "\n",
    "5 card poker hands"
   ]
  },
  {
   "cell_type": "code",
   "execution_count": null,
   "metadata": {},
   "outputs": [],
   "source": [
    "rank_dict = {'T':10,'J':11,'Q':12,'K':13,'A':14}\n",
    "def translate_cards(rank):\n",
    "    pass\n",
    "\n",
    "def rank(hand):\n",
    "    \n",
    "    return hand_rank\n",
    "\n",
    "def winner(hand1,hand2):\n",
    "    \n",
    "    if hand1_rank > hand2_rank:\n",
    "        \n",
    "    elif hand2_rank > hand1_rank:\n",
    "        \n",
    "    else:\n",
    "        #tie\n",
    "        \n",
    "def resolve(hands):\n",
    "    wins_1 = 0\n",
    "    wins_2 = 0\n",
    "    for hand in hands:\n",
    "        hand1 = hand[:5]\n",
    "    "
   ]
  }
 ],
 "metadata": {
  "kernelspec": {
   "display_name": "Python 3",
   "language": "python",
   "name": "python3"
  },
  "language_info": {
   "codemirror_mode": {
    "name": "ipython",
    "version": 3
   },
   "file_extension": ".py",
   "mimetype": "text/x-python",
   "name": "python",
   "nbconvert_exporter": "python",
   "pygments_lexer": "ipython3",
   "version": "3.6.7"
  }
 },
 "nbformat": 4,
 "nbformat_minor": 2
}

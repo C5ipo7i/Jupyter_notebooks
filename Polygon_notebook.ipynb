{
 "cells": [
  {
   "cell_type": "code",
   "execution_count": null,
   "metadata": {},
   "outputs": [],
   "source": [
    "from polygon import RESTClient\n",
    "import os\n",
    "import requests\n",
    "import json\n",
    "import numpy as np\n",
    "from datetime import datetime\n",
    "from datetime import date\n",
    "from datetime import timedelta\n",
    "from random import randrange\n",
    "import time\n",
    "import matplotlib.pyplot as plt\n",
    "\n",
    "%matplotlib inline"
   ]
  },
  {
   "cell_type": "code",
   "execution_count": null,
   "metadata": {},
   "outputs": [],
   "source": [
    "class Polygon(object):\n",
    "    def __init__(self,API_KEY):\n",
    "        self.key = API_KEY\n",
    "        self.client = RESTClient(self.key)\n",
    "    \n",
    "    def get_news(self,symbol):\n",
    "        resp = self.client.reference_ticker_news(symbol)\n",
    "        return resp\n",
    "    \n",
    "    def get_ticks(self,params):\n",
    "        symbol,date,timestamp,timestampLimit,limit = params.values()\n",
    "        tick_url = f'https://api.polygon.io/v2/ticks/stocks/trades/{symbol}/{date}?timestamp={timestamp}&timestampLimit={timestampLimit}&limit={limit}&apiKey={self.key}'\n",
    "        print('tick_url',tick_url)\n",
    "        r = requests.get(tick_url)\n",
    "        ticks = r.json()\n",
    "        return ticks\n",
    "    \n",
    "    def get_day_trades(self,symbol,start_date,unix_day_start,unix_day_end):\n",
    "        results = []\n",
    "#         elapsed_from_start = 0\n",
    "        start_time = unix_day_start\n",
    "        while True:\n",
    "            print('elapsed_from_start',start_time - unix_day_start)\n",
    "            params = {'symbol':symbol,'date':start_date,'timestamp':start_time,'timestampLimit':unix_day_end,'limit':50000}\n",
    "            ticks = self.get_ticks(params)\n",
    "            data = Polygon.store_data(ticks)\n",
    "            if data.size > 0:\n",
    "                results.append(data)\n",
    "            if 'results' in ticks:\n",
    "                if len(ticks['results']) < 50000:\n",
    "                    break\n",
    "                # Get new start\n",
    "                temp = datetime.fromtimestamp(int(str(int(data[-1,0]))[:-9]))\n",
    "                start_time = int(1e+9*(temp.timestamp()))\n",
    "            else:\n",
    "                break\n",
    "        return results\n",
    "        \n",
    "\n",
    "    def get_range(self,symbol,start_date,end_date):\n",
    "        \"\"\"\n",
    "        symbol : string\n",
    "        start_date : string date\n",
    "        end_date : string date\n",
    "        \"\"\"\n",
    "        time_diff = datetime.strptime(end_date,'%Y-%m-%d') - datetime.strptime(start_date,'%Y-%m-%d')\n",
    "        print(f'start date {start_date},end date {end_date},time span of {time_diff}')\n",
    "        results = []\n",
    "        i = 0\n",
    "        while start_date != end_date:\n",
    "            print('date',start_date)\n",
    "#             start_time = datetime.strptime(start_date,'%Y-%m-%d') + timedelta(hours=9) + timedelta(minutes=30)\n",
    "            temp_start = datetime.strptime(start_date,'%Y-%m-%d') + timedelta(hours=9) + timedelta(minutes=30)\n",
    "            temp_end = datetime.strptime(start_date,'%Y-%m-%d') + timedelta(hours=16)\n",
    "            unix_day_start = int(1e+9*(temp_start.timestamp()))\n",
    "            unix_day_end = int(1e+9*(temp_end.timestamp()))\n",
    "\n",
    "            day_trades = self.get_day_trades(symbol,start_date,unix_day_start,unix_day_end)\n",
    "            results.append(day_trades)\n",
    "            start_date = datetime.strptime(start_date,'%Y-%m-%d')\n",
    "            start_date = str((start_date + timedelta(days=1)).date())\n",
    "            \n",
    "            if i > 100:\n",
    "                print('loop break')\n",
    "                break\n",
    "            i += 1\n",
    "        return results\n",
    "    \n",
    "    @staticmethod\n",
    "    def store_data(ticks):\n",
    "        if 'results' in ticks:\n",
    "            print('num results',len(ticks['results']))\n",
    "            data = np.empty((len(ticks['results']),3))\n",
    "            for i,result in enumerate(ticks['results']):\n",
    "                data[i,0] = result['t']\n",
    "                data[i,1] = result['s']\n",
    "                data[i,2] = result['p']\n",
    "        else:\n",
    "            data = np.array([])\n",
    "        return data\n",
    "    \n",
    "    def get_symbol_data(self,symbol_list,start,end,num_samples):\n",
    "        \"\"\"\n",
    "        symbol_list : list\n",
    "        start : datetime object\n",
    "        end : datetime object\n",
    "        num_samples : int\n",
    "        \"\"\"\n",
    "        stock_data = {}\n",
    "        for symbol in symbol_list:\n",
    "            symbol_results = []\n",
    "            for _ in range(num_samples):\n",
    "                random_start_date = random_date(start,end)\n",
    "                start_date = datetime.strptime(str(random_start_date.date()),'%Y-%m-%d')\n",
    "                \n",
    "                string_start_date = str(start_date.date())\n",
    "                string_end_date = str((start_date + timedelta(days=1)).date())\n",
    "                \n",
    "                results = self.get_range(symbol,string_start_date,string_end_date)\n",
    "                symbol_results.append(results)\n",
    "            stock_data[symbol] = symbol_results\n",
    "        return stock_data\n",
    "        \n",
    "def random_date(start, end):\n",
    "    \"\"\"\n",
    "    This function will return a random datetime between two datetime \n",
    "    objects.\n",
    "    \"\"\"\n",
    "    delta = end - start\n",
    "    int_delta = (delta.days * 24 * 60 * 60) + delta.seconds\n",
    "    random_second = randrange(int_delta)\n",
    "    return start + timedelta(seconds=random_second)           \n",
    "            "
   ]
  },
  {
   "cell_type": "code",
   "execution_count": null,
   "metadata": {},
   "outputs": [],
   "source": [
    "# Insert API key here\n",
    "API_KEY = ''"
   ]
  },
  {
   "cell_type": "code",
   "execution_count": null,
   "metadata": {},
   "outputs": [],
   "source": [
    "interface = Polygon(API_KEY)"
   ]
  },
  {
   "cell_type": "code",
   "execution_count": null,
   "metadata": {},
   "outputs": [],
   "source": [
    "# datetime(year, month, day, hour, minute, second, microsecond)\n",
    "start = datetime(2017, 1, 1, 0, 0, 0, 0)\n",
    "# datetime(year, month, day, hour, minute, second, microsecond)\n",
    "end = datetime(2020, 1, 1, 0, 0, 0, 0)\n",
    "start_date = '2018-01-01'\n",
    "end_date = '2020-01-01'\n",
    "# start = date(2018, 11, 28)\n",
    "# end = date(2018, 11, 29)\n",
    "\n",
    "# unix_start = start.timestamp()\n",
    "# unix_end = int(1e+9*(end.timestamp())) \n"
   ]
  },
  {
   "cell_type": "code",
   "execution_count": null,
   "metadata": {},
   "outputs": [],
   "source": [
    "# test = str(datetime.fromtimestamp(int(str(int(unix_end))[:-9])).date)\n",
    "# test\n",
    "# print(datetime.strptime(start_date,'%Y-%m-%d'))\n",
    "# day_end = datetime.strptime(start_date,'%Y-%m-%d') + timedelta(hours=9) + timedelta(minutes=30)\n",
    "# print(day_end)"
   ]
  },
  {
   "cell_type": "code",
   "execution_count": null,
   "metadata": {},
   "outputs": [],
   "source": [
    "symbol_list = ['TSLA','AAPL']\n",
    "num_samples = 5"
   ]
  },
  {
   "cell_type": "code",
   "execution_count": null,
   "metadata": {},
   "outputs": [],
   "source": [
    "results = interface.get_symbol_data(symbol_list,start,end,num_samples)"
   ]
  },
  {
   "cell_type": "code",
   "execution_count": null,
   "metadata": {},
   "outputs": [],
   "source": [
    "print(results)"
   ]
  },
  {
   "cell_type": "markdown",
   "metadata": {},
   "source": [
    "# Graph results"
   ]
  },
  {
   "cell_type": "code",
   "execution_count": null,
   "metadata": {},
   "outputs": [],
   "source": [
    "def extract_x(data):\n",
    "    X = np.array([])\n",
    "    for sample in data:\n",
    "        print(sample,len(sample[0]))\n",
    "        if len(sample[0]) == 0:\n",
    "            continue\n",
    "        sample_X = sample[0][0][:,2]\n",
    "        if X.size == 0:\n",
    "            X = sample_X\n",
    "        else:\n",
    "            X = np.hstack((X,sample_X))\n",
    "    return X"
   ]
  },
  {
   "cell_type": "code",
   "execution_count": null,
   "metadata": {},
   "outputs": [],
   "source": [
    "tesla_results = results['TSLA']"
   ]
  },
  {
   "cell_type": "code",
   "execution_count": null,
   "metadata": {},
   "outputs": [],
   "source": [
    "# print(tesla_results)"
   ]
  },
  {
   "cell_type": "code",
   "execution_count": null,
   "metadata": {},
   "outputs": [],
   "source": [
    "X = extract_x(tesla_results)"
   ]
  },
  {
   "cell_type": "code",
   "execution_count": null,
   "metadata": {},
   "outputs": [],
   "source": [
    "plt.plot(X)"
   ]
  },
  {
   "cell_type": "code",
   "execution_count": null,
   "metadata": {},
   "outputs": [],
   "source": []
  },
  {
   "cell_type": "code",
   "execution_count": null,
   "metadata": {
    "scrolled": true
   },
   "outputs": [],
   "source": [
    "data = results[0][0]\n",
    "print(datetime.fromtimestamp(int(str(int(data[0,0]))[:-9])))\n",
    "print(datetime.fromtimestamp(int(str(int(data[-1,0]))[:-9])))"
   ]
  },
  {
   "cell_type": "code",
   "execution_count": null,
   "metadata": {},
   "outputs": [],
   "source": [
    "\n",
    "string_date = datetime.strptime('2018-02-01','%Y-%m-%d')\n",
    "print(string_date)\n",
    "test_date = datetime.fromtimestamp(int(str(int(data[0,0]))[:-9]))\n",
    "print(test_date)\n",
    "test_date += timedelta(days=1)\n",
    "print(test_date)"
   ]
  },
  {
   "cell_type": "code",
   "execution_count": null,
   "metadata": {},
   "outputs": [],
   "source": [
    "resp = interface.get_news('tsla')"
   ]
  },
  {
   "cell_type": "code",
   "execution_count": null,
   "metadata": {
    "scrolled": true
   },
   "outputs": [],
   "source": [
    "resp.news"
   ]
  },
  {
   "cell_type": "code",
   "execution_count": null,
   "metadata": {},
   "outputs": [],
   "source": [
    "content = []\n",
    "sources = []\n",
    "times = []\n",
    "for i,new in enumerate(news):\n",
    "#     print(dir(new))\n",
    "#     print(new.title)\n",
    "#     print(new.summary)\n",
    "#     print(new.source)\n",
    "#     print(new.keywords)\n",
    "#     print(new.image)\n",
    "#     print(new.timestamp)\n",
    "    content.append(new.summary)\n",
    "    sources.append(new.source)\n",
    "    times.append(new.timestamp)"
   ]
  },
  {
   "cell_type": "code",
   "execution_count": null,
   "metadata": {},
   "outputs": [],
   "source": [
    "np.unique(sources)"
   ]
  },
  {
   "cell_type": "code",
   "execution_count": null,
   "metadata": {},
   "outputs": [],
   "source": [
    "print(content)"
   ]
  },
  {
   "cell_type": "markdown",
   "metadata": {},
   "source": [
    "# Tick Data\n",
    " \n",
    "- Timestamp -t\n",
    "- size -s\n",
    "- price -p\n",
    "\n",
    "Sequentially get the tick data up to a certain time.\n",
    "\n",
    "### Params\n",
    "- start time\n",
    "- end time"
   ]
  },
  {
   "cell_type": "code",
   "execution_count": null,
   "metadata": {},
   "outputs": [],
   "source": [
    "start_time = date(2019, 4, 13)\n",
    "end_time = date(2020,1,1)\n",
    "# datetime(year, month, day, hour, minute, second, microsecond)\n",
    "b = datetime(2017, 11, 28, 23, 55, 0, 0)"
   ]
  },
  {
   "cell_type": "code",
   "execution_count": null,
   "metadata": {},
   "outputs": [],
   "source": [
    "data = np.empty((50000,3))\n",
    "for i,result in enumerate(ticks['results']):\n",
    "    data[i,0] = result['t']\n",
    "    data[i,1] = result['s']\n",
    "    data[i,2] = result['p']"
   ]
  },
  {
   "cell_type": "code",
   "execution_count": null,
   "metadata": {},
   "outputs": [],
   "source": [
    "data[0,0] - data[1,0]"
   ]
  },
  {
   "cell_type": "code",
   "execution_count": null,
   "metadata": {},
   "outputs": [],
   "source": [
    "type(int(data[0,0]))"
   ]
  },
  {
   "cell_type": "code",
   "execution_count": null,
   "metadata": {},
   "outputs": [],
   "source": [
    "len(str(int(data[0,0])))"
   ]
  },
  {
   "cell_type": "code",
   "execution_count": null,
   "metadata": {},
   "outputs": [],
   "source": [
    "test = str(int(data[0,0]))[:-9]"
   ]
  },
  {
   "cell_type": "code",
   "execution_count": null,
   "metadata": {},
   "outputs": [],
   "source": [
    "print(datetime.fromtimestamp(int(str(int(data[0,0]))[:-9])))\n",
    "print(datetime.fromtimestamp(int(str(int(data[-1,0]))[:-9])))"
   ]
  },
  {
   "cell_type": "code",
   "execution_count": null,
   "metadata": {},
   "outputs": [],
   "source": [
    "datetime.fromtimestamp(int(str(int(data[0,0]))[:-9]))"
   ]
  },
  {
   "cell_type": "code",
   "execution_count": null,
   "metadata": {},
   "outputs": [],
   "source": [
    "len(str(1577944970))"
   ]
  },
  {
   "cell_type": "code",
   "execution_count": null,
   "metadata": {},
   "outputs": [],
   "source": [
    "datetime.fromtimestamp(1577944970)"
   ]
  },
  {
   "cell_type": "code",
   "execution_count": null,
   "metadata": {},
   "outputs": [],
   "source": [
    "print(datetime.utcfromtimestamp(int(data[0,0])))"
   ]
  },
  {
   "cell_type": "code",
   "execution_count": null,
   "metadata": {},
   "outputs": [],
   "source": [
    "dt_object = datetime.utcfromtimestamp(int(data[0,0]))"
   ]
  },
  {
   "cell_type": "code",
   "execution_count": null,
   "metadata": {},
   "outputs": [],
   "source": [
    "data[0:10,:]"
   ]
  },
  {
   "cell_type": "code",
   "execution_count": null,
   "metadata": {},
   "outputs": [],
   "source": [
    "data[-10:,:]"
   ]
  },
  {
   "cell_type": "code",
   "execution_count": null,
   "metadata": {},
   "outputs": [],
   "source": [
    "keys = tickers.keys()"
   ]
  },
  {
   "cell_type": "code",
   "execution_count": null,
   "metadata": {},
   "outputs": [],
   "source": [
    "ticker_names = tickers['tickers']"
   ]
  },
  {
   "cell_type": "code",
   "execution_count": null,
   "metadata": {},
   "outputs": [],
   "source": [
    "names = [name['ticker'] for name in ticker_names]"
   ]
  }
 ],
 "metadata": {
  "kernelspec": {
   "display_name": "Python 3",
   "language": "python",
   "name": "python3"
  },
  "language_info": {
   "codemirror_mode": {
    "name": "ipython",
    "version": 3
   },
   "file_extension": ".py",
   "mimetype": "text/x-python",
   "name": "python",
   "nbconvert_exporter": "python",
   "pygments_lexer": "ipython3",
   "version": "3.7.1"
  }
 },
 "nbformat": 4,
 "nbformat_minor": 2
}

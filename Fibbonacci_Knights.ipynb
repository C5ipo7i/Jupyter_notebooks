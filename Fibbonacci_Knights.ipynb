{
 "cells": [
  {
   "cell_type": "code",
   "execution_count": 1304,
   "metadata": {
    "collapsed": true
   },
   "outputs": [],
   "source": [
    "import numpy as np\n",
    "import random\n",
    "import math\n",
    "import time\n",
    "import copy\n",
    "import sys\n",
    "import matplotlib.pyplot as plt"
   ]
  },
  {
   "cell_type": "code",
   "execution_count": 508,
   "metadata": {
    "collapsed": true
   },
   "outputs": [],
   "source": [
    "\"\"\"\n",
    "the knights are a list. Where the last entry is less than the first. And each entry sums to a fibonacci number. \n",
    "The number of entries starts at 1 and goes until N, the number of knights\n",
    "\n",
    "The key is the reduce the number of possibilities dramatically\n",
    "\n",
    "create dictionary of fib numbers, key is number, True if fib, else False.\n",
    "\"\"\" \n",
    "\n",
    "# Create a sequence until you reach or exceed a number\n",
    "def fibonacci_sequence(number):\n",
    "    sequence = [0,1]\n",
    "    while sequence[-1] < number:\n",
    "        sequence.append(sequence[-1]+sequence[-2])\n",
    "    return sequence\n",
    "\n",
    "def fib_set(number):\n",
    "    return set(fibonacci_sequence(number+(number-1))[1:])\n",
    "    \n",
    "def is_fibonacci(number):\n",
    "    sequence = fibonacci_sequence(number)\n",
    "    if number in sequence:\n",
    "        return True\n",
    "    else:\n",
    "        return False"
   ]
  },
  {
   "cell_type": "code",
   "execution_count": 10,
   "metadata": {},
   "outputs": [
    {
     "name": "stdout",
     "output_type": "stream",
     "text": [
      "True\n"
     ]
    }
   ],
   "source": [
    "print(is_fibonacci(13))"
   ]
  },
  {
   "cell_type": "code",
   "execution_count": 89,
   "metadata": {},
   "outputs": [],
   "source": [
    "def check_configuration(K,N):\n",
    "    if (K[0] > K[-1]) == True:\n",
    "        for i in range(1,N):\n",
    "            if is_fibonacci(K[i] + K[i-1]) == True:\n",
    "                pass\n",
    "            else:\n",
    "                return False\n",
    "        return True\n",
    "    else:\n",
    "        return False\n",
    "        \n",
    "def permute_combinations(K):\n",
    "    return random.shuffle(K)\n",
    "\n",
    "def solve_knights(N):\n",
    "    solved = False\n",
    "    knights = list(range(N+1))[1:]\n",
    "#     print(knights)\n",
    "    while solved != True:\n",
    "        permute_combinations(knights)\n",
    "#         print(knights)\n",
    "        solved = check_configuration(knights,N)\n",
    "    return knights"
   ]
  },
  {
   "cell_type": "code",
   "execution_count": 188,
   "metadata": {},
   "outputs": [
    {
     "name": "stdout",
     "output_type": "stream",
     "text": [
      "[1, 2, 3, 4, 5, 6]\n",
      "None\n",
      "3\n",
      "5\n",
      "7\n",
      "2\n",
      "5\n",
      "1\n",
      "7\n",
      "7\n",
      "0\n",
      "7\n"
     ]
    }
   ],
   "source": [
    "a = list(range(7))[1:]\n",
    "print(a)\n",
    "print(random.shuffle(a))\n",
    "for _ in range(10):\n",
    "#     split = random.choice(range(0, len(a)))\n",
    "    split = random.choice(range(8))\n",
    "    print(split)"
   ]
  },
  {
   "cell_type": "code",
   "execution_count": 91,
   "metadata": {
    "collapsed": true
   },
   "outputs": [],
   "source": [
    "# Check particular constellation\n",
    "# result = check_configuration([4,1,2,3],4)\n",
    "# print(result)"
   ]
  },
  {
   "cell_type": "code",
   "execution_count": 190,
   "metadata": {},
   "outputs": [
    {
     "name": "stdout",
     "output_type": "stream",
     "text": [
      "Computation took 1.9828478495279947e-06 seconds. Solution is [3, 2, 1]\n"
     ]
    }
   ],
   "source": [
    "tic = time.time()\n",
    "solution = solve_knights(3)\n",
    "toc = time.time()\n",
    "print('Computation took {} seconds. Solution is {}'.format(((toc-tic)/60),solution))"
   ]
  },
  {
   "cell_type": "markdown",
   "metadata": {},
   "source": [
    "# Evolutionary Algorithm"
   ]
  },
  {
   "cell_type": "code",
   "execution_count": 456,
   "metadata": {},
   "outputs": [],
   "source": [
    "\"\"\"\n",
    "N = Number of knights\n",
    "K = the list of knights\n",
    "P = Population\n",
    "\n",
    "Mutate randomly swaps two knights\n",
    "\n",
    "\"\"\"\n",
    "\n",
    "class Individual(object):\n",
    "    def __init__(self,N,K):\n",
    "        self.N = N\n",
    "        self.K = K\n",
    "        \n",
    "    @property\n",
    "    def fitness(self):\n",
    "        correct = 0\n",
    "        for i in range(1,self.N):\n",
    "            if is_fibonacci(self.K[i] + self.K[i-1]) == True:\n",
    "                correct += 1\n",
    "#         print('correct',correct)\n",
    "        return correct / (self.N-1)\n",
    "\n",
    "    @staticmethod\n",
    "    def fix_ends(N,K):\n",
    "        one = random.choice([0,N-1])\n",
    "        two = random.choice(list(range(N-1)))\n",
    "        K[one],K[two] = K[two],K[one]\n",
    "        return K\n",
    "    \n",
    "    def mutate(self):\n",
    "        # randomly swap two knights. randomly vary number of mutations?\n",
    "        split = random.choice(range(1,self.N))\n",
    "        one = random.choice(list(range(self.N))[:split])\n",
    "        two = random.choice(list(range(self.N))[split:])\n",
    "#         two = math.floor(random.random() * self.N)\n",
    "#         print('one,two,N',one,two,self.N)\n",
    "        K = copy.deepcopy(self.K)\n",
    "        K[one],K[two] = K[two],K[one]\n",
    "        while K[0] < K[-1]:\n",
    "            K = self.fix_ends(self.N,K)\n",
    "        return Individual(self.N,K)\n",
    "    "
   ]
  },
  {
   "cell_type": "code",
   "execution_count": 477,
   "metadata": {},
   "outputs": [],
   "source": [
    "class Population(object):\n",
    "    def __init__(self,N,pop_size,offspring):\n",
    "        self.N,self.pop_size,self.offspring = N,pop_size,offspring\n",
    "        self.K = list(range(N+1))[1:]\n",
    "        self.individuals = []\n",
    "            \n",
    "    @property\n",
    "    def fittest(self):\n",
    "        return max(self.individuals, key=lambda individual: individual.fitness)\n",
    "    \n",
    "    def generate_population(self):\n",
    "        self.individuals = [Individual(self.N,random.sample(self.K,len(self.K))) for _ in range(self.pop_size)]\n",
    "         \n",
    "    @staticmethod\n",
    "    def generate_offspring(population):\n",
    "        offspring = Population(population.N,population.pop_size,population.offspring)\n",
    "#         print('len pop',len(population.individuals))\n",
    "        for _ in range(population.offspring):\n",
    "            i = _ % population.pop_size\n",
    "            child = population.individuals[i].mutate()\n",
    "#             print('child',child)\n",
    "            offspring.individuals += [child]\n",
    "        return offspring\n",
    "    \n",
    "    @staticmethod\n",
    "    def survival_selection(population):\n",
    "#         print('survival_selection')\n",
    "        new_population = Population(population.N,population.pop_size,population.offspring)\n",
    "        individuals = copy.deepcopy(population.individuals)\n",
    "#         print('ind len',len(individuals))\n",
    "        for _ in range(population.pop_size):\n",
    "            tournament = random.sample(individuals,25)\n",
    "#             print('ind len',len(individuals))\n",
    "#             print('tournament',tournament)\n",
    "            victor = max(tournament, key=lambda individual: individual.fitness)\n",
    "            new_population.individuals += [victor]\n",
    "            individuals.remove(victor)\n",
    "            \n",
    "        return new_population"
   ]
  },
  {
   "cell_type": "code",
   "execution_count": 478,
   "metadata": {},
   "outputs": [],
   "source": [
    "class EA(object):\n",
    "    def __init__(self,N,pop_size,offspring):\n",
    "        self.pop_size,self.offspring = pop_size,offspring\n",
    "        \n",
    "    def search(self):\n",
    "        generation = 1\n",
    "        self.population = Population(N,self.pop_size,self.offspring)\n",
    "        self.population.generate_population()\n",
    "        while self.population.fittest.fitness < 1.0:\n",
    "            print('Generation {}'.format(generation))\n",
    "            offspring = Population.generate_offspring(self.population)\n",
    "#             print('offspring',offspring.individuals)\n",
    "            self.population.individuals += offspring.individuals\n",
    "#             print('len pop',len(self.population.individuals))\n",
    "            # Seed with the best candidates\n",
    "            self.population = Population.survival_selection(self.population)\n",
    "            print('fittest %{}, constellation {}'.format(self.population.fittest.fitness,self.population.fittest.K))\n",
    "            generation += 1\n",
    "        print('Solved by generation {}'.format(generation))\n",
    "        \n",
    "    def show_solution(self):\n",
    "        print(self.population.fittest.K)"
   ]
  },
  {
   "cell_type": "code",
   "execution_count": 552,
   "metadata": {},
   "outputs": [
    {
     "name": "stdout",
     "output_type": "stream",
     "text": [
      "Solved by generation 1\n",
      "[4, 1, 2, 3, 5]\n"
     ]
    }
   ],
   "source": [
    "pop = 150\n",
    "offspring = 1000\n",
    "N = 5\n",
    "\n",
    "evo = EA(N,pop,offspring)\n",
    "evo.search()\n",
    "evo.show_solution()"
   ]
  },
  {
   "cell_type": "code",
   "execution_count": null,
   "metadata": {
    "collapsed": true
   },
   "outputs": [],
   "source": [
    "[26, 29, 33, 1, 20, 14, 7, 27, 28, 6, 15, 22, 12, 9, 3, 18, 16, 5, 8, 13, 21, 34, 31, 24, 10, 11, 23, 32, 2, 19, 17, 4, 30, 25]"
   ]
  },
  {
   "cell_type": "code",
   "execution_count": 195,
   "metadata": {
    "collapsed": true
   },
   "outputs": [],
   "source": [
    "def graph_times(start,end):\n",
    "    times = np.arange(start,end)\n",
    "    for i in range(start,end):\n",
    "        tic = time.time()\n",
    "        print('i',i)\n",
    "        solution = solve_knights(i)\n",
    "        toc = time.time()\n",
    "        times[i-start] = (round((toc-tic)/60,3))\n",
    "    return times        "
   ]
  },
  {
   "cell_type": "code",
   "execution_count": 123,
   "metadata": {},
   "outputs": [
    {
     "name": "stdout",
     "output_type": "stream",
     "text": [
      "i 2\n",
      "i 3\n",
      "i 4\n",
      "i 5\n",
      "i 6\n"
     ]
    },
    {
     "ename": "KeyboardInterrupt",
     "evalue": "",
     "output_type": "error",
     "traceback": [
      "\u001b[0;31m---------------------------------------------------------------------------\u001b[0m",
      "\u001b[0;31mKeyboardInterrupt\u001b[0m                         Traceback (most recent call last)",
      "\u001b[0;32m<ipython-input-123-460933aaff1c>\u001b[0m in \u001b[0;36m<module>\u001b[0;34m()\u001b[0m\n\u001b[0;32m----> 1\u001b[0;31m \u001b[0mtimes\u001b[0m \u001b[0;34m=\u001b[0m \u001b[0mgraph_times\u001b[0m\u001b[0;34m(\u001b[0m\u001b[0;36m2\u001b[0m\u001b[0;34m,\u001b[0m\u001b[0;36m7\u001b[0m\u001b[0;34m)\u001b[0m\u001b[0;34m\u001b[0m\u001b[0m\n\u001b[0m\u001b[1;32m      2\u001b[0m \u001b[0mprint\u001b[0m\u001b[0;34m(\u001b[0m\u001b[0mtimes\u001b[0m\u001b[0;34m)\u001b[0m\u001b[0;34m\u001b[0m\u001b[0m\n",
      "\u001b[0;32m<ipython-input-122-f65b619d264a>\u001b[0m in \u001b[0;36mgraph_times\u001b[0;34m(start, end)\u001b[0m\n\u001b[1;32m      4\u001b[0m         \u001b[0mtic\u001b[0m \u001b[0;34m=\u001b[0m \u001b[0mtime\u001b[0m\u001b[0;34m.\u001b[0m\u001b[0mtime\u001b[0m\u001b[0;34m(\u001b[0m\u001b[0;34m)\u001b[0m\u001b[0;34m\u001b[0m\u001b[0m\n\u001b[1;32m      5\u001b[0m         \u001b[0mprint\u001b[0m\u001b[0;34m(\u001b[0m\u001b[0;34m'i'\u001b[0m\u001b[0;34m,\u001b[0m\u001b[0mi\u001b[0m\u001b[0;34m)\u001b[0m\u001b[0;34m\u001b[0m\u001b[0m\n\u001b[0;32m----> 6\u001b[0;31m         \u001b[0msolution\u001b[0m \u001b[0;34m=\u001b[0m \u001b[0msolve_knights\u001b[0m\u001b[0;34m(\u001b[0m\u001b[0mi\u001b[0m\u001b[0;34m)\u001b[0m\u001b[0;34m\u001b[0m\u001b[0m\n\u001b[0m\u001b[1;32m      7\u001b[0m         \u001b[0mtoc\u001b[0m \u001b[0;34m=\u001b[0m \u001b[0mtime\u001b[0m\u001b[0;34m.\u001b[0m\u001b[0mtime\u001b[0m\u001b[0;34m(\u001b[0m\u001b[0;34m)\u001b[0m\u001b[0;34m\u001b[0m\u001b[0m\n\u001b[1;32m      8\u001b[0m         \u001b[0mtimes\u001b[0m\u001b[0;34m[\u001b[0m\u001b[0mi\u001b[0m\u001b[0;34m-\u001b[0m\u001b[0mstart\u001b[0m\u001b[0;34m]\u001b[0m \u001b[0;34m=\u001b[0m \u001b[0;34m(\u001b[0m\u001b[0mround\u001b[0m\u001b[0;34m(\u001b[0m\u001b[0;34m(\u001b[0m\u001b[0mtoc\u001b[0m\u001b[0;34m-\u001b[0m\u001b[0mtic\u001b[0m\u001b[0;34m)\u001b[0m\u001b[0;34m/\u001b[0m\u001b[0;36m60\u001b[0m\u001b[0;34m,\u001b[0m\u001b[0;36m3\u001b[0m\u001b[0;34m)\u001b[0m\u001b[0;34m)\u001b[0m\u001b[0;34m\u001b[0m\u001b[0m\n",
      "\u001b[0;32m<ipython-input-89-bd53829a15b4>\u001b[0m in \u001b[0;36msolve_knights\u001b[0;34m(N)\u001b[0m\n\u001b[1;32m     18\u001b[0m \u001b[0;31m#     print(knights)\u001b[0m\u001b[0;34m\u001b[0m\u001b[0;34m\u001b[0m\u001b[0m\n\u001b[1;32m     19\u001b[0m     \u001b[0;32mwhile\u001b[0m \u001b[0msolved\u001b[0m \u001b[0;34m!=\u001b[0m \u001b[0;32mTrue\u001b[0m\u001b[0;34m:\u001b[0m\u001b[0;34m\u001b[0m\u001b[0m\n\u001b[0;32m---> 20\u001b[0;31m         \u001b[0mpermute_combinations\u001b[0m\u001b[0;34m(\u001b[0m\u001b[0mknights\u001b[0m\u001b[0;34m)\u001b[0m\u001b[0;34m\u001b[0m\u001b[0m\n\u001b[0m\u001b[1;32m     21\u001b[0m \u001b[0;31m#         print(knights)\u001b[0m\u001b[0;34m\u001b[0m\u001b[0;34m\u001b[0m\u001b[0m\n\u001b[1;32m     22\u001b[0m         \u001b[0msolved\u001b[0m \u001b[0;34m=\u001b[0m \u001b[0mcheck_configuration\u001b[0m\u001b[0;34m(\u001b[0m\u001b[0mknights\u001b[0m\u001b[0;34m,\u001b[0m\u001b[0mN\u001b[0m\u001b[0;34m)\u001b[0m\u001b[0;34m\u001b[0m\u001b[0m\n",
      "\u001b[0;32m<ipython-input-89-bd53829a15b4>\u001b[0m in \u001b[0;36mpermute_combinations\u001b[0;34m(K)\u001b[0m\n\u001b[1;32m     11\u001b[0m \u001b[0;34m\u001b[0m\u001b[0m\n\u001b[1;32m     12\u001b[0m \u001b[0;32mdef\u001b[0m \u001b[0mpermute_combinations\u001b[0m\u001b[0;34m(\u001b[0m\u001b[0mK\u001b[0m\u001b[0;34m)\u001b[0m\u001b[0;34m:\u001b[0m\u001b[0;34m\u001b[0m\u001b[0m\n\u001b[0;32m---> 13\u001b[0;31m     \u001b[0;32mreturn\u001b[0m \u001b[0mrandom\u001b[0m\u001b[0;34m.\u001b[0m\u001b[0mshuffle\u001b[0m\u001b[0;34m(\u001b[0m\u001b[0mK\u001b[0m\u001b[0;34m)\u001b[0m\u001b[0;34m\u001b[0m\u001b[0m\n\u001b[0m\u001b[1;32m     14\u001b[0m \u001b[0;34m\u001b[0m\u001b[0m\n\u001b[1;32m     15\u001b[0m \u001b[0;32mdef\u001b[0m \u001b[0msolve_knights\u001b[0m\u001b[0;34m(\u001b[0m\u001b[0mN\u001b[0m\u001b[0;34m)\u001b[0m\u001b[0;34m:\u001b[0m\u001b[0;34m\u001b[0m\u001b[0m\n",
      "\u001b[0;32m~/anaconda/envs/datascience/lib/python3.5/random.py\u001b[0m in \u001b[0;36mshuffle\u001b[0;34m(self, x, random)\u001b[0m\n\u001b[1;32m    278\u001b[0m             \u001b[0;32mfor\u001b[0m \u001b[0mi\u001b[0m \u001b[0;32min\u001b[0m \u001b[0mreversed\u001b[0m\u001b[0;34m(\u001b[0m\u001b[0mrange\u001b[0m\u001b[0;34m(\u001b[0m\u001b[0;36m1\u001b[0m\u001b[0;34m,\u001b[0m \u001b[0mlen\u001b[0m\u001b[0;34m(\u001b[0m\u001b[0mx\u001b[0m\u001b[0;34m)\u001b[0m\u001b[0;34m)\u001b[0m\u001b[0;34m)\u001b[0m\u001b[0;34m:\u001b[0m\u001b[0;34m\u001b[0m\u001b[0m\n\u001b[1;32m    279\u001b[0m                 \u001b[0;31m# pick an element in x[:i+1] with which to exchange x[i]\u001b[0m\u001b[0;34m\u001b[0m\u001b[0;34m\u001b[0m\u001b[0m\n\u001b[0;32m--> 280\u001b[0;31m                 \u001b[0mj\u001b[0m \u001b[0;34m=\u001b[0m \u001b[0mrandbelow\u001b[0m\u001b[0;34m(\u001b[0m\u001b[0mi\u001b[0m\u001b[0;34m+\u001b[0m\u001b[0;36m1\u001b[0m\u001b[0;34m)\u001b[0m\u001b[0;34m\u001b[0m\u001b[0m\n\u001b[0m\u001b[1;32m    281\u001b[0m                 \u001b[0mx\u001b[0m\u001b[0;34m[\u001b[0m\u001b[0mi\u001b[0m\u001b[0;34m]\u001b[0m\u001b[0;34m,\u001b[0m \u001b[0mx\u001b[0m\u001b[0;34m[\u001b[0m\u001b[0mj\u001b[0m\u001b[0;34m]\u001b[0m \u001b[0;34m=\u001b[0m \u001b[0mx\u001b[0m\u001b[0;34m[\u001b[0m\u001b[0mj\u001b[0m\u001b[0;34m]\u001b[0m\u001b[0;34m,\u001b[0m \u001b[0mx\u001b[0m\u001b[0;34m[\u001b[0m\u001b[0mi\u001b[0m\u001b[0;34m]\u001b[0m\u001b[0;34m\u001b[0m\u001b[0m\n\u001b[1;32m    282\u001b[0m         \u001b[0;32melse\u001b[0m\u001b[0;34m:\u001b[0m\u001b[0;34m\u001b[0m\u001b[0m\n",
      "\u001b[0;32m~/anaconda/envs/datascience/lib/python3.5/random.py\u001b[0m in \u001b[0;36m_randbelow\u001b[0;34m(self, n, int, maxsize, type, Method, BuiltinMethod)\u001b[0m\n\u001b[1;32m    236\u001b[0m         \u001b[0;31m# has not been overridden or if a new getrandbits() was supplied.\u001b[0m\u001b[0;34m\u001b[0m\u001b[0;34m\u001b[0m\u001b[0m\n\u001b[1;32m    237\u001b[0m         \u001b[0;32mif\u001b[0m \u001b[0mtype\u001b[0m\u001b[0;34m(\u001b[0m\u001b[0mrandom\u001b[0m\u001b[0;34m)\u001b[0m \u001b[0;32mis\u001b[0m \u001b[0mBuiltinMethod\u001b[0m \u001b[0;32mor\u001b[0m \u001b[0mtype\u001b[0m\u001b[0;34m(\u001b[0m\u001b[0mgetrandbits\u001b[0m\u001b[0;34m)\u001b[0m \u001b[0;32mis\u001b[0m \u001b[0mMethod\u001b[0m\u001b[0;34m:\u001b[0m\u001b[0;34m\u001b[0m\u001b[0m\n\u001b[0;32m--> 238\u001b[0;31m             \u001b[0mk\u001b[0m \u001b[0;34m=\u001b[0m \u001b[0mn\u001b[0m\u001b[0;34m.\u001b[0m\u001b[0mbit_length\u001b[0m\u001b[0;34m(\u001b[0m\u001b[0;34m)\u001b[0m  \u001b[0;31m# don't use (n-1) here because n can be 1\u001b[0m\u001b[0;34m\u001b[0m\u001b[0m\n\u001b[0m\u001b[1;32m    239\u001b[0m             \u001b[0mr\u001b[0m \u001b[0;34m=\u001b[0m \u001b[0mgetrandbits\u001b[0m\u001b[0;34m(\u001b[0m\u001b[0mk\u001b[0m\u001b[0;34m)\u001b[0m          \u001b[0;31m# 0 <= r < 2**k\u001b[0m\u001b[0;34m\u001b[0m\u001b[0m\n\u001b[1;32m    240\u001b[0m             \u001b[0;32mwhile\u001b[0m \u001b[0mr\u001b[0m \u001b[0;34m>=\u001b[0m \u001b[0mn\u001b[0m\u001b[0;34m:\u001b[0m\u001b[0;34m\u001b[0m\u001b[0m\n",
      "\u001b[0;31mKeyboardInterrupt\u001b[0m: "
     ]
    }
   ],
   "source": [
    "times = graph_times(2,7)\n",
    "print(times)"
   ]
  },
  {
   "cell_type": "markdown",
   "metadata": {},
   "source": [
    "# Using Math\n",
    "\n",
    "EA clearly isn't the solution, we must narrow down the solutions, or build the solution via math. \n",
    "We will use a set of fibonacci numbers so we can just check whether or not a number is within the set. \n",
    "Also, we need a way to check how many fibonacci numbers there are between two numbers.\n",
    "We could use a decision tree structure to solve potentially.\n",
    "\n",
    "**Given:** \n",
    "- There are always at least 1 number that only has one option to sum up to a fibonacci number, and therefore must be at one of the ends.\n",
    "\n",
    "- This gives us two slots, the number next to the king and the subsequent number.\n",
    "\n",
    "- The number of possibilities for a given number, is equal to the number of remaining fibonacci numbers between the number and the largest number it can make.\n",
    "\n",
    "So we have\n",
    "- The number of fibonacci numbers between the number and the largest number it can make.\n",
    "- The different numbers that could make up those numbers"
   ]
  },
  {
   "cell_type": "markdown",
   "metadata": {},
   "source": [
    "# Building recursive trees\n",
    "\n",
    "Because if we start building the arrangement starting from the end (the one number that only has one possibility), if N (number of knights) is large enough, we will run into situations where we must go through some possibilities logically before we can decide what the final outcome is. In this way, we need to build a decision tree, where at each step we may have 2 or more possibilities (1 clearly we will just take), and traverse down and back up branches when they lead to dead ends. \n",
    "\n",
    "In order to be able to traverse up and down trees, each node that we've created must have all the information necessary to be able to recover prior states.\n",
    "\n",
    "- The max number N\n",
    "- The last number in a row - K[-1] (or K[0] depending which way you want to do it)\n",
    "- The current configuration - K\n",
    "- The fibanacci dictionary (can passed through, or could be modified at each step)\n",
    "- The combination dictionary (\n",
    "- The set of numbers remaining\n",
    "- The set of numbers used so far\n",
    "- The parent\n",
    "- The children are the possible next steps\n",
    "\n",
    "when K reaches length N we are done. Otherwise we should run out of options during the building phase.\n",
    "\n",
    "When we return to the parent, we need to remove that possibility we just researched\n"
   ]
  },
  {
   "cell_type": "code",
   "execution_count": null,
   "metadata": {
    "collapsed": true
   },
   "outputs": [],
   "source": [
    "class Node(object):\n",
    "    def __init__(self,parent,unused,used,N,K,fib_dict,combo_dict):\n",
    "        self.parent = parent\n",
    "        self.used = used\n",
    "        self.unused = unused\n",
    "        self.N = N\n",
    "        self.K = K\n",
    "        self.fib_dict = fib_dict\n",
    "        self.combo_dict = combo_dict\n",
    "        # Find the possibilities, \n",
    "        self.possbilities = [value for value in combo_dict[K[-1]] if value not in used]\n",
    "    \n",
    "    @staticmethod\n",
    "    def search_tree(node,came_from,solution)\n",
    "        if node.possbilities:\n",
    "            # Create the children\n",
    "            for num in self.possbilities:\n",
    "                Node()\n",
    "        else:\n",
    "            # check if solved, else return to parent\n",
    "            if len(K) == N:\n",
    "                # Solved\n",
    "                return node.parent,\n",
    "        \n",
    "                "
   ]
  },
  {
   "cell_type": "code",
   "execution_count": null,
   "metadata": {
    "collapsed": true
   },
   "outputs": [],
   "source": [
    "def recursive_tree_search(parent,unused,used,N,K,fib_dict,combo_dict):\n",
    "    pass"
   ]
  },
  {
   "cell_type": "code",
   "execution_count": 1172,
   "metadata": {},
   "outputs": [],
   "source": [
    "# Need to make this search v efficient\n",
    "# Could wait until i find the two most adjacent numbers to A and then recreate the fib sequence\n",
    "def fibs_between_numbers2(A,N,fibs):\n",
    "    # greater than A, equal to or less than B\n",
    "    nums = np.arange(A+1,A+N+1)\n",
    "    fib_array = []\n",
    "    for num in nums:\n",
    "        if num in fibs:\n",
    "            fib_array.append(num)\n",
    "    print('fib_array',fib_array)\n",
    "    return np.array(fib_array,dtype=np.int64)\n",
    "\n",
    "# Combinations of numbers that could make up the remaining fibs\n",
    "def numbers_to_fibs(A,fibs_remaining):\n",
    "    step = np.full(fibs_remaining.shape,A)\n",
    "    print('step,fibs_remaining',step,fibs_remaining)\n",
    "    return np.subtract(fibs_remaining,step)\n",
    "\n",
    "def find_fib_knights(N):\n",
    "    fib = fib_set(N)\n",
    "    K = list(range(1,N+1))\n",
    "    # Create dict of key (number): value (fibs remaining,values that make those fibs)\n",
    "    knight_dict = {} \n",
    "    endtable_dict = {}\n",
    "    used = set()\n",
    "    for num in range(1,N+1):\n",
    "        fibs = fibs_between_numbers(num,N,fib)\n",
    "        candidates = numbers_to_fibs(num,fibs)\n",
    "        knight_dict[num] = (fibs,candidates)\n",
    "        if fibs.shape[0] == 1:\n",
    "            endtable_dict[num] = (fibs,candidates)\n",
    "    print('knight_dict',knight_dict)\n",
    "    print('endtable_dict',endtable_dict)\n",
    "    # Now we build the array\n",
    "#     print(endtable_dict.keys())\n",
    "    end = list(endtable_dict)[0]\n",
    "    penultimate = int(endtable_dict[end][1])\n",
    "    K[-1] = end\n",
    "    K[-2] = penultimate\n",
    "    index = -3\n",
    "    previous_value = int(penultimate)\n",
    "    used.add(end)\n",
    "    used.add(penultimate)\n",
    "    print('initial K',K)\n",
    "    print('previous_value',previous_value)\n",
    "    # Probably have to use trees at this point and find which series of possibilities works\n",
    "    while abs(index) != N+1:\n",
    "        next_value = [value for value in knight_dict[previous_value][1] if value not in used]\n",
    "        print('next_value',next_value)\n",
    "        if len(next_value) == 1:\n",
    "            next_value = next_value[0]\n",
    "        else:\n",
    "            # explore the possibilities\n",
    "            next_value = next_value[0]\n",
    "        K[index] = next_value\n",
    "        previous_value = next_value\n",
    "        used.add(next_value)\n",
    "        index -= 1\n",
    "        print('previous_value',previous_value)\n",
    "        print('knight_dict[previous_value][1]',knight_dict[previous_value][1])\n",
    "    print('K',K)\n",
    "    "
   ]
  },
  {
   "cell_type": "code",
   "execution_count": 1173,
   "metadata": {
    "collapsed": true
   },
   "outputs": [],
   "source": [
    "N = 7"
   ]
  },
  {
   "cell_type": "code",
   "execution_count": 1174,
   "metadata": {},
   "outputs": [
    {
     "name": "stdout",
     "output_type": "stream",
     "text": [
      "A,N,N+A,fibs 1 7 8 {1, 2, 3, 5, 8, 13}\n"
     ]
    },
    {
     "ename": "TypeError",
     "evalue": "unorderable types: set() > int()",
     "output_type": "error",
     "traceback": [
      "\u001b[0;31m---------------------------------------------------------------------------\u001b[0m",
      "\u001b[0;31mTypeError\u001b[0m                                 Traceback (most recent call last)",
      "\u001b[0;32m<ipython-input-1174-8aba1780a72e>\u001b[0m in \u001b[0;36m<module>\u001b[0;34m()\u001b[0m\n\u001b[0;32m----> 1\u001b[0;31m \u001b[0mfind_fib_knights\u001b[0m\u001b[0;34m(\u001b[0m\u001b[0mN\u001b[0m\u001b[0;34m)\u001b[0m\u001b[0;34m\u001b[0m\u001b[0m\n\u001b[0m",
      "\u001b[0;32m<ipython-input-1172-b3ff6aa1c2fe>\u001b[0m in \u001b[0;36mfind_fib_knights\u001b[0;34m(N)\u001b[0m\n\u001b[1;32m     25\u001b[0m     \u001b[0mused\u001b[0m \u001b[0;34m=\u001b[0m \u001b[0mset\u001b[0m\u001b[0;34m(\u001b[0m\u001b[0;34m)\u001b[0m\u001b[0;34m\u001b[0m\u001b[0m\n\u001b[1;32m     26\u001b[0m     \u001b[0;32mfor\u001b[0m \u001b[0mnum\u001b[0m \u001b[0;32min\u001b[0m \u001b[0mrange\u001b[0m\u001b[0;34m(\u001b[0m\u001b[0;36m1\u001b[0m\u001b[0;34m,\u001b[0m\u001b[0mN\u001b[0m\u001b[0;34m+\u001b[0m\u001b[0;36m1\u001b[0m\u001b[0;34m)\u001b[0m\u001b[0;34m:\u001b[0m\u001b[0;34m\u001b[0m\u001b[0m\n\u001b[0;32m---> 27\u001b[0;31m         \u001b[0mfibs\u001b[0m \u001b[0;34m=\u001b[0m \u001b[0mfibs_between_numbers\u001b[0m\u001b[0;34m(\u001b[0m\u001b[0mnum\u001b[0m\u001b[0;34m,\u001b[0m\u001b[0mN\u001b[0m\u001b[0;34m,\u001b[0m\u001b[0mfib\u001b[0m\u001b[0;34m)\u001b[0m\u001b[0;34m\u001b[0m\u001b[0m\n\u001b[0m\u001b[1;32m     28\u001b[0m         \u001b[0mcandidates\u001b[0m \u001b[0;34m=\u001b[0m \u001b[0mnumbers_to_fibs\u001b[0m\u001b[0;34m(\u001b[0m\u001b[0mnum\u001b[0m\u001b[0;34m,\u001b[0m\u001b[0mfibs\u001b[0m\u001b[0;34m)\u001b[0m\u001b[0;34m\u001b[0m\u001b[0m\n\u001b[1;32m     29\u001b[0m         \u001b[0mknight_dict\u001b[0m\u001b[0;34m[\u001b[0m\u001b[0mnum\u001b[0m\u001b[0;34m]\u001b[0m \u001b[0;34m=\u001b[0m \u001b[0;34m(\u001b[0m\u001b[0mfibs\u001b[0m\u001b[0;34m,\u001b[0m\u001b[0mcandidates\u001b[0m\u001b[0;34m)\u001b[0m\u001b[0;34m\u001b[0m\u001b[0m\n",
      "\u001b[0;32m<ipython-input-1092-fc183ca4fd60>\u001b[0m in \u001b[0;36mfibs_between_numbers\u001b[0;34m(A, N, fibs)\u001b[0m\n\u001b[1;32m     13\u001b[0m \u001b[0;32mdef\u001b[0m \u001b[0mfibs_between_numbers\u001b[0m\u001b[0;34m(\u001b[0m\u001b[0mA\u001b[0m\u001b[0;34m,\u001b[0m\u001b[0mN\u001b[0m\u001b[0;34m,\u001b[0m\u001b[0mfibs\u001b[0m\u001b[0;34m)\u001b[0m\u001b[0;34m:\u001b[0m\u001b[0;34m\u001b[0m\u001b[0m\n\u001b[1;32m     14\u001b[0m     \u001b[0mprint\u001b[0m\u001b[0;34m(\u001b[0m\u001b[0;34m'A,N,N+A,fibs'\u001b[0m\u001b[0;34m,\u001b[0m\u001b[0mA\u001b[0m\u001b[0;34m,\u001b[0m\u001b[0mN\u001b[0m\u001b[0;34m,\u001b[0m\u001b[0mN\u001b[0m\u001b[0;34m+\u001b[0m\u001b[0mA\u001b[0m\u001b[0;34m,\u001b[0m\u001b[0mfibs\u001b[0m\u001b[0;34m)\u001b[0m\u001b[0;34m\u001b[0m\u001b[0m\n\u001b[0;32m---> 15\u001b[0;31m     \u001b[0mmask\u001b[0m \u001b[0;34m=\u001b[0m \u001b[0mnp\u001b[0m\u001b[0;34m.\u001b[0m\u001b[0mlogical_and\u001b[0m\u001b[0;34m(\u001b[0m\u001b[0mfibs\u001b[0m \u001b[0;34m>\u001b[0m \u001b[0mA\u001b[0m\u001b[0;34m,\u001b[0m\u001b[0mfibs\u001b[0m \u001b[0;34m<=\u001b[0m \u001b[0mN\u001b[0m\u001b[0;34m+\u001b[0m\u001b[0mA\u001b[0m\u001b[0;34m,\u001b[0m\u001b[0mfibs\u001b[0m \u001b[0;34m/\u001b[0m \u001b[0mA\u001b[0m \u001b[0;34m!=\u001b[0m \u001b[0;36m2\u001b[0m\u001b[0;34m)\u001b[0m\u001b[0;34m\u001b[0m\u001b[0m\n\u001b[0m\u001b[1;32m     16\u001b[0m     \u001b[0mprint\u001b[0m\u001b[0;34m(\u001b[0m\u001b[0;34m'fibs[mask]'\u001b[0m\u001b[0;34m,\u001b[0m\u001b[0mfibs\u001b[0m\u001b[0;34m[\u001b[0m\u001b[0mmask\u001b[0m\u001b[0;34m]\u001b[0m\u001b[0;34m)\u001b[0m\u001b[0;34m\u001b[0m\u001b[0m\n\u001b[1;32m     17\u001b[0m     \u001b[0;32mreturn\u001b[0m \u001b[0mfibs\u001b[0m\u001b[0;34m[\u001b[0m\u001b[0mmask\u001b[0m\u001b[0;34m]\u001b[0m\u001b[0;34m\u001b[0m\u001b[0m\n",
      "\u001b[0;31mTypeError\u001b[0m: unorderable types: set() > int()"
     ]
    }
   ],
   "source": [
    "find_fib_knights(N)"
   ]
  },
  {
   "cell_type": "code",
   "execution_count": 1175,
   "metadata": {},
   "outputs": [
    {
     "name": "stdout",
     "output_type": "stream",
     "text": [
      "A,N,N+A,fibs 2 7 9 {1, 2, 3, 5, 8, 13}\n"
     ]
    },
    {
     "ename": "TypeError",
     "evalue": "unorderable types: set() > int()",
     "output_type": "error",
     "traceback": [
      "\u001b[0;31m---------------------------------------------------------------------------\u001b[0m",
      "\u001b[0;31mTypeError\u001b[0m                                 Traceback (most recent call last)",
      "\u001b[0;32m<ipython-input-1175-ac6537187f9c>\u001b[0m in \u001b[0;36m<module>\u001b[0;34m()\u001b[0m\n\u001b[1;32m      1\u001b[0m \u001b[0mcurrent_number\u001b[0m \u001b[0;34m=\u001b[0m \u001b[0;36m2\u001b[0m\u001b[0;34m\u001b[0m\u001b[0m\n\u001b[0;32m----> 2\u001b[0;31m \u001b[0mfib_array\u001b[0m \u001b[0;34m=\u001b[0m \u001b[0mfibs_between_numbers\u001b[0m\u001b[0;34m(\u001b[0m\u001b[0mcurrent_number\u001b[0m\u001b[0;34m,\u001b[0m\u001b[0mN\u001b[0m\u001b[0;34m,\u001b[0m\u001b[0mfib\u001b[0m\u001b[0;34m)\u001b[0m\u001b[0;34m\u001b[0m\u001b[0m\n\u001b[0m\u001b[1;32m      3\u001b[0m \u001b[0mprint\u001b[0m\u001b[0;34m(\u001b[0m\u001b[0;34m'remaining_fibs,fib_array '\u001b[0m\u001b[0;34m,\u001b[0m\u001b[0mremaining_fibs\u001b[0m\u001b[0;34m,\u001b[0m\u001b[0mfib_array\u001b[0m \u001b[0;34m)\u001b[0m\u001b[0;34m\u001b[0m\u001b[0m\n\u001b[1;32m      4\u001b[0m \u001b[0mnumbers_to_fibs\u001b[0m\u001b[0;34m(\u001b[0m\u001b[0;36m2\u001b[0m\u001b[0;34m,\u001b[0m\u001b[0mfib_array\u001b[0m\u001b[0;34m)\u001b[0m\u001b[0;34m\u001b[0m\u001b[0m\n",
      "\u001b[0;32m<ipython-input-1092-fc183ca4fd60>\u001b[0m in \u001b[0;36mfibs_between_numbers\u001b[0;34m(A, N, fibs)\u001b[0m\n\u001b[1;32m     13\u001b[0m \u001b[0;32mdef\u001b[0m \u001b[0mfibs_between_numbers\u001b[0m\u001b[0;34m(\u001b[0m\u001b[0mA\u001b[0m\u001b[0;34m,\u001b[0m\u001b[0mN\u001b[0m\u001b[0;34m,\u001b[0m\u001b[0mfibs\u001b[0m\u001b[0;34m)\u001b[0m\u001b[0;34m:\u001b[0m\u001b[0;34m\u001b[0m\u001b[0m\n\u001b[1;32m     14\u001b[0m     \u001b[0mprint\u001b[0m\u001b[0;34m(\u001b[0m\u001b[0;34m'A,N,N+A,fibs'\u001b[0m\u001b[0;34m,\u001b[0m\u001b[0mA\u001b[0m\u001b[0;34m,\u001b[0m\u001b[0mN\u001b[0m\u001b[0;34m,\u001b[0m\u001b[0mN\u001b[0m\u001b[0;34m+\u001b[0m\u001b[0mA\u001b[0m\u001b[0;34m,\u001b[0m\u001b[0mfibs\u001b[0m\u001b[0;34m)\u001b[0m\u001b[0;34m\u001b[0m\u001b[0m\n\u001b[0;32m---> 15\u001b[0;31m     \u001b[0mmask\u001b[0m \u001b[0;34m=\u001b[0m \u001b[0mnp\u001b[0m\u001b[0;34m.\u001b[0m\u001b[0mlogical_and\u001b[0m\u001b[0;34m(\u001b[0m\u001b[0mfibs\u001b[0m \u001b[0;34m>\u001b[0m \u001b[0mA\u001b[0m\u001b[0;34m,\u001b[0m\u001b[0mfibs\u001b[0m \u001b[0;34m<=\u001b[0m \u001b[0mN\u001b[0m\u001b[0;34m+\u001b[0m\u001b[0mA\u001b[0m\u001b[0;34m,\u001b[0m\u001b[0mfibs\u001b[0m \u001b[0;34m/\u001b[0m \u001b[0mA\u001b[0m \u001b[0;34m!=\u001b[0m \u001b[0;36m2\u001b[0m\u001b[0;34m)\u001b[0m\u001b[0;34m\u001b[0m\u001b[0m\n\u001b[0m\u001b[1;32m     16\u001b[0m     \u001b[0mprint\u001b[0m\u001b[0;34m(\u001b[0m\u001b[0;34m'fibs[mask]'\u001b[0m\u001b[0;34m,\u001b[0m\u001b[0mfibs\u001b[0m\u001b[0;34m[\u001b[0m\u001b[0mmask\u001b[0m\u001b[0;34m]\u001b[0m\u001b[0;34m)\u001b[0m\u001b[0;34m\u001b[0m\u001b[0m\n\u001b[1;32m     17\u001b[0m     \u001b[0;32mreturn\u001b[0m \u001b[0mfibs\u001b[0m\u001b[0;34m[\u001b[0m\u001b[0mmask\u001b[0m\u001b[0;34m]\u001b[0m\u001b[0;34m\u001b[0m\u001b[0m\n",
      "\u001b[0;31mTypeError\u001b[0m: unorderable types: set() > int()"
     ]
    }
   ],
   "source": [
    "current_number = 2\n",
    "fib_array = fibs_between_numbers(current_number,N,fib)\n",
    "print('remaining_fibs,fib_array ',remaining_fibs,fib_array )\n",
    "numbers_to_fibs(2,fib_array)"
   ]
  },
  {
   "cell_type": "code",
   "execution_count": 1176,
   "metadata": {},
   "outputs": [
    {
     "name": "stdout",
     "output_type": "stream",
     "text": [
      "[1 2 3 4 5]\n"
     ]
    }
   ],
   "source": [
    "print(K)"
   ]
  },
  {
   "cell_type": "markdown",
   "metadata": {},
   "source": [
    "# Solving the Fibonacci Knights\n",
    "\n",
    "1. First we calculate all the needed fibonacci numbers\n",
    "2. then we start from the biggest number and iterate backwards until we find a number that only has one possibility\n",
    "3. we slot that into the end of the array\n",
    "4. slot the other possibility into the next position (working right to left)\n",
    "5. Then we take the max possibility of the next number and slot that in\n",
    "6. repeat 5\n",
    "\n",
    "Surprisingly we can always take the max. This dramatically scales the problem down. We still need to check it vs what has already been used. This will be a set however so it will be quick\n",
    "\n",
    "So it turns out, taking the max does NOT always work, even though it works up to 34. So we will need to be doing a recursive search for the right answers. But we can start at the max and work backwards."
   ]
  },
  {
   "cell_type": "code",
   "execution_count": 1220,
   "metadata": {
    "collapsed": true
   },
   "outputs": [],
   "source": [
    "def s_fib(N):\n",
    "    l = [0,1]\n",
    "    while l[-2]+l[-1] < N:\n",
    "        l.append(l[-2]+l[-1])\n",
    "    return set(l)\n",
    "\n",
    "def a_fib(N):\n",
    "    l = [0,1]\n",
    "    while l[-2]+l[-1] < N:\n",
    "        l.append(l[-2]+l[-1])\n",
    "    return np.array(l[2:])"
   ]
  },
  {
   "cell_type": "markdown",
   "metadata": {},
   "source": [
    "## Node class\n",
    "\n",
    "For handling recursive tree search"
   ]
  },
  {
   "cell_type": "code",
   "execution_count": 1280,
   "metadata": {
    "collapsed": true
   },
   "outputs": [],
   "source": [
    "class Node(object):\n",
    "    def __init__(self,solution,N,chair,used,parent,fib_arr):\n",
    "        self.N = N\n",
    "        self.chair = chair\n",
    "        self.used = used\n",
    "        self.solution = solution\n",
    "        self.parent = parent\n",
    "        self.children = dict()\n",
    "        self.poss_nums = []\n",
    "        if parent:\n",
    "            parent.add_child(self,solution[-1])\n",
    "#         print('solution',solution)\n",
    "#         print('used',used)\n",
    "        self.poss_fibs = Node.fibs_between(solution[-1],N,fib_arr)\n",
    "#         print('self.poss_fibs',self.poss_fibs)\n",
    "        temp_nums = np.subtract(self.poss_fibs,np.full(self.poss_fibs.shape[0],solution[-1]))\n",
    "#         print('temp_nums',temp_nums)\n",
    "        for num in temp_nums:\n",
    "            if num not in used:\n",
    "                self.poss_nums.append(num)\n",
    "#         Node.check_end(self)\n",
    "#         print('self.poss_nums',self.poss_nums)\n",
    "    \n",
    "    @staticmethod\n",
    "    def check_end(node):\n",
    "        if len(node.solution) == node.N: # node.chair+1\n",
    "            # found solution\n",
    "            print('found solution')\n",
    "            return node.solution\n",
    "        elif not node.poss_nums:\n",
    "            # dead end. delete self from children of parent. And from poss_nums. \n",
    "            # Then run the check for the parent\n",
    "#             print('wrong num')\n",
    "            wrong_num = node.solution[-1]\n",
    "            node.parent.poss_nums.remove(wrong_num)\n",
    "            del node.parent.children[wrong_num]\n",
    "            return Node.check_end(node.parent)\n",
    "        else:\n",
    "            return node\n",
    "            \n",
    "    @staticmethod\n",
    "    def fibs_between(A,N,fibs):\n",
    "#         print('A,N,N+A,fibs',A,N,N+A,fibs)\n",
    "        mask = np.logical_and(fibs > A,fibs <= N+A,fibs / A != 2)\n",
    "#         print('fibs[mask]',fibs[mask])\n",
    "        return fibs[mask]\n",
    "    \n",
    "    def add_child(self,child,num):\n",
    "        self.children[num] = child\n",
    "       \n",
    "    @staticmethod\n",
    "    def max_search(node,fib_arr):\n",
    "#         print('node',len(node.solution))\n",
    "#         if len(node.solution) % 100 == 0:\n",
    "#             print('Solution(len) = {}'.format(len(node.solution)))\n",
    "        next_num = node.solution[-1]\n",
    "        for num in reversed(node.poss_nums):\n",
    "            solution,used = copy.copy(node.solution),copy.deepcopy(node.used)\n",
    "            used.add(num)\n",
    "            child = Node(solution+[num],node.N,node.chair,used,node,fib_arr)\n",
    "            node.add_child(child,num)\n",
    "#         print('node.poss_nums',node.poss_nums)\n",
    "#         print('node.children',node.children)\n",
    "        child = Node.check_end(node.children[node.poss_nums[-1]])\n",
    "#         print('type',type(child))\n",
    "#         print('type',type(child),type(child) == int,type(child) == np.float,type(child) == np.float64)\n",
    "#         if isinstance(child,float) or isinstance(child,int): #list\n",
    "\n",
    "        # found solution\n",
    "        if isinstance(child,list):\n",
    "            return child\n",
    "        else:\n",
    "            # continue the search\n",
    "            return Node.max_search(child,fib_arr)\n",
    "            "
   ]
  },
  {
   "cell_type": "code",
   "execution_count": 1281,
   "metadata": {},
   "outputs": [],
   "source": [
    "def solve_knights_TS(N,chair_position):\n",
    "    max_num = N+N #exclusive\n",
    "    print('max_num',max_num)\n",
    "    used = set()\n",
    "    start = time.time()\n",
    "    fib_arr = a_fib(max_num)\n",
    "#     print('fib_arr',fib_arr)\n",
    "    toc = time.time()\n",
    "    print('a_fib took {} seconds'.format(toc-start))\n",
    "    tic = time.time()\n",
    "    end,next_num = first_single(N,max_num,fib_arr)\n",
    "    print('end,next_num',end,next_num)\n",
    "    toc = time.time()\n",
    "    print('first_single took {} seconds'.format(toc-tic))\n",
    "    used.add(end)\n",
    "    used.add(next_num)\n",
    "    solution = [end,next_num]\n",
    "    episode = 0\n",
    "    print('start',solution)\n",
    "    root = Node(solution,N,chair_position,used,None,fib_arr)\n",
    "    solution = Node.max_search(root,fib_arr)\n",
    "    return solution"
   ]
  },
  {
   "cell_type": "markdown",
   "metadata": {},
   "source": [
    "## The Actual numbers for solving"
   ]
  },
  {
   "cell_type": "code",
   "execution_count": 1282,
   "metadata": {},
   "outputs": [
    {
     "name": "stdout",
     "output_type": "stream",
     "text": [
      "8.91948530947555e+16\n"
     ]
    }
   ],
   "source": [
    "full_N = 99194853094755497\n",
    "chair_position_left = 1e+16\n",
    "chair_position_right = full_N - chair_position_left\n",
    "print(chair_position_right)"
   ]
  },
  {
   "cell_type": "markdown",
   "metadata": {},
   "source": [
    "## Run the solution"
   ]
  },
  {
   "cell_type": "code",
   "execution_count": 1283,
   "metadata": {},
   "outputs": [
    {
     "name": "stdout",
     "output_type": "stream",
     "text": [
      "max_num 1220\n",
      "a_fib took 3.409385681152344e-05 seconds\n",
      "end,next_num 610 377\n",
      "first_single took 0.0003020763397216797 seconds\n",
      "start [610, 377]\n",
      "found solution\n",
      "The solution [610, 377, 233.0, 144.0, 466.0, 521.0, 89.0, 288.0, 322.0, 55.0, 555.0, 432.0, 178.0, 199.0, 411.0, 576.0, 34.0, 343.0, 267.0, 110.0, 500.0, 487.0, 123.0, 254.0, 356.0, 21.0, 589.0, 398.0, 212.0, 165.0, 445.0, 542.0, 68.0, 309.0, 301.0, 76.0, 534.0, 453.0, 157.0, 220.0, 390.0, 597.0, 13.0, 364.0, 246.0, 131.0, 479.0, 508.0, 102.0, 275.0, 335.0, 42.0, 568.0, 419.0, 191.0, 186.0, 424.0, 563.0, 47.0, 330.0, 280.0, 97.0, 513.0, 474.0, 136.0, 241.0, 369.0, 8.0, 602.0, 385.0, 225.0, 152.0, 458.0, 529.0, 81.0, 296.0, 314.0, 63.0, 547.0, 440.0, 170.0, 207.0, 403.0, 584.0, 26.0, 351.0, 259.0, 118.0, 492.0, 495.0, 115.0, 262.0, 348.0, 29.0, 581.0, 406.0, 204.0, 173.0, 437.0, 550.0, 60.0, 317.0, 293.0, 84.0, 526.0, 461.0, 149.0, 228.0, 382.0, 605.0, 5.0, 372.0, 238.0, 139.0, 471.0, 516.0, 94.0, 283.0, 327.0, 50.0, 560.0, 427.0, 183.0, 194.0, 416.0, 571.0, 39.0, 338.0, 272.0, 105.0, 505.0, 482.0, 128.0, 249.0, 361.0, 16.0, 594.0, 393.0, 217.0, 160.0, 450.0, 537.0, 73.0, 304.0, 306.0, 71.0, 539.0, 448.0, 162.0, 215.0, 395.0, 592.0, 18.0, 359.0, 251.0, 126.0, 484.0, 503.0, 107.0, 270.0, 340.0, 37.0, 573.0, 414.0, 196.0, 181.0, 429.0, 558.0, 52.0, 325.0, 285.0, 92.0, 518.0, 469.0, 141.0, 236.0, 374.0, 3.0, 607.0, 380.0, 230.0, 147.0, 463.0, 524.0, 86.0, 291.0, 319.0, 58.0, 552.0, 435.0, 175.0, 202.0, 408.0, 579.0, 31.0, 346.0, 264.0, 113.0, 497.0, 490.0, 120.0, 257.0, 353.0, 24.0, 586.0, 401.0, 209.0, 168.0, 442.0, 545.0, 65.0, 312.0, 298.0, 79.0, 531.0, 456.0, 154.0, 223.0, 387.0, 600.0, 10.0, 367.0, 243.0, 134.0, 476.0, 511.0, 99.0, 278.0, 332.0, 45.0, 565.0, 422.0, 188.0, 189.0, 421.0, 566.0, 44.0, 333.0, 277.0, 100.0, 510.0, 477.0, 133.0, 244.0, 366.0, 11.0, 599.0, 388.0, 222.0, 155.0, 455.0, 532.0, 78.0, 299.0, 311.0, 66.0, 544.0, 443.0, 167.0, 210.0, 400.0, 587.0, 23.0, 354.0, 256.0, 121.0, 489.0, 498.0, 112.0, 265.0, 345.0, 32.0, 578.0, 409.0, 201.0, 176.0, 434.0, 553.0, 57.0, 320.0, 290.0, 87.0, 523.0, 464.0, 146.0, 231.0, 379.0, 608.0, 2.0, 375.0, 235.0, 142.0, 468.0, 519.0, 91.0, 286.0, 324.0, 53.0, 557.0, 430.0, 180.0, 197.0, 413.0, 574.0, 36.0, 341.0, 269.0, 108.0, 502.0, 485.0, 125.0, 252.0, 358.0, 19.0, 591.0, 396.0, 214.0, 163.0, 447.0, 540.0, 70.0, 307.0, 303.0, 74.0, 536.0, 451.0, 159.0, 218.0, 392.0, 595.0, 15.0, 362.0, 248.0, 129.0, 481.0, 506.0, 104.0, 273.0, 337.0, 40.0, 570.0, 417.0, 193.0, 184.0, 426.0, 561.0, 49.0, 328.0, 282.0, 95.0, 515.0, 472.0, 138.0, 239.0, 371.0, 6.0, 604.0, 383.0, 227.0, 150.0, 460.0, 527.0, 83.0, 294.0, 316.0, 61.0, 549.0, 438.0, 172.0, 205.0, 405.0, 582.0, 28.0, 349.0, 261.0, 116.0, 494.0, 493.0, 117.0, 260.0, 350.0, 27.0, 583.0, 404.0, 206.0, 171.0, 439.0, 548.0, 62.0, 315.0, 295.0, 82.0, 528.0, 459.0, 151.0, 226.0, 384.0, 603.0, 7.0, 370.0, 240.0, 137.0, 473.0, 514.0, 96.0, 281.0, 329.0, 48.0, 562.0, 425.0, 185.0, 192.0, 418.0, 569.0, 41.0, 336.0, 274.0, 103.0, 507.0, 480.0, 130.0, 247.0, 363.0, 14.0, 596.0, 391.0, 219.0, 158.0, 452.0, 535.0, 75.0, 302.0, 308.0, 69.0, 541.0, 446.0, 164.0, 213.0, 397.0, 590.0, 20.0, 357.0, 253.0, 124.0, 486.0, 501.0, 109.0, 268.0, 342.0, 35.0, 575.0, 412.0, 198.0, 179.0, 431.0, 556.0, 54.0, 323.0, 287.0, 90.0, 520.0, 467.0, 143.0, 234.0, 376.0, 1.0, 609.0, 378.0, 232.0, 145.0, 465.0, 522.0, 88.0, 289.0, 321.0, 56.0, 554.0, 433.0, 177.0, 200.0, 410.0, 577.0, 33.0, 344.0, 266.0, 111.0, 499.0, 488.0, 122.0, 255.0, 355.0, 22.0, 588.0, 399.0, 211.0, 166.0, 444.0, 543.0, 67.0, 310.0, 300.0, 77.0, 533.0, 454.0, 156.0, 221.0, 389.0, 598.0, 12.0, 365.0, 245.0, 132.0, 478.0, 509.0, 101.0, 276.0, 334.0, 43.0, 567.0, 420.0, 190.0, 187.0, 423.0, 564.0, 46.0, 331.0, 279.0, 98.0, 512.0, 475.0, 135.0, 242.0, 368.0, 9.0, 601.0, 386.0, 224.0, 153.0, 457.0, 530.0, 80.0, 297.0, 313.0, 64.0, 546.0, 441.0, 169.0, 208.0, 402.0, 585.0, 25.0, 352.0, 258.0, 119.0, 491.0, 496.0, 114.0, 263.0, 347.0, 30.0, 580.0, 407.0, 203.0, 174.0, 436.0, 551.0, 59.0, 318.0, 292.0, 85.0, 525.0, 462.0, 148.0, 229.0, 381.0, 606.0, 4.0, 373.0, 237.0, 140.0, 470.0, 517.0, 93.0, 284.0, 326.0, 51.0, 559.0, 428.0, 182.0, 195.0, 415.0, 572.0, 38.0, 339.0, 271.0, 106.0, 504.0, 483.0, 127.0, 250.0, 360.0, 17.0, 593.0, 394.0, 216.0, 161.0, 449.0, 538.0, 72.0, 305.0] took 0.7145681381225586 seconds\n"
     ]
    },
    {
     "name": "stderr",
     "output_type": "stream",
     "text": [
      "/Users/Shuza/anaconda/envs/datascience/lib/python3.5/site-packages/numpy/core/numeric.py:301: FutureWarning: in the future, full(2, 377) will return an array of dtype('int64')\n",
      "  format(shape, fill_value, array(fill_value).dtype), FutureWarning)\n"
     ]
    }
   ],
   "source": [
    "sys.setrecursionlimit(50000)\n",
    "tic = time.time()\n",
    "solution = solve_knights_TS(610,chair_position_right)\n",
    "toc = time.time()\n",
    "print(\"The solution {} took {} seconds\".format(solution,(toc-tic)))"
   ]
  },
  {
   "cell_type": "code",
   "execution_count": 1371,
   "metadata": {},
   "outputs": [],
   "source": [
    "def fibs_between_numbers(A,N,fibs):\n",
    "#     print('A,N,N+A,fibs',A,N,N+A,fibs)\n",
    "    mask = np.logical_and(fibs > A,fibs <= N+A,fibs / A != 2)\n",
    "#     print('fibs[mask]',fibs[mask])\n",
    "    return fibs[mask]\n",
    "\n",
    "def first_single(N,max_num,fib_arr):\n",
    "    index = 0\n",
    "    while index != N:\n",
    "        num_fibs = fibs_between_numbers((N - index),N,fib_arr)\n",
    "        if num_fibs.shape[0] > 1:\n",
    "            pass\n",
    "        else:\n",
    "            return N-index,num_fibs[0]-(N-index)\n",
    "        index += 1\n",
    "\n",
    "# list is populated in reverse order\n",
    "def solve_knights(N,chair_position):\n",
    "    max_num = N+N #exclusive\n",
    "#     print('max_num',max_num)\n",
    "    used = set()\n",
    "    start = time.time()\n",
    "    fib_arr = a_fib(max_num)\n",
    "#     print('fib_arr',fib_arr)\n",
    "#     toc = time.time()\n",
    "#     print('a_fib took {} seconds'.format(toc-start))\n",
    "#     tic = time.time()\n",
    "    end,next_num = first_single(N,max_num,fib_arr)\n",
    "#     print('end,next_num',end,next_num)\n",
    "#     toc = time.time()\n",
    "#     print('first_single took {} seconds'.format(toc-tic))\n",
    "    used.add(end)\n",
    "    used.add(next_num)\n",
    "    solution = [end,next_num]\n",
    "    episode = 0\n",
    "    # compute max possibility\n",
    "    \n",
    "    repeats = next_num\n",
    "    while len(solution) < chair_position+1: # N\n",
    "        poss_fibs = fibs_between_numbers(next_num,N,fib_arr)\n",
    "        poss_nums = np.subtract(poss_fibs,np.full(poss_fibs.shape[0],next_num,dtype=object))\n",
    "#         print('solution',solution)\n",
    "#         print('poss_fibs',poss_fibs)\n",
    "#         print('poss_nums',poss_nums)\n",
    "        for poss in reversed(poss_nums):\n",
    "#             print('poss',poss)\n",
    "            if poss in used:\n",
    "                pass\n",
    "            else:\n",
    "                solution.append(poss)\n",
    "                used.add(poss)\n",
    "                next_num = poss\n",
    "                break\n",
    "        episode += 1\n",
    "        if repeats == solution[-1]:\n",
    "            # stuck\n",
    "            break\n",
    "        else:\n",
    "            repeats = solution[-1]\n",
    "#         if episode % 100000 == 0:\n",
    "#             toc = time.time()\n",
    "#             print(\"Episode {}, len(solution) = {}, time taken so far {} seconds\".format(episode,len(solution),(toc-start)))\n",
    "#             break\n",
    "    return solution[-1]#,poss_nums,poss_fibs,used"
   ]
  },
  {
   "cell_type": "code",
   "execution_count": 1372,
   "metadata": {},
   "outputs": [
    {
     "name": "stdout",
     "output_type": "stream",
     "text": [
      "Fibs took 0.00011396408081054688 seconds\n",
      "fibs [                1                 2                 3                 5\n",
      "                 8                13                21                34\n",
      "                55                89               144               233\n",
      "               377               610               987              1597\n",
      "              2584              4181              6765             10946\n",
      "             17711             28657             46368             75025\n",
      "            121393            196418            317811            514229\n",
      "            832040           1346269           2178309           3524578\n",
      "           5702887           9227465          14930352          24157817\n",
      "          39088169          63245986         102334155         165580141\n",
      "         267914296         433494437         701408733        1134903170\n",
      "        1836311903        2971215073        4807526976        7778742049\n",
      "       12586269025       20365011074       32951280099       53316291173\n",
      "       86267571272      139583862445      225851433717      365435296162\n",
      "      591286729879      956722026041     1548008755920     2504730781961\n",
      "     4052739537881     6557470319842    10610209857723    17167680177565\n",
      "    27777890035288    44945570212853    72723460248141   117669030460994\n",
      "   190392490709135   308061521170129   498454011879264   806515533049393\n",
      "  1304969544928657  2111485077978050  3416454622906707  5527939700884757\n",
      "  8944394323791464 14472334024676221 23416728348467685 37889062373143906\n",
      " 61305790721611591]\n"
     ]
    }
   ],
   "source": [
    "tic = time.time()\n",
    "fibs = a_fib(99194853094755497)\n",
    "toc = time.time()\n",
    "print('Fibs took {} seconds'.format(toc-tic))\n",
    "print('fibs',fibs)"
   ]
  },
  {
   "cell_type": "code",
   "execution_count": 1373,
   "metadata": {},
   "outputs": [
    {
     "name": "stdout",
     "output_type": "stream",
     "text": [
      "89194853094755504\n"
     ]
    }
   ],
   "source": [
    "full_N = 99194853094755497\n",
    "chair_position_left = 1e+16\n",
    "chair_position_right = int(full_N - chair_position_left)\n",
    "print(chair_position_right)"
   ]
  },
  {
   "cell_type": "code",
   "execution_count": 1374,
   "metadata": {},
   "outputs": [
    {
     "ename": "KeyboardInterrupt",
     "evalue": "",
     "output_type": "error",
     "traceback": [
      "\u001b[0;31m---------------------------------------------------------------------------\u001b[0m",
      "\u001b[0;31mKeyboardInterrupt\u001b[0m                         Traceback (most recent call last)",
      "\u001b[0;32m<ipython-input-1374-c30765145dd0>\u001b[0m in \u001b[0;36m<module>\u001b[0;34m()\u001b[0m\n\u001b[1;32m      1\u001b[0m \u001b[0mN\u001b[0m \u001b[0;34m=\u001b[0m \u001b[0;36m34\u001b[0m\u001b[0;34m\u001b[0m\u001b[0m\n\u001b[1;32m      2\u001b[0m \u001b[0mtic\u001b[0m \u001b[0;34m=\u001b[0m \u001b[0mtime\u001b[0m\u001b[0;34m.\u001b[0m\u001b[0mtime\u001b[0m\u001b[0;34m(\u001b[0m\u001b[0;34m)\u001b[0m\u001b[0;34m\u001b[0m\u001b[0m\n\u001b[0;32m----> 3\u001b[0;31m \u001b[0msolution\u001b[0m \u001b[0;34m=\u001b[0m \u001b[0msolve_knights\u001b[0m\u001b[0;34m(\u001b[0m\u001b[0mfull_N\u001b[0m\u001b[0;34m,\u001b[0m\u001b[0mchair_position_right\u001b[0m\u001b[0;34m)\u001b[0m\u001b[0;34m\u001b[0m\u001b[0m\n\u001b[0m\u001b[1;32m      4\u001b[0m \u001b[0mtoc\u001b[0m \u001b[0;34m=\u001b[0m \u001b[0mtime\u001b[0m\u001b[0;34m.\u001b[0m\u001b[0mtime\u001b[0m\u001b[0;34m(\u001b[0m\u001b[0;34m)\u001b[0m\u001b[0;34m\u001b[0m\u001b[0m\n\u001b[1;32m      5\u001b[0m \u001b[0mprint\u001b[0m\u001b[0;34m(\u001b[0m\u001b[0;34m\"The len(solution) {} took {} seconds\"\u001b[0m\u001b[0;34m.\u001b[0m\u001b[0mformat\u001b[0m\u001b[0;34m(\u001b[0m\u001b[0mlen\u001b[0m\u001b[0;34m(\u001b[0m\u001b[0msolution\u001b[0m\u001b[0;34m)\u001b[0m\u001b[0;34m,\u001b[0m\u001b[0;34m(\u001b[0m\u001b[0mtoc\u001b[0m\u001b[0;34m-\u001b[0m\u001b[0mtic\u001b[0m\u001b[0;34m)\u001b[0m\u001b[0;34m)\u001b[0m\u001b[0;34m)\u001b[0m\u001b[0;34m\u001b[0m\u001b[0m\n",
      "\u001b[0;32m<ipython-input-1371-cc8b7625c5df>\u001b[0m in \u001b[0;36msolve_knights\u001b[0;34m(N, chair_position)\u001b[0m\n\u001b[1;32m     39\u001b[0m     \u001b[0;32mwhile\u001b[0m \u001b[0mlen\u001b[0m\u001b[0;34m(\u001b[0m\u001b[0msolution\u001b[0m\u001b[0;34m)\u001b[0m \u001b[0;34m<\u001b[0m \u001b[0mchair_position\u001b[0m\u001b[0;34m+\u001b[0m\u001b[0;36m1\u001b[0m\u001b[0;34m:\u001b[0m \u001b[0;31m# N\u001b[0m\u001b[0;34m\u001b[0m\u001b[0m\n\u001b[1;32m     40\u001b[0m         \u001b[0mposs_fibs\u001b[0m \u001b[0;34m=\u001b[0m \u001b[0mfibs_between_numbers\u001b[0m\u001b[0;34m(\u001b[0m\u001b[0mnext_num\u001b[0m\u001b[0;34m,\u001b[0m\u001b[0mN\u001b[0m\u001b[0;34m,\u001b[0m\u001b[0mfib_arr\u001b[0m\u001b[0;34m)\u001b[0m\u001b[0;34m\u001b[0m\u001b[0m\n\u001b[0;32m---> 41\u001b[0;31m         \u001b[0mposs_nums\u001b[0m \u001b[0;34m=\u001b[0m \u001b[0mnp\u001b[0m\u001b[0;34m.\u001b[0m\u001b[0msubtract\u001b[0m\u001b[0;34m(\u001b[0m\u001b[0mposs_fibs\u001b[0m\u001b[0;34m,\u001b[0m\u001b[0mnp\u001b[0m\u001b[0;34m.\u001b[0m\u001b[0mfull\u001b[0m\u001b[0;34m(\u001b[0m\u001b[0mposs_fibs\u001b[0m\u001b[0;34m.\u001b[0m\u001b[0mshape\u001b[0m\u001b[0;34m[\u001b[0m\u001b[0;36m0\u001b[0m\u001b[0;34m]\u001b[0m\u001b[0;34m,\u001b[0m\u001b[0mnext_num\u001b[0m\u001b[0;34m,\u001b[0m\u001b[0mdtype\u001b[0m\u001b[0;34m=\u001b[0m\u001b[0mobject\u001b[0m\u001b[0;34m)\u001b[0m\u001b[0;34m)\u001b[0m\u001b[0;34m\u001b[0m\u001b[0m\n\u001b[0m\u001b[1;32m     42\u001b[0m \u001b[0;31m#         print('solution',solution)\u001b[0m\u001b[0;34m\u001b[0m\u001b[0;34m\u001b[0m\u001b[0m\n\u001b[1;32m     43\u001b[0m \u001b[0;31m#         print('poss_fibs',poss_fibs)\u001b[0m\u001b[0;34m\u001b[0m\u001b[0;34m\u001b[0m\u001b[0m\n",
      "\u001b[0;31mKeyboardInterrupt\u001b[0m: "
     ]
    }
   ],
   "source": [
    "N = 34\n",
    "tic = time.time()\n",
    "solution = solve_knights(full_N,chair_position_right)\n",
    "toc = time.time()\n",
    "print(\"The len(solution) {} took {} seconds\".format(len(solution),(toc-tic)))"
   ]
  },
  {
   "cell_type": "code",
   "execution_count": null,
   "metadata": {},
   "outputs": [],
   "source": [
    "N = 34\n",
    "times = []\n",
    "tic = time.time()\n",
    "for i in range(2,25):\n",
    "    solution = solve_knights(fibs[i],chair_position_right)\n",
    "    toc = time.time()\n",
    "    times.append(toc-tic)\n",
    "    print(\"The len(solution) {} took {} seconds\".format(len(solution),(toc-tic)))"
   ]
  },
  {
   "cell_type": "code",
   "execution_count": 1277,
   "metadata": {},
   "outputs": [
    {
     "name": "stdout",
     "output_type": "stream",
     "text": [
      "610\n"
     ]
    }
   ],
   "source": [
    "print(len(solution))"
   ]
  },
  {
   "cell_type": "code",
   "execution_count": 1305,
   "metadata": {},
   "outputs": [
    {
     "name": "stdout",
     "output_type": "stream",
     "text": [
      "[0.008240938186645508, 0.009228944778442383, 0.009963035583496094, 0.010827064514160156, 0.012121915817260742, 0.014553070068359375, 0.017168045043945312, 0.020797014236450195, 0.027725934982299805, 0.03654193878173828, 0.05300188064575195, 0.07086586952209473, 0.10274505615234375, 0.14466285705566406, 0.19666600227355957, 0.3020620346069336, 0.42970800399780273, 0.6610820293426514, 0.9948849678039551, 1.488879919052124, 2.2143239974975586, 3.3951809406280518, 5.216418027877808]\n"
     ]
    }
   ],
   "source": [
    "print(times)"
   ]
  },
  {
   "cell_type": "code",
   "execution_count": 1311,
   "metadata": {},
   "outputs": [
    {
     "name": "stdout",
     "output_type": "stream",
     "text": [
      "196418\n"
     ]
    }
   ],
   "source": [
    "def f(x):\n",
    "    \n",
    "    y = x**2 + b\n",
    "    return y"
   ]
  },
  {
   "cell_type": "code",
   "execution_count": 1309,
   "metadata": {
    "collapsed": true
   },
   "outputs": [],
   "source": [
    "def plot(scores):\n",
    "    # Rolling mean plot\n",
    "    interval = 1\n",
    "    rolling_mean = [np.mean(scores[(slice_*interval):(slice_+1)*interval]) for slice_ in range(math.ceil(len(scores)/interval))]\n",
    "    x_axis = np.arange(len(rolling_mean)) * interval\n",
    "    plt.plot(x_axis, rolling_mean)\n",
    "    plt.ylabel('Score')\n",
    "    plt.xlabel('Episode #')\n",
    "    plt.show()"
   ]
  },
  {
   "cell_type": "code",
   "execution_count": 1310,
   "metadata": {},
   "outputs": [
    {
     "data": {
      "image/png": "[encoded data removed]",
      "text/plain": [
       "<matplotlib.figure.Figure at 0x17e226da0>"
      ]
     },
     "metadata": {},
     "output_type": "display_data"
    }
   ],
   "source": [
    "plot(times)"
   ]
  },
  {
   "cell_type": "code",
   "execution_count": 1323,
   "metadata": {},
   "outputs": [],
   "source": [
    "x = np.arange(23)\n",
    "y = times\n",
    "z = np.polyfit(x,y,4)\n",
    "f = np.poly1d(z)"
   ]
  },
  {
   "cell_type": "code",
   "execution_count": 1326,
   "metadata": {
    "collapsed": true
   },
   "outputs": [],
   "source": [
    "x_new = np.linspace(23,81,50)\n",
    "y_new = f(x_new)"
   ]
  },
  {
   "cell_type": "code",
   "execution_count": 1327,
   "metadata": {},
   "outputs": [
    {
     "data": {
      "image/png": "[encoded data removed]",
      "text/plain": [
       "<matplotlib.figure.Figure at 0x17c594278>"
      ]
     },
     "metadata": {},
     "output_type": "display_data"
    }
   ],
   "source": [
    "plt.plot(x,y,'o',x_new,y_new)\n",
    "plt.show()"
   ]
  },
  {
   "cell_type": "code",
   "execution_count": 1329,
   "metadata": {},
   "outputs": [
    {
     "name": "stdout",
     "output_type": "stream",
     "text": [
      "4400.52957325\n"
     ]
    }
   ],
   "source": [
    "print(f(79))"
   ]
  },
  {
   "cell_type": "code",
   "execution_count": null,
   "metadata": {
    "collapsed": true
   },
   "outputs": [],
   "source": []
  }
 ],
 "metadata": {
  "kernelspec": {
   "display_name": "Python 3",
   "language": "python",
   "name": "python3"
  },
  "language_info": {
   "codemirror_mode": {
    "name": "ipython",
    "version": 3
   },
   "file_extension": ".py",
   "mimetype": "text/x-python",
   "name": "python",
   "nbconvert_exporter": "python",
   "pygments_lexer": "ipython3",
   "version": "3.5.4"
  }
 },
 "nbformat": 4,
 "nbformat_minor": 2
}

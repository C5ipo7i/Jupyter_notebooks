{
 "cells": [
  {
   "cell_type": "code",
   "execution_count": 1,
   "metadata": {},
   "outputs": [],
   "source": [
    "import numpy as np\n",
    "import random\n",
    "import math\n",
    "import time\n",
    "import copy\n",
    "import sys\n",
    "import matplotlib.pyplot as plt"
   ]
  },
  {
   "cell_type": "code",
   "execution_count": 508,
   "metadata": {
    "collapsed": true
   },
   "outputs": [],
   "source": [
    "\"\"\"\n",
    "the knights are a list. Where the last entry is less than the first. And each entry sums to a fibonacci number. \n",
    "The number of entries starts at 1 and goes until N, the number of knights\n",
    "\n",
    "The key is the reduce the number of possibilities dramatically\n",
    "\n",
    "create dictionary of fib numbers, key is number, True if fib, else False.\n",
    "\"\"\" \n",
    "\n",
    "# Create a sequence until you reach or exceed a number\n",
    "def fibonacci_sequence(number):\n",
    "    sequence = [0,1]\n",
    "    while sequence[-1] < number:\n",
    "        sequence.append(sequence[-1]+sequence[-2])\n",
    "    return sequence\n",
    "\n",
    "def fib_set(number):\n",
    "    return set(fibonacci_sequence(number+(number-1))[1:])\n",
    "    \n",
    "def is_fibonacci(number):\n",
    "    sequence = fibonacci_sequence(number)\n",
    "    if number in sequence:\n",
    "        return True\n",
    "    else:\n",
    "        return False"
   ]
  },
  {
   "cell_type": "code",
   "execution_count": 10,
   "metadata": {},
   "outputs": [
    {
     "name": "stdout",
     "output_type": "stream",
     "text": [
      "True\n"
     ]
    }
   ],
   "source": [
    "print(is_fibonacci(13))"
   ]
  },
  {
   "cell_type": "code",
   "execution_count": 89,
   "metadata": {},
   "outputs": [],
   "source": [
    "def check_configuration(K,N):\n",
    "    if (K[0] > K[-1]) == True:\n",
    "        for i in range(1,N):\n",
    "            if is_fibonacci(K[i] + K[i-1]) == True:\n",
    "                pass\n",
    "            else:\n",
    "                return False\n",
    "        return True\n",
    "    else:\n",
    "        return False\n",
    "        \n",
    "def permute_combinations(K):\n",
    "    return random.shuffle(K)\n",
    "\n",
    "def solve_knights(N):\n",
    "    solved = False\n",
    "    knights = list(range(N+1))[1:]\n",
    "#     print(knights)\n",
    "    while solved != True:\n",
    "        permute_combinations(knights)\n",
    "#         print(knights)\n",
    "        solved = check_configuration(knights,N)\n",
    "    return knights"
   ]
  },
  {
   "cell_type": "code",
   "execution_count": 188,
   "metadata": {},
   "outputs": [
    {
     "name": "stdout",
     "output_type": "stream",
     "text": [
      "[1, 2, 3, 4, 5, 6]\n",
      "None\n",
      "3\n",
      "5\n",
      "7\n",
      "2\n",
      "5\n",
      "1\n",
      "7\n",
      "7\n",
      "0\n",
      "7\n"
     ]
    }
   ],
   "source": [
    "a = list(range(7))[1:]\n",
    "print(a)\n",
    "print(random.shuffle(a))\n",
    "for _ in range(10):\n",
    "#     split = random.choice(range(0, len(a)))\n",
    "    split = random.choice(range(8))\n",
    "    print(split)"
   ]
  },
  {
   "cell_type": "code",
   "execution_count": 91,
   "metadata": {
    "collapsed": true
   },
   "outputs": [],
   "source": [
    "# Check particular constellation\n",
    "# result = check_configuration([4,1,2,3],4)\n",
    "# print(result)"
   ]
  },
  {
   "cell_type": "code",
   "execution_count": 190,
   "metadata": {},
   "outputs": [
    {
     "name": "stdout",
     "output_type": "stream",
     "text": [
      "Computation took 1.9828478495279947e-06 seconds. Solution is [3, 2, 1]\n"
     ]
    }
   ],
   "source": [
    "tic = time.time()\n",
    "solution = solve_knights(3)\n",
    "toc = time.time()\n",
    "print('Computation took {} seconds. Solution is {}'.format(((toc-tic)/60),solution))"
   ]
  },
  {
   "cell_type": "markdown",
   "metadata": {},
   "source": [
    "# Evolutionary Algorithm"
   ]
  },
  {
   "cell_type": "code",
   "execution_count": 456,
   "metadata": {},
   "outputs": [],
   "source": [
    "\"\"\"\n",
    "N = Number of knights\n",
    "K = the list of knights\n",
    "P = Population\n",
    "\n",
    "Mutate randomly swaps two knights\n",
    "\n",
    "\"\"\"\n",
    "\n",
    "class Individual(object):\n",
    "    def __init__(self,N,K):\n",
    "        self.N = N\n",
    "        self.K = K\n",
    "        \n",
    "    @property\n",
    "    def fitness(self):\n",
    "        correct = 0\n",
    "        for i in range(1,self.N):\n",
    "            if is_fibonacci(self.K[i] + self.K[i-1]) == True:\n",
    "                correct += 1\n",
    "#         print('correct',correct)\n",
    "        return correct / (self.N-1)\n",
    "\n",
    "    @staticmethod\n",
    "    def fix_ends(N,K):\n",
    "        one = random.choice([0,N-1])\n",
    "        two = random.choice(list(range(N-1)))\n",
    "        K[one],K[two] = K[two],K[one]\n",
    "        return K\n",
    "    \n",
    "    def mutate(self):\n",
    "        # randomly swap two knights. randomly vary number of mutations?\n",
    "        split = random.choice(range(1,self.N))\n",
    "        one = random.choice(list(range(self.N))[:split])\n",
    "        two = random.choice(list(range(self.N))[split:])\n",
    "#         two = math.floor(random.random() * self.N)\n",
    "#         print('one,two,N',one,two,self.N)\n",
    "        K = copy.deepcopy(self.K)\n",
    "        K[one],K[two] = K[two],K[one]\n",
    "        while K[0] < K[-1]:\n",
    "            K = self.fix_ends(self.N,K)\n",
    "        return Individual(self.N,K)\n",
    "    "
   ]
  },
  {
   "cell_type": "code",
   "execution_count": 477,
   "metadata": {},
   "outputs": [],
   "source": [
    "class Population(object):\n",
    "    def __init__(self,N,pop_size,offspring):\n",
    "        self.N,self.pop_size,self.offspring = N,pop_size,offspring\n",
    "        self.K = list(range(N+1))[1:]\n",
    "        self.individuals = []\n",
    "            \n",
    "    @property\n",
    "    def fittest(self):\n",
    "        return max(self.individuals, key=lambda individual: individual.fitness)\n",
    "    \n",
    "    def generate_population(self):\n",
    "        self.individuals = [Individual(self.N,random.sample(self.K,len(self.K))) for _ in range(self.pop_size)]\n",
    "         \n",
    "    @staticmethod\n",
    "    def generate_offspring(population):\n",
    "        offspring = Population(population.N,population.pop_size,population.offspring)\n",
    "#         print('len pop',len(population.individuals))\n",
    "        for _ in range(population.offspring):\n",
    "            i = _ % population.pop_size\n",
    "            child = population.individuals[i].mutate()\n",
    "#             print('child',child)\n",
    "            offspring.individuals += [child]\n",
    "        return offspring\n",
    "    \n",
    "    @staticmethod\n",
    "    def survival_selection(population):\n",
    "#         print('survival_selection')\n",
    "        new_population = Population(population.N,population.pop_size,population.offspring)\n",
    "        individuals = copy.deepcopy(population.individuals)\n",
    "#         print('ind len',len(individuals))\n",
    "        for _ in range(population.pop_size):\n",
    "            tournament = random.sample(individuals,25)\n",
    "#             print('ind len',len(individuals))\n",
    "#             print('tournament',tournament)\n",
    "            victor = max(tournament, key=lambda individual: individual.fitness)\n",
    "            new_population.individuals += [victor]\n",
    "            individuals.remove(victor)\n",
    "            \n",
    "        return new_population"
   ]
  },
  {
   "cell_type": "code",
   "execution_count": 478,
   "metadata": {},
   "outputs": [],
   "source": [
    "class EA(object):\n",
    "    def __init__(self,N,pop_size,offspring):\n",
    "        self.pop_size,self.offspring = pop_size,offspring\n",
    "        \n",
    "    def search(self):\n",
    "        generation = 1\n",
    "        self.population = Population(N,self.pop_size,self.offspring)\n",
    "        self.population.generate_population()\n",
    "        while self.population.fittest.fitness < 1.0:\n",
    "            print('Generation {}'.format(generation))\n",
    "            offspring = Population.generate_offspring(self.population)\n",
    "#             print('offspring',offspring.individuals)\n",
    "            self.population.individuals += offspring.individuals\n",
    "#             print('len pop',len(self.population.individuals))\n",
    "            # Seed with the best candidates\n",
    "            self.population = Population.survival_selection(self.population)\n",
    "            print('fittest %{}, constellation {}'.format(self.population.fittest.fitness,self.population.fittest.K))\n",
    "            generation += 1\n",
    "        print('Solved by generation {}'.format(generation))\n",
    "        \n",
    "    def show_solution(self):\n",
    "        print(self.population.fittest.K)"
   ]
  },
  {
   "cell_type": "code",
   "execution_count": 552,
   "metadata": {},
   "outputs": [
    {
     "name": "stdout",
     "output_type": "stream",
     "text": [
      "Solved by generation 1\n",
      "[4, 1, 2, 3, 5]\n"
     ]
    }
   ],
   "source": [
    "pop = 150\n",
    "offspring = 1000\n",
    "N = 5\n",
    "\n",
    "evo = EA(N,pop,offspring)\n",
    "evo.search()\n",
    "evo.show_solution()"
   ]
  },
  {
   "cell_type": "code",
   "execution_count": null,
   "metadata": {
    "collapsed": true
   },
   "outputs": [],
   "source": [
    "[26, 29, 33, 1, 20, 14, 7, 27, 28, 6, 15, 22, 12, 9, 3, 18, 16, 5, 8, 13, 21, 34, 31, 24, 10, 11, 23, 32, 2, 19, 17, 4, 30, 25]"
   ]
  },
  {
   "cell_type": "code",
   "execution_count": 195,
   "metadata": {
    "collapsed": true
   },
   "outputs": [],
   "source": [
    "def graph_times(start,end):\n",
    "    times = np.arange(start,end)\n",
    "    for i in range(start,end):\n",
    "        tic = time.time()\n",
    "        print('i',i)\n",
    "        solution = solve_knights(i)\n",
    "        toc = time.time()\n",
    "        times[i-start] = (round((toc-tic)/60,3))\n",
    "    return times        "
   ]
  },
  {
   "cell_type": "code",
   "execution_count": 123,
   "metadata": {},
   "outputs": [
    {
     "name": "stdout",
     "output_type": "stream",
     "text": [
      "i 2\n",
      "i 3\n",
      "i 4\n",
      "i 5\n",
      "i 6\n"
     ]
    },
    {
     "ename": "KeyboardInterrupt",
     "evalue": "",
     "output_type": "error",
     "traceback": [
      "\u001b[0;31m---------------------------------------------------------------------------\u001b[0m",
      "\u001b[0;31mKeyboardInterrupt\u001b[0m                         Traceback (most recent call last)",
      "\u001b[0;32m<ipython-input-123-460933aaff1c>\u001b[0m in \u001b[0;36m<module>\u001b[0;34m()\u001b[0m\n\u001b[0;32m----> 1\u001b[0;31m \u001b[0mtimes\u001b[0m \u001b[0;34m=\u001b[0m \u001b[0mgraph_times\u001b[0m\u001b[0;34m(\u001b[0m\u001b[0;36m2\u001b[0m\u001b[0;34m,\u001b[0m\u001b[0;36m7\u001b[0m\u001b[0;34m)\u001b[0m\u001b[0;34m\u001b[0m\u001b[0m\n\u001b[0m\u001b[1;32m      2\u001b[0m \u001b[0mprint\u001b[0m\u001b[0;34m(\u001b[0m\u001b[0mtimes\u001b[0m\u001b[0;34m)\u001b[0m\u001b[0;34m\u001b[0m\u001b[0m\n",
      "\u001b[0;32m<ipython-input-122-f65b619d264a>\u001b[0m in \u001b[0;36mgraph_times\u001b[0;34m(start, end)\u001b[0m\n\u001b[1;32m      4\u001b[0m         \u001b[0mtic\u001b[0m \u001b[0;34m=\u001b[0m \u001b[0mtime\u001b[0m\u001b[0;34m.\u001b[0m\u001b[0mtime\u001b[0m\u001b[0;34m(\u001b[0m\u001b[0;34m)\u001b[0m\u001b[0;34m\u001b[0m\u001b[0m\n\u001b[1;32m      5\u001b[0m         \u001b[0mprint\u001b[0m\u001b[0;34m(\u001b[0m\u001b[0;34m'i'\u001b[0m\u001b[0;34m,\u001b[0m\u001b[0mi\u001b[0m\u001b[0;34m)\u001b[0m\u001b[0;34m\u001b[0m\u001b[0m\n\u001b[0;32m----> 6\u001b[0;31m         \u001b[0msolution\u001b[0m \u001b[0;34m=\u001b[0m \u001b[0msolve_knights\u001b[0m\u001b[0;34m(\u001b[0m\u001b[0mi\u001b[0m\u001b[0;34m)\u001b[0m\u001b[0;34m\u001b[0m\u001b[0m\n\u001b[0m\u001b[1;32m      7\u001b[0m         \u001b[0mtoc\u001b[0m \u001b[0;34m=\u001b[0m \u001b[0mtime\u001b[0m\u001b[0;34m.\u001b[0m\u001b[0mtime\u001b[0m\u001b[0;34m(\u001b[0m\u001b[0;34m)\u001b[0m\u001b[0;34m\u001b[0m\u001b[0m\n\u001b[1;32m      8\u001b[0m         \u001b[0mtimes\u001b[0m\u001b[0;34m[\u001b[0m\u001b[0mi\u001b[0m\u001b[0;34m-\u001b[0m\u001b[0mstart\u001b[0m\u001b[0;34m]\u001b[0m \u001b[0;34m=\u001b[0m \u001b[0;34m(\u001b[0m\u001b[0mround\u001b[0m\u001b[0;34m(\u001b[0m\u001b[0;34m(\u001b[0m\u001b[0mtoc\u001b[0m\u001b[0;34m-\u001b[0m\u001b[0mtic\u001b[0m\u001b[0;34m)\u001b[0m\u001b[0;34m/\u001b[0m\u001b[0;36m60\u001b[0m\u001b[0;34m,\u001b[0m\u001b[0;36m3\u001b[0m\u001b[0;34m)\u001b[0m\u001b[0;34m)\u001b[0m\u001b[0;34m\u001b[0m\u001b[0m\n",
      "\u001b[0;32m<ipython-input-89-bd53829a15b4>\u001b[0m in \u001b[0;36msolve_knights\u001b[0;34m(N)\u001b[0m\n\u001b[1;32m     18\u001b[0m \u001b[0;31m#     print(knights)\u001b[0m\u001b[0;34m\u001b[0m\u001b[0;34m\u001b[0m\u001b[0m\n\u001b[1;32m     19\u001b[0m     \u001b[0;32mwhile\u001b[0m \u001b[0msolved\u001b[0m \u001b[0;34m!=\u001b[0m \u001b[0;32mTrue\u001b[0m\u001b[0;34m:\u001b[0m\u001b[0;34m\u001b[0m\u001b[0m\n\u001b[0;32m---> 20\u001b[0;31m         \u001b[0mpermute_combinations\u001b[0m\u001b[0;34m(\u001b[0m\u001b[0mknights\u001b[0m\u001b[0;34m)\u001b[0m\u001b[0;34m\u001b[0m\u001b[0m\n\u001b[0m\u001b[1;32m     21\u001b[0m \u001b[0;31m#         print(knights)\u001b[0m\u001b[0;34m\u001b[0m\u001b[0;34m\u001b[0m\u001b[0m\n\u001b[1;32m     22\u001b[0m         \u001b[0msolved\u001b[0m \u001b[0;34m=\u001b[0m \u001b[0mcheck_configuration\u001b[0m\u001b[0;34m(\u001b[0m\u001b[0mknights\u001b[0m\u001b[0;34m,\u001b[0m\u001b[0mN\u001b[0m\u001b[0;34m)\u001b[0m\u001b[0;34m\u001b[0m\u001b[0m\n",
      "\u001b[0;32m<ipython-input-89-bd53829a15b4>\u001b[0m in \u001b[0;36mpermute_combinations\u001b[0;34m(K)\u001b[0m\n\u001b[1;32m     11\u001b[0m \u001b[0;34m\u001b[0m\u001b[0m\n\u001b[1;32m     12\u001b[0m \u001b[0;32mdef\u001b[0m \u001b[0mpermute_combinations\u001b[0m\u001b[0;34m(\u001b[0m\u001b[0mK\u001b[0m\u001b[0;34m)\u001b[0m\u001b[0;34m:\u001b[0m\u001b[0;34m\u001b[0m\u001b[0m\n\u001b[0;32m---> 13\u001b[0;31m     \u001b[0;32mreturn\u001b[0m \u001b[0mrandom\u001b[0m\u001b[0;34m.\u001b[0m\u001b[0mshuffle\u001b[0m\u001b[0;34m(\u001b[0m\u001b[0mK\u001b[0m\u001b[0;34m)\u001b[0m\u001b[0;34m\u001b[0m\u001b[0m\n\u001b[0m\u001b[1;32m     14\u001b[0m \u001b[0;34m\u001b[0m\u001b[0m\n\u001b[1;32m     15\u001b[0m \u001b[0;32mdef\u001b[0m \u001b[0msolve_knights\u001b[0m\u001b[0;34m(\u001b[0m\u001b[0mN\u001b[0m\u001b[0;34m)\u001b[0m\u001b[0;34m:\u001b[0m\u001b[0;34m\u001b[0m\u001b[0m\n",
      "\u001b[0;32m~/anaconda/envs/datascience/lib/python3.5/random.py\u001b[0m in \u001b[0;36mshuffle\u001b[0;34m(self, x, random)\u001b[0m\n\u001b[1;32m    278\u001b[0m             \u001b[0;32mfor\u001b[0m \u001b[0mi\u001b[0m \u001b[0;32min\u001b[0m \u001b[0mreversed\u001b[0m\u001b[0;34m(\u001b[0m\u001b[0mrange\u001b[0m\u001b[0;34m(\u001b[0m\u001b[0;36m1\u001b[0m\u001b[0;34m,\u001b[0m \u001b[0mlen\u001b[0m\u001b[0;34m(\u001b[0m\u001b[0mx\u001b[0m\u001b[0;34m)\u001b[0m\u001b[0;34m)\u001b[0m\u001b[0;34m)\u001b[0m\u001b[0;34m:\u001b[0m\u001b[0;34m\u001b[0m\u001b[0m\n\u001b[1;32m    279\u001b[0m                 \u001b[0;31m# pick an element in x[:i+1] with which to exchange x[i]\u001b[0m\u001b[0;34m\u001b[0m\u001b[0;34m\u001b[0m\u001b[0m\n\u001b[0;32m--> 280\u001b[0;31m                 \u001b[0mj\u001b[0m \u001b[0;34m=\u001b[0m \u001b[0mrandbelow\u001b[0m\u001b[0;34m(\u001b[0m\u001b[0mi\u001b[0m\u001b[0;34m+\u001b[0m\u001b[0;36m1\u001b[0m\u001b[0;34m)\u001b[0m\u001b[0;34m\u001b[0m\u001b[0m\n\u001b[0m\u001b[1;32m    281\u001b[0m                 \u001b[0mx\u001b[0m\u001b[0;34m[\u001b[0m\u001b[0mi\u001b[0m\u001b[0;34m]\u001b[0m\u001b[0;34m,\u001b[0m \u001b[0mx\u001b[0m\u001b[0;34m[\u001b[0m\u001b[0mj\u001b[0m\u001b[0;34m]\u001b[0m \u001b[0;34m=\u001b[0m \u001b[0mx\u001b[0m\u001b[0;34m[\u001b[0m\u001b[0mj\u001b[0m\u001b[0;34m]\u001b[0m\u001b[0;34m,\u001b[0m \u001b[0mx\u001b[0m\u001b[0;34m[\u001b[0m\u001b[0mi\u001b[0m\u001b[0;34m]\u001b[0m\u001b[0;34m\u001b[0m\u001b[0m\n\u001b[1;32m    282\u001b[0m         \u001b[0;32melse\u001b[0m\u001b[0;34m:\u001b[0m\u001b[0;34m\u001b[0m\u001b[0m\n",
      "\u001b[0;32m~/anaconda/envs/datascience/lib/python3.5/random.py\u001b[0m in \u001b[0;36m_randbelow\u001b[0;34m(self, n, int, maxsize, type, Method, BuiltinMethod)\u001b[0m\n\u001b[1;32m    236\u001b[0m         \u001b[0;31m# has not been overridden or if a new getrandbits() was supplied.\u001b[0m\u001b[0;34m\u001b[0m\u001b[0;34m\u001b[0m\u001b[0m\n\u001b[1;32m    237\u001b[0m         \u001b[0;32mif\u001b[0m \u001b[0mtype\u001b[0m\u001b[0;34m(\u001b[0m\u001b[0mrandom\u001b[0m\u001b[0;34m)\u001b[0m \u001b[0;32mis\u001b[0m \u001b[0mBuiltinMethod\u001b[0m \u001b[0;32mor\u001b[0m \u001b[0mtype\u001b[0m\u001b[0;34m(\u001b[0m\u001b[0mgetrandbits\u001b[0m\u001b[0;34m)\u001b[0m \u001b[0;32mis\u001b[0m \u001b[0mMethod\u001b[0m\u001b[0;34m:\u001b[0m\u001b[0;34m\u001b[0m\u001b[0m\n\u001b[0;32m--> 238\u001b[0;31m             \u001b[0mk\u001b[0m \u001b[0;34m=\u001b[0m \u001b[0mn\u001b[0m\u001b[0;34m.\u001b[0m\u001b[0mbit_length\u001b[0m\u001b[0;34m(\u001b[0m\u001b[0;34m)\u001b[0m  \u001b[0;31m# don't use (n-1) here because n can be 1\u001b[0m\u001b[0;34m\u001b[0m\u001b[0m\n\u001b[0m\u001b[1;32m    239\u001b[0m             \u001b[0mr\u001b[0m \u001b[0;34m=\u001b[0m \u001b[0mgetrandbits\u001b[0m\u001b[0;34m(\u001b[0m\u001b[0mk\u001b[0m\u001b[0;34m)\u001b[0m          \u001b[0;31m# 0 <= r < 2**k\u001b[0m\u001b[0;34m\u001b[0m\u001b[0m\n\u001b[1;32m    240\u001b[0m             \u001b[0;32mwhile\u001b[0m \u001b[0mr\u001b[0m \u001b[0;34m>=\u001b[0m \u001b[0mn\u001b[0m\u001b[0;34m:\u001b[0m\u001b[0;34m\u001b[0m\u001b[0m\n",
      "\u001b[0;31mKeyboardInterrupt\u001b[0m: "
     ]
    }
   ],
   "source": [
    "times = graph_times(2,7)\n",
    "print(times)"
   ]
  },
  {
   "cell_type": "markdown",
   "metadata": {},
   "source": [
    "# Using Math\n",
    "\n",
    "EA clearly isn't the solution, we must narrow down the solutions, or build the solution via math. \n",
    "We will use a set of fibonacci numbers so we can just check whether or not a number is within the set. \n",
    "Also, we need a way to check how many fibonacci numbers there are between two numbers.\n",
    "We could use a decision tree structure to solve potentially.\n",
    "\n",
    "**Given:** \n",
    "- There are always at least 1 number that only has one option to sum up to a fibonacci number, and therefore must be at one of the ends.\n",
    "\n",
    "- This gives us two slots, the number next to the king and the subsequent number.\n",
    "\n",
    "- The number of possibilities for a given number, is equal to the number of remaining fibonacci numbers between the number and the largest number it can make.\n",
    "\n",
    "So we have\n",
    "- The number of fibonacci numbers between the number and the largest number it can make.\n",
    "- The different numbers that could make up those numbers"
   ]
  },
  {
   "cell_type": "markdown",
   "metadata": {},
   "source": [
    "# Building recursive trees\n",
    "\n",
    "Because if we start building the arrangement starting from the end (the one number that only has one possibility), if N (number of knights) is large enough, we will run into situations where we must go through some possibilities logically before we can decide what the final outcome is. In this way, we need to build a decision tree, where at each step we may have 2 or more possibilities (1 clearly we will just take), and traverse down and back up branches when they lead to dead ends. \n",
    "\n",
    "In order to be able to traverse up and down trees, each node that we've created must have all the information necessary to be able to recover prior states.\n",
    "\n",
    "- The max number N\n",
    "- The last number in a row - K[-1] (or K[0] depending which way you want to do it)\n",
    "- The current configuration - K\n",
    "- The fibanacci dictionary (can passed through, or could be modified at each step)\n",
    "- The combination dictionary (\n",
    "- The set of numbers remaining\n",
    "- The set of numbers used so far\n",
    "- The parent\n",
    "- The children are the possible next steps\n",
    "\n",
    "when K reaches length N we are done. Otherwise we should run out of options during the building phase.\n",
    "\n",
    "When we return to the parent, we need to remove that possibility we just researched\n"
   ]
  },
  {
   "cell_type": "code",
   "execution_count": null,
   "metadata": {
    "collapsed": true
   },
   "outputs": [],
   "source": [
    "class Node(object):\n",
    "    def __init__(self,parent,unused,used,N,K,fib_dict,combo_dict):\n",
    "        self.parent = parent\n",
    "        self.used = used\n",
    "        self.unused = unused\n",
    "        self.N = N\n",
    "        self.K = K\n",
    "        self.fib_dict = fib_dict\n",
    "        self.combo_dict = combo_dict\n",
    "        # Find the possibilities, \n",
    "        self.possbilities = [value for value in combo_dict[K[-1]] if value not in used]\n",
    "    \n",
    "    @staticmethod\n",
    "    def search_tree(node,came_from,solution)\n",
    "        if node.possbilities:\n",
    "            # Create the children\n",
    "            for num in self.possbilities:\n",
    "                Node()\n",
    "        else:\n",
    "            # check if solved, else return to parent\n",
    "            if len(K) == N:\n",
    "                # Solved\n",
    "                return node.parent,\n",
    "        \n",
    "                "
   ]
  },
  {
   "cell_type": "code",
   "execution_count": null,
   "metadata": {
    "collapsed": true
   },
   "outputs": [],
   "source": [
    "def recursive_tree_search(parent,unused,used,N,K,fib_dict,combo_dict):\n",
    "    pass"
   ]
  },
  {
   "cell_type": "code",
   "execution_count": 1172,
   "metadata": {},
   "outputs": [],
   "source": [
    "# Need to make this search v efficient\n",
    "# Could wait until i find the two most adjacent numbers to A and then recreate the fib sequence\n",
    "def fibs_between_numbers2(A,N,fibs):\n",
    "    # greater than A, equal to or less than B\n",
    "    nums = np.arange(A+1,A+N+1)\n",
    "    fib_array = []\n",
    "    for num in nums:\n",
    "        if num in fibs:\n",
    "            fib_array.append(num)\n",
    "    print('fib_array',fib_array)\n",
    "    return np.array(fib_array,dtype=np.int64)\n",
    "\n",
    "# Combinations of numbers that could make up the remaining fibs\n",
    "def numbers_to_fibs(A,fibs_remaining):\n",
    "    step = np.full(fibs_remaining.shape,A)\n",
    "    print('step,fibs_remaining',step,fibs_remaining)\n",
    "    return np.subtract(fibs_remaining,step)\n",
    "\n",
    "def find_fib_knights(N):\n",
    "    fib = fib_set(N)\n",
    "    K = list(range(1,N+1))\n",
    "    # Create dict of key (number): value (fibs remaining,values that make those fibs)\n",
    "    knight_dict = {} \n",
    "    endtable_dict = {}\n",
    "    used = set()\n",
    "    for num in range(1,N+1):\n",
    "        fibs = fibs_between_numbers(num,N,fib)\n",
    "        candidates = numbers_to_fibs(num,fibs)\n",
    "        knight_dict[num] = (fibs,candidates)\n",
    "        if fibs.shape[0] == 1:\n",
    "            endtable_dict[num] = (fibs,candidates)\n",
    "    print('knight_dict',knight_dict)\n",
    "    print('endtable_dict',endtable_dict)\n",
    "    # Now we build the array\n",
    "#     print(endtable_dict.keys())\n",
    "    end = list(endtable_dict)[0]\n",
    "    penultimate = int(endtable_dict[end][1])\n",
    "    K[-1] = end\n",
    "    K[-2] = penultimate\n",
    "    index = -3\n",
    "    previous_value = int(penultimate)\n",
    "    used.add(end)\n",
    "    used.add(penultimate)\n",
    "    print('initial K',K)\n",
    "    print('previous_value',previous_value)\n",
    "    # Probably have to use trees at this point and find which series of possibilities works\n",
    "    while abs(index) != N+1:\n",
    "        next_value = [value for value in knight_dict[previous_value][1] if value not in used]\n",
    "        print('next_value',next_value)\n",
    "        if len(next_value) == 1:\n",
    "            next_value = next_value[0]\n",
    "        else:\n",
    "            # explore the possibilities\n",
    "            next_value = next_value[0]\n",
    "        K[index] = next_value\n",
    "        previous_value = next_value\n",
    "        used.add(next_value)\n",
    "        index -= 1\n",
    "        print('previous_value',previous_value)\n",
    "        print('knight_dict[previous_value][1]',knight_dict[previous_value][1])\n",
    "    print('K',K)\n",
    "    "
   ]
  },
  {
   "cell_type": "code",
   "execution_count": 1173,
   "metadata": {
    "collapsed": true
   },
   "outputs": [],
   "source": [
    "N = 7"
   ]
  },
  {
   "cell_type": "code",
   "execution_count": 1174,
   "metadata": {},
   "outputs": [
    {
     "name": "stdout",
     "output_type": "stream",
     "text": [
      "A,N,N+A,fibs 1 7 8 {1, 2, 3, 5, 8, 13}\n"
     ]
    },
    {
     "ename": "TypeError",
     "evalue": "unorderable types: set() > int()",
     "output_type": "error",
     "traceback": [
      "\u001b[0;31m---------------------------------------------------------------------------\u001b[0m",
      "\u001b[0;31mTypeError\u001b[0m                                 Traceback (most recent call last)",
      "\u001b[0;32m<ipython-input-1174-8aba1780a72e>\u001b[0m in \u001b[0;36m<module>\u001b[0;34m()\u001b[0m\n\u001b[0;32m----> 1\u001b[0;31m \u001b[0mfind_fib_knights\u001b[0m\u001b[0;34m(\u001b[0m\u001b[0mN\u001b[0m\u001b[0;34m)\u001b[0m\u001b[0;34m\u001b[0m\u001b[0m\n\u001b[0m",
      "\u001b[0;32m<ipython-input-1172-b3ff6aa1c2fe>\u001b[0m in \u001b[0;36mfind_fib_knights\u001b[0;34m(N)\u001b[0m\n\u001b[1;32m     25\u001b[0m     \u001b[0mused\u001b[0m \u001b[0;34m=\u001b[0m \u001b[0mset\u001b[0m\u001b[0;34m(\u001b[0m\u001b[0;34m)\u001b[0m\u001b[0;34m\u001b[0m\u001b[0m\n\u001b[1;32m     26\u001b[0m     \u001b[0;32mfor\u001b[0m \u001b[0mnum\u001b[0m \u001b[0;32min\u001b[0m \u001b[0mrange\u001b[0m\u001b[0;34m(\u001b[0m\u001b[0;36m1\u001b[0m\u001b[0;34m,\u001b[0m\u001b[0mN\u001b[0m\u001b[0;34m+\u001b[0m\u001b[0;36m1\u001b[0m\u001b[0;34m)\u001b[0m\u001b[0;34m:\u001b[0m\u001b[0;34m\u001b[0m\u001b[0m\n\u001b[0;32m---> 27\u001b[0;31m         \u001b[0mfibs\u001b[0m \u001b[0;34m=\u001b[0m \u001b[0mfibs_between_numbers\u001b[0m\u001b[0;34m(\u001b[0m\u001b[0mnum\u001b[0m\u001b[0;34m,\u001b[0m\u001b[0mN\u001b[0m\u001b[0;34m,\u001b[0m\u001b[0mfib\u001b[0m\u001b[0;34m)\u001b[0m\u001b[0;34m\u001b[0m\u001b[0m\n\u001b[0m\u001b[1;32m     28\u001b[0m         \u001b[0mcandidates\u001b[0m \u001b[0;34m=\u001b[0m \u001b[0mnumbers_to_fibs\u001b[0m\u001b[0;34m(\u001b[0m\u001b[0mnum\u001b[0m\u001b[0;34m,\u001b[0m\u001b[0mfibs\u001b[0m\u001b[0;34m)\u001b[0m\u001b[0;34m\u001b[0m\u001b[0m\n\u001b[1;32m     29\u001b[0m         \u001b[0mknight_dict\u001b[0m\u001b[0;34m[\u001b[0m\u001b[0mnum\u001b[0m\u001b[0;34m]\u001b[0m \u001b[0;34m=\u001b[0m \u001b[0;34m(\u001b[0m\u001b[0mfibs\u001b[0m\u001b[0;34m,\u001b[0m\u001b[0mcandidates\u001b[0m\u001b[0;34m)\u001b[0m\u001b[0;34m\u001b[0m\u001b[0m\n",
      "\u001b[0;32m<ipython-input-1092-fc183ca4fd60>\u001b[0m in \u001b[0;36mfibs_between_numbers\u001b[0;34m(A, N, fibs)\u001b[0m\n\u001b[1;32m     13\u001b[0m \u001b[0;32mdef\u001b[0m \u001b[0mfibs_between_numbers\u001b[0m\u001b[0;34m(\u001b[0m\u001b[0mA\u001b[0m\u001b[0;34m,\u001b[0m\u001b[0mN\u001b[0m\u001b[0;34m,\u001b[0m\u001b[0mfibs\u001b[0m\u001b[0;34m)\u001b[0m\u001b[0;34m:\u001b[0m\u001b[0;34m\u001b[0m\u001b[0m\n\u001b[1;32m     14\u001b[0m     \u001b[0mprint\u001b[0m\u001b[0;34m(\u001b[0m\u001b[0;34m'A,N,N+A,fibs'\u001b[0m\u001b[0;34m,\u001b[0m\u001b[0mA\u001b[0m\u001b[0;34m,\u001b[0m\u001b[0mN\u001b[0m\u001b[0;34m,\u001b[0m\u001b[0mN\u001b[0m\u001b[0;34m+\u001b[0m\u001b[0mA\u001b[0m\u001b[0;34m,\u001b[0m\u001b[0mfibs\u001b[0m\u001b[0;34m)\u001b[0m\u001b[0;34m\u001b[0m\u001b[0m\n\u001b[0;32m---> 15\u001b[0;31m     \u001b[0mmask\u001b[0m \u001b[0;34m=\u001b[0m \u001b[0mnp\u001b[0m\u001b[0;34m.\u001b[0m\u001b[0mlogical_and\u001b[0m\u001b[0;34m(\u001b[0m\u001b[0mfibs\u001b[0m \u001b[0;34m>\u001b[0m \u001b[0mA\u001b[0m\u001b[0;34m,\u001b[0m\u001b[0mfibs\u001b[0m \u001b[0;34m<=\u001b[0m \u001b[0mN\u001b[0m\u001b[0;34m+\u001b[0m\u001b[0mA\u001b[0m\u001b[0;34m,\u001b[0m\u001b[0mfibs\u001b[0m \u001b[0;34m/\u001b[0m \u001b[0mA\u001b[0m \u001b[0;34m!=\u001b[0m \u001b[0;36m2\u001b[0m\u001b[0;34m)\u001b[0m\u001b[0;34m\u001b[0m\u001b[0m\n\u001b[0m\u001b[1;32m     16\u001b[0m     \u001b[0mprint\u001b[0m\u001b[0;34m(\u001b[0m\u001b[0;34m'fibs[mask]'\u001b[0m\u001b[0;34m,\u001b[0m\u001b[0mfibs\u001b[0m\u001b[0;34m[\u001b[0m\u001b[0mmask\u001b[0m\u001b[0;34m]\u001b[0m\u001b[0;34m)\u001b[0m\u001b[0;34m\u001b[0m\u001b[0m\n\u001b[1;32m     17\u001b[0m     \u001b[0;32mreturn\u001b[0m \u001b[0mfibs\u001b[0m\u001b[0;34m[\u001b[0m\u001b[0mmask\u001b[0m\u001b[0;34m]\u001b[0m\u001b[0;34m\u001b[0m\u001b[0m\n",
      "\u001b[0;31mTypeError\u001b[0m: unorderable types: set() > int()"
     ]
    }
   ],
   "source": [
    "find_fib_knights(N)"
   ]
  },
  {
   "cell_type": "code",
   "execution_count": 1175,
   "metadata": {},
   "outputs": [
    {
     "name": "stdout",
     "output_type": "stream",
     "text": [
      "A,N,N+A,fibs 2 7 9 {1, 2, 3, 5, 8, 13}\n"
     ]
    },
    {
     "ename": "TypeError",
     "evalue": "unorderable types: set() > int()",
     "output_type": "error",
     "traceback": [
      "\u001b[0;31m---------------------------------------------------------------------------\u001b[0m",
      "\u001b[0;31mTypeError\u001b[0m                                 Traceback (most recent call last)",
      "\u001b[0;32m<ipython-input-1175-ac6537187f9c>\u001b[0m in \u001b[0;36m<module>\u001b[0;34m()\u001b[0m\n\u001b[1;32m      1\u001b[0m \u001b[0mcurrent_number\u001b[0m \u001b[0;34m=\u001b[0m \u001b[0;36m2\u001b[0m\u001b[0;34m\u001b[0m\u001b[0m\n\u001b[0;32m----> 2\u001b[0;31m \u001b[0mfib_array\u001b[0m \u001b[0;34m=\u001b[0m \u001b[0mfibs_between_numbers\u001b[0m\u001b[0;34m(\u001b[0m\u001b[0mcurrent_number\u001b[0m\u001b[0;34m,\u001b[0m\u001b[0mN\u001b[0m\u001b[0;34m,\u001b[0m\u001b[0mfib\u001b[0m\u001b[0;34m)\u001b[0m\u001b[0;34m\u001b[0m\u001b[0m\n\u001b[0m\u001b[1;32m      3\u001b[0m \u001b[0mprint\u001b[0m\u001b[0;34m(\u001b[0m\u001b[0;34m'remaining_fibs,fib_array '\u001b[0m\u001b[0;34m,\u001b[0m\u001b[0mremaining_fibs\u001b[0m\u001b[0;34m,\u001b[0m\u001b[0mfib_array\u001b[0m \u001b[0;34m)\u001b[0m\u001b[0;34m\u001b[0m\u001b[0m\n\u001b[1;32m      4\u001b[0m \u001b[0mnumbers_to_fibs\u001b[0m\u001b[0;34m(\u001b[0m\u001b[0;36m2\u001b[0m\u001b[0;34m,\u001b[0m\u001b[0mfib_array\u001b[0m\u001b[0;34m)\u001b[0m\u001b[0;34m\u001b[0m\u001b[0m\n",
      "\u001b[0;32m<ipython-input-1092-fc183ca4fd60>\u001b[0m in \u001b[0;36mfibs_between_numbers\u001b[0;34m(A, N, fibs)\u001b[0m\n\u001b[1;32m     13\u001b[0m \u001b[0;32mdef\u001b[0m \u001b[0mfibs_between_numbers\u001b[0m\u001b[0;34m(\u001b[0m\u001b[0mA\u001b[0m\u001b[0;34m,\u001b[0m\u001b[0mN\u001b[0m\u001b[0;34m,\u001b[0m\u001b[0mfibs\u001b[0m\u001b[0;34m)\u001b[0m\u001b[0;34m:\u001b[0m\u001b[0;34m\u001b[0m\u001b[0m\n\u001b[1;32m     14\u001b[0m     \u001b[0mprint\u001b[0m\u001b[0;34m(\u001b[0m\u001b[0;34m'A,N,N+A,fibs'\u001b[0m\u001b[0;34m,\u001b[0m\u001b[0mA\u001b[0m\u001b[0;34m,\u001b[0m\u001b[0mN\u001b[0m\u001b[0;34m,\u001b[0m\u001b[0mN\u001b[0m\u001b[0;34m+\u001b[0m\u001b[0mA\u001b[0m\u001b[0;34m,\u001b[0m\u001b[0mfibs\u001b[0m\u001b[0;34m)\u001b[0m\u001b[0;34m\u001b[0m\u001b[0m\n\u001b[0;32m---> 15\u001b[0;31m     \u001b[0mmask\u001b[0m \u001b[0;34m=\u001b[0m \u001b[0mnp\u001b[0m\u001b[0;34m.\u001b[0m\u001b[0mlogical_and\u001b[0m\u001b[0;34m(\u001b[0m\u001b[0mfibs\u001b[0m \u001b[0;34m>\u001b[0m \u001b[0mA\u001b[0m\u001b[0;34m,\u001b[0m\u001b[0mfibs\u001b[0m \u001b[0;34m<=\u001b[0m \u001b[0mN\u001b[0m\u001b[0;34m+\u001b[0m\u001b[0mA\u001b[0m\u001b[0;34m,\u001b[0m\u001b[0mfibs\u001b[0m \u001b[0;34m/\u001b[0m \u001b[0mA\u001b[0m \u001b[0;34m!=\u001b[0m \u001b[0;36m2\u001b[0m\u001b[0;34m)\u001b[0m\u001b[0;34m\u001b[0m\u001b[0m\n\u001b[0m\u001b[1;32m     16\u001b[0m     \u001b[0mprint\u001b[0m\u001b[0;34m(\u001b[0m\u001b[0;34m'fibs[mask]'\u001b[0m\u001b[0;34m,\u001b[0m\u001b[0mfibs\u001b[0m\u001b[0;34m[\u001b[0m\u001b[0mmask\u001b[0m\u001b[0;34m]\u001b[0m\u001b[0;34m)\u001b[0m\u001b[0;34m\u001b[0m\u001b[0m\n\u001b[1;32m     17\u001b[0m     \u001b[0;32mreturn\u001b[0m \u001b[0mfibs\u001b[0m\u001b[0;34m[\u001b[0m\u001b[0mmask\u001b[0m\u001b[0;34m]\u001b[0m\u001b[0;34m\u001b[0m\u001b[0m\n",
      "\u001b[0;31mTypeError\u001b[0m: unorderable types: set() > int()"
     ]
    }
   ],
   "source": [
    "current_number = 2\n",
    "fib_array = fibs_between_numbers(current_number,N,fib)\n",
    "print('remaining_fibs,fib_array ',remaining_fibs,fib_array )\n",
    "numbers_to_fibs(2,fib_array)"
   ]
  },
  {
   "cell_type": "code",
   "execution_count": 1176,
   "metadata": {},
   "outputs": [
    {
     "name": "stdout",
     "output_type": "stream",
     "text": [
      "[1 2 3 4 5]\n"
     ]
    }
   ],
   "source": [
    "print(K)"
   ]
  },
  {
   "cell_type": "markdown",
   "metadata": {},
   "source": [
    "# Solving the Fibonacci Knights\n",
    "\n",
    "1. First we calculate all the needed fibonacci numbers\n",
    "2. then we start from the biggest number and iterate backwards until we find a number that only has one possibility\n",
    "3. we slot that into the end of the array\n",
    "4. slot the other possibility into the next position (working right to left)\n",
    "5. Then we take the max possibility of the next number and slot that in\n",
    "6. repeat 5\n",
    "\n",
    "Surprisingly we can always take the max. This dramatically scales the problem down. We still need to check it vs what has already been used. This will be a set however so it will be quick.\n",
    "\n",
    "**Update**\n",
    "*So initially max worked up until i tried the biggest number and then it failed. It failed because it was converting numbers into floats and then the mathematical operations were failing. Taking the max does always work.*\n",
    "\n",
    "This still resulted in a memory error, because in order to solve for the specific number in that chair, i was working from the otherside, and 89194853094755504 happens to be a very big number. big enough that you can't add all of those numbers to a used set. Which means, baring using some fancy memory storage things, i really should just be working from the other side. So now the idea is to seed the end of the array, and then start from the left side and see if always taking the max still works.\n",
    "\n",
    "\n",
    "Which brings me to the next insight. When the number N knights is a fibonacci number, there are always two numbers which only have 1 solution and therefore must cap both ends. So i'm hoping via this method, instead of going 89194853094755504 steps from the right, i only have to go 1e+15 from the left.  \n"
   ]
  },
  {
   "cell_type": "code",
   "execution_count": 4,
   "metadata": {},
   "outputs": [],
   "source": [
    "def s_fib(N):\n",
    "    l = [0,1]\n",
    "    while l[-2]+l[-1] < N:\n",
    "        l.append(l[-2]+l[-1])\n",
    "    return set(l)\n",
    "\n",
    "def a_fib(N):\n",
    "    l = [0,1]\n",
    "    while l[-2]+l[-1] < N:\n",
    "        l.append(l[-2]+l[-1])\n",
    "    return np.array(l[2:])"
   ]
  },
  {
   "cell_type": "markdown",
   "metadata": {},
   "source": [
    "## Node class\n",
    "\n",
    "For handling recursive tree search"
   ]
  },
  {
   "cell_type": "code",
   "execution_count": 5,
   "metadata": {},
   "outputs": [],
   "source": [
    "class Node(object):\n",
    "    def __init__(self,solution,N,chair,used,parent,fib_arr):\n",
    "        self.N = N\n",
    "        self.chair = chair\n",
    "        self.used = used\n",
    "        self.solution = solution\n",
    "        self.parent = parent\n",
    "        self.children = dict()\n",
    "        self.poss_nums = []\n",
    "        if parent:\n",
    "            parent.add_child(self,solution[-1])\n",
    "#         print('solution',solution)\n",
    "#         print('used',used)\n",
    "        self.poss_fibs = Node.fibs_between(solution[-1],N,fib_arr)\n",
    "#         print('self.poss_fibs',self.poss_fibs)\n",
    "        temp_nums = np.subtract(self.poss_fibs,np.full(self.poss_fibs.shape[0],solution[-1]))\n",
    "#         print('temp_nums',temp_nums)\n",
    "        for num in temp_nums:\n",
    "            if num not in used:\n",
    "                self.poss_nums.append(num)\n",
    "#         Node.check_end(self)\n",
    "#         print('self.poss_nums',self.poss_nums)\n",
    "    \n",
    "    @staticmethod\n",
    "    def check_end(node):\n",
    "        if len(node.solution) == node.N: # node.chair+1\n",
    "            # found solution\n",
    "            print('found solution')\n",
    "            return node.solution\n",
    "        elif not node.poss_nums:\n",
    "            # dead end. delete self from children of parent. And from poss_nums. \n",
    "            # Then run the check for the parent\n",
    "#             print('wrong num')\n",
    "            wrong_num = node.solution[-1]\n",
    "            node.parent.poss_nums.remove(wrong_num)\n",
    "            del node.parent.children[wrong_num]\n",
    "            return Node.check_end(node.parent)\n",
    "        else:\n",
    "            return node\n",
    "            \n",
    "    @staticmethod\n",
    "    def fibs_between(A,N,fibs):\n",
    "#         print('A,N,N+A,fibs',A,N,N+A,fibs)\n",
    "        mask = np.logical_and(fibs > A,fibs <= N+A,fibs / A != 2)\n",
    "#         print('fibs[mask]',fibs[mask])\n",
    "        return fibs[mask]\n",
    "    \n",
    "    def add_child(self,child,num):\n",
    "        self.children[num] = child\n",
    "       \n",
    "    @staticmethod\n",
    "    def max_search(node,fib_arr):\n",
    "#         print('node',len(node.solution))\n",
    "#         if len(node.solution) % 100 == 0:\n",
    "#             print('Solution(len) = {}'.format(len(node.solution)))\n",
    "        next_num = node.solution[-1]\n",
    "        for num in reversed(node.poss_nums):\n",
    "            solution,used = copy.copy(node.solution),copy.deepcopy(node.used)\n",
    "            used.add(num)\n",
    "            child = Node(solution+[num],node.N,node.chair,used,node,fib_arr)\n",
    "            node.add_child(child,num)\n",
    "#         print('node.poss_nums',node.poss_nums)\n",
    "#         print('node.children',node.children)\n",
    "        child = Node.check_end(node.children[node.poss_nums[-1]])\n",
    "#         print('type',type(child))\n",
    "#         print('type',type(child),type(child) == int,type(child) == np.float,type(child) == np.float64)\n",
    "#         if isinstance(child,float) or isinstance(child,int): #list\n",
    "\n",
    "        # found solution\n",
    "        if isinstance(child,list):\n",
    "            return child\n",
    "        else:\n",
    "            # continue the search\n",
    "            return Node.max_search(child,fib_arr)\n",
    "            "
   ]
  },
  {
   "cell_type": "code",
   "execution_count": 6,
   "metadata": {},
   "outputs": [],
   "source": [
    "def solve_knights_TS(N,chair_position):\n",
    "    max_num = N+N #exclusive\n",
    "    print('max_num',max_num)\n",
    "    used = set()\n",
    "    start = time.time()\n",
    "    fib_arr = a_fib(max_num)\n",
    "#     print('fib_arr',fib_arr)\n",
    "    toc = time.time()\n",
    "    print('a_fib took {} seconds'.format(toc-start))\n",
    "    tic = time.time()\n",
    "    end,next_num = first_single(N,max_num,fib_arr)\n",
    "    print('end,next_num',end,next_num)\n",
    "    toc = time.time()\n",
    "    print('first_single took {} seconds'.format(toc-tic))\n",
    "    used.add(end)\n",
    "    used.add(next_num)\n",
    "    solution = [end,next_num]\n",
    "    episode = 0\n",
    "    print('start',solution)\n",
    "    root = Node(solution,N,chair_position,used,None,fib_arr)\n",
    "    solution = Node.max_search(root,fib_arr)\n",
    "    return solution"
   ]
  },
  {
   "cell_type": "markdown",
   "metadata": {},
   "source": [
    "## The Actual numbers for solving"
   ]
  },
  {
   "cell_type": "code",
   "execution_count": 15,
   "metadata": {},
   "outputs": [
    {
     "name": "stdout",
     "output_type": "stream",
     "text": [
      "89194853094755504\n"
     ]
    }
   ],
   "source": [
    "full_N = 99194853094755497\n",
    "chair_position_left = 1e+16\n",
    "chair_position_right = int(full_N - chair_position_left)\n",
    "print(chair_position_right)"
   ]
  },
  {
   "cell_type": "markdown",
   "metadata": {},
   "source": [
    "## Run the solution"
   ]
  },
  {
   "cell_type": "code",
   "execution_count": 8,
   "metadata": {},
   "outputs": [
    {
     "name": "stdout",
     "output_type": "stream",
     "text": [
      "max_num 1220\n",
      "a_fib took 1.9788742065429688e-05 seconds\n",
      "end,next_num 610 377\n",
      "first_single took 0.003765106201171875 seconds\n",
      "start [610, 377]\n",
      "found solution\n",
      "The solution [610, 377, 233, 144, 466, 521, 89, 288, 322, 55, 555, 432, 178, 199, 411, 576, 34, 343, 267, 110, 500, 487, 123, 254, 356, 21, 589, 398, 212, 165, 445, 542, 68, 309, 301, 76, 534, 453, 157, 220, 390, 597, 13, 364, 246, 131, 479, 508, 102, 275, 335, 42, 568, 419, 191, 186, 424, 563, 47, 330, 280, 97, 513, 474, 136, 241, 369, 8, 602, 385, 225, 152, 458, 529, 81, 296, 314, 63, 547, 440, 170, 207, 403, 584, 26, 351, 259, 118, 492, 495, 115, 262, 348, 29, 581, 406, 204, 173, 437, 550, 60, 317, 293, 84, 526, 461, 149, 228, 382, 605, 5, 372, 238, 139, 471, 516, 94, 283, 327, 50, 560, 427, 183, 194, 416, 571, 39, 338, 272, 105, 505, 482, 128, 249, 361, 16, 594, 393, 217, 160, 450, 537, 73, 304, 306, 71, 539, 448, 162, 215, 395, 592, 18, 359, 251, 126, 484, 503, 107, 270, 340, 37, 573, 414, 196, 181, 429, 558, 52, 325, 285, 92, 518, 469, 141, 236, 374, 3, 607, 380, 230, 147, 463, 524, 86, 291, 319, 58, 552, 435, 175, 202, 408, 579, 31, 346, 264, 113, 497, 490, 120, 257, 353, 24, 586, 401, 209, 168, 442, 545, 65, 312, 298, 79, 531, 456, 154, 223, 387, 600, 10, 367, 243, 134, 476, 511, 99, 278, 332, 45, 565, 422, 188, 189, 421, 566, 44, 333, 277, 100, 510, 477, 133, 244, 366, 11, 599, 388, 222, 155, 455, 532, 78, 299, 311, 66, 544, 443, 167, 210, 400, 587, 23, 354, 256, 121, 489, 498, 112, 265, 345, 32, 578, 409, 201, 176, 434, 553, 57, 320, 290, 87, 523, 464, 146, 231, 379, 608, 2, 375, 235, 142, 468, 519, 91, 286, 324, 53, 557, 430, 180, 197, 413, 574, 36, 341, 269, 108, 502, 485, 125, 252, 358, 19, 591, 396, 214, 163, 447, 540, 70, 307, 303, 74, 536, 451, 159, 218, 392, 595, 15, 362, 248, 129, 481, 506, 104, 273, 337, 40, 570, 417, 193, 184, 426, 561, 49, 328, 282, 95, 515, 472, 138, 239, 371, 6, 604, 383, 227, 150, 460, 527, 83, 294, 316, 61, 549, 438, 172, 205, 405, 582, 28, 349, 261, 116, 494, 493, 117, 260, 350, 27, 583, 404, 206, 171, 439, 548, 62, 315, 295, 82, 528, 459, 151, 226, 384, 603, 7, 370, 240, 137, 473, 514, 96, 281, 329, 48, 562, 425, 185, 192, 418, 569, 41, 336, 274, 103, 507, 480, 130, 247, 363, 14, 596, 391, 219, 158, 452, 535, 75, 302, 308, 69, 541, 446, 164, 213, 397, 590, 20, 357, 253, 124, 486, 501, 109, 268, 342, 35, 575, 412, 198, 179, 431, 556, 54, 323, 287, 90, 520, 467, 143, 234, 376, 1, 609, 378, 232, 145, 465, 522, 88, 289, 321, 56, 554, 433, 177, 200, 410, 577, 33, 344, 266, 111, 499, 488, 122, 255, 355, 22, 588, 399, 211, 166, 444, 543, 67, 310, 300, 77, 533, 454, 156, 221, 389, 598, 12, 365, 245, 132, 478, 509, 101, 276, 334, 43, 567, 420, 190, 187, 423, 564, 46, 331, 279, 98, 512, 475, 135, 242, 368, 9, 601, 386, 224, 153, 457, 530, 80, 297, 313, 64, 546, 441, 169, 208, 402, 585, 25, 352, 258, 119, 491, 496, 114, 263, 347, 30, 580, 407, 203, 174, 436, 551, 59, 318, 292, 85, 525, 462, 148, 229, 381, 606, 4, 373, 237, 140, 470, 517, 93, 284, 326, 51, 559, 428, 182, 195, 415, 572, 38, 339, 271, 106, 504, 483, 127, 250, 360, 17, 593, 394, 216, 161, 449, 538, 72, 305] took 0.5383720397949219 seconds\n"
     ]
    }
   ],
   "source": [
    "sys.setrecursionlimit(50000)\n",
    "tic = time.time()\n",
    "solution = solve_knights_TS(610,chair_position_right)\n",
    "toc = time.time()\n",
    "print(\"The solution {} took {} seconds\".format(solution,(toc-tic)))"
   ]
  },
  {
   "cell_type": "code",
   "execution_count": 9,
   "metadata": {},
   "outputs": [],
   "source": [
    "def fibs_between_numbers(A,N,fibs):\n",
    "#     print('A,N,N+A,fibs',A,N,N+A,fibs)\n",
    "    mask = np.logical_and(fibs > A,fibs <= N+A,fibs / A != 2)\n",
    "#     print('fibs[mask]',fibs[mask])\n",
    "    return fibs[mask]\n",
    "\n",
    "def first_single(N,max_num,fib_arr):\n",
    "    index = 0\n",
    "    while index != N:\n",
    "        num_fibs = fibs_between_numbers((N - index),N,fib_arr)\n",
    "        if num_fibs.shape[0] > 1:\n",
    "            pass\n",
    "        else:\n",
    "            return N-index,num_fibs[0]-(N-index)\n",
    "        index += 1\n",
    "\n",
    "# list is populated in reverse order\n",
    "def solve_knights(N,chair_position):\n",
    "    max_num = N+N #exclusive\n",
    "    used = set()\n",
    "    start = time.time()\n",
    "    fib_arr = a_fib(max_num)\n",
    "    end,next_num = first_single(N,max_num,fib_arr)\n",
    "    used.add(end)\n",
    "    used.add(next_num)\n",
    "    solution = [end,next_num]\n",
    "    episode = 0\n",
    "    # compute max possibility\n",
    "    \n",
    "    repeats = next_num\n",
    "    while len(solution) < N: # chair_position+1\n",
    "        poss_fibs = fibs_between_numbers(next_num,N,fib_arr)\n",
    "        poss_nums = np.subtract(poss_fibs,np.full(poss_fibs.shape[0],next_num,dtype=object))\n",
    "#         print('solution',solution)\n",
    "#         print('poss_fibs',poss_fibs)\n",
    "#         print('poss_nums',poss_nums)\n",
    "        for poss in reversed(poss_nums):\n",
    "#             print('poss',poss)\n",
    "            if poss in used:\n",
    "                pass\n",
    "            else:\n",
    "                solution.append(poss)\n",
    "                used.add(poss)\n",
    "                next_num = poss\n",
    "                break\n",
    "        episode += 1\n",
    "        if repeats == solution[-1]:\n",
    "            # stuck\n",
    "            break\n",
    "        else:\n",
    "            repeats = solution[-1]\n",
    "#         if episode % 100000 == 0:\n",
    "#             toc = time.time()\n",
    "#             print(\"Episode {}, len(solution) = {}, time taken so far {} seconds\".format(episode,len(solution),(toc-start)))\n",
    "#             break\n",
    "    return solution#,poss_nums,poss_fibs,used"
   ]
  },
  {
   "cell_type": "code",
   "execution_count": 55,
   "metadata": {},
   "outputs": [],
   "source": [
    "def both_single(N,max_num,fib_arr):\n",
    "    R_end,R_pen = 0,0\n",
    "    index = 0\n",
    "    while index != N:\n",
    "        num_fibs = fibs_between_numbers((N - index),N,fib_arr)\n",
    "        if num_fibs.shape[0] > 1:\n",
    "            pass\n",
    "        else:\n",
    "            return N-index,num_fibs[0]-(N-index)\n",
    "        index += 1\n",
    "\n",
    "def max_search_left(N,L,chair_position):\n",
    "    max_num = N+N #exclusive\n",
    "    used = set()\n",
    "    fib_set = s_fib(max_num)\n",
    "    assert N in fib_set\n",
    "    fib_arr = a_fib(max_num)\n",
    "    end,pen_end = first_single(N,max_num,fib_arr)\n",
    "    used.add(end)\n",
    "    used.add(pen_end)\n",
    "    used.add(L)\n",
    "    solution_right = [pen_end,end]\n",
    "    episode = 0\n",
    "    solution = [L]\n",
    "    # compute max possibility\n",
    "    repeats = L\n",
    "    next_num = L\n",
    "    while len(solution) < N-2: # chair_position+1\n",
    "        poss_fibs = fibs_between_numbers(next_num,N,fib_arr)\n",
    "        poss_nums = np.subtract(poss_fibs,np.full(poss_fibs.shape[0],next_num,dtype=object))\n",
    "#         print('solution',solution)\n",
    "#         print('poss_fibs',poss_fibs)\n",
    "#         print('poss_nums',poss_nums)\n",
    "        for poss in reversed(poss_nums):\n",
    "#             print('poss',poss)\n",
    "            if poss in used:\n",
    "                pass\n",
    "            else:\n",
    "                solution.append(poss)\n",
    "                used.add(poss)\n",
    "                next_num = poss\n",
    "                break\n",
    "        episode += 1\n",
    "        if repeats == solution[-1]:\n",
    "            # stuck\n",
    "            break\n",
    "        else:\n",
    "            repeats = solution[-1]\n",
    "#         if episode % 100000 == 0:\n",
    "#             toc = time.time()\n",
    "#             print(\"Episode {}, len(solution) = {}, time taken so far {} seconds\".format(episode,len(solution),(toc-start)))\n",
    "#             break\n",
    "    return solution+solution_right#,poss_nums,poss_fibs,used"
   ]
  },
  {
   "cell_type": "code",
   "execution_count": 51,
   "metadata": {},
   "outputs": [
    {
     "name": "stdout",
     "output_type": "stream",
     "text": [
      "Fibs took 8.320808410644531e-05 seconds\n",
      "fibs [                1                 2                 3                 5\n",
      "                 8                13                21                34\n",
      "                55                89               144               233\n",
      "               377               610               987              1597\n",
      "              2584              4181              6765             10946\n",
      "             17711             28657             46368             75025\n",
      "            121393            196418            317811            514229\n",
      "            832040           1346269           2178309           3524578\n",
      "           5702887           9227465          14930352          24157817\n",
      "          39088169          63245986         102334155         165580141\n",
      "         267914296         433494437         701408733        1134903170\n",
      "        1836311903        2971215073        4807526976        7778742049\n",
      "       12586269025       20365011074       32951280099       53316291173\n",
      "       86267571272      139583862445      225851433717      365435296162\n",
      "      591286729879      956722026041     1548008755920     2504730781961\n",
      "     4052739537881     6557470319842    10610209857723    17167680177565\n",
      "    27777890035288    44945570212853    72723460248141   117669030460994\n",
      "   190392490709135   308061521170129   498454011879264   806515533049393\n",
      "  1304969544928657  2111485077978050  3416454622906707  5527939700884757\n",
      "  8944394323791464 14472334024676221 23416728348467685 37889062373143906\n",
      " 61305790721611591]\n"
     ]
    }
   ],
   "source": [
    "tic = time.time()\n",
    "fibs = a_fib(99194853094755497)\n",
    "toc = time.time()\n",
    "print('Fibs took {} seconds'.format(toc-tic))\n",
    "print('fibs',fibs)"
   ]
  },
  {
   "cell_type": "markdown",
   "metadata": {},
   "source": [
    "## The left side follows the following pattern when N is in the set of fibonacci numbers\n",
    "- 21 : 17\n",
    "- 34 : 17\n",
    "- 55 : 17\n",
    "- 89 : 72\n",
    "- 144 : 72\n",
    "- 233 : 72\n",
    "- 377 : 305\n",
    "- 610: 305\n",
    "- 987: 305\n",
    "- 1597: 1292\n",
    "- 2584: 1292\n",
    "- 4181: 1292\n",
    "\n",
    "Every 4th fibonacci is even starting from 2. And at each of those points and the adjacent points, the left side is 1/2 of the fibnoacci number.\n",
    "\n",
    "The left side = 18944531186571952"
   ]
  },
  {
   "cell_type": "code",
   "execution_count": 52,
   "metadata": {},
   "outputs": [
    {
     "name": "stdout",
     "output_type": "stream",
     "text": [
      "18944531186571952\n"
     ]
    }
   ],
   "source": [
    "print(int(37889062373143906 / 2))"
   ]
  },
  {
   "cell_type": "markdown",
   "metadata": {},
   "source": [
    "# Full inputs for the final solution"
   ]
  },
  {
   "cell_type": "code",
   "execution_count": 53,
   "metadata": {},
   "outputs": [
    {
     "name": "stdout",
     "output_type": "stream",
     "text": [
      "89194853094755504\n"
     ]
    }
   ],
   "source": [
    "full_N = 99194853094755497\n",
    "chair_position_left = 1e+16\n",
    "chair_position_right = int(full_N - chair_position_left)\n",
    "print(chair_position_right)\n",
    "left_start = 18944531186571952"
   ]
  },
  {
   "cell_type": "code",
   "execution_count": 65,
   "metadata": {},
   "outputs": [
    {
     "name": "stdout",
     "output_type": "stream",
     "text": [
      "[34]\n"
     ]
    }
   ],
   "source": [
    "fib_ar = a_fib(144)\n",
    "index = np.where(fib_ar == 34)[0]\n",
    "print(fib_ar[index])"
   ]
  },
  {
   "cell_type": "code",
   "execution_count": 81,
   "metadata": {},
   "outputs": [],
   "source": [
    "def return_left(N):\n",
    "    max_num = N+N #exclusive\n",
    "    fib_set = s_fib(max_num)\n",
    "    assert N in fib_set\n",
    "    if N % 2 == 0:\n",
    "        return int(N / 2)\n",
    "    else:\n",
    "        fib_arr = a_fib(max_num)\n",
    "        index = np.where(fib_arr == N)[0]\n",
    "        print('index',index)\n",
    "        # Check above and below for % 2 == 0\n",
    "        if fib_arr[index+1] % 2 == 0:\n",
    "            return int((fib_arr[index+1] / 2)[0])\n",
    "        else:\n",
    "            return int((fib_arr[index-1] / 2)[0])"
   ]
  },
  {
   "cell_type": "markdown",
   "metadata": {},
   "source": [
    "# For solving from left side (relative to the king)"
   ]
  },
  {
   "cell_type": "code",
   "execution_count": 83,
   "metadata": {},
   "outputs": [
    {
     "name": "stdout",
     "output_type": "stream",
     "text": [
      "left 72\n"
     ]
    }
   ],
   "source": [
    "N = 144\n",
    "left_start = return_left(N)\n",
    "print('left',left_start)\n",
    "tic = time.time()\n",
    "solution = max_search_left(N,left_start,chair_position_left)\n",
    "toc = time.time()\n",
    "print(\"The solution {}, length {}, took {} seconds\".format(solution,len(solution),(toc-tic)))"
   ]
  },
  {
   "cell_type": "markdown",
   "metadata": {},
   "source": [
    "# For solving from right side"
   ]
  },
  {
   "cell_type": "code",
   "execution_count": 59,
   "metadata": {},
   "outputs": [
    {
     "name": "stdout",
     "output_type": "stream",
     "text": [
      "The len(solution) [8, 5, 3, 2, 6, 7, 1, 4] took 0.0003781318664550781 seconds\n"
     ]
    }
   ],
   "source": [
    "N = 8\n",
    "tic = time.time()\n",
    "solution = solve_knights(N,chair_position_right)\n",
    "toc = time.time()\n",
    "print(\"The len(solution) {} took {} seconds\".format(solution,(toc-tic)))"
   ]
  },
  {
   "cell_type": "code",
   "execution_count": null,
   "metadata": {},
   "outputs": [],
   "source": [
    "N = 34\n",
    "times = []\n",
    "tic = time.time()\n",
    "for i in range(2,25):\n",
    "    solution = solve_knights(fibs[i],chair_position_right)\n",
    "    toc = time.time()\n",
    "    times.append(toc-tic)\n",
    "    print(\"The len(solution) {} took {} seconds\".format(len(solution),(toc-tic)))"
   ]
  },
  {
   "cell_type": "code",
   "execution_count": 1277,
   "metadata": {},
   "outputs": [
    {
     "name": "stdout",
     "output_type": "stream",
     "text": [
      "610\n"
     ]
    }
   ],
   "source": [
    "print(len(solution))"
   ]
  },
  {
   "cell_type": "code",
   "execution_count": 1305,
   "metadata": {},
   "outputs": [
    {
     "name": "stdout",
     "output_type": "stream",
     "text": [
      "[0.008240938186645508, 0.009228944778442383, 0.009963035583496094, 0.010827064514160156, 0.012121915817260742, 0.014553070068359375, 0.017168045043945312, 0.020797014236450195, 0.027725934982299805, 0.03654193878173828, 0.05300188064575195, 0.07086586952209473, 0.10274505615234375, 0.14466285705566406, 0.19666600227355957, 0.3020620346069336, 0.42970800399780273, 0.6610820293426514, 0.9948849678039551, 1.488879919052124, 2.2143239974975586, 3.3951809406280518, 5.216418027877808]\n"
     ]
    }
   ],
   "source": [
    "print(times)"
   ]
  },
  {
   "cell_type": "code",
   "execution_count": 1311,
   "metadata": {},
   "outputs": [
    {
     "name": "stdout",
     "output_type": "stream",
     "text": [
      "196418\n"
     ]
    }
   ],
   "source": [
    "def f(x):\n",
    "    \n",
    "    y = x**2 + b\n",
    "    return y"
   ]
  },
  {
   "cell_type": "code",
   "execution_count": 1309,
   "metadata": {
    "collapsed": true
   },
   "outputs": [],
   "source": [
    "def plot(scores):\n",
    "    # Rolling mean plot\n",
    "    interval = 1\n",
    "    rolling_mean = [np.mean(scores[(slice_*interval):(slice_+1)*interval]) for slice_ in range(math.ceil(len(scores)/interval))]\n",
    "    x_axis = np.arange(len(rolling_mean)) * interval\n",
    "    plt.plot(x_axis, rolling_mean)\n",
    "    plt.ylabel('Score')\n",
    "    plt.xlabel('Episode #')\n",
    "    plt.show()"
   ]
  },
  {
   "cell_type": "code",
   "execution_count": 1310,
   "metadata": {},
   "outputs": [
    {
     "data": {
      "image/png": "[encoded data removed]",
      "text/plain": [
       "<matplotlib.figure.Figure at 0x17e226da0>"
      ]
     },
     "metadata": {},
     "output_type": "display_data"
    }
   ],
   "source": [
    "plot(times)"
   ]
  },
  {
   "cell_type": "code",
   "execution_count": 1323,
   "metadata": {},
   "outputs": [],
   "source": [
    "x = np.arange(23)\n",
    "y = times\n",
    "z = np.polyfit(x,y,4)\n",
    "f = np.poly1d(z)"
   ]
  },
  {
   "cell_type": "code",
   "execution_count": 1326,
   "metadata": {
    "collapsed": true
   },
   "outputs": [],
   "source": [
    "x_new = np.linspace(23,81,50)\n",
    "y_new = f(x_new)"
   ]
  },
  {
   "cell_type": "code",
   "execution_count": 1327,
   "metadata": {},
   "outputs": [
    {
     "data": {
      "image/png": "[encoded data removed]",
      "text/plain": [
       "<matplotlib.figure.Figure at 0x17c594278>"
      ]
     },
     "metadata": {},
     "output_type": "display_data"
    }
   ],
   "source": [
    "plt.plot(x,y,'o',x_new,y_new)\n",
    "plt.show()"
   ]
  },
  {
   "cell_type": "code",
   "execution_count": 1329,
   "metadata": {},
   "outputs": [
    {
     "name": "stdout",
     "output_type": "stream",
     "text": [
      "4400.52957325\n"
     ]
    }
   ],
   "source": [
    "print(f(79))"
   ]
  },
  {
   "cell_type": "code",
   "execution_count": null,
   "metadata": {
    "collapsed": true
   },
   "outputs": [],
   "source": []
  }
 ],
 "metadata": {
  "kernelspec": {
   "display_name": "Python 3",
   "language": "python",
   "name": "python3"
  },
  "language_info": {
   "codemirror_mode": {
    "name": "ipython",
    "version": 3
   },
   "file_extension": ".py",
   "mimetype": "text/x-python",
   "name": "python",
   "nbconvert_exporter": "python",
   "pygments_lexer": "ipython3",
   "version": "3.6.7"
  }
 },
 "nbformat": 4,
 "nbformat_minor": 2
}

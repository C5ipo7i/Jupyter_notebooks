{
 "cells": [
  {
   "cell_type": "code",
   "execution_count": 1133,
   "metadata": {},
   "outputs": [],
   "source": [
    "import math\n",
    "import sys\n",
    "import os\n",
    "import pandas as pd\n",
    "import time\n",
    "import numpy as np\n",
    "import copy\n",
    "import torch.nn.functional as F\n",
    "from torch.utils.data import Dataset, DataLoader\n",
    "from torch.autograd import Variable\n",
    "import torch.nn as nn\n",
    "import torch\n",
    "\n",
    "import matplotlib.pyplot as plt\n",
    "from matplotlib import cm as cm\n",
    "%matplotlib inline\n",
    "\n",
    "from sklearn.model_selection import train_test_split,StratifiedKFold\n",
    "from collections import deque"
   ]
  },
  {
   "cell_type": "markdown",
   "metadata": {},
   "source": [
    "# Exploration of the transformer network\n",
    "\n",
    "d_model = the dimensions of the model"
   ]
  },
  {
   "cell_type": "code",
   "execution_count": 150,
   "metadata": {},
   "outputs": [],
   "source": [
    "class Embedder(nn.Module):\n",
    "    def __init__(self,vocab_size,d_model):\n",
    "        super().__init__()\n",
    "        self.embed = nn.Embedding(vocab_size,d_model)\n",
    "    def forward(self,x):\n",
    "        return self.embed(x)"
   ]
  },
  {
   "cell_type": "code",
   "execution_count": 402,
   "metadata": {},
   "outputs": [],
   "source": [
    "class positionalEncoder(nn.Module):\n",
    "    def __init__(self,d_model, max_seq_len = 80):\n",
    "        super().__init__()\n",
    "        self.d_model = d_model\n",
    "        pe = torch.zeros(maxlen_seq,d_model)\n",
    "        for pos in range(maxlen):\n",
    "            for i in range(0,d_model,2):\n",
    "                pe[pos,i] = pos / math.sin(10000 ** ((2*i)/d_model))\n",
    "                pe[pos,i+1] = pos / math.cos(10000 ** ((2*(i+1))/d_model))\n",
    "        pe.unsqueeze(0)\n",
    "        self.register_buffer('pe',pe)\n",
    "        \n",
    "    def forward(self,x):\n",
    "        x = x * math.sqrt(self.d_model)\n",
    "        seq_len = x.size(1)\n",
    "        x = x + Variable(pe[:,:seq_len],requires_grad=False).cuda()\n",
    "        return x"
   ]
  },
  {
   "cell_type": "code",
   "execution_count": 1,
   "metadata": {},
   "outputs": [],
   "source": [
    "# for pos in range(10):\n",
    "#     for i in range(0,10,2):\n",
    "#         print(pos / math.sin(10000 ** ((2*i))/512))"
   ]
  },
  {
   "cell_type": "markdown",
   "metadata": {},
   "source": [
    "# Input mask"
   ]
  },
  {
   "cell_type": "code",
   "execution_count": null,
   "metadata": {},
   "outputs": [],
   "source": [
    "batch = next(iter(train_iter))\n",
    "input_seq = batch.English.transpose(0,1)\n",
    "input_pad = EN_TEXT.vocab.stoi['<pad>']\n",
    "# creates mask with 0s wherever there is padding in the input\n",
    "input_msk = (input_seq != input_pad).unsqueeze(1)"
   ]
  },
  {
   "cell_type": "markdown",
   "metadata": {},
   "source": [
    "# Target mask"
   ]
  },
  {
   "cell_type": "code",
   "execution_count": null,
   "metadata": {},
   "outputs": [],
   "source": [
    "# create mask as before\n",
    "target_seq = batch.French.transpose(0,1)\n",
    "target_pad = FR_TEXT.vocab.stoi['<pad>']\n",
    "target_msk = (target_seq != target_pad).unsqueeze(1)\n",
    "size = target_seq.size(1) # get seq_len for matrix\n",
    "nopeak_mask = np.triu(np.ones(1, size, size),\n",
    "k=1).astype('uint8')\n",
    "nopeak_mask = Variable(torch.from_numpy(nopeak_mask) == 0)\n",
    "target_msk = target_msk & nopeak_mask"
   ]
  },
  {
   "cell_type": "markdown",
   "metadata": {},
   "source": [
    "# Attention Head"
   ]
  },
  {
   "cell_type": "code",
   "execution_count": 2,
   "metadata": {},
   "outputs": [
    {
     "ename": "NameError",
     "evalue": "name 'nn' is not defined",
     "output_type": "error",
     "traceback": [
      "\u001b[0;31m---------------------------------------------------------------------------\u001b[0m",
      "\u001b[0;31mNameError\u001b[0m                                 Traceback (most recent call last)",
      "\u001b[0;32m<ipython-input-2-4c062158741c>\u001b[0m in \u001b[0;36m<module>\u001b[0;34m\u001b[0m\n\u001b[0;32m----> 1\u001b[0;31m \u001b[0;32mclass\u001b[0m \u001b[0mMultiHeadAttention\u001b[0m\u001b[0;34m(\u001b[0m\u001b[0mnn\u001b[0m\u001b[0;34m.\u001b[0m\u001b[0mModule\u001b[0m\u001b[0;34m)\u001b[0m\u001b[0;34m:\u001b[0m\u001b[0;34m\u001b[0m\u001b[0;34m\u001b[0m\u001b[0m\n\u001b[0m\u001b[1;32m      2\u001b[0m     \u001b[0;32mdef\u001b[0m \u001b[0m__init__\u001b[0m\u001b[0;34m(\u001b[0m\u001b[0mself\u001b[0m\u001b[0;34m,\u001b[0m \u001b[0mheads\u001b[0m\u001b[0;34m,\u001b[0m \u001b[0md_model\u001b[0m\u001b[0;34m,\u001b[0m \u001b[0mdropout\u001b[0m \u001b[0;34m=\u001b[0m \u001b[0;36m0.1\u001b[0m\u001b[0;34m)\u001b[0m\u001b[0;34m:\u001b[0m\u001b[0;34m\u001b[0m\u001b[0;34m\u001b[0m\u001b[0m\n\u001b[1;32m      3\u001b[0m         \u001b[0msuper\u001b[0m\u001b[0;34m(\u001b[0m\u001b[0;34m)\u001b[0m\u001b[0;34m.\u001b[0m\u001b[0m__init__\u001b[0m\u001b[0;34m(\u001b[0m\u001b[0;34m)\u001b[0m\u001b[0;34m\u001b[0m\u001b[0;34m\u001b[0m\u001b[0m\n\u001b[1;32m      4\u001b[0m \u001b[0;34m\u001b[0m\u001b[0m\n\u001b[1;32m      5\u001b[0m         \u001b[0mself\u001b[0m\u001b[0;34m.\u001b[0m\u001b[0md_model\u001b[0m \u001b[0;34m=\u001b[0m \u001b[0md_model\u001b[0m\u001b[0;34m\u001b[0m\u001b[0;34m\u001b[0m\u001b[0m\n",
      "\u001b[0;31mNameError\u001b[0m: name 'nn' is not defined"
     ]
    }
   ],
   "source": [
    "class MultiHeadAttention(nn.Module):\n",
    "    def __init__(self, heads, d_model, dropout = 0.1):\n",
    "        super().__init__()\n",
    "        \n",
    "        self.d_model = d_model\n",
    "        self.d_k = d_model // heads\n",
    "        self.h = heads\n",
    "        \n",
    "        self.q_linear = nn.Linear(d_model, d_model)\n",
    "        self.v_linear = nn.Linear(d_model, d_model)\n",
    "        self.k_linear = nn.Linear(d_model, d_model)\n",
    "        self.dropout = nn.Dropout(dropout)\n",
    "        self.out = nn.Linear(d_model, d_model)\n",
    "    \n",
    "    def forward(self, q, k, v, mask=None):\n",
    "        \n",
    "        bs = q.size(0)\n",
    "        \n",
    "        # perform linear operation and split into h heads\n",
    "        \n",
    "        k = self.k_linear(k).view(bs, -1, self.h, self.d_k)\n",
    "        q = self.q_linear(q).view(bs, -1, self.h, self.d_k)\n",
    "        v = self.v_linear(v).view(bs, -1, self.h, self.d_k)\n",
    "        \n",
    "        # transpose to get dimensions bs * h * sl * d_model\n",
    "       \n",
    "        k = k.transpose(1,2)\n",
    "        q = q.transpose(1,2)\n",
    "        v = v.transpose(1,2)\n",
    "# calculate attention using function we will define next\n",
    "        scores = attention(q, k, v, self.d_k, mask, self.dropout)\n",
    "        \n",
    "        # concatenate heads and put through final linear layer\n",
    "        concat = scores.transpose(1,2).contiguous()\\\n",
    "        .view(bs, -1, self.d_model)\n",
    "        \n",
    "        output = self.out(concat)\n",
    "    \n",
    "        return output"
   ]
  },
  {
   "cell_type": "code",
   "execution_count": null,
   "metadata": {},
   "outputs": [],
   "source": [
    "def attention(q, k, v, d_k, mask=None, dropout=None):\n",
    "    \n",
    "    scores = torch.matmul(q, k.transpose(-2, -1)) /  math.sqrt(d_k)\n",
    "    if mask is not None:\n",
    "        mask = mask.unsqueeze(1)\n",
    "        scores = scores.masked_fill(mask == 0, -1e9)\n",
    "    scores = F.softmax(scores, dim=-1)\n",
    "    \n",
    "    if dropout is not None:\n",
    "        scores = dropout(scores)\n",
    "        \n",
    "    output = torch.matmul(scores, v)\n",
    "    return output"
   ]
  },
  {
   "cell_type": "code",
   "execution_count": null,
   "metadata": {},
   "outputs": [],
   "source": [
    "class FeedForward(nn.Module):\n",
    "    def __init__(self, d_model, d_ff=2048, dropout = 0.1):\n",
    "        super().__init__() \n",
    "        # We set d_ff as a default to 2048\n",
    "        self.linear_1 = nn.Linear(d_model, d_ff)\n",
    "        self.dropout = nn.Dropout(dropout)\n",
    "        self.linear_2 = nn.Linear(d_ff, d_model)\n",
    "    def forward(self, x):\n",
    "        x = self.dropout(F.relu(self.linear_1(x)))\n",
    "        x = self.linear_2(x)\n",
    "        return x"
   ]
  },
  {
   "cell_type": "code",
   "execution_count": null,
   "metadata": {},
   "outputs": [],
   "source": [
    "class Norm(nn.Module):\n",
    "    def __init__(self, d_model, eps = 1e-6):\n",
    "        super().__init__()\n",
    "    \n",
    "        self.size = d_model\n",
    "        # create two learnable parameters to calibrate normalisation\n",
    "        self.alpha = nn.Parameter(torch.ones(self.size))\n",
    "        self.bias = nn.Parameter(torch.zeros(self.size))\n",
    "        self.eps = eps\n",
    "    def forward(self, x):\n",
    "        norm = self.alpha * (x - x.mean(dim=-1, keepdim=True)) \\\n",
    "        / (x.std(dim=-1, keepdim=True) + self.eps) + self.bias\n",
    "        return norm"
   ]
  },
  {
   "cell_type": "code",
   "execution_count": null,
   "metadata": {},
   "outputs": [],
   "source": [
    "# build an encoder layer with one multi-head attention layer and one # feed-forward layer\n",
    "class EncoderLayer(nn.Module):\n",
    "    def __init__(self, d_model, heads, dropout = 0.1):\n",
    "        super().__init__()\n",
    "        self.norm_1 = Norm(d_model)\n",
    "        self.norm_2 = Norm(d_model)\n",
    "        self.attn = MultiHeadAttention(heads, d_model)\n",
    "        self.ff = FeedForward(d_model)\n",
    "        self.dropout_1 = nn.Dropout(dropout)\n",
    "        self.dropout_2 = nn.Dropout(dropout)\n",
    "        \n",
    "    def forward(self, x, mask):\n",
    "        x2 = self.norm_1(x)\n",
    "        x = x + self.dropout_1(self.attn(x2,x2,x2,mask))\n",
    "        x2 = self.norm_2(x)\n",
    "        x = x + self.dropout_2(self.ff(x2))\n",
    "        return x\n",
    "    \n",
    "# build a decoder layer with two multi-head attention layers and\n",
    "# one feed-forward layer\n",
    "class DecoderLayer(nn.Module):\n",
    "    def __init__(self, d_model, heads, dropout=0.1):\n",
    "        super().__init__()\n",
    "        self.norm_1 = Norm(d_model)\n",
    "        self.norm_2 = Norm(d_model)\n",
    "        self.norm_3 = Norm(d_model)\n",
    "        \n",
    "        self.dropout_1 = nn.Dropout(dropout)\n",
    "        self.dropout_2 = nn.Dropout(dropout)\n",
    "        self.dropout_3 = nn.Dropout(dropout)\n",
    "        \n",
    "        self.attn_1 = MultiHeadAttention(heads, d_model)\n",
    "        self.attn_2 = MultiHeadAttention(heads, d_model)\n",
    "        self.ff = FeedForward(d_model).cuda()\n",
    "def forward(self, x, e_outputs, src_mask, trg_mask):\n",
    "        x2 = self.norm_1(x)\n",
    "        x = x + self.dropout_1(self.attn_1(x2, x2, x2, trg_mask))\n",
    "        x2 = self.norm_2(x)\n",
    "        x = x + self.dropout_2(self.attn_2(x2, e_outputs, e_outputs,\n",
    "        src_mask))\n",
    "        x2 = self.norm_3(x)\n",
    "        x = x + self.dropout_3(self.ff(x2))\n",
    "        return x\n",
    "# We can then build a convenient cloning function that can generate multiple layers:\n",
    "def get_clones(module, N):\n",
    "    return nn.ModuleList([copy.deepcopy(module) for i in range(N)])"
   ]
  },
  {
   "cell_type": "code",
   "execution_count": null,
   "metadata": {},
   "outputs": [],
   "source": [
    "class Encoder(nn.Module):\n",
    "    def __init__(self, vocab_size, d_model, N, heads):\n",
    "        super().__init__()\n",
    "        self.N = N\n",
    "        self.embed = Embedder(vocab_size, d_model)\n",
    "        self.pe = PositionalEncoder(d_model)\n",
    "        self.layers = get_clones(EncoderLayer(d_model, heads), N)\n",
    "        self.norm = Norm(d_model)\n",
    "    def forward(self, src, mask):\n",
    "        x = self.embed(src)\n",
    "        x = self.pe(x)\n",
    "        for i in range(N):\n",
    "            x = self.layers[i](x, mask)\n",
    "        return self.norm(x)\n",
    "    \n",
    "class Decoder(nn.Module):\n",
    "    def __init__(self, vocab_size, d_model, N, heads):\n",
    "        super().__init__()\n",
    "        self.N = N\n",
    "        self.embed = Embedder(vocab_size, d_model)\n",
    "        self.pe = PositionalEncoder(d_model)\n",
    "        self.layers = get_clones(DecoderLayer(d_model, heads), N)\n",
    "        self.norm = Norm(d_model)\n",
    "    def forward(self, trg, e_outputs, src_mask, trg_mask):\n",
    "        x = self.embed(trg)\n",
    "        x = self.pe(x)\n",
    "        for i in range(self.N):\n",
    "            x = self.layers[i](x, e_outputs, src_mask, trg_mask)\n",
    "        return self.norm(x)"
   ]
  },
  {
   "cell_type": "code",
   "execution_count": null,
   "metadata": {},
   "outputs": [],
   "source": [
    "class Transformer(nn.Module):\n",
    "    def __init__(self, src_vocab, trg_vocab, d_model, N, heads):\n",
    "        super().__init__()\n",
    "        self.encoder = Encoder(src_vocab, d_model, N, heads)\n",
    "        self.decoder = Decoder(trg_vocab, d_model, N, heads)\n",
    "        self.out = nn.Linear(d_model, trg_vocab)\n",
    "    def forward(self, src, trg, src_mask, trg_mask):\n",
    "        e_outputs = self.encoder(src, src_mask)\n",
    "        d_output = self.decoder(trg, e_outputs, src_mask, trg_mask)\n",
    "        output = self.out(d_output)\n",
    "        return output\n",
    "# we don't perform softmax on the output as this will be handled \n",
    "# automatically by our loss function"
   ]
  },
  {
   "cell_type": "code",
   "execution_count": null,
   "metadata": {},
   "outputs": [],
   "source": [
    "d_model = 512\n",
    "heads = 8\n",
    "N = 6\n",
    "src_vocab = len(EN_TEXT.vocab)\n",
    "trg_vocab = len(FR_TEXT.vocab)\n",
    "model = Transformer(src_vocab, trg_vocab, d_model, N, heads)\n",
    "for p in model.parameters():\n",
    "    if p.dim() > 1:\n",
    "        nn.init.xavier_uniform_(p)\n",
    "# this code is very important! It initialises the parameters with a\n",
    "# range of values that stops the signal fading or getting too big.\n",
    "# See this blog for a mathematical explanation.\n",
    "optim = torch.optim.Adam(model.parameters(), lr=0.0001, betas=(0.9, 0.98), eps=1e-9)"
   ]
  },
  {
   "cell_type": "code",
   "execution_count": null,
   "metadata": {},
   "outputs": [],
   "source": [
    "def train_model(epochs, print_every=100):\n",
    "    \n",
    "    model.train()\n",
    "    \n",
    "    start = time.time()\n",
    "    temp = start\n",
    "    \n",
    "    total_loss = 0\n",
    "    \n",
    "    for epoch in range(epochs):\n",
    "       \n",
    "        for i, batch in enumerate(train_iter):\n",
    "            src = batch.English.transpose(0,1)\n",
    "            trg = batch.French.transpose(0,1)\n",
    "            # the French sentence we input has all words except\n",
    "            # the last, as it is using each word to predict the next\n",
    "            \n",
    "            trg_input = trg[:, :-1]\n",
    "            \n",
    "            # the words we are trying to predict\n",
    "            \n",
    "            targets = trg[:, 1:].contiguous().view(-1)\n",
    "            \n",
    "            # create function to make masks using mask code above\n",
    "            \n",
    "            src_mask, trg_mask = create_masks(src, trg_input)\n",
    "            \n",
    "            preds = model(src, trg_input, src_mask, trg_mask)\n",
    "            \n",
    "            optim.zero_grad()\n",
    "            \n",
    "            loss = F.cross_entropy(preds.view(-1, preds.size(-1)),\n",
    "            results, ignore_index=target_pad)\n",
    "            loss.backward()\n",
    "            optim.step()\n",
    "            \n",
    "            total_loss += loss.data[0]\n",
    "            if (i + 1) % print_every == 0:\n",
    "                loss_avg = total_loss / print_every\n",
    "                print(\"time = %dm, epoch %d, iter = %d, loss = %.3f,\n",
    "                %ds per %d iters\" % ((time.time() - start) // 60,\n",
    "                epoch + 1, i + 1, loss_avg, time.time() - temp,\n",
    "                print_every)\n",
    "                total_loss = 0\n",
    "                temp = time.time()"
   ]
  },
  {
   "cell_type": "code",
   "execution_count": null,
   "metadata": {},
   "outputs": [],
   "source": [
    "def translate(model, src, max_len = 80, custom_string=False):\n",
    "    \n",
    "    model.eval()\n",
    "    if custom_sentence == True:\n",
    "        src = tokenize_en(src)\n",
    "        sentence=\\\n",
    "        Variable(torch.LongTensor([[EN_TEXT.vocab.stoi[tok] for tok\n",
    "        in sentence]])).cuda()\n",
    "    src_mask = (src != input_pad).unsqueeze(-2)\n",
    "    e_outputs = model.encoder(src, src_mask)\n",
    "    \n",
    "    outputs = torch.zeros(max_len).type_as(src.data)\n",
    "    outputs[0] = torch.LongTensor([FR_TEXT.vocab.stoi['<sos>']])\n",
    "    for i in range(1, max_len):    \n",
    "            \n",
    "        trg_mask = np.triu(np.ones((1, i, i),\n",
    "        k=1).astype('uint8')\n",
    "        trg_mask= Variable(torch.from_numpy(trg_mask) == 0).cuda()\n",
    "        \n",
    "        out = model.out(model.decoder(outputs[:i].unsqueeze(0),\n",
    "        e_outputs, src_mask, trg_mask))\n",
    "        out = F.softmax(out, dim=-1)\n",
    "        val, ix = out[:, -1].data.topk(1)\n",
    "        \n",
    "        outputs[i] = ix[0][0]\n",
    "        if ix[0][0] == FR_TEXT.vocab.stoi['<eos>']:\n",
    "            break\n",
    "    return ' '.join(\n",
    "    [FR_TEXT.vocab.itos[ix] for ix in outputs[:i]]\n",
    "    )"
   ]
  },
  {
   "cell_type": "markdown",
   "metadata": {},
   "source": [
    "# Testing the transformer's performance on a time series dataset\n",
    "\n",
    "Taken from http://www.ercot.com/gridinfo/load/load_hist/\n",
    "\n",
    "### The Data\n",
    "\n",
    "- Label: ERCOT. \n",
    "- Use 2018 as test and 2009-2017 as training\n",
    "- Divide ERCOT by 1000\n",
    "- 1hot encode the day of the week\n",
    "- Keep year and hour the same\n",
    "- 11 Features total\n",
    "- Use previous 24 hours to predict the next 12 hours\n",
    "\n",
    "Year,day,hour,load\n",
    "\n",
    "Don't understand how he had 11 features.\n",
    "Going to try with 3 (Month,Day,Hour) and see how that works.\n"
   ]
  },
  {
   "cell_type": "code",
   "execution_count": 12,
   "metadata": {},
   "outputs": [],
   "source": [
    "folder = '/Users/morgan/Code/Data'"
   ]
  },
  {
   "cell_type": "code",
   "execution_count": 29,
   "metadata": {},
   "outputs": [
    {
     "name": "stdout",
     "output_type": "stream",
     "text": [
      "2010_ERCOT_Hourly_Load_Data.xls\n",
      "2011_ERCOT_Hourly_Load_Data.xls\n",
      "2013_ERCOT_Hourly_Load_Data.xls\n",
      "2009_ERCOT_Hourly_Load_Data.xls\n",
      "2014_ERCOT_Hourly_Load_Data.xls\n",
      "2012_ERCOT_Hourly_Load_Data.xls\n"
     ]
    }
   ],
   "source": [
    "training_set = []\n",
    "test_set = []\n",
    "\n",
    "for excel_file in os.listdir(folder):\n",
    "    if excel_file != '.DS_Store':\n",
    "        print(excel_file)\n",
    "        df = pd.read_excel(folder+'/'+excel_file)\n",
    "        if excel_file == '2014_ERCOT_Hourly_Load_Data.xls':\n",
    "            test_set.append(df)\n",
    "        else:\n",
    "            training_set.append(df)\n",
    "#         df_dict[i] = \n",
    "# self.df_dict = df_dict\n",
    "# df2009 = pd.read_excel('/Users/morgan/Code/Data/2009_ERCOT_Hourly_Load_Data.xls')"
   ]
  },
  {
   "cell_type": "code",
   "execution_count": 34,
   "metadata": {},
   "outputs": [],
   "source": [
    "training_df = pd.concat(training_set,axis=0)\n",
    "test_df = test_set[0]"
   ]
  },
  {
   "cell_type": "code",
   "execution_count": 40,
   "metadata": {},
   "outputs": [
    {
     "name": "stdout",
     "output_type": "stream",
     "text": [
      "TRAINING \n",
      "                  Hour_End        COAST         EAST     FAR_WEST       NORTH  \\\n",
      "0 2010-01-01 01:00:00.003  7775.456846  1238.179861  1237.649967  877.672404   \n",
      "1 2010-01-01 01:59:59.997  7704.815982  1236.050964  1248.907364  883.621724   \n",
      "\n",
      "        NORTH_C     SOUTHERN      SOUTH_C         WEST         ERCOT  \n",
      "0  12405.849409  2467.581039  5031.931981  1059.742927  32094.064435  \n",
      "1  12485.814858  2436.025369  5111.468920  1064.617365  32171.322546  \n",
      "TEST \n",
      "                  Hour_End        COAST         EAST     FAR_WEST       NORTH  \\\n",
      "0 2014-01-01 01:00:00.003  9101.691219  1338.197939  1820.206244  793.458458   \n",
      "1 2014-01-01 01:59:59.997  8907.975782  1328.940064  1809.180861  791.141630   \n",
      "\n",
      "        NORTH_C     SOUTHERN      SOUTH_C         WEST         ERCOT  \n",
      "0  12298.801147  3236.109065  6121.146143  1102.523505  35812.133719  \n",
      "1  12297.109823  3246.493375  6091.018850  1098.774771  35570.635156  \n"
     ]
    }
   ],
   "source": [
    "print('TRAINING \\n',training_df.head(2))\n",
    "print('TEST \\n',test_df.head(2))"
   ]
  },
  {
   "cell_type": "code",
   "execution_count": 37,
   "metadata": {},
   "outputs": [
    {
     "name": "stdout",
     "output_type": "stream",
     "text": [
      "(43824, 10)\n",
      "(8760, 10)\n"
     ]
    }
   ],
   "source": [
    "print(training_df.shape)\n",
    "print(test_df.shape)"
   ]
  },
  {
   "cell_type": "code",
   "execution_count": 85,
   "metadata": {},
   "outputs": [
    {
     "data": {
      "text/html": [
       "<div>\n",
       "<style scoped>\n",
       "    .dataframe tbody tr th:only-of-type {\n",
       "        vertical-align: middle;\n",
       "    }\n",
       "\n",
       "    .dataframe tbody tr th {\n",
       "        vertical-align: top;\n",
       "    }\n",
       "\n",
       "    .dataframe thead th {\n",
       "        text-align: right;\n",
       "    }\n",
       "</style>\n",
       "<table border=\"1\" class=\"dataframe\">\n",
       "  <thead>\n",
       "    <tr style=\"text-align: right;\">\n",
       "      <th></th>\n",
       "      <th>Hour_End</th>\n",
       "      <th>COAST</th>\n",
       "      <th>EAST</th>\n",
       "      <th>FAR_WEST</th>\n",
       "      <th>NORTH</th>\n",
       "      <th>NORTH_C</th>\n",
       "      <th>SOUTHERN</th>\n",
       "      <th>SOUTH_C</th>\n",
       "      <th>WEST</th>\n",
       "      <th>ERCOT</th>\n",
       "    </tr>\n",
       "  </thead>\n",
       "  <tbody>\n",
       "    <tr>\n",
       "      <th>0</th>\n",
       "      <td>2012-01-01 01:00:00.003</td>\n",
       "      <td>7748.160500</td>\n",
       "      <td>878.438488</td>\n",
       "      <td>1289.746813</td>\n",
       "      <td>652.153054</td>\n",
       "      <td>8648.989316</td>\n",
       "      <td>2105.379142</td>\n",
       "      <td>4162.162310</td>\n",
       "      <td>849.000892</td>\n",
       "      <td>26334.030515</td>\n",
       "    </tr>\n",
       "    <tr>\n",
       "      <th>1</th>\n",
       "      <td>2012-01-01 01:59:59.997</td>\n",
       "      <td>7559.728089</td>\n",
       "      <td>839.092904</td>\n",
       "      <td>1294.272245</td>\n",
       "      <td>643.483530</td>\n",
       "      <td>8553.212708</td>\n",
       "      <td>2047.755534</td>\n",
       "      <td>4070.416593</td>\n",
       "      <td>845.097363</td>\n",
       "      <td>25853.058967</td>\n",
       "    </tr>\n",
       "    <tr>\n",
       "      <th>2</th>\n",
       "      <td>2012-01-01 03:00:00.000</td>\n",
       "      <td>7337.789042</td>\n",
       "      <td>817.995707</td>\n",
       "      <td>1296.491345</td>\n",
       "      <td>631.940923</td>\n",
       "      <td>8461.317967</td>\n",
       "      <td>1961.909818</td>\n",
       "      <td>3946.994332</td>\n",
       "      <td>840.902848</td>\n",
       "      <td>25295.341984</td>\n",
       "    </tr>\n",
       "    <tr>\n",
       "      <th>3</th>\n",
       "      <td>2012-01-01 04:00:00.003</td>\n",
       "      <td>7161.895539</td>\n",
       "      <td>814.967883</td>\n",
       "      <td>1297.417294</td>\n",
       "      <td>631.428520</td>\n",
       "      <td>8438.693857</td>\n",
       "      <td>1893.148232</td>\n",
       "      <td>3884.929253</td>\n",
       "      <td>845.452257</td>\n",
       "      <td>24967.932835</td>\n",
       "    </tr>\n",
       "    <tr>\n",
       "      <th>4</th>\n",
       "      <td>2012-01-01 04:59:59.997</td>\n",
       "      <td>6984.460743</td>\n",
       "      <td>843.952579</td>\n",
       "      <td>1309.534911</td>\n",
       "      <td>640.892563</td>\n",
       "      <td>8565.433348</td>\n",
       "      <td>1867.358425</td>\n",
       "      <td>3911.610238</td>\n",
       "      <td>862.369386</td>\n",
       "      <td>24985.612193</td>\n",
       "    </tr>\n",
       "  </tbody>\n",
       "</table>\n",
       "</div>"
      ],
      "text/plain": [
       "                 Hour_End        COAST        EAST     FAR_WEST       NORTH  \\\n",
       "0 2012-01-01 01:00:00.003  7748.160500  878.438488  1289.746813  652.153054   \n",
       "1 2012-01-01 01:59:59.997  7559.728089  839.092904  1294.272245  643.483530   \n",
       "2 2012-01-01 03:00:00.000  7337.789042  817.995707  1296.491345  631.940923   \n",
       "3 2012-01-01 04:00:00.003  7161.895539  814.967883  1297.417294  631.428520   \n",
       "4 2012-01-01 04:59:59.997  6984.460743  843.952579  1309.534911  640.892563   \n",
       "\n",
       "       NORTH_C     SOUTHERN      SOUTH_C        WEST         ERCOT  \n",
       "0  8648.989316  2105.379142  4162.162310  849.000892  26334.030515  \n",
       "1  8553.212708  2047.755534  4070.416593  845.097363  25853.058967  \n",
       "2  8461.317967  1961.909818  3946.994332  840.902848  25295.341984  \n",
       "3  8438.693857  1893.148232  3884.929253  845.452257  24967.932835  \n",
       "4  8565.433348  1867.358425  3911.610238  862.369386  24985.612193  "
      ]
     },
     "execution_count": 85,
     "metadata": {},
     "output_type": "execute_result"
    }
   ],
   "source": [
    "df.head(5)"
   ]
  },
  {
   "cell_type": "code",
   "execution_count": 94,
   "metadata": {},
   "outputs": [
    {
     "data": {
      "text/plain": [
       "59"
      ]
     },
     "execution_count": 94,
     "metadata": {},
     "output_type": "execute_result"
    }
   ],
   "source": [
    "df.Hour_End.iloc[4].minute"
   ]
  },
  {
   "cell_type": "markdown",
   "metadata": {},
   "source": [
    "# Generate train and test set\n",
    "\n",
    "1 hot encode the day.\n",
    "\n",
    "The minutes need to be checked to round up the hour if necessary."
   ]
  },
  {
   "cell_type": "code",
   "execution_count": 1178,
   "metadata": {},
   "outputs": [],
   "source": [
    "def vectorized_dayofweek(d,m,y):\n",
    "    t = np.array([0,3,2,5,0,3,5,1,4,6,2,4])\n",
    "    y = np.subtract(y,m<3)\n",
    "    return np.mod(np.add(np.add(np.add(np.subtract(np.add(y,np.divide(y,4).astype(int)),np.divide(y,100).astype(int)),np.divide(y,400).astype(int)),t[m-1]),d),7)\n",
    "\n",
    "def return_ml_inputs(df):\n",
    "    N = df.shape[0]\n",
    "    hours = df.Hour_End.dt.hour\n",
    "    minutes = df.Hour_End.dt.minute\n",
    "    days = df.Hour_End.dt.day\n",
    "    months = df.Hour_End.dt.month\n",
    "    years = df.Hour_End.dt.year\n",
    "    np_months = months.values\n",
    "    np_energy = df.ERCOT.values / 1000\n",
    "    # Increment hour values where minutes are 59\n",
    "    np_minutes = minutes.values\n",
    "    np_hours = hours.values\n",
    "    minute_mask = np.where(np_minutes>0)\n",
    "    np_hours[minute_mask] += 1\n",
    "    # Encode days of the week 0-6\n",
    "    encodedDays = vectorized_dayofweek(days.values,months.values,years.values)\n",
    "    encodedDays = encodedDays[...,None]\n",
    "    np_hours = np_hours[...,None]\n",
    "    np_months = np_months[...,None]\n",
    "    np_energy = np_energy[...,None]\n",
    "    print(encodedDays.shape,np_hours.shape,np_energy.shape,np_months.shape)\n",
    "    ml_inputs = np.concatenate([np_hours,encodedDays,np_months,np_energy],axis=1)\n",
    "    return ml_inputs\n",
    "    "
   ]
  },
  {
   "cell_type": "code",
   "execution_count": 1179,
   "metadata": {},
   "outputs": [
    {
     "name": "stdout",
     "output_type": "stream",
     "text": [
      "training_N 43824\n",
      "test_N 8760\n"
     ]
    }
   ],
   "source": [
    "training_N = training_df.shape[0]\n",
    "test_N = test_df.shape[0]\n",
    "print('training_N',training_N)\n",
    "print('test_N',test_N)"
   ]
  },
  {
   "cell_type": "code",
   "execution_count": 1180,
   "metadata": {},
   "outputs": [
    {
     "name": "stdout",
     "output_type": "stream",
     "text": [
      "(43824, 1) (43824, 1) (43824, 1) (43824, 1)\n"
     ]
    }
   ],
   "source": [
    "ml_train = return_ml_inputs(training_df)"
   ]
  },
  {
   "cell_type": "code",
   "execution_count": 1181,
   "metadata": {},
   "outputs": [
    {
     "name": "stdout",
     "output_type": "stream",
     "text": [
      "(8760, 1) (8760, 1) (8760, 1) (8760, 1)\n"
     ]
    }
   ],
   "source": [
    "ml_test = return_ml_inputs(test_df)"
   ]
  },
  {
   "cell_type": "code",
   "execution_count": 1182,
   "metadata": {},
   "outputs": [
    {
     "name": "stdout",
     "output_type": "stream",
     "text": [
      "(43824, 4)\n",
      "(8760, 4)\n",
      "[ 1.          5.          1.         32.09406444]\n"
     ]
    }
   ],
   "source": [
    "print(ml_train.shape)\n",
    "print(ml_test.shape)\n",
    "print(ml_train[0])"
   ]
  },
  {
   "cell_type": "markdown",
   "metadata": {},
   "source": [
    "# Build the data loader"
   ]
  },
  {
   "cell_type": "code",
   "execution_count": 1244,
   "metadata": {},
   "outputs": [],
   "source": [
    "class seqDataset(Dataset):\n",
    "    \"\"\"Face Landmarks dataset.\"\"\"\n",
    "\n",
    "    def __init__(self, X):\n",
    "        \"\"\"\n",
    "        Args:\n",
    "            csv_file (string): Path to the csv file with annotations.\n",
    "            root_dir (string): Directory with all the images.\n",
    "            transform (callable, optional): Optional transform to be applied\n",
    "                on a sample.\n",
    "        \"\"\"\n",
    "        self.X = torch.from_numpy(X)\n",
    "\n",
    "    def __len__(self):\n",
    "        return self.X.shape[0]\n",
    "\n",
    "    def __getitem__(self, idx):\n",
    "        if torch.is_tensor(idx):\n",
    "            idx = idx.tolist()\n",
    "            \n",
    "        sample = {'seq': self.X[idx]}\n",
    "        return sample"
   ]
  },
  {
   "cell_type": "code",
   "execution_count": 1236,
   "metadata": {},
   "outputs": [],
   "source": [
    "# X_train, X_test, y_train, y_test = train_test_split(X, y, test_size=0.1, random_state=1)\n",
    "# X_train, X_val, y_train, y_val = train_test_split(X_train, y_train, test_size=0.1, random_state=1)\n",
    "X_train = ml_train\n",
    "X_test = ml_test"
   ]
  },
  {
   "cell_type": "code",
   "execution_count": 1237,
   "metadata": {},
   "outputs": [
    {
     "name": "stdout",
     "output_type": "stream",
     "text": [
      "(43824, 4) (8760, 4)\n"
     ]
    }
   ],
   "source": [
    "print(X_train.shape,X_test.shape)"
   ]
  },
  {
   "cell_type": "markdown",
   "metadata": {},
   "source": [
    "# Cut up the dataset into chunks of 36"
   ]
  },
  {
   "cell_type": "code",
   "execution_count": 1238,
   "metadata": {},
   "outputs": [],
   "source": [
    "def get_minibatches(data,length):\n",
    "    N = data.shape[0]\n",
    "    print('N',N)\n",
    "    batches = []\n",
    "    for i in range(0,N-length):\n",
    "        batches.append(data[None,i:i+length,:])\n",
    "    return np.vstack(batches)"
   ]
  },
  {
   "cell_type": "code",
   "execution_count": 1239,
   "metadata": {},
   "outputs": [
    {
     "name": "stdout",
     "output_type": "stream",
     "text": [
      "N 43824\n",
      "N 8760\n"
     ]
    }
   ],
   "source": [
    "Xtrain_batches = get_minibatches(X_train,36)\n",
    "Xtest_batches = get_minibatches(X_test,36)"
   ]
  },
  {
   "cell_type": "code",
   "execution_count": 1240,
   "metadata": {},
   "outputs": [
    {
     "name": "stdout",
     "output_type": "stream",
     "text": [
      "(43788, 36, 4)\n",
      "(8724, 36, 4)\n"
     ]
    }
   ],
   "source": [
    "print(Xtrain_batches.shape)\n",
    "print(Xtest_batches.shape)"
   ]
  },
  {
   "cell_type": "markdown",
   "metadata": {},
   "source": [
    "# Convert into dataloader"
   ]
  },
  {
   "cell_type": "code",
   "execution_count": 1315,
   "metadata": {},
   "outputs": [],
   "source": [
    "trainset = seqDataset(Xtrain_batches)\n",
    "# valset = seqDataset(X_val,y_val)\n",
    "testset = seqDataset(Xtest_batches)\n",
    "\n",
    "trainloader = DataLoader(trainset, batch_size=512,\n",
    "                        shuffle=False, num_workers=4)\n",
    "# valloader = DataLoader(valset, batch_size=512,\n",
    "#                         shuffle=False, num_workers=4)\n",
    "testloader = DataLoader(testset, batch_size=512,\n",
    "                        shuffle=False, num_workers=4)"
   ]
  },
  {
   "cell_type": "code",
   "execution_count": 1316,
   "metadata": {},
   "outputs": [],
   "source": [
    "data_dict = {\n",
    "    'trainset':trainloader,\n",
    "    'testset':testloader\n",
    "}"
   ]
  },
  {
   "cell_type": "code",
   "execution_count": 1317,
   "metadata": {},
   "outputs": [
    {
     "name": "stdout",
     "output_type": "stream",
     "text": [
      "torch.Size([512, 36, 4])\n"
     ]
    }
   ],
   "source": [
    "d = data_dict['trainset']\n",
    "print(next(iter(d))['seq'].size())"
   ]
  },
  {
   "cell_type": "markdown",
   "metadata": {},
   "source": [
    "# Build the transformer"
   ]
  },
  {
   "cell_type": "code",
   "execution_count": 1309,
   "metadata": {},
   "outputs": [],
   "source": [
    "class Embedder(nn.Module):\n",
    "    def __init__(self,vocab_size,d_model):\n",
    "        super().__init__()\n",
    "        self.embed = nn.Embedding(vocab_size,d_model)\n",
    "    def forward(self,x):\n",
    "        return self.embed(x)\n",
    "\n",
    "class PositionalEncoder(nn.Module):\n",
    "    def __init__(self,d_model, maxlen_seq = 24):\n",
    "        super().__init__()\n",
    "        self.d_model = d_model\n",
    "        pe = torch.zeros(maxlen_seq,d_model)\n",
    "        for pos in range(maxlen_seq):\n",
    "            for i in range(0,d_model,2):\n",
    "                pe[pos,i] = pos / math.sin(10000 ** ((2*i)/d_model))\n",
    "                pe[pos,i+1] = pos / math.cos(10000 ** ((2*(i+1))/d_model))\n",
    "        pe.unsqueeze(0)\n",
    "        self.register_buffer('pe',pe)\n",
    "        \n",
    "    def forward(self,x):\n",
    "        x = x * math.sqrt(self.d_model)\n",
    "        seq_len = x.size(1)\n",
    "        x = x + Variable(self.pe[:seq_len,:self.d_model],requires_grad=False)\n",
    "        return x\n",
    "    \n",
    "class MultiHeadAttention(nn.Module):\n",
    "    def __init__(self, heads, d_model, dropout = 0.1):\n",
    "        super().__init__()\n",
    "        \n",
    "        self.d_model = d_model\n",
    "        self.d_k = d_model // heads\n",
    "        self.h = heads\n",
    "        \n",
    "        self.q_linear = nn.Linear(d_model, d_model)\n",
    "        self.v_linear = nn.Linear(d_model, d_model)\n",
    "        self.k_linear = nn.Linear(d_model, d_model)\n",
    "        self.dropout = nn.Dropout(dropout)\n",
    "        self.out = nn.Linear(d_model, d_model)\n",
    "    \n",
    "    def forward(self, q, k, v, mask=None):\n",
    "        \n",
    "        bs = q.size(0)\n",
    "        \n",
    "        # perform linear operation and split into h heads\n",
    "        \n",
    "        k = self.k_linear(k).view(bs, -1, self.h, self.d_k)\n",
    "        q = self.q_linear(q).view(bs, -1, self.h, self.d_k)\n",
    "        v = self.v_linear(v).view(bs, -1, self.h, self.d_k)\n",
    "        \n",
    "        # transpose to get dimensions bs * h * sl * d_model\n",
    "       \n",
    "        k = k.transpose(1,2)\n",
    "        q = q.transpose(1,2)\n",
    "        v = v.transpose(1,2)\n",
    "        # calculate attention using function we will define next\n",
    "        scores = attention(q, k, v, self.d_k, mask, self.dropout)\n",
    "        \n",
    "        # concatenate heads and put through final linear layer\n",
    "        concat = scores.transpose(1,2).contiguous()\\\n",
    "        .view(bs, -1, self.d_model)\n",
    "        \n",
    "        output = self.out(concat)\n",
    "    \n",
    "        return output\n",
    "    \n",
    "def attention(q, k, v, d_k, mask=None, dropout=None):\n",
    "    \n",
    "    scores = torch.matmul(q, k.transpose(-2, -1)) /  math.sqrt(d_k)\n",
    "    if mask is not None:\n",
    "        mask = mask.unsqueeze(1)\n",
    "        scores = scores.masked_fill(mask == 0, -1e9)\n",
    "    # No softmax for regression target\n",
    "    # scores = F.softmax(scores, dim=-1)\n",
    "    \n",
    "    if dropout is not None:\n",
    "        scores = dropout(scores)\n",
    "        \n",
    "    output = torch.matmul(scores, v)\n",
    "    return output\n",
    "\n",
    "class FeedForward(nn.Module):\n",
    "    def __init__(self, d_model, d_ff=2048, dropout = 0.1):\n",
    "        super().__init__() \n",
    "        # We set d_ff as a default to 2048\n",
    "        self.linear_1 = nn.Linear(d_model, d_ff)\n",
    "        self.dropout = nn.Dropout(dropout)\n",
    "        self.linear_2 = nn.Linear(d_ff, d_model)\n",
    "    def forward(self, x):\n",
    "        x = self.dropout(F.relu(self.linear_1(x)))\n",
    "        x = self.linear_2(x)\n",
    "        return x\n",
    "    \n",
    "class Norm(nn.Module):\n",
    "    def __init__(self, d_model, eps = 1e-6):\n",
    "        super().__init__()\n",
    "    \n",
    "        self.size = d_model\n",
    "        # create two learnable parameters to calibrate normalisation\n",
    "        self.alpha = nn.Parameter(torch.ones(self.size))\n",
    "        self.bias = nn.Parameter(torch.zeros(self.size))\n",
    "        self.eps = eps\n",
    "    def forward(self, x):\n",
    "        norm = self.alpha * (x - x.mean(dim=-1, keepdim=True)) \\\n",
    "        / (x.std(dim=-1, keepdim=True) + self.eps) + self.bias\n",
    "        return norm\n",
    "\n",
    "# build an encoder layer with one multi-head attention layer and one # feed-forward layer\n",
    "class EncoderLayer(nn.Module):\n",
    "    def __init__(self, d_model, heads, dropout = 0.1):\n",
    "        super().__init__()\n",
    "        self.norm_1 = Norm(d_model)\n",
    "        self.norm_2 = Norm(d_model)\n",
    "        self.attn = MultiHeadAttention(heads, d_model)\n",
    "        self.ff = FeedForward(d_model)\n",
    "        self.dropout_1 = nn.Dropout(dropout)\n",
    "        self.dropout_2 = nn.Dropout(dropout)\n",
    "        \n",
    "    def forward(self, x, mask):\n",
    "        x2 = self.norm_1(x)\n",
    "        x = x + self.dropout_1(self.attn(x2,x2,x2,mask))\n",
    "        x2 = self.norm_2(x)\n",
    "        x = x + self.dropout_2(self.ff(x2))\n",
    "        return x\n",
    "    \n",
    "# build a decoder layer with two multi-head attention layers and\n",
    "# one feed-forward layer\n",
    "class DecoderLayer(nn.Module):\n",
    "    def __init__(self, d_model, heads, dropout=0.1):\n",
    "        super().__init__()\n",
    "        self.norm_1 = Norm(d_model)\n",
    "        self.norm_2 = Norm(d_model)\n",
    "        self.norm_3 = Norm(d_model)\n",
    "        \n",
    "        self.dropout_1 = nn.Dropout(dropout)\n",
    "        self.dropout_2 = nn.Dropout(dropout)\n",
    "        self.dropout_3 = nn.Dropout(dropout)\n",
    "        \n",
    "        self.attn_1 = MultiHeadAttention(heads, d_model)\n",
    "        self.attn_2 = MultiHeadAttention(heads, d_model)\n",
    "        self.ff = FeedForward(d_model)\n",
    "    def forward(self, x, e_outputs, src_mask, trg_mask):\n",
    "        x2 = self.norm_1(x)\n",
    "        x = x + self.dropout_1(self.attn_1(x2, x2, x2, trg_mask))\n",
    "        x2 = self.norm_2(x)\n",
    "        x = x + self.dropout_2(self.attn_2(x2, e_outputs, e_outputs,\n",
    "        src_mask))\n",
    "        x2 = self.norm_3(x)\n",
    "        x = x + self.dropout_3(self.ff(x2))\n",
    "        return x\n",
    "# We can then build a convenient cloning function that can generate multiple layers:\n",
    "def get_clones(module, N):\n",
    "    return nn.ModuleList([copy.deepcopy(module) for i in range(N)])\n",
    "\n",
    "class Encoder(nn.Module):\n",
    "    def __init__(self, vocab_dict, d_model, N, heads):\n",
    "        super().__init__()\n",
    "        self.N = N\n",
    "        self.embedHour = Embedder(vocab_dict['hour'], 85)\n",
    "        self.embedDay = Embedder(vocab_dict['day'], 85)\n",
    "        self.embedMonth = Embedder(vocab_dict['month'], 85)\n",
    "        self.pe = PositionalEncoder(d_model)\n",
    "        self.layers = get_clones(EncoderLayer(d_model, heads), N)\n",
    "        self.norm = Norm(d_model)\n",
    "    def forward(self, src, mask):\n",
    "        hour = src[:,:,0].long()\n",
    "        day = src[:,:,1].long()\n",
    "        month = src[:,:,2].long()\n",
    "        target = src[:,:,3].float().unsqueeze(-1)\n",
    "        hour = self.embedHour(hour)\n",
    "        day = self.embedDay(day)\n",
    "        month = self.embedMonth(month)\n",
    "        x = torch.cat((hour,day,month,target),dim=-1)\n",
    "        x = self.pe(x)\n",
    "        for i in range(N):\n",
    "            x = self.layers[i](x, mask)\n",
    "        return self.norm(x)\n",
    "    \n",
    "class Decoder(nn.Module):\n",
    "    def __init__(self, vocab_dict, d_model, N, heads):\n",
    "        super().__init__()\n",
    "        self.N = N\n",
    "        self.embedHour = Embedder(vocab_dict['hour'], 85)\n",
    "        self.embedDay = Embedder(vocab_dict['day'], 85)\n",
    "        self.embedMonth = Embedder(vocab_dict['month'], 85)\n",
    "        self.pe = PositionalEncoder(d_model)\n",
    "        self.layers = get_clones(DecoderLayer(d_model, heads), N)\n",
    "        self.norm = Norm(d_model)\n",
    "    def forward(self, trg, e_outputs, src_mask, trg_mask):\n",
    "        hour = trg[:,:,0].long()\n",
    "        day = trg[:,:,1].long()\n",
    "        month = trg[:,:,2].long()\n",
    "        target = trg[:,:,3].float().unsqueeze(-1)\n",
    "        hour = self.embedHour(hour)\n",
    "        day = self.embedDay(day)\n",
    "        month = self.embedMonth(month)\n",
    "        x = torch.cat((hour,day,month,target),dim=-1)\n",
    "        x = self.pe(x)\n",
    "#         print('src_mask, trg_mask',src_mask.size(), trg_mask.size())\n",
    "        for layer in self.layers:\n",
    "            x = layer(x, e_outputs, src_mask, trg_mask)\n",
    "        return self.norm(x)\n",
    "    \n",
    "class Transformer(nn.Module):\n",
    "    def __init__(self, src_vocab, trg_vocab, d_model, N, heads):\n",
    "        super().__init__()\n",
    "        self.encoder = Encoder(src_vocab, d_model, N, heads)\n",
    "        self.decoder = Decoder(trg_vocab, d_model, N, heads)\n",
    "        self.out = nn.Linear(d_model, 1)\n",
    "    def forward(self, src, trg, src_mask, trg_mask):\n",
    "        e_outputs = self.encoder(src, src_mask)\n",
    "        d_output = self.decoder(trg, e_outputs, src_mask, trg_mask)\n",
    "        output = self.out(d_output)\n",
    "        return output\n",
    "# we don't perform softmax on the output as this will be handled \n",
    "# automatically by our loss function"
   ]
  },
  {
   "cell_type": "markdown",
   "metadata": {},
   "source": [
    "# Test the transformer\n",
    "\n",
    "- src = the previous 24 hour data\n",
    "- trg = the next 12 hour data\n",
    "- src_mask = the zero'd out triangle of the src matrix\n",
    "- trg_mask = the zero'd out triangle of the trg matrix\n",
    "\n",
    "src should look like (M,24,4)\n",
    "and target like (M,12,4)\n",
    "\n",
    "Teacher forcing is taking the desired result of the decoder and inputting that into the next layer, instead of using the output from the network during training."
   ]
  },
  {
   "cell_type": "code",
   "execution_count": 1310,
   "metadata": {},
   "outputs": [],
   "source": [
    "d_model = 256\n",
    "N = 2\n",
    "heads = 8\n",
    "vocab_dict = {'hour':25,'day':7,'month':13}\n",
    "\n",
    "test_net = Transformer(vocab_dict,vocab_dict, d_model, N, heads)"
   ]
  },
  {
   "cell_type": "code",
   "execution_count": 1294,
   "metadata": {},
   "outputs": [
    {
     "name": "stdout",
     "output_type": "stream",
     "text": [
      "torch.Size([2048, 36, 4])\n"
     ]
    },
    {
     "ename": "RuntimeError",
     "evalue": "shape '[1, 24, 4]' is invalid for input of size 3456",
     "output_type": "error",
     "traceback": [
      "\u001b[0;31m---------------------------------------------------------------------------\u001b[0m",
      "\u001b[0;31mRuntimeError\u001b[0m                              Traceback (most recent call last)",
      "\u001b[0;32m<ipython-input-1294-e17f7be9fdb7>\u001b[0m in \u001b[0;36m<module>\u001b[0;34m\u001b[0m\n\u001b[1;32m      3\u001b[0m \u001b[0mtest_src\u001b[0m \u001b[0;34m=\u001b[0m \u001b[0mdata\u001b[0m\u001b[0;34m[\u001b[0m\u001b[0;34m'seq'\u001b[0m\u001b[0;34m]\u001b[0m\u001b[0;34m[\u001b[0m\u001b[0;34m:\u001b[0m\u001b[0;36m24\u001b[0m\u001b[0;34m]\u001b[0m\u001b[0;34m\u001b[0m\u001b[0;34m\u001b[0m\u001b[0m\n\u001b[1;32m      4\u001b[0m \u001b[0mtest_trg\u001b[0m \u001b[0;34m=\u001b[0m \u001b[0mdata\u001b[0m\u001b[0;34m[\u001b[0m\u001b[0;34m'seq'\u001b[0m\u001b[0;34m]\u001b[0m\u001b[0;34m[\u001b[0m\u001b[0;36m24\u001b[0m\u001b[0;34m:\u001b[0m\u001b[0;34m]\u001b[0m\u001b[0;34m\u001b[0m\u001b[0;34m\u001b[0m\u001b[0m\n\u001b[0;32m----> 5\u001b[0;31m \u001b[0mtest_src\u001b[0m \u001b[0;34m=\u001b[0m \u001b[0mtest_src\u001b[0m\u001b[0;34m.\u001b[0m\u001b[0mview\u001b[0m\u001b[0;34m(\u001b[0m\u001b[0;36m1\u001b[0m\u001b[0;34m,\u001b[0m\u001b[0;36m24\u001b[0m\u001b[0;34m,\u001b[0m\u001b[0;36m4\u001b[0m\u001b[0;34m)\u001b[0m\u001b[0;34m\u001b[0m\u001b[0;34m\u001b[0m\u001b[0m\n\u001b[0m\u001b[1;32m      6\u001b[0m \u001b[0mtest_trg\u001b[0m \u001b[0;34m=\u001b[0m \u001b[0mtest_trg\u001b[0m\u001b[0;34m.\u001b[0m\u001b[0mview\u001b[0m\u001b[0;34m(\u001b[0m\u001b[0;36m1\u001b[0m\u001b[0;34m,\u001b[0m\u001b[0;36m12\u001b[0m\u001b[0;34m,\u001b[0m\u001b[0;36m4\u001b[0m\u001b[0;34m)\u001b[0m\u001b[0;34m\u001b[0m\u001b[0;34m\u001b[0m\u001b[0m\n",
      "\u001b[0;31mRuntimeError\u001b[0m: shape '[1, 24, 4]' is invalid for input of size 3456"
     ]
    }
   ],
   "source": [
    "data = next(iter(data_dict['trainset']))\n",
    "print(data['seq'].size())\n",
    "test_src = data['seq'][:24]\n",
    "test_trg = data['seq'][24:]\n",
    "test_src = test_src.view(1,24,4)\n",
    "test_trg = test_trg.view(1,12,4)"
   ]
  },
  {
   "cell_type": "markdown",
   "metadata": {},
   "source": [
    "## Mask the inputs\n",
    "\n",
    "There is no padding for the target so we don't need to mask the padding"
   ]
  },
  {
   "cell_type": "code",
   "execution_count": 1295,
   "metadata": {},
   "outputs": [
    {
     "name": "stdout",
     "output_type": "stream",
     "text": [
      "torch.Size([24, 36, 4]) torch.Size([2024, 36, 4])\n"
     ]
    }
   ],
   "source": [
    "print(test_src.shape,test_trg.shape)"
   ]
  },
  {
   "cell_type": "code",
   "execution_count": 1296,
   "metadata": {},
   "outputs": [],
   "source": [
    "src_msk = torch.ones((1,24))"
   ]
  },
  {
   "cell_type": "code",
   "execution_count": 1031,
   "metadata": {},
   "outputs": [
    {
     "name": "stdout",
     "output_type": "stream",
     "text": [
      "12\n",
      "torch.Size([1, 12, 12])\n",
      "tensor([[[1, 0, 0, 0, 0, 0, 0, 0, 0, 0, 0, 0],\n",
      "         [1, 1, 0, 0, 0, 0, 0, 0, 0, 0, 0, 0],\n",
      "         [1, 1, 1, 0, 0, 0, 0, 0, 0, 0, 0, 0],\n",
      "         [1, 1, 1, 1, 0, 0, 0, 0, 0, 0, 0, 0],\n",
      "         [1, 1, 1, 1, 1, 0, 0, 0, 0, 0, 0, 0],\n",
      "         [1, 1, 1, 1, 1, 1, 0, 0, 0, 0, 0, 0],\n",
      "         [1, 1, 1, 1, 1, 1, 1, 0, 0, 0, 0, 0],\n",
      "         [1, 1, 1, 1, 1, 1, 1, 1, 0, 0, 0, 0],\n",
      "         [1, 1, 1, 1, 1, 1, 1, 1, 1, 0, 0, 0],\n",
      "         [1, 1, 1, 1, 1, 1, 1, 1, 1, 1, 0, 0],\n",
      "         [1, 1, 1, 1, 1, 1, 1, 1, 1, 1, 1, 0],\n",
      "         [1, 1, 1, 1, 1, 1, 1, 1, 1, 1, 1, 1]]], dtype=torch.uint8)\n"
     ]
    }
   ],
   "source": [
    "size = test_trg.shape[1] # get seq_len for matrix\n",
    "print(size)\n",
    "nopeak_mask = np.triu(np.ones((1,size, size)),k=1).astype('uint8')\n",
    "# nopeak_mask = np.triu(np.ones(1, size, size),k=1).astype('uint8')\n",
    "nopeak_mask = Variable(torch.from_numpy(nopeak_mask) == 0)\n",
    "# target_msk = target_msk & nopeak_mask\n",
    "print(nopeak_mask.shape)\n",
    "print(nopeak_mask)"
   ]
  },
  {
   "cell_type": "code",
   "execution_count": 1034,
   "metadata": {},
   "outputs": [],
   "source": [
    "# a = torch.zeros([1,8,12,24])\n",
    "# m = torch.ones([1,1,12,12])\n",
    "# a = a.masked_fill(m == 0, -1e9)\n",
    "# print(a.size())\n",
    "# torch.matmul(a, torch.ones((1, 8, 12, 24))).size()"
   ]
  },
  {
   "cell_type": "code",
   "execution_count": 1033,
   "metadata": {},
   "outputs": [
    {
     "name": "stdout",
     "output_type": "stream",
     "text": [
      "torch.Size([1, 24, 85]) torch.Size([1, 24, 85]) torch.Size([1, 24, 85]) torch.Size([1, 24, 1])\n",
      "x torch.Size([1, 24, 256])\n",
      "k,q,v torch.Size([1, 8, 24, 32]) torch.Size([1, 8, 24, 32]) torch.Size([1, 8, 24, 32])\n",
      "attention,scores,msk torch.Size([1, 8, 24, 24]) torch.Size([1, 1, 24])\n",
      "scores, v torch.Size([1, 8, 24, 24]) torch.Size([1, 8, 24, 32])\n",
      "k,q,v torch.Size([1, 8, 24, 32]) torch.Size([1, 8, 24, 32]) torch.Size([1, 8, 24, 32])\n",
      "attention,scores,msk torch.Size([1, 8, 24, 24]) torch.Size([1, 1, 24])\n",
      "scores, v torch.Size([1, 8, 24, 24]) torch.Size([1, 8, 24, 32])\n",
      "e_outputs torch.Size([1, 24, 256])\n",
      "torch.Size([1, 12, 85]) torch.Size([1, 12, 85]) torch.Size([1, 12, 85]) torch.Size([1, 12, 1])\n",
      "x torch.Size([1, 12, 256])\n",
      "dx torch.Size([1, 12, 256])\n",
      "k,q,v torch.Size([1, 8, 12, 32]) torch.Size([1, 8, 12, 32]) torch.Size([1, 8, 12, 32])\n",
      "attention,scores,msk torch.Size([1, 8, 12, 12]) torch.Size([1, 1, 12, 12])\n",
      "scores, v torch.Size([1, 8, 12, 12]) torch.Size([1, 8, 12, 32])\n",
      "k,q,v torch.Size([1, 8, 24, 32]) torch.Size([1, 8, 12, 32]) torch.Size([1, 8, 24, 32])\n",
      "attention,scores,msk torch.Size([1, 8, 12, 24]) torch.Size([1, 1, 24])\n",
      "scores, v torch.Size([1, 8, 12, 24]) torch.Size([1, 8, 24, 32])\n",
      "k,q,v torch.Size([1, 8, 12, 32]) torch.Size([1, 8, 12, 32]) torch.Size([1, 8, 12, 32])\n",
      "attention,scores,msk torch.Size([1, 8, 12, 12]) torch.Size([1, 1, 12, 12])\n",
      "scores, v torch.Size([1, 8, 12, 12]) torch.Size([1, 8, 12, 32])\n",
      "k,q,v torch.Size([1, 8, 24, 32]) torch.Size([1, 8, 12, 32]) torch.Size([1, 8, 24, 32])\n",
      "attention,scores,msk torch.Size([1, 8, 12, 24]) torch.Size([1, 1, 24])\n",
      "scores, v torch.Size([1, 8, 12, 24]) torch.Size([1, 8, 24, 32])\n"
     ]
    },
    {
     "data": {
      "text/plain": [
       "tensor([[[-0.9353],\n",
       "         [-1.1473],\n",
       "         [-1.0982],\n",
       "         [-1.0403],\n",
       "         [-1.0347],\n",
       "         [-1.1327],\n",
       "         [-1.2930],\n",
       "         [-1.1993],\n",
       "         [-1.2835],\n",
       "         [-1.1091],\n",
       "         [-0.7600],\n",
       "         [ 0.1165]]], grad_fn=<AddBackward0>)"
      ]
     },
     "execution_count": 1033,
     "metadata": {},
     "output_type": "execute_result"
    }
   ],
   "source": [
    "test_net(test_src,test_trg,src_msk,nopeak_mask)"
   ]
  },
  {
   "cell_type": "markdown",
   "metadata": {},
   "source": [
    "# Train the transformer on regression sequence"
   ]
  },
  {
   "cell_type": "code",
   "execution_count": 1318,
   "metadata": {},
   "outputs": [],
   "source": [
    "def create_masks(src_len,trg_len,batch_size):\n",
    "    src_mask = torch.ones([batch_size,1,src_len])\n",
    "    nopeak_mask = np.triu(np.ones((batch_size, trg_len, trg_len)),k=1).astype('uint8')\n",
    "    nopeak_mask = Variable(torch.from_numpy(nopeak_mask) == 0)\n",
    "    return src_mask,nopeak_mask\n",
    "\n",
    "def train_energy(model,data_dict,train_params):\n",
    "    start_time = time.time()\n",
    "    scores_window = deque(maxlen=100)\n",
    "    scores = []\n",
    "    for e in range(train_params['epochs']):\n",
    "        for i, data in enumerate(data_dict['trainset'], 0):\n",
    "            # get the inputs; data is a list of [inputs, labels]\n",
    "            src = data['seq'][:,:24,:]\n",
    "            trg = data['seq'][:,24:,:]\n",
    "            src_mask,trg_mask = create_masks(24,12,train_params['batch_size'])\n",
    "            preds = model(src,trg,src_mask,trg_mask)\n",
    "            y = trg[:,:,-1].float()\n",
    "            optim.zero_grad()\n",
    "            loss = train_params['criterion'](preds.squeeze(-1),y)\n",
    "            loss.backward()\n",
    "            optim.step()\n",
    "            scores_window.append(loss.data)\n",
    "            scores.append(np.mean(scores_window))\n",
    "            if (i + 1) % train_params['print_every'] == 0:\n",
    "                loss_avg = np.mean(scores_window)\n",
    "                print(\"time = %dm, epoch %d, iter = %d, loss = %.3f,%ds per %d iters\" % \n",
    "                      ((time.time() - start_time) // 60,e + 1, i + 1, loss_avg, time.time() - start_time,\n",
    "                train_params['print_every']))\n",
    "            if i == train_params['episodes']:\n",
    "                break\n",
    "    return model,scores"
   ]
  },
  {
   "cell_type": "code",
   "execution_count": 1327,
   "metadata": {},
   "outputs": [],
   "source": [
    "d_model = 256\n",
    "N = 2\n",
    "heads = 8\n",
    "vocab_dict = {'hour':25,'day':7,'month':13}\n",
    "\n",
    "energy_model = Transformer(vocab_dict,vocab_dict, d_model, N, heads)\n",
    "\n",
    "criterion = nn.SmoothL1Loss()\n",
    "optim = torch.optim.Adam(energy_model.parameters(), lr=0.0001, betas=(0.9, 0.98), eps=1e-9)\n",
    "\n",
    "train_params = {\n",
    "    'epochs':10,\n",
    "    'episodes':10,\n",
    "    'optimizer':optim,\n",
    "    'criterion': criterion,\n",
    "    'print_every':5,\n",
    "    'batch_size':512\n",
    "}"
   ]
  },
  {
   "cell_type": "code",
   "execution_count": 1328,
   "metadata": {},
   "outputs": [],
   "source": [
    "# a = torch.zeros([2048, 8, 24, 24])\n",
    "# m = torch.ones([2048, 1,1, 24])\n",
    "# a = a.masked_fill(m == 0, -1e9)\n",
    "# print(a.size())\n",
    "# # torch.matmul(a, torch.ones((1, 8, 12, 24))).size()"
   ]
  },
  {
   "cell_type": "code",
   "execution_count": 1329,
   "metadata": {
    "scrolled": true
   },
   "outputs": [
    {
     "name": "stdout",
     "output_type": "stream",
     "text": [
      "time = 0m, epoch 1, iter = 5, loss = 31.458,26s per 5 iters\n",
      "time = 0m, epoch 1, iter = 10, loss = 34.154,50s per 5 iters\n",
      "time = 1m, epoch 2, iter = 5, loss = 32.651,78s per 5 iters\n",
      "time = 1m, epoch 2, iter = 10, loss = 32.908,101s per 5 iters\n",
      "time = 2m, epoch 3, iter = 5, loss = 31.825,130s per 5 iters\n",
      "time = 2m, epoch 3, iter = 10, loss = 31.903,155s per 5 iters\n",
      "time = 3m, epoch 4, iter = 5, loss = 31.139,183s per 5 iters\n",
      "time = 3m, epoch 4, iter = 10, loss = 31.194,208s per 5 iters\n",
      "time = 3m, epoch 5, iter = 5, loss = 30.617,237s per 5 iters\n",
      "time = 4m, epoch 5, iter = 10, loss = 30.660,260s per 5 iters\n",
      "time = 4m, epoch 6, iter = 5, loss = 30.191,299s per 5 iters\n",
      "time = 5m, epoch 6, iter = 10, loss = 30.219,340s per 5 iters\n",
      "time = 6m, epoch 7, iter = 5, loss = 29.811,374s per 5 iters\n",
      "time = 6m, epoch 7, iter = 10, loss = 29.819,402s per 5 iters\n",
      "time = 7m, epoch 8, iter = 5, loss = 29.450,435s per 5 iters\n",
      "time = 7m, epoch 8, iter = 10, loss = 29.446,462s per 5 iters\n",
      "time = 8m, epoch 9, iter = 5, loss = 29.115,496s per 5 iters\n",
      "time = 8m, epoch 9, iter = 10, loss = 29.109,523s per 5 iters\n",
      "time = 9m, epoch 10, iter = 5, loss = 28.665,554s per 5 iters\n",
      "time = 9m, epoch 10, iter = 10, loss = 28.393,582s per 5 iters\n"
     ]
    }
   ],
   "source": [
    "trained_model,scores = train_energy(energy_model,data_dict,train_params)"
   ]
  },
  {
   "cell_type": "code",
   "execution_count": 1332,
   "metadata": {},
   "outputs": [
    {
     "name": "stdout",
     "output_type": "stream",
     "text": [
      "loss tensor(23.9601)\n",
      "loss tensor(23.4613)\n",
      "loss tensor(21.7237)\n"
     ]
    }
   ],
   "source": [
    "for i, data in enumerate(data_dict['trainset'], 0):\n",
    "    src = data['seq'][:,:24,:]\n",
    "    trg = data['seq'][:,24:,:]\n",
    "    src_mask,trg_mask = create_masks(24,12,train_params['batch_size'])\n",
    "    preds = trained_model(src,trg,src_mask,trg_mask)\n",
    "    y = trg[:,:,-1].float()\n",
    "    loss = train_params['criterion'](preds.squeeze(-1),y)\n",
    "    print('loss',loss.data)\n",
    "#     print('pred y',preds,y)\n",
    "    if i == 2:\n",
    "        break"
   ]
  },
  {
   "cell_type": "markdown",
   "metadata": {},
   "source": [
    "# Plot energy consumption and prediction"
   ]
  },
  {
   "cell_type": "code",
   "execution_count": 1333,
   "metadata": {},
   "outputs": [
    {
     "data": {
      "text/plain": [
       "[<matplotlib.lines.Line2D at 0x1a3d2ba208>]"
      ]
     },
     "execution_count": 1333,
     "metadata": {},
     "output_type": "execute_result"
    },
    {
     "data": {
      "image/png": "[encoded data removed]",
      "text/plain": [
       "<Figure size 432x288 with 1 Axes>"
      ]
     },
     "metadata": {
      "needs_background": "light"
     },
     "output_type": "display_data"
    }
   ],
   "source": [
    "plt.plot(scores)"
   ]
  },
  {
   "cell_type": "markdown",
   "metadata": {},
   "source": [
    "# Train the transformer on language"
   ]
  },
  {
   "cell_type": "code",
   "execution_count": 680,
   "metadata": {},
   "outputs": [
    {
     "ename": "NameError",
     "evalue": "name 'train_iter' is not defined",
     "output_type": "error",
     "traceback": [
      "\u001b[0;31m---------------------------------------------------------------------------\u001b[0m",
      "\u001b[0;31mNameError\u001b[0m                                 Traceback (most recent call last)",
      "\u001b[0;32m<ipython-input-680-5c297579a4e9>\u001b[0m in \u001b[0;36m<module>\u001b[0;34m\u001b[0m\n\u001b[1;32m      1\u001b[0m \u001b[0;34m\u001b[0m\u001b[0m\n\u001b[1;32m      2\u001b[0m \u001b[0;34m\u001b[0m\u001b[0m\n\u001b[0;32m----> 3\u001b[0;31m \u001b[0mbatch\u001b[0m \u001b[0;34m=\u001b[0m \u001b[0mnext\u001b[0m\u001b[0;34m(\u001b[0m\u001b[0miter\u001b[0m\u001b[0;34m(\u001b[0m\u001b[0mtrain_iter\u001b[0m\u001b[0;34m)\u001b[0m\u001b[0;34m)\u001b[0m\u001b[0;34m\u001b[0m\u001b[0;34m\u001b[0m\u001b[0m\n\u001b[0m\u001b[1;32m      4\u001b[0m \u001b[0minput_seq\u001b[0m \u001b[0;34m=\u001b[0m \u001b[0mbatch\u001b[0m\u001b[0;34m.\u001b[0m\u001b[0mEnglish\u001b[0m\u001b[0;34m.\u001b[0m\u001b[0mtranspose\u001b[0m\u001b[0;34m(\u001b[0m\u001b[0;36m0\u001b[0m\u001b[0;34m,\u001b[0m\u001b[0;36m1\u001b[0m\u001b[0;34m)\u001b[0m\u001b[0;34m\u001b[0m\u001b[0;34m\u001b[0m\u001b[0m\n\u001b[1;32m      5\u001b[0m \u001b[0minput_pad\u001b[0m \u001b[0;34m=\u001b[0m \u001b[0mEN_TEXT\u001b[0m\u001b[0;34m.\u001b[0m\u001b[0mvocab\u001b[0m\u001b[0;34m.\u001b[0m\u001b[0mstoi\u001b[0m\u001b[0;34m[\u001b[0m\u001b[0;34m'<pad>'\u001b[0m\u001b[0;34m]\u001b[0m\u001b[0;34m\u001b[0m\u001b[0;34m\u001b[0m\u001b[0m\n",
      "\u001b[0;31mNameError\u001b[0m: name 'train_iter' is not defined"
     ]
    }
   ],
   "source": [
    "batch = next(iter(train_iter))\n",
    "input_seq = batch.English.transpose(0,1)\n",
    "input_pad = EN_TEXT.vocab.stoi['<pad>']\n",
    "# creates mask with 0s wherever there is padding in the input\n",
    "input_msk = (input_seq != input_pad).unsqueeze(1)"
   ]
  },
  {
   "cell_type": "code",
   "execution_count": null,
   "metadata": {},
   "outputs": [],
   "source": [
    "# create mask as before\n",
    "target_seq = batch.French.transpose(0,1)\n",
    "target_pad = FR_TEXT.vocab.stoi['<pad>']\n",
    "target_msk = (target_seq != target_pad).unsqueeze(1)\n",
    "size = target_seq.size(1) # get seq_len for matrix\n",
    "nopeak_mask = np.triu(np.ones(1, size, size),k=1).astype('uint8')\n",
    "nopeak_mask = Variable(torch.from_numpy(nopeak_mask) == 0)\n",
    "target_msk = target_msk & nopeak_mask"
   ]
  },
  {
   "cell_type": "code",
   "execution_count": null,
   "metadata": {},
   "outputs": [],
   "source": [
    "d_model = 512\n",
    "heads = 8\n",
    "N = 6\n",
    "src_vocab = len(EN_TEXT.vocab)\n",
    "trg_vocab = len(FR_TEXT.vocab)\n",
    "model = Transformer(src_vocab, trg_vocab, d_model, N, heads)\n",
    "for p in model.parameters():\n",
    "    if p.dim() > 1:\n",
    "        nn.init.xavier_uniform_(p)\n",
    "# this code is very important! It initialises the parameters with a\n",
    "# range of values that stops the signal fading or getting too big.\n",
    "# See this blog for a mathematical explanation.\n",
    "optim = torch.optim.Adam(model.parameters(), lr=0.0001, betas=(0.9, 0.98), eps=1e-9)"
   ]
  },
  {
   "cell_type": "code",
   "execution_count": null,
   "metadata": {},
   "outputs": [],
   "source": [
    "def train_model(epochs, print_every=100):\n",
    "    \n",
    "    model.train()\n",
    "    \n",
    "    start = time.time()\n",
    "    temp = start\n",
    "    \n",
    "    total_loss = 0\n",
    "    \n",
    "    for epoch in range(epochs):\n",
    "       \n",
    "        for i, batch in enumerate(train_iter):\n",
    "            src = batch.English.transpose(0,1)\n",
    "            trg = batch.French.transpose(0,1)\n",
    "            # the French sentence we input has all words except\n",
    "            # the last, as it is using each word to predict the next\n",
    "            \n",
    "            trg_input = trg[:, :-1]\n",
    "            \n",
    "            # the words we are trying to predict\n",
    "            \n",
    "            targets = trg[:, 1:].contiguous().view(-1)\n",
    "            \n",
    "            # create function to make masks using mask code above\n",
    "            \n",
    "            src_mask, trg_mask = create_masks(src, trg_input)\n",
    "            \n",
    "            preds = model(src, trg_input, src_mask, trg_mask)\n",
    "            \n",
    "            optim.zero_grad()\n",
    "            \n",
    "            loss = F.cross_entropy(preds.view(-1, preds.size(-1)),\n",
    "            results, ignore_index=target_pad)\n",
    "            loss.backward()\n",
    "            optim.step()\n",
    "            \n",
    "            total_loss += loss.data[0]\n",
    "            if (i + 1) % print_every == 0:\n",
    "                loss_avg = total_loss / print_every\n",
    "                print(\"time = %dm, epoch %d, iter = %d, loss = %.3f,\n",
    "                %ds per %d iters\" % ((time.time() - start) // 60,\n",
    "                epoch + 1, i + 1, loss_avg, time.time() - temp,\n",
    "                print_every))\n",
    "                total_loss = 0\n",
    "                temp = time.time()"
   ]
  },
  {
   "cell_type": "code",
   "execution_count": null,
   "metadata": {},
   "outputs": [],
   "source": []
  },
  {
   "cell_type": "code",
   "execution_count": null,
   "metadata": {},
   "outputs": [],
   "source": []
  },
  {
   "cell_type": "code",
   "execution_count": null,
   "metadata": {},
   "outputs": [],
   "source": []
  }
 ],
 "metadata": {
  "kernelspec": {
   "display_name": "Python 3",
   "language": "python",
   "name": "python3"
  },
  "language_info": {
   "codemirror_mode": {
    "name": "ipython",
    "version": 3
   },
   "file_extension": ".py",
   "mimetype": "text/x-python",
   "name": "python",
   "nbconvert_exporter": "python",
   "pygments_lexer": "ipython3",
   "version": "3.6.7"
  }
 },
 "nbformat": 4,
 "nbformat_minor": 2
}

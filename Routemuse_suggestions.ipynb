{
 "cells": [
  {
   "cell_type": "code",
   "execution_count": 303,
   "metadata": {},
   "outputs": [],
   "source": [
    "import numpy as np\n",
    "import torch\n",
    "import torch.nn as nn\n",
    "import torch.nn.functional as F\n",
    "import torch.optim as optim\n",
    "\n",
    "import copy\n",
    "import operator\n",
    "import numpy as np\n",
    "import random\n",
    "from collections import namedtuple, deque\n",
    "import matplotlib.pyplot as plt\n",
    "import imageio"
   ]
  },
  {
   "cell_type": "markdown",
   "metadata": {},
   "source": [
    "# Suggestion Engine Prototype\n",
    "\n",
    "Minimizing the distance between reality and goals\n",
    "\n",
    "provide goals and current gym status and then get and implement route suggestions given by the engine\n",
    "\n",
    "Contrast with a pure mathematical approach of minimizing the N-dimensional distance\n",
    "\n",
    "## Methodology\n",
    "\n",
    "- Each column will represent a field. \n",
    "- We will use 1 hot representation. \n",
    "- A gym will be a stacked collection of routes\n",
    "- We can know the mean of any category by summing and dividing by the rows.\n",
    "- The goals are stored the same way, so we can get the distance between each field\n",
    "\n",
    "## How the array looks\n",
    "\n",
    "- 0-5: Styles: [balance,toe-hooking,heel-hooking,finger-strength,powerful]\n",
    "- 5-10: Techniques: [balance,toe-hooking,heel-hooking,finger-strength,powerful]\n",
    "- 10-15: grade: [blue,pink,purple,green,yellow]\n",
    "- 15-18: length: [short,medium,long]\n",
    "- 18-23: R: [1,2,3,4,5]\n",
    "- 23-28: I: [1,2,3,4,5]\n",
    "- 28-33: C: [1,2,3,4,5]\n",
    "- 33-38: Location: [wave-wall,barrel,roof,accordian,shield]\n"
   ]
  },
  {
   "cell_type": "code",
   "execution_count": 77,
   "metadata": {},
   "outputs": [],
   "source": [
    "route_dictionary = {0:'balance',\n",
    "                   1:'toe-hooking',\n",
    "                   2:'heel-hooking',\n",
    "                   3:'finger-strength',\n",
    "                   4:'powerful',\n",
    "                    \n",
    "                   5:'balance',\n",
    "                   6:'toe-hooking',\n",
    "                   7:'heel-hooking',\n",
    "                   8:'finger-strength',\n",
    "                   9:'powerful',\n",
    "                    \n",
    "                    10:'blue',\n",
    "                    11:'pink',\n",
    "                    12:'purple',\n",
    "                    13:'green',\n",
    "                    14:'yellow',\n",
    "                    \n",
    "                    15:'short',\n",
    "                    16:'medium',\n",
    "                    17:'long',\n",
    "                    \n",
    "                    18:'1',\n",
    "                    19:'2',\n",
    "                    20:'3',\n",
    "                    21:'4',\n",
    "                    22:'5',\n",
    "                    \n",
    "                    23:'1',\n",
    "                    24:'2',\n",
    "                    25:'3',\n",
    "                    26:'4',\n",
    "                    27:'5',\n",
    "                    \n",
    "                    28:'1',\n",
    "                    29:'2',\n",
    "                    30:'3',\n",
    "                    31:'4',\n",
    "                    32:'5',\n",
    "                    \n",
    "                    33:'wave-wall',\n",
    "                    34:'barrel',\n",
    "                    35:'roof',\n",
    "                    36:'accordian',\n",
    "                    37:'shield'\n",
    "                   }\n",
    "\n",
    "array_dictionary = np.array(['balance','toe-hooking','heel-hooking','finger-strength','powerful',\\\n",
    "                    'balance','toe-hooking','heel-hooking','finger-strength','powerful',\n",
    "                    'blue','pink','purple','green','yellow',\n",
    "                     'short','medium','long',\n",
    "                     '1','2','3','4','5',\n",
    "                    '1','2','3','4','5',\n",
    "                    '1','2','3','4','5',\n",
    "                    'wave-wall','barrel','roof','accordian','shield'])\n",
    "\n",
    "def convert_array_to_readable(array):\n",
    "    mask = np.where(array > 0)[0]\n",
    "    return array_dictionary[mask]"
   ]
  },
  {
   "cell_type": "code",
   "execution_count": 78,
   "metadata": {},
   "outputs": [],
   "source": [
    "\"\"\"\n",
    "Gen ints between 0-5,5-10,10-15,15-18,18-23,23-28,28-33,33-38\n",
    "\n",
    "can gen multiple in a given category for instance multiple styles\n",
    "\"\"\"\n",
    "\n",
    "def gen_random_route(num_routes):\n",
    "    routes = np.zeros((num_routes,38))\n",
    "    for n in range(num_routes):\n",
    "        style = np.random.choice(np.arange(0,5))\n",
    "        technique = np.random.choice(np.arange(5,10))\n",
    "        grade = np.random.choice(np.arange(10,15))\n",
    "        length = np.random.choice(np.arange(15,18))\n",
    "        R = np.random.choice(np.arange(18,23))\n",
    "        I = np.random.choice(np.arange(23,28))\n",
    "        C = np.random.choice(np.arange(28,33))\n",
    "        Location = np.random.choice(np.arange(33,38))\n",
    "        mask = np.array([style,technique,grade,length,R,I,C,Location])\n",
    "        routes[n][mask] = 1\n",
    "    return routes"
   ]
  },
  {
   "cell_type": "code",
   "execution_count": 102,
   "metadata": {},
   "outputs": [],
   "source": [
    "def make_default_goals(num_routes):\n",
    "    goals = np.zeros(38)\n",
    "    by_5 = num_routes / 5\n",
    "    by_3 = num_routes / 3\n",
    "    styles = by_5\n",
    "    techniques = by_5\n",
    "    grades = by_5\n",
    "    length = by_3\n",
    "    R = by_5\n",
    "    I = by_5\n",
    "    C = by_5\n",
    "    Location = by_5\n",
    "    \n",
    "    goals[0:5] = np.full(5,styles)\n",
    "    goals[5:10] = np.full(5,techniques)\n",
    "    goals[10:15] = np.full(5,grades)\n",
    "    goals[15:18] = np.full(3,length)\n",
    "    goals[18:23] = np.full(5,R)\n",
    "    goals[23:28] = np.full(5,I)\n",
    "    goals[28:33] = np.full(5,C)\n",
    "    goals[33:38] = np.full(5,Location)\n",
    "    return goals\n",
    "\n",
    "def random_num(max_num,N):\n",
    "    arr = np.zeros(N)\n",
    "    arr[0] = np.random.random() * max_num\n",
    "    max_num -= arr[0]\n",
    "    for i in range(1,N-1):\n",
    "        arr[i] = np.random.random() * max_num\n",
    "        max_num -= arr[i]\n",
    "    arr[-1] = max_num\n",
    "    return arr\n",
    "\n",
    "def gen_random_goals(num_routes):\n",
    "    goals = np.zeros(38)\n",
    "    \n",
    "    styles = random_num(num_routes,5)\n",
    "    techniques = random_num(num_routes,5)\n",
    "    grades = random_num(num_routes,5)\n",
    "    length = random_num(num_routes,3)\n",
    "    R = random_num(num_routes,5)\n",
    "    I = random_num(num_routes,5)\n",
    "    C = random_num(num_routes,5)\n",
    "    Location = random_num(num_routes,5)\n",
    "    \n",
    "    goals[0:5] = styles\n",
    "    goals[5:10] = techniques\n",
    "    goals[10:15] = grades\n",
    "    goals[15:18] = length\n",
    "    goals[18:23] = R\n",
    "    goals[23:28] = I\n",
    "    goals[28:33] = C\n",
    "    goals[33:38] = Location\n",
    "    return goals"
   ]
  },
  {
   "cell_type": "markdown",
   "metadata": {},
   "source": [
    "## Test functions"
   ]
  },
  {
   "cell_type": "code",
   "execution_count": 173,
   "metadata": {},
   "outputs": [
    {
     "name": "stdout",
     "output_type": "stream",
     "text": [
      "ran_routes (5, 38)\n",
      "readable_routes [array(['powerful', 'balance', 'purple', 'long', '3', '5', '3',\n",
      "       'wave-wall'], dtype='<U15'), array(['toe-hooking', 'heel-hooking', 'purple', 'medium', '4', '4', '4',\n",
      "       'wave-wall'], dtype='<U15'), array(['finger-strength', 'powerful', 'pink', 'short', '5', '4', '5',\n",
      "       'accordian'], dtype='<U15'), array(['finger-strength', 'balance', 'yellow', 'long', '4', '3', '1',\n",
      "       'barrel'], dtype='<U15'), array(['toe-hooking', 'balance', 'blue', 'long', '3', '5', '3',\n",
      "       'accordian'], dtype='<U15')]\n"
     ]
    }
   ],
   "source": [
    "# Test readable\n",
    "# mask = np.array([1,6,11,16,20,24,32,35])\n",
    "\n",
    "# arr_route = np.zeros(38)\n",
    "# arr_route[mask] = 1\n",
    "# readable_array = convert_array_to_readable(arr_route)\n",
    "    \n",
    "# Test ran gen\n",
    "# ran_routes = gen_random_route(5)\n",
    "# print('ran_routes',ran_routes.shape)\n",
    "# readable_routes = [convert_array_to_readable(route) for route in ran_routes]\n",
    "# print('readable_routes',readable_routes)\n",
    "\n",
    "# test random num gen for goals\n",
    "# styles = random_num(5,5)\n",
    "# print('styles',styles,np.sum(styles))\n",
    "\n",
    "# Test default goal gen\n",
    "# goals = make_default_goals(5)\n",
    "# print(goals)\n",
    "\n",
    "# test random goals\n",
    "# ran_goals = gen_random_goals(5)\n",
    "# print('ran goals',ran_goals)"
   ]
  },
  {
   "cell_type": "markdown",
   "metadata": {},
   "source": [
    "## Gym class\n",
    "\n",
    "To hold the current distribution of routes. And the goals of the gym, and return the L2 distance"
   ]
  },
  {
   "cell_type": "code",
   "execution_count": 451,
   "metadata": {},
   "outputs": [],
   "source": [
    "class Gym(object):\n",
    "    def __init__(self,routes,goals):\n",
    "        self.routes = routes\n",
    "        self.goals = goals\n",
    "        self.index = 0\n",
    "    \n",
    "    def update_route(self,route):\n",
    "        self.routes[self.index][:] = route\n",
    "        self.index = (self.index + 1) % len(self)\n",
    "        \n",
    "    def get_route(self,index):\n",
    "        return Gym.convert_array_to_readable(self.routes[index])\n",
    "    \n",
    "    @staticmethod\n",
    "    def convert_array_to_readable(array):\n",
    "        mask = np.where(array > 0)[0]\n",
    "        return array_dictionary[mask]\n",
    "    \n",
    "    @property\n",
    "    def get_index(self):\n",
    "        return self.index\n",
    "        \n",
    "    @property\n",
    "    def L2(self):\n",
    "        # mean columns in routes\n",
    "        current_dist = np.sum(self.routes,axis = 0)\n",
    "        nd_distance = self.goals - current_dist\n",
    "        return nd_distance\n",
    "    \n",
    "    @property\n",
    "    def loss(self):\n",
    "        current_dist = np.sum(self.routes,axis = 0)\n",
    "        nd_distance = self.goals - current_dist\n",
    "        return np.sum((nd_distance)**2)\n",
    "    \n",
    "    def __len__(self):\n",
    "        # Return number of routes\n",
    "        return self.routes.shape[0]"
   ]
  },
  {
   "cell_type": "markdown",
   "metadata": {},
   "source": [
    "# Test Gym class"
   ]
  },
  {
   "cell_type": "code",
   "execution_count": 340,
   "metadata": {},
   "outputs": [],
   "source": [
    "routes = gen_random_route(10)\n",
    "goals = gen_random_goals(10)\n",
    "\n",
    "elevation = Gym(routes,goals)"
   ]
  },
  {
   "cell_type": "code",
   "execution_count": 341,
   "metadata": {},
   "outputs": [
    {
     "name": "stdout",
     "output_type": "stream",
     "text": [
      "Goal shape (38,)\n",
      "routes shape (10, 38)\n",
      "Number of routes 10\n",
      "5th route ['powerful' 'heel-hooking' 'green' 'medium' '2' '2' '4' 'barrel']\n",
      "distance [-1.92175387  6.67798486  0.4654931  -1.43892114 -3.78280296  1.39248334\n",
      "  0.65879648  0.22075695 -0.52028699 -1.75174978  3.64658353  1.11226916\n",
      "  0.10244699 -3.9337989  -0.92750078 -5.70335287  4.1181058   1.58524707\n",
      " -0.77036648 -1.4836155   0.44494187  1.13993126  0.66910884 -1.85283069\n",
      " -3.80988824  1.44707053  6.15769796 -1.94204956  2.49650561  0.36880896\n",
      " -0.51847974 -5.7240647   3.37722987  0.01137718 -1.05463981 -0.60251574\n",
      "  2.19994695 -0.55416858]\n",
      "routes [4. 0. 0. 2. 4. 3. 1. 3. 1. 2. 1. 1. 3. 4. 1. 7. 1. 2. 8. 2. 0. 0. 0. 2.\n",
      " 4. 0. 2. 2. 2. 0. 2. 6. 0. 1. 3. 3. 1. 2.]\n",
      "goals [2.07824613 6.67798486 0.4654931  0.56107886 0.21719704 4.39248334\n",
      " 1.65879648 3.22075695 0.47971301 0.24825022 4.64658353 2.11226916\n",
      " 3.10244699 0.0662011  0.07249922 1.29664713 5.1181058  3.58524707\n",
      " 7.22963352 0.5163845  0.44494187 1.13993126 0.66910884 0.14716931\n",
      " 0.19011176 1.44707053 8.15769796 0.05795044 4.49650561 0.36880896\n",
      " 1.48152026 0.2759353  3.37722987 1.01137718 1.94536019 2.39748426\n",
      " 3.19994695 1.44583142]\n"
     ]
    }
   ],
   "source": [
    "print('Goal shape',goals.shape)\n",
    "print('routes shape',routes.shape)\n",
    "print('Number of routes',len(elevation))\n",
    "print('5th route',elevation.get_route(5))\n",
    "print('distance',elevation.L2)\n",
    "print('routes',np.sum(routes,axis=0))\n",
    "print('goals',goals)"
   ]
  },
  {
   "cell_type": "markdown",
   "metadata": {},
   "source": [
    "# Network"
   ]
  },
  {
   "cell_type": "code",
   "execution_count": 384,
   "metadata": {},
   "outputs": [],
   "source": [
    "class Network(nn.Module):\n",
    "    def __init__(self,state_space,seed,hidden_dims=(32,32),activation_fc=F.relu):\n",
    "        super(Network,self).__init__()\n",
    "        self.activation_fc = activation_fc\n",
    "        self.seed = torch.manual_seed(seed)\n",
    "        self.input_layer = nn.Linear(state_space,hidden_dims[0])\n",
    "        self.hidden_layers = nn.ModuleList()\n",
    "        for i in range(len(hidden_dims)-1):\n",
    "            hidden_layer = nn.Linear(hidden_dims[i],hidden_dims[i+1])\n",
    "            self.hidden_layers.append(hidden_layer)\n",
    "        \n",
    "        # Outputs, we softmax over the various classes for 1 per class (can change this for multi class)\n",
    "        self.style = nn.Linear(hidden_dims[-1],5)\n",
    "        self.techniques = nn.Linear(hidden_dims[-1],5)\n",
    "        self.grades = nn.Linear(hidden_dims[-1],5)\n",
    "        self.length = nn.Linear(hidden_dims[-1],3)\n",
    "        self.R = nn.Linear(hidden_dims[-1],5)\n",
    "        self.I = nn.Linear(hidden_dims[-1],5)\n",
    "        self.C = nn.Linear(hidden_dims[-1],5)\n",
    "        self.Location = nn.Linear(hidden_dims[-1],5)\n",
    "        \n",
    "    def forward(self,state):\n",
    "        x = state\n",
    "        if not isinstance(state,torch.Tensor):\n",
    "            x = torch.tensor(x,dtype=torch.float32) #device = self.device,\n",
    "            x = x.unsqueeze(0)\n",
    "        x = self.activation_fc(self.input_layer(x))\n",
    "        for hidden_layer in self.hidden_layers:\n",
    "            x = self.activation_fc(hidden_layer(x))\n",
    "            \n",
    "        # Outputs\n",
    "        S = F.softmax(self.style(x),dim=1)\n",
    "        T = F.softmax(self.techniques(x),dim=1)\n",
    "        G = F.softmax(self.grades(x),dim=1)\n",
    "        L = F.softmax(self.length(x),dim=1)\n",
    "        R = F.softmax(self.R(x),dim=1)\n",
    "        I = F.softmax(self.I(x),dim=1)\n",
    "        C = F.softmax(self.C(x),dim=1)\n",
    "        Location = F.softmax(self.Location(x),dim=1)\n",
    "        # Cat outputs\n",
    "        route = torch.cat([S,T,G,L,R,I,C,Location],dim=1)\n",
    "#         log_probs = torch.log(route)\n",
    "        return route"
   ]
  },
  {
   "cell_type": "code",
   "execution_count": 366,
   "metadata": {},
   "outputs": [],
   "source": [
    "state_space = 38\n",
    "seed = 1234\n",
    "suggestion_engine = Network(state_space,seed)\n",
    "optimizer = optim.Adam(net.parameters(), lr=1e-4)\n",
    "criterion = nn.CrossEntropyLoss()"
   ]
  },
  {
   "cell_type": "markdown",
   "metadata": {},
   "source": [
    "## Test network outputs"
   ]
  },
  {
   "cell_type": "code",
   "execution_count": 367,
   "metadata": {},
   "outputs": [
    {
     "name": "stdout",
     "output_type": "stream",
     "text": [
      "output tensor([0.1913, 0.2065, 0.1836, 0.2040, 0.2146, 0.2273, 0.1598, 0.2165, 0.2143,\n",
      "        0.1821, 0.2050, 0.2035, 0.1955, 0.1861, 0.2099, 0.3307, 0.3759, 0.2934,\n",
      "        0.1899, 0.1915, 0.1882, 0.2274, 0.2030, 0.2220, 0.2137, 0.1957, 0.1898,\n",
      "        0.1789, 0.1939, 0.1864, 0.2065, 0.1860, 0.2271, 0.2092, 0.2114, 0.1788,\n",
      "        0.1921, 0.2086], grad_fn=<SqueezeBackward1>) torch.Size([38])\n",
      "distance [-1.92175387  6.67798486  0.4654931  -1.43892114 -3.78280296  1.39248334\n",
      "  0.65879648  0.22075695 -0.52028699 -1.75174978  3.64658353  1.11226916\n",
      "  0.10244699 -3.9337989  -0.92750078 -5.70335287  4.1181058   1.58524707\n",
      " -0.77036648 -1.4836155   0.44494187  1.13993126  0.66910884 -1.85283069\n",
      " -3.80988824  1.44707053  6.15769796 -1.94204956  2.49650561  0.36880896\n",
      " -0.51847974 -5.7240647   3.37722987  0.01137718 -1.05463981 -0.60251574\n",
      "  2.19994695 -0.55416858]\n",
      "loss 7.3007308443645496\n"
     ]
    }
   ],
   "source": [
    "test_routes = gen_random_route(10)\n",
    "output = suggestion_engine(test_routes[0]).squeeze(0)\n",
    "# print('output[:5]',output.detach().cpu().numpy()[:5])\n",
    "# print('output[5:10]',output.detach().cpu().numpy()[5:10])\n",
    "print('output',output,output.shape)\n",
    "# print('output[:5]',np.sum(output.detach().cpu().numpy()[:5]))\n",
    "# print('output[5:10]',np.sum(output.detach().cpu().numpy()[5:10]))\n",
    "print('distance',elevation.L2)\n",
    "print('loss',elevation.loss)"
   ]
  },
  {
   "cell_type": "code",
   "execution_count": 452,
   "metadata": {},
   "outputs": [],
   "source": [
    "def route_from_suggestion(suggestion):\n",
    "    route = np.zeros(38)\n",
    "    \n",
    "    styles = suggestion[0:5] \n",
    "    techniques     = suggestion[5:10] \n",
    "    grades     = suggestion[10:15] \n",
    "    length     = suggestion[15:18] \n",
    "    R     = suggestion[18:23] \n",
    "    I     = suggestion[23:28] \n",
    "    C     = suggestion[28:33] \n",
    "    Location     = suggestion[33:38] \n",
    "    \n",
    "    values_5 = np.arange(5)\n",
    "    values_3 = np.arange(3)\n",
    "    \n",
    "    route_style = np.random.choice(values_5,p=styles)\n",
    "    route_techniques = np.random.choice(values_5,p=techniques) + 5\n",
    "    route_grades = np.random.choice(values_5,p=grades) + 10\n",
    "    route_length = np.random.choice(values_3,p=length) + 15\n",
    "    route_R = np.random.choice(values_5,p=R) + 18\n",
    "    route_I = np.random.choice(values_5,p=I) + 23\n",
    "    route_C = np.random.choice(values_5,p=C) + 28\n",
    "    route_Locations = np.random.choice(values_5,p=Location) + 33\n",
    "    \n",
    "    mask = np.array([route_style,route_techniques,route_grades,\\\n",
    "                           route_length,route_R,route_I,route_C,route_Locations])\n",
    "#     print('mask',mask)\n",
    "    route[mask] = 1\n",
    "    return route"
   ]
  },
  {
   "cell_type": "markdown",
   "metadata": {},
   "source": [
    "# Math create next route\n",
    "\n",
    "For comparison\n",
    "\n",
    "- minus means we need to get rid of\n",
    "- plus means we need to boost occurances of"
   ]
  },
  {
   "cell_type": "code",
   "execution_count": 547,
   "metadata": {},
   "outputs": [],
   "source": [
    "def route_from_distance(distance):\n",
    "    route = np.zeros(38)\n",
    "    \n",
    "    styles = distance[0:5] \n",
    "    techniques     = distance[5:10] \n",
    "    grades     = distance[10:15] \n",
    "    length     = distance[15:18] \n",
    "    R     = distance[18:23] \n",
    "    I     = distance[23:28] \n",
    "    C     = distance[28:33] \n",
    "    location     = distance[33:38] \n",
    "    \n",
    "    r_styles = np.where(styles == np.max(styles))[0]\n",
    "    r_techniques = np.where(techniques == np.max(techniques))[0] + 5\n",
    "    r_grades = np.where(grades == np.max(grades))[0] + 10\n",
    "    r_length = np.where(length == np.max(length))[0] + 15\n",
    "    r_R = np.where(R == np.max(R))[0] + 18\n",
    "    r_I = np.where(I == np.max(I))[0] + 23\n",
    "    r_C = np.where(C == np.max(C))[0] + 28\n",
    "    r_location = np.where(location == np.max(location))[0] + 33\n",
    "    \n",
    "    mask = np.array([r_styles,r_techniques,r_grades,r_length,r_R,r_I,r_C,r_location])\n",
    "#     print(mask)\n",
    "    route[mask] = 1\n",
    "    return route\n",
    "\n",
    "def softmax(x):\n",
    "    \"\"\"Compute softmax values for each sets of scores in x.\"\"\"\n",
    "    e_x = np.exp(x - np.max(x))\n",
    "    return e_x / e_x.sum(axis=0)\n",
    "\n",
    "def probabilistic_route(distance):\n",
    "    route = np.zeros(38)\n",
    "    epsilon = 0\n",
    "    arr_5 = np.arange(5)\n",
    "    arr_3 = np.arange(3)\n",
    "    \n",
    "    styles = distance[0:5] \n",
    "    techniques     = distance[5:10] \n",
    "    grades     = distance[10:15] \n",
    "    length     = distance[15:18] \n",
    "    R     = distance[18:23] \n",
    "    I     = distance[23:28] \n",
    "    C     = distance[28:33] \n",
    "    location     = distance[33:38] \n",
    "    \n",
    "    r_style_prob = softmax(styles+np.abs(np.min(styles))+epsilon)\n",
    "    r_tech_prob = softmax(techniques+np.abs(np.min(techniques))+epsilon)\n",
    "    r_grad_prob = softmax(grades+np.abs(np.min(grades))+epsilon)\n",
    "    length_prob = softmax(length+np.abs(np.min(length))+epsilon)\n",
    "    r_prob = softmax(R+np.abs(np.min(R))+epsilon)\n",
    "    i_prob =softmax(I+np.abs(np.min(I))+epsilon)\n",
    "    c_prob = softmax(C+np.abs(np.min(C))+epsilon)\n",
    "    loc_prob = softmax(location+np.abs(np.min(location))+epsilon)\n",
    "    \n",
    "    r_styles = np.random.choice(arr_5,p=r_style_prob)\n",
    "    r_techniques = np.random.choice(arr_5,p=r_tech_prob) + 5\n",
    "    r_grades = np.random.choice(arr_5,p=r_grad_prob) + 10\n",
    "    r_length = np.random.choice(arr_3,p=length_prob) + 15\n",
    "    r_R = np.random.choice(arr_5,p=r_prob) + 18\n",
    "    r_I = np.random.choice(arr_5,p=i_prob) + 23\n",
    "    r_C = np.random.choice(arr_5,p=c_prob) + 28\n",
    "    r_location = np.random.choice(arr_5,p=loc_prob) + 33\n",
    "    \n",
    "    mask = np.array([r_styles,r_techniques,r_grades,r_length,r_R,r_I,r_C,r_location])\n",
    "#     print(mask)\n",
    "    route[mask] = 1\n",
    "    return route"
   ]
  },
  {
   "cell_type": "code",
   "execution_count": 548,
   "metadata": {},
   "outputs": [],
   "source": [
    "# Test route_from_distance\n",
    "# route_from_distance(elevation.L2)"
   ]
  },
  {
   "cell_type": "code",
   "execution_count": 549,
   "metadata": {},
   "outputs": [],
   "source": [
    "def train(config):\n",
    "    scores = []\n",
    "    for e in range(config.episodes):\n",
    "        episode_scores = []\n",
    "        routes = gen_random_route(10)\n",
    "        goals = gen_random_goals(10)\n",
    "        elevation = Gym(routes,goals)\n",
    "        print('starting loss',elevation.loss)\n",
    "        for i in range(config.tmax):\n",
    "            # Record loss and distance\n",
    "            state = elevation.L2\n",
    "            prev_loss = elevation.loss\n",
    "            # Pass distance into math\n",
    "#             route = route_from_distance(state)\n",
    "            route = probabilistic_route(state)\n",
    "            # Update gym\n",
    "            elevation.update_route(route)\n",
    "            # Get new loss\n",
    "            loss = elevation.loss\n",
    "            episode_scores.append(loss)\n",
    "            print('loss',loss)\n",
    "#             print('value of step',loss-prev_loss)\n",
    "        print('end loss',loss)\n",
    "        print('progress')\n",
    "        scores.append(loss)\n",
    "    return episode_scores"
   ]
  },
  {
   "cell_type": "code",
   "execution_count": 550,
   "metadata": {},
   "outputs": [
    {
     "name": "stdout",
     "output_type": "stream",
     "text": [
      "starting loss 379.1973329211085\n",
      "loss 303.6669458198004\n",
      "loss 225.00377815934243\n",
      "loss 210.13738405128768\n",
      "loss 141.96865844437605\n",
      "loss 94.00633423012073\n",
      "loss 62.3569208515146\n",
      "loss 54.03783045428569\n",
      "loss 40.30145023361909\n",
      "loss 25.262553106269987\n",
      "loss 26.100736539229683\n",
      "loss 31.98879531984505\n",
      "loss 44.55463573868661\n",
      "loss 49.266514697861275\n",
      "loss 55.90169937883924\n",
      "loss 80.90869562399142\n",
      "loss 66.13692813829809\n",
      "loss 66.31020438503873\n",
      "loss 71.45627771642866\n",
      "loss 51.678584612780305\n",
      "loss 42.114570925259784\n",
      "loss 35.97675009125059\n",
      "loss 28.96861516361055\n",
      "loss 46.55240280402003\n",
      "loss 53.559571465747396\n",
      "loss 47.9031888491183\n",
      "loss 52.926154418055155\n",
      "loss 57.85698862146258\n",
      "loss 56.699617502643704\n",
      "loss 57.05240345793108\n",
      "loss 43.8111460001139\n",
      "loss 49.95256961923154\n",
      "loss 33.68884279704303\n",
      "loss 26.622650040744606\n",
      "loss 37.68638415565829\n",
      "loss 35.55330201365549\n",
      "loss 52.05281178513276\n",
      "loss 61.123030985444316\n",
      "loss 63.13432877287325\n",
      "loss 57.11080283793959\n",
      "loss 76.8693633857552\n",
      "loss 52.09048115429684\n",
      "loss 70.15874551978487\n",
      "loss 62.92696695295862\n",
      "loss 43.26410580464634\n",
      "loss 33.89039859334636\n",
      "loss 39.65549522203147\n",
      "loss 51.159955012731714\n",
      "loss 51.14165090079117\n",
      "loss 48.45015684197046\n",
      "loss 43.00381826097598\n",
      "end loss 43.00381826097598\n",
      "progress\n"
     ]
    }
   ],
   "source": [
    "scores = train(config)"
   ]
  },
  {
   "cell_type": "code",
   "execution_count": 469,
   "metadata": {},
   "outputs": [
    {
     "data": {
      "text/plain": [
       "[<matplotlib.lines.Line2D at 0x120cbb630>]"
      ]
     },
     "execution_count": 469,
     "metadata": {},
     "output_type": "execute_result"
    },
    {
     "data": {
      "image/png": "[encoded data removed]",
      "text/plain": [
       "<Figure size 432x288 with 1 Axes>"
      ]
     },
     "metadata": {
      "needs_background": "light"
     },
     "output_type": "display_data"
    }
   ],
   "source": [
    "plt.plot(scores)"
   ]
  },
  {
   "cell_type": "markdown",
   "metadata": {},
   "source": [
    "# Train the network\n",
    "\n",
    "- Loss is the difference in loss between the previous route distribution and the current one.\n",
    "- We want to increase/decrease the log probability of choosing that 'action/distribution' based on the loss difference.\n",
    "- We update the log probs with the gradiant of the outcome\n"
   ]
  },
  {
   "cell_type": "code",
   "execution_count": 416,
   "metadata": {},
   "outputs": [],
   "source": [
    "def train(policy,optimizer,config):\n",
    "    scores = []\n",
    "    for e in range(config.episodes):\n",
    "        routes = gen_random_route(10)\n",
    "        goals = gen_random_goals(10)\n",
    "        elevation = Gym(routes,goals)\n",
    "        print('starting loss',elevation.loss)\n",
    "        for i in range(config.tmax):\n",
    "#             current_dist = np.sum(elevation.routes,axis = 0)\n",
    "#             nd_distance = elevation.goals - current_dist\n",
    "#             prev_loss = np.mean((nd_distance)**2)\n",
    "#             print('prev_loss',prev_loss)\n",
    "            # Record loss and distance\n",
    "            state = elevation.L2\n",
    "            prev_loss = elevation.loss\n",
    "#             print('prev_loss',prev_loss)\n",
    "            # Pass distance into network\n",
    "            suggestion = policy(state)\n",
    "            # Get route from suggestion\n",
    "            route = route_from_suggestion(suggestion.detach().cpu().squeeze(0).numpy())\n",
    "            # Update gym\n",
    "            elevation.update_route(route)\n",
    "            \n",
    "            \n",
    "            # Get new loss\n",
    "            loss = elevation.loss\n",
    "            # Get improvement\n",
    "            route_loss = -torch.from_numpy(np.array(loss - prev_loss))\n",
    "            difference = (suggestion - torch.from_numpy(route).float())\n",
    "#             log_probs = torch.log(suggestion)\n",
    "            grad = (difference * route_loss).mean()\n",
    "        \n",
    "            \n",
    "            optimizer.zero_grad()\n",
    "            grad.backward()\n",
    "            optimizer.step()\n",
    "            print('grad',grad)\n",
    "        print('end loss',loss)\n",
    "        scores.append(loss)\n",
    "    return policy,scores"
   ]
  },
  {
   "cell_type": "code",
   "execution_count": 417,
   "metadata": {},
   "outputs": [],
   "source": [
    "class Config(object):\n",
    "    def __init__(self,episodes,tmax):\n",
    "        self.episodes = episodes\n",
    "        self.tmax = tmax"
   ]
  },
  {
   "cell_type": "code",
   "execution_count": 460,
   "metadata": {},
   "outputs": [],
   "source": [
    "episodes = 1\n",
    "tmax = 50\n",
    "\n",
    "config = Config(episodes,tmax)"
   ]
  },
  {
   "cell_type": "code",
   "execution_count": null,
   "metadata": {},
   "outputs": [],
   "source": [
    "policy,scores = train(suggestion_engine,optimizer,config)"
   ]
  },
  {
   "cell_type": "code",
   "execution_count": 419,
   "metadata": {},
   "outputs": [
    {
     "data": {
      "text/plain": [
       "[<matplotlib.lines.Line2D at 0x12061bf28>]"
      ]
     },
     "execution_count": 419,
     "metadata": {},
     "output_type": "execute_result"
    },
    {
     "data": {
      "image/png": "[encoded data removed]",
      "text/plain": [
       "<Figure size 432x288 with 1 Axes>"
      ]
     },
     "metadata": {
      "needs_background": "light"
     },
     "output_type": "display_data"
    }
   ],
   "source": [
    "plt.plot(scores)"
   ]
  },
  {
   "cell_type": "code",
   "execution_count": null,
   "metadata": {},
   "outputs": [],
   "source": []
  },
  {
   "cell_type": "code",
   "execution_count": null,
   "metadata": {},
   "outputs": [],
   "source": []
  }
 ],
 "metadata": {
  "kernelspec": {
   "display_name": "Python 3",
   "language": "python",
   "name": "python3"
  },
  "language_info": {
   "codemirror_mode": {
    "name": "ipython",
    "version": 3
   },
   "file_extension": ".py",
   "mimetype": "text/x-python",
   "name": "python",
   "nbconvert_exporter": "python",
   "pygments_lexer": "ipython3",
   "version": "3.6.7"
  }
 },
 "nbformat": 4,
 "nbformat_minor": 2
}

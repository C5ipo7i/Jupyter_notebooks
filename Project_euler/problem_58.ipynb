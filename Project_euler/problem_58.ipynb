{
 "cells": [
  {
   "cell_type": "code",
   "execution_count": 3,
   "metadata": {},
   "outputs": [],
   "source": [
    "import numpy as np\n",
    "import matplotlib.pyplot as plt\n",
    "import math"
   ]
  },
  {
   "cell_type": "code",
   "execution_count": 2,
   "metadata": {},
   "outputs": [
    {
     "ename": "SyntaxError",
     "evalue": "invalid syntax (<ipython-input-2-26c7c9dfe41e>, line 9)",
     "output_type": "error",
     "traceback": [
      "\u001b[0;36m  File \u001b[0;32m\"<ipython-input-2-26c7c9dfe41e>\"\u001b[0;36m, line \u001b[0;32m9\u001b[0m\n\u001b[0;31m    def return_product(N);\u001b[0m\n\u001b[0m                         ^\u001b[0m\n\u001b[0;31mSyntaxError\u001b[0m\u001b[0;31m:\u001b[0m invalid syntax\n"
     ]
    }
   ],
   "source": [
    "def return_sum(N):\n",
    "    b = math.floor(k / 2)\n",
    "    sum_list = [b]\n",
    "    \n",
    "    remainder = N - b\n",
    "    if remainder > 4:\n",
    "        sum_list.append(2)\n",
    "        \n",
    "def return_product(N):\n",
    "    \n",
    "    b = math.floor(k / 2)\n",
    "    product_list = [b]\n",
    "    \n",
    "    \n",
    "\n",
    "def product_sum(k):\n",
    "    # Sum\n",
    "    # denoms\n",
    "    if sums == denoms:\n",
    "        \n",
    "    return \n",
    "    \n",
    "    \n",
    "def main(N):\n",
    "    product = 0\n",
    "    for k in range(2,N+1):\n",
    "        product += product_sum(k)\n",
    "    return product\n",
    "\n",
    "assert main(6) == 30"
   ]
  },
  {
   "cell_type": "code",
   "execution_count": 35,
   "metadata": {},
   "outputs": [
    {
     "name": "stdout",
     "output_type": "stream",
     "text": [
      "percentages [  1   2   3   4   5   6   7   8   9  10  11  12  13  14  15  16  17  18\n",
      "  19  20  21  22  23  24  25  26  27  28  29  30  31  32  33  34  35  36\n",
      "  37  38  39  40  41  42  43  44  45  46  47  48  49  50  51  52  53  54\n",
      "  55  56  57  58  59  60  61  62  63  64  65  66  67  68  69  70  71  72\n",
      "  73  74  75  76  77  78  79  80  81  82  83  84  85  86  87  88  89  90\n",
      "  91  92  93  94  95  96  97  98  99 100]\n",
      "x [          1          32         243        1024        3125        7776\n",
      "       16807       32768       59049      100000      161051      248832\n",
      "      371293      537824      759375     1048576     1419857     1889568\n",
      "     2476099     3200000     4084101     5153632     6436343     7962624\n",
      "     9765625    11881376    14348907    17210368    20511149    24300000\n",
      "    28629151    33554432    39135393    45435424    52521875    60466176\n",
      "    69343957    79235168    90224199   102400000   115856201   130691232\n",
      "   147008443   164916224   184528125   205962976   229345007   254803968\n",
      "   282475249   312500000   345025251   380204032   418195493   459165024\n",
      "   503284375   550731776   601692057   656356768   714924299   777600000\n",
      "   844596301   916132832   992436543  1073741824  1160290625  1252332576\n",
      "  1350125107  1453933568  1564031349  1680700000  1804229351  1934917632\n",
      "  2073071593  2219006624  2373046875  2535525376  2706784157  2887174368\n",
      "  3077056399  3276800000  3486784401  3707398432  3939040643  4182119424\n",
      "  4437053125  4704270176  4984209207  5277319168  5584059449  5904900000\n",
      "  6240321451  6590815232  6956883693  7339040224  7737809375  8153726976\n",
      "  8587340257  9039207968  9509900499 10000000000] 345025251\n"
     ]
    },
    {
     "data": {
      "text/plain": [
       "[<matplotlib.lines.Line2D at 0x1106484a8>]"
      ]
     },
     "execution_count": 35,
     "metadata": {},
     "output_type": "execute_result"
    },
    {
     "data": {
      "image/png": "[encoded data removed]",
      "text/plain": [
       "<Figure size 432x288 with 1 Axes>"
      ]
     },
     "metadata": {
      "needs_background": "light"
     },
     "output_type": "display_data"
    }
   ],
   "source": [
    "percentages = np.arange(101)[1:]\n",
    "print('percentages',percentages)\n",
    "x = np.power(percentages,5)\n",
    "middle = x[50]\n",
    "print('x',x,x[50])\n",
    "\n",
    "plt.plot(x)"
   ]
  },
  {
   "cell_type": "code",
   "execution_count": 36,
   "metadata": {},
   "outputs": [
    {
     "data": {
      "text/plain": [
       "17251262550"
      ]
     },
     "execution_count": 36,
     "metadata": {},
     "output_type": "execute_result"
    }
   ],
   "source": [
    "middle * 50"
   ]
  },
  {
   "cell_type": "code",
   "execution_count": 37,
   "metadata": {},
   "outputs": [
    {
     "data": {
      "text/plain": [
       "10000000000"
      ]
     },
     "execution_count": 37,
     "metadata": {},
     "output_type": "execute_result"
    }
   ],
   "source": [
    "int(1e+10)"
   ]
  },
  {
   "cell_type": "code",
   "execution_count": null,
   "metadata": {},
   "outputs": [],
   "source": [
    "10000000000"
   ]
  }
 ],
 "metadata": {
  "kernelspec": {
   "display_name": "Python 3",
   "language": "python",
   "name": "python3"
  },
  "language_info": {
   "codemirror_mode": {
    "name": "ipython",
    "version": 3
   },
   "file_extension": ".py",
   "mimetype": "text/x-python",
   "name": "python",
   "nbconvert_exporter": "python",
   "pygments_lexer": "ipython3",
   "version": "3.6.7"
  }
 },
 "nbformat": 4,
 "nbformat_minor": 2
}

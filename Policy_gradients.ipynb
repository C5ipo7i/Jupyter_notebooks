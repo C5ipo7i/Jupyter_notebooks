{
 "cells": [
  {
   "cell_type": "code",
   "execution_count": 6,
   "metadata": {},
   "outputs": [
    {
     "data": {
      "application/javascript": [
       "IPython.notebook.set_autosave_interval(180000)"
      ]
     },
     "metadata": {},
     "output_type": "display_data"
    },
    {
     "name": "stdout",
     "output_type": "stream",
     "text": [
      "Autosaving every 180 seconds\n"
     ]
    }
   ],
   "source": [
    "import torch\n",
    "import torch.nn as nn\n",
    "import torch.nn.functional as F\n",
    "import torch.optim as optim\n",
    "\n",
    "import time\n",
    "import math\n",
    "import copy\n",
    "import operator\n",
    "import numpy as np\n",
    "import random\n",
    "from collections import namedtuple, deque\n",
    "import matplotlib.pyplot as plt\n",
    "import imageio\n",
    "\n",
    "is_ipython = 'inline' in plt.get_backend()\n",
    "if is_ipython:\n",
    "    from IPython import display\n",
    "\n",
    "plt.ion()\n",
    "\n",
    "import gym\n",
    "\n",
    "%autosave 180"
   ]
  },
  {
   "cell_type": "code",
   "execution_count": 7,
   "metadata": {
    "collapsed": true
   },
   "outputs": [],
   "source": [
    "device = torch.device(\"cuda\" if torch.cuda.is_available() else \"cpu\")"
   ]
  },
  {
   "cell_type": "markdown",
   "metadata": {},
   "source": [
    "# Instantiate the Environment"
   ]
  },
  {
   "cell_type": "code",
   "execution_count": 3,
   "metadata": {},
   "outputs": [
    {
     "name": "stdout",
     "output_type": "stream",
     "text": [
      "state space 4\n",
      "action space 2\n"
     ]
    },
    {
     "name": "stderr",
     "output_type": "stream",
     "text": [
      "/anaconda3/envs/torch/lib/python3.6/site-packages/gym/envs/registration.py:14: PkgResourcesDeprecationWarning: Parameters to load are deprecated.  Call .resolve and .require separately.\n",
      "  result = entry_point.load(False)\n"
     ]
    }
   ],
   "source": [
    "seed = 7\n",
    "env = gym.make('CartPole-v0')\n",
    "env.seed(seed)\n",
    "nA = env.action_space.n\n",
    "nS = env.observation_space.shape[0]\n",
    "print('state space',nS)\n",
    "print('action space',nA)"
   ]
  },
  {
   "cell_type": "markdown",
   "metadata": {},
   "source": [
    "# Plot functions"
   ]
  },
  {
   "cell_type": "code",
   "execution_count": 4,
   "metadata": {
    "collapsed": true
   },
   "outputs": [],
   "source": [
    "def plot(scores):\n",
    "    # Rolling mean plot\n",
    "    interval = 5\n",
    "    rolling_mean = [np.mean(scores[(slice_*interval):(slice_+1)*interval]) for slice_ in range(math.ceil(len(scores)/interval))]\n",
    "    x_axis = np.arange(len(rolling_mean)) * interval\n",
    "    plt.plot(x_axis, rolling_mean)\n",
    "    plt.ylabel('Score')\n",
    "    plt.xlabel('Episode #')\n",
    "    plt.show()"
   ]
  },
  {
   "cell_type": "markdown",
   "metadata": {},
   "source": [
    "# Policy Gradients\n",
    "\n",
    "A suite of methods where we optimize for policy directly.\n",
    "First we define our network"
   ]
  },
  {
   "cell_type": "markdown",
   "metadata": {},
   "source": [
    "## Network"
   ]
  },
  {
   "cell_type": "code",
   "execution_count": 5,
   "metadata": {
    "collapsed": true
   },
   "outputs": [],
   "source": [
    "class Network(nn.Module):\n",
    "    def __init__(self,nS,nA,hidden_dims=(32,32)):\n",
    "        super(Network,self).__init__()\n",
    "        self.activation_fc = F.relu\n",
    "        self.input_layer = nn.Linear(nS,hidden_dims[0])\n",
    "        self.hidden_layers = nn.ModuleList()\n",
    "        for i in range(len(hidden_dims)-1):\n",
    "            hidden_layer = nn.Linear(hidden_dims[i],hidden_dims[i+1])\n",
    "            self.hidden_layers.append(hidden_layer)\n",
    "        self.actions = nn.Linear(hidden_dims[-1],nA)\n",
    "        \n",
    "    def forward(self,state):\n",
    "        x = state\n",
    "        if not isinstance(state,torch.Tensor):\n",
    "            x = torch.tensor(x,dtype=torch.float32) #device = self.device,\n",
    "            x = x.unsqueeze(0)\n",
    "        x = self.activation_fc(self.input_layer(x))\n",
    "        for hidden_layer in self.hidden_layers:\n",
    "            x = self.activation_fc(hidden_layer(x))\n",
    "        action_probabilities = F.softmax(self.actions(x), dim=1)\n",
    "        return action_probabilities"
   ]
  },
  {
   "cell_type": "markdown",
   "metadata": {},
   "source": [
    "# Policy algorithms with np arrays"
   ]
  },
  {
   "cell_type": "markdown",
   "metadata": {},
   "source": [
    "## Random search"
   ]
  },
  {
   "cell_type": "code",
   "execution_count": 59,
   "metadata": {},
   "outputs": [
    {
     "name": "stdout",
     "output_type": "stream",
     "text": [
      "time of computation 4.51309609413147 in seconds\n",
      "average num episodes before solve 12.695\n"
     ]
    }
   ],
   "source": [
    "# ultra fast random search\n",
    "def random_policy_search(env):\n",
    "    scores = []\n",
    "    for _ in range(1000):\n",
    "        best_params = None\n",
    "        best_reward = 0\n",
    "        for i in range(100):\n",
    "            parameters = np.random.rand(4) * 2 -1\n",
    "            reward = run_episode(parameters,env)\n",
    "            if reward > best_reward:\n",
    "                best_params = parameters\n",
    "                best_reward = reward\n",
    "                if reward == 200:\n",
    "                    break\n",
    "        scores.append(i)\n",
    "    return scores\n",
    "        \n",
    "def run_episode(params,env):\n",
    "    state = env.reset()\n",
    "    totalreward = 0\n",
    "    for _ in range(200):\n",
    "        action = 0 if np.matmul(params,state) < 0 else 1\n",
    "        state,reward,done,_ = env.step(action)\n",
    "        totalreward += reward\n",
    "        if done:\n",
    "            break\n",
    "    return totalreward\n",
    "    \n",
    "tic = time.time()\n",
    "scores = random_policy_search(env)\n",
    "toc = time.time()\n",
    "print('time of computation {} in seconds'.format(str(toc-tic)))\n",
    "print('average num episodes before solve',np.mean(scores))\n",
    "# plot(scores)"
   ]
  },
  {
   "cell_type": "markdown",
   "metadata": {},
   "source": [
    "## Hill Climbing\n",
    "\n",
    "Steepest ascent\n",
    "With 5 param modifications per step"
   ]
  },
  {
   "cell_type": "code",
   "execution_count": 58,
   "metadata": {
    "collapsed": true
   },
   "outputs": [],
   "source": [
    "class Policy():\n",
    "    def __init__(self, s_size=4, a_size=2):\n",
    "        self.w = 1e-4*np.random.rand(s_size, a_size)  # weights for simple linear policy: state_space x action_space\n",
    "        \n",
    "    def forward(self, state):\n",
    "        x = np.dot(state, self.w)\n",
    "        return np.exp(x)/sum(np.exp(x))\n",
    "    \n",
    "    def act(self, state):\n",
    "        probs = self.forward(state)\n",
    "        #action = np.random.choice(2, p=probs) # option 1: stochastic policy\n",
    "        action = np.argmax(probs)              # option 2: deterministic policy\n",
    "        return action"
   ]
  },
  {
   "cell_type": "code",
   "execution_count": null,
   "metadata": {
    "collapsed": true
   },
   "outputs": [],
   "source": [
    "policy = Policy()\n",
    "\n",
    "def hill_climbing(n_episodes=1000, max_t=1000, gamma=1.0, print_every=100, noise_scale=1e-2):\n",
    "    \"\"\"Implementation of hill climbing with adaptive noise scaling.\n",
    "        \n",
    "    Params\n",
    "    ======\n",
    "        n_episodes (int): maximum number of training episodes\n",
    "        max_t (int): maximum number of timesteps per episode\n",
    "        gamma (float): discount rate\n",
    "        print_every (int): how often to print average score (over last 100 episodes)\n",
    "        noise_scale (float): standard deviation of additive noise\n",
    "    \"\"\"\n",
    "    scores_deque = deque(maxlen=100)\n",
    "    scores = []\n",
    "    best_R = -np.Inf\n",
    "    best_w = policy.w\n",
    "    for i_episode in range(1, n_episodes+1):\n",
    "        rewards = []\n",
    "        state = env.reset()\n",
    "        for t in range(max_t):\n",
    "            action = policy.act(state)\n",
    "            state, reward, done, _ = env.step(action)\n",
    "            rewards.append(reward)\n",
    "            if done:\n",
    "                break \n",
    "        scores_deque.append(sum(rewards))\n",
    "        scores.append(sum(rewards))\n",
    "\n",
    "        discounts = [gamma**i for i in range(len(rewards)+1)]\n",
    "        R = sum([a*b for a,b in zip(discounts, rewards)])\n",
    "\n",
    "        if R >= best_R: # found better weights\n",
    "            best_R = R\n",
    "            best_w = policy.w\n",
    "            noise_scale = max(1e-3, noise_scale / 2)\n",
    "            policy.w += noise_scale * np.random.rand(*policy.w.shape) \n",
    "        else: # did not find better weights\n",
    "            noise_scale = min(2, noise_scale * 2)\n",
    "            policy.w = best_w + noise_scale * np.random.rand(*policy.w.shape)\n",
    "\n",
    "        if i_episode % print_every == 0:\n",
    "            print('Episode {}\\tAverage Score: {:.2f}'.format(i_episode, np.mean(scores_deque)))\n",
    "        if np.mean(scores_deque)>=195.0:\n",
    "            print('Environment solved in {:d} episodes!\\tAverage Score: {:.2f}'.format(i_episode-100, np.mean(scores_deque)))\n",
    "            policy.w = best_w\n",
    "            break\n",
    "        \n",
    "    return scores\n",
    "            \n",
    "scores = hill_climbing()"
   ]
  },
  {
   "cell_type": "code",
   "execution_count": 16,
   "metadata": {},
   "outputs": [
    {
     "name": "stdout",
     "output_type": "stream",
     "text": [
      "time of computation 180.11616897583008 in seconds\n",
      "average num episodes before solve 422.016\n",
      "updates 1109\n",
      "no_improve 104645\n"
     ]
    }
   ],
   "source": [
    "def hill_policy_search(env,num_agents):\n",
    "    scores = []\n",
    "    updates = 0\n",
    "    no_improve = 0\n",
    "    for _ in range(250):\n",
    "        best_params = np.random.rand(4) * 2 -1\n",
    "        noise = 0.1\n",
    "        best_reward = 0\n",
    "        for i in range(500):\n",
    "            rewards = []\n",
    "            params = []\n",
    "            for k in range(num_agents):\n",
    "                parameters = best_params + (np.random.rand(4) * 2 -1)*noise\n",
    "                reward = run_episode(parameters,env)\n",
    "                rewards.append(reward)\n",
    "                params.append(parameters)\n",
    "            if max(rewards) > best_reward:\n",
    "                updates += 1\n",
    "                best_agent = np.argmax(rewards)\n",
    "                best_params = params[best_agent]\n",
    "                best_reward = rewards[best_agent]\n",
    "                if reward == 200:\n",
    "                    break\n",
    "            else:\n",
    "                no_improve += 1\n",
    "        scores.append(i)\n",
    "    return scores,updates,no_improve\n",
    "        \n",
    "def run_episode(params,env):\n",
    "    state = env.reset()\n",
    "    totalreward = 0\n",
    "    for _ in range(200):\n",
    "        action = 0 if np.matmul(params,state) < 0 else 1\n",
    "        state,reward,done,_ = env.step(action)\n",
    "        totalreward += reward\n",
    "        if done:\n",
    "            break\n",
    "    return totalreward\n",
    "    \n",
    "tic = time.time()\n",
    "num_agents = 5\n",
    "scores,updates,no_improve = hill_policy_search(env,num_agents)\n",
    "toc = time.time()\n",
    "print('time of computation {} in seconds'.format(str(toc-tic)))\n",
    "print('average num episodes before solve',np.mean(scores))\n",
    "print('updates',updates)\n",
    "print('no_improve',no_improve)"
   ]
  },
  {
   "cell_type": "markdown",
   "metadata": {},
   "source": [
    "## + Simulated Annealing"
   ]
  },
  {
   "cell_type": "code",
   "execution_count": 17,
   "metadata": {},
   "outputs": [
    {
     "name": "stdout",
     "output_type": "stream",
     "text": [
      "time of computation 9.671694040298462 in seconds\n",
      "average num episodes before solve 12.0\n",
      "anneals 19905\n",
      "resets 2906\n"
     ]
    }
   ],
   "source": [
    "# ultra fast random search\n",
    "def annealed_hill_policy_search(env):\n",
    "    scores = []\n",
    "    anneals = 0\n",
    "    resets = 0\n",
    "    start_noise = 0.1\n",
    "    noise = 0.1\n",
    "    for _ in range(500):\n",
    "        best_params = np.random.rand(4) * 2 -1\n",
    "        best_reward = 0\n",
    "        for i in range(500):\n",
    "            parameters = best_params + (np.random.rand(4) * 2 -1)*noise\n",
    "            reward = run_episode(parameters,env)\n",
    "            if reward > best_reward:\n",
    "                best_params = parameters\n",
    "                best_reward = reward\n",
    "                if reward == 200:\n",
    "                    break\n",
    "                resets += 1\n",
    "                noise = min(start_noise,noise - 0.04)\n",
    "            else:\n",
    "                anneals += 1\n",
    "                noise += 0.04\n",
    "        scores.append(i)\n",
    "    return i,anneals,resets\n",
    "    \n",
    "        \n",
    "def run_episode(params,env):\n",
    "    state = env.reset()\n",
    "    totalreward = 0\n",
    "    for _ in range(200):\n",
    "        action = 0 if np.matmul(params,state) < 0 else 1\n",
    "        state,reward,done,_ = env.step(action)\n",
    "        totalreward += reward\n",
    "        if done:\n",
    "            break\n",
    "    return totalreward\n",
    "    \n",
    "tic = time.time()\n",
    "scores,anneals,resets = annealed_hill_policy_search(env)\n",
    "toc = time.time()\n",
    "print('time of computation {} in seconds'.format(str(toc-tic)))\n",
    "print('average num episodes before solve',np.mean(scores))\n",
    "print('anneals',anneals)\n",
    "print('resets',resets)"
   ]
  },
  {
   "cell_type": "markdown",
   "metadata": {},
   "source": [
    "## + Adaptive noise scaling"
   ]
  },
  {
   "cell_type": "code",
   "execution_count": 21,
   "metadata": {},
   "outputs": [
    {
     "name": "stdout",
     "output_type": "stream",
     "text": [
      "time of computation 8.949865818023682 in seconds\n",
      "average num episodes before solve 2.0\n",
      "anneals 21111\n",
      "resets 2999\n"
     ]
    }
   ],
   "source": [
    "# ultra fast random search\n",
    "def adaptive_hill_policy_search(env):\n",
    "    scores = []\n",
    "    anneals = 0\n",
    "    resets = 0\n",
    "    start_noise = 0.1\n",
    "    noise = 0.1\n",
    "    for _ in range(500):\n",
    "        best_params = np.random.rand(4) * 2 -1\n",
    "        best_reward = 0\n",
    "        for i in range(500):\n",
    "            parameters = best_params + (np.random.rand(4) * 2 -1)*noise\n",
    "            reward = run_episode(parameters,env)\n",
    "            if reward > best_reward:\n",
    "                best_params = parameters\n",
    "                best_reward = reward\n",
    "                if reward == 200:\n",
    "                    break\n",
    "                resets += 1\n",
    "                noise = start_noise\n",
    "            else:\n",
    "                anneals += 1\n",
    "                noise += 0.04\n",
    "        scores.append(i)\n",
    "    return i,anneals,resets\n",
    "    \n",
    "        \n",
    "def run_episode(params,env):\n",
    "    state = env.reset()\n",
    "    totalreward = 0\n",
    "    for _ in range(200):\n",
    "        action = 0 if np.matmul(params,state) < 0 else 1\n",
    "        state,reward,done,_ = env.step(action)\n",
    "        totalreward += reward\n",
    "        if done:\n",
    "            break\n",
    "    return totalreward\n",
    "    \n",
    "tic = time.time()\n",
    "scores,anneals,resets = adaptive_hill_policy_search(env)\n",
    "toc = time.time()\n",
    "print('time of computation {} in seconds'.format(str(toc-tic)))\n",
    "print('average num episodes before solve',np.mean(scores))\n",
    "print('anneals',anneals)\n",
    "print('resets',resets)"
   ]
  },
  {
   "cell_type": "markdown",
   "metadata": {},
   "source": [
    "## + Average return"
   ]
  },
  {
   "cell_type": "code",
   "execution_count": 22,
   "metadata": {},
   "outputs": [
    {
     "name": "stdout",
     "output_type": "stream",
     "text": [
      "time of computation 36.22808504104614 in seconds\n",
      "average num episodes before solve 32.0\n",
      "anneals 21123\n",
      "resets 4490\n"
     ]
    }
   ],
   "source": [
    "# ultra fast random search\n",
    "def average_hill_policy_search(env):\n",
    "    scores = []\n",
    "    anneals = 0\n",
    "    resets = 0\n",
    "    last_move = None\n",
    "    for _ in range(500):\n",
    "        best_params = np.random.rand(4) * 2 -1\n",
    "        start_noise = 0.1\n",
    "        noise = 0.1\n",
    "        best_reward = 0\n",
    "        for i in range(250):\n",
    "            parameters = best_params + (np.random.rand(4) * 2 -1)*noise\n",
    "            reward = 0\n",
    "            for run in range(3):\n",
    "                reward += run_episode(parameters,env)\n",
    "            reward /= 3\n",
    "            if reward > best_reward:\n",
    "                best_params = parameters\n",
    "                best_reward = reward\n",
    "                if reward == 200:\n",
    "                    break\n",
    "                resets += 1\n",
    "                if last_move == 'anneal':\n",
    "                    noise = min(start_noise,noise-0.04)\n",
    "                else:\n",
    "                    noise -= 0.04\n",
    "                last_move = 'reset'\n",
    "            else:\n",
    "                anneals += 1\n",
    "                noise += 0.04\n",
    "                last_move = 'anneal'\n",
    "        scores.append(i)\n",
    "    return i,anneals,resets\n",
    "    \n",
    "        \n",
    "def run_episode(params,env):\n",
    "    state = env.reset()\n",
    "    totalreward = 0\n",
    "    for _ in range(200):\n",
    "        action = 0 if np.matmul(params,state) < 0 else 1\n",
    "        state,reward,done,_ = env.step(action)\n",
    "        totalreward += reward\n",
    "        if done:\n",
    "            break\n",
    "    return totalreward\n",
    "    \n",
    "tic = time.time()\n",
    "scores,anneals,resets = average_hill_policy_search(env)\n",
    "toc = time.time()\n",
    "print('time of computation {} in seconds'.format(str(toc-tic)))\n",
    "print('average num episodes before solve',np.mean(scores))\n",
    "print('anneals',anneals)\n",
    "print('resets',resets)"
   ]
  },
  {
   "cell_type": "markdown",
   "metadata": {},
   "source": [
    "## + Agents"
   ]
  },
  {
   "cell_type": "code",
   "execution_count": 23,
   "metadata": {},
   "outputs": [
    {
     "name": "stdout",
     "output_type": "stream",
     "text": [
      "time of computation 192.90656518936157 in seconds\n",
      "average num episodes before solve 98.0\n",
      "anneals 156825\n",
      "resets 3397\n"
     ]
    }
   ],
   "source": [
    "# ultra fast random search\n",
    "def agents_hill_policy_search(env,num_agents):\n",
    "    scores = []\n",
    "    anneals = 0\n",
    "    resets = 0\n",
    "    for _ in range(500):\n",
    "        best_params = np.random.rand(4) * 2 -1\n",
    "        start_noise = 0.1\n",
    "        noise = 0.1\n",
    "        best_reward = 0\n",
    "        for i in range(500):\n",
    "            rewards = []\n",
    "            params = []\n",
    "            for k in range(num_agents):\n",
    "                parameters = best_params + (np.random.rand(4) * 2 -1)*noise\n",
    "                reward = run_episode(parameters,env)\n",
    "                rewards.append(reward)\n",
    "                params.append(parameters)\n",
    "            if max(rewards) > best_reward:\n",
    "                best_agent = np.argmax(rewards)\n",
    "                best_params = params[best_agent]\n",
    "                best_reward = rewards[best_agent]\n",
    "                if reward == 200:\n",
    "                    break\n",
    "                resets += 1\n",
    "                noise = min(start_noise,0.04)\n",
    "            else:\n",
    "                anneals += 1\n",
    "                noise += 0.04\n",
    "        scores.append(i)\n",
    "    return i,anneals,resets\n",
    "    \n",
    "        \n",
    "def run_episode(params,env):\n",
    "    state = env.reset()\n",
    "    totalreward = 0\n",
    "    for _ in range(200):\n",
    "        action = 0 if np.matmul(params,state) < 0 else 1\n",
    "        state,reward,done,_ = env.step(action)\n",
    "        totalreward += reward\n",
    "        if done:\n",
    "            break\n",
    "    return totalreward\n",
    "    \n",
    "tic = time.time()\n",
    "num_agents = 3\n",
    "scores,anneals,resets = agents_hill_policy_search(env,num_agents)\n",
    "toc = time.time()\n",
    "print('time of computation {} in seconds'.format(str(toc-tic)))\n",
    "print('average num episodes before solve',np.mean(scores))\n",
    "print('anneals',anneals)\n",
    "print('resets',resets)"
   ]
  },
  {
   "cell_type": "markdown",
   "metadata": {},
   "source": [
    "# CEM\n",
    "\n",
    "Cross Entropy Method"
   ]
  },
  {
   "cell_type": "code",
   "execution_count": 24,
   "metadata": {},
   "outputs": [
    {
     "name": "stdout",
     "output_type": "stream",
     "text": [
      "time of computation 55.59503626823425 in seconds\n",
      "average num episodes before solve 0.0\n",
      "anneals 43458\n",
      "resets 1311\n"
     ]
    }
   ],
   "source": [
    "# ultra fast random search\n",
    "def CEM(env,num_agents):\n",
    "    scores = []\n",
    "    anneals = 0\n",
    "    resets = 0\n",
    "    start_noise = 0.1\n",
    "    noise = 0.1\n",
    "    for _ in range(150):\n",
    "        best_params = np.random.rand(4) * 2 -1\n",
    "        best_reward = 0\n",
    "        for i in range(500):\n",
    "            rewards = []\n",
    "            params = []\n",
    "            for k in range(num_agents):\n",
    "                parameters = best_params + (np.random.rand(4) * 2 -1)*noise\n",
    "                reward = run_episode(parameters,env)\n",
    "                rewards.append(reward)\n",
    "                params.append(parameters)\n",
    "            if max(rewards) > best_reward:\n",
    "                indexes = [i for i,reward in enumerate(rewards) if reward > best_reward]\n",
    "#                 print('indexes',indexes)\n",
    "                avg_params = np.sum(np.array(params)[indexes],axis=0) / len(indexes)\n",
    "                best_params = avg_params\n",
    "                best_reward = sum(np.array(rewards)[indexes]) / len(indexes)\n",
    "                if reward == 200:\n",
    "                    break\n",
    "                resets += 1\n",
    "                noise = min(start_noise,noise-0.04)\n",
    "            else:\n",
    "                anneals += 1\n",
    "                noise += 0.04\n",
    "        scores.append(i)\n",
    "    return i,anneals,resets\n",
    "    \n",
    "        \n",
    "def run_episode(params,env):\n",
    "    state = env.reset()\n",
    "    totalreward = 0\n",
    "    for _ in range(200):\n",
    "        action = 0 if np.matmul(params,state) < 0 else 1\n",
    "        state,reward,done,_ = env.step(action)\n",
    "        totalreward += reward\n",
    "        if done:\n",
    "            break\n",
    "    return totalreward\n",
    "    \n",
    "tic = time.time()\n",
    "num_agents = 3\n",
    "scores,anneals,resets = CEM(env,num_agents)\n",
    "toc = time.time()\n",
    "print('time of computation {} in seconds'.format(str(toc-tic)))\n",
    "print('average num episodes before solve',np.mean(scores))\n",
    "print('anneals',anneals)\n",
    "print('resets',resets)"
   ]
  },
  {
   "cell_type": "markdown",
   "metadata": {},
   "source": [
    "# Evolution Method\n",
    "\n",
    "Like CEM but with a weighted sum"
   ]
  },
  {
   "cell_type": "code",
   "execution_count": 25,
   "metadata": {},
   "outputs": [
    {
     "name": "stdout",
     "output_type": "stream",
     "text": [
      "time of computation 61.40742611885071 in seconds\n",
      "average num episodes before solve 499.0\n",
      "anneals 45293\n",
      "resets 1171\n"
     ]
    }
   ],
   "source": [
    "# ultra fast random search\n",
    "def EM(env,num_agents):\n",
    "    scores = []\n",
    "    anneals = 0\n",
    "    resets = 0\n",
    "    start_noise = 0.1\n",
    "    noise = 0.1\n",
    "    for _ in range(150):\n",
    "        best_params = np.random.rand(4) * 2 -1\n",
    "        best_reward = 0\n",
    "        for i in range(500):\n",
    "            rewards = []\n",
    "            params = []\n",
    "            for k in range(num_agents):\n",
    "                parameters = best_params + (np.random.rand(4) * 2 -1)*noise\n",
    "                reward = run_episode(parameters,env)\n",
    "                rewards.append(reward)\n",
    "                params.append(parameters)\n",
    "            if max(rewards) > best_reward:\n",
    "                indexes = [i for i,reward in enumerate(rewards) if reward > best_reward]\n",
    "                rewards = np.array(rewards)\n",
    "                params = np.array(params)\n",
    "                init_sum = np.sum(rewards[indexes])\n",
    "                weighted_sum = np.divide(rewards[indexes],init_sum).reshape(len(indexes),1)\n",
    "#                 print('params[indexes]',params[indexes])\n",
    "#                 print('weighted_sum',weighted_sum)\n",
    "                weighted_params = np.multiply(params[indexes],weighted_sum)\n",
    "#                 print('weighted_params',weighted_params)\n",
    "                best_params = np.sum(weighted_params,axis=0)\n",
    "#                 print('best_params',best_params)\n",
    "                best_reward = sum(rewards[indexes]) / len(indexes)\n",
    "                if reward == 200:\n",
    "                    break\n",
    "                resets += 1\n",
    "                noise = start_noise\n",
    "            else:\n",
    "                anneals += 1\n",
    "                noise += 0.04\n",
    "        scores.append(i)\n",
    "    return i,anneals,resets\n",
    "    \n",
    "        \n",
    "def run_episode(params,env):\n",
    "    state = env.reset()\n",
    "    totalreward = 0\n",
    "    for _ in range(200):\n",
    "        action = 0 if np.matmul(params,state) < 0 else 1\n",
    "        state,reward,done,_ = env.step(action)\n",
    "        totalreward += reward\n",
    "        if done:\n",
    "            break\n",
    "    return totalreward\n",
    "    \n",
    "tic = time.time()\n",
    "num_agents = 3\n",
    "scores,anneals,resets = EM(env,num_agents)\n",
    "toc = time.time()\n",
    "print('time of computation {} in seconds'.format(str(toc-tic)))\n",
    "print('average num episodes before solve',np.mean(scores))\n",
    "print('anneals',anneals)\n",
    "print('resets',resets)"
   ]
  },
  {
   "cell_type": "markdown",
   "metadata": {},
   "source": [
    "# Same algorithms but with torch NNs"
   ]
  },
  {
   "cell_type": "markdown",
   "metadata": {},
   "source": [
    "## Policy Agent"
   ]
  },
  {
   "cell_type": "code",
   "execution_count": 60,
   "metadata": {
    "collapsed": true
   },
   "outputs": [],
   "source": [
    "class Agent(nn.Module):\n",
    "    def __init__(self,env,hidden_dims=(32,32),gate = F.relu):\n",
    "        super(Agent,self).__init__()\n",
    "        self.nS = env.observation_space.shape[0]\n",
    "        self.nA = env.action_space.n\n",
    "        self.hidden_dims = hidden_dims\n",
    "        self.h1 = hidden_dims[0]\n",
    "        self.h2 = hidden_dims[1]\n",
    "        self.env = env\n",
    "        \n",
    "        # Layers\n",
    "        self.gate = gate\n",
    "        self.input_layer = nn.Linear(nS,hidden_dims[0])\n",
    "        self.hidden_layers = nn.ModuleList()\n",
    "        for i in range(len(hidden_dims)-1):\n",
    "            hidden_layer = nn.Linear(hidden_dims[i],hidden_dims[i+1])\n",
    "            self.hidden_layers.append(hidden_layer)\n",
    "        self.output_layer = nn.Linear(hidden_dims[-1],nA)\n",
    "        \n",
    "    def forward(self,state):\n",
    "        x = state\n",
    "        if not isinstance(state,torch.Tensor):\n",
    "            x = torch.tensor(x,dtype=torch.float32) #device = self.device,\n",
    "            x = x.unsqueeze(0)\n",
    "        x = self.gate(self.input_layer(x))\n",
    "        for hidden_layer in self.hidden_layers:\n",
    "            x = self.gate(hidden_layer(x))\n",
    "        x = F.softmax(self.output_layer(x))\n",
    "        return x\n",
    "        \n",
    "    def set_weights(self,weights):\n",
    "        hidden_dims = self.hidden_dims\n",
    "        \n",
    "        nS = self.nS\n",
    "        h1 = hidden_dims[0]\n",
    "        h2 = hidden_dims[1]\n",
    "        nA = self.nA\n",
    "        \n",
    "        fc1_end = (nS * h1) + h1\n",
    "        fc2_end = fc1_end + ((h1*h2)+h2)\n",
    "        \n",
    "        # separate the weights for each layer\n",
    "        fc1_W = torch.from_numpy(weights[:nS * h1])\n",
    "        fc1_b = torch.from_numpy(weights[nS * h1: fc1_end])\n",
    "        fc2_W = torch.from_numpy(weights[fc1_end: fc1_end + (h1*h2)])\n",
    "        fc2_b = torch.from_numpy(weights[fc1_end + (h1*h2): fc1_end + (h1*h2) + h2])\n",
    "        fc3_W = torch.from_numpy(weights[fc2_end: fc2_end + (h2*nA)])\n",
    "        fc3_b = torch.from_numpy(weights[fc2_end + (h2*nA): fc2_end + (h2*nA) + nA])\n",
    "        \n",
    "#         s_size = self.s_size\n",
    "#         h_size = self.h_size\n",
    "#         a_size = self.a_size\n",
    "#         # separate the weights for each layer\n",
    "#         fc1_end = (s_size*h_size)+h_size\n",
    "#         fc1_W = torch.from_numpy(weights[:s_size*h_size].reshape(s_size, h_size))\n",
    "#         fc1_b = torch.from_numpy(weights[s_size*h_size:fc1_end])\n",
    "#         fc2_W = torch.from_numpy(weights[fc1_end:fc1_end+(h_size*a_size)].reshape(h_size, a_size))\n",
    "#         fc2_b = torch.from_numpy(weights[fc1_end+(h_size*a_size):])\n",
    "#         # set the weights for each layer\n",
    "#         self.fc1.weight.data.copy_(fc1_W.view_as(self.fc1.weight.data))\n",
    "#         self.fc1.bias.data.copy_(fc1_b.view_as(self.fc1.bias.data))\n",
    "#         self.fc2.weight.data.copy_(fc2_W.view_as(self.fc2.weight.data))\n",
    "#         self.fc2.bias.data.copy_(fc2_b.view_as(self.fc2.bias.data))\n",
    "\n",
    "        # set the weights for each layer\n",
    "        self.input_layer.weight.data.copy_(fc1_W.view_as(self.input_layer.weight.data))\n",
    "        self.input_layer.bias.data.copy_(fc1_b.view_as(self.input_layer.bias.data))\n",
    "        self.hidden_layers[0].weight.data.copy_(fc2_W.view_as(self.hidden_layers[0].weight.data))\n",
    "        self.hidden_layers[0].bias.data.copy_(fc2_b.view_as(self.hidden_layers[0].bias.data))\n",
    "        self.output_layer.weight.data.copy_(fc3_W.view_as(self.output_layer.weight.data))\n",
    "        self.output_layer.bias.data.copy_(fc3_b.view_as(self.output_layer.bias.data))\n",
    "        \n",
    "    def get_weights_dim(self):\n",
    "        return (self.nS+1)*self.h1 + (self.h1+1)*self.h2 + (self.h2+1) * self.nA\n",
    "    \n",
    "    def evaluate(self,weights,gamma=1.0,max_t=1000):\n",
    "        self.set_weights(weights)\n",
    "        total_reward = 0.0\n",
    "        state = self.env.reset()\n",
    "        for t in range(max_t):\n",
    "            action_probs = self.forward(state)[0]\n",
    "            action = np.random.choice(np.arange(self.nA),p=action_probs.detach().numpy())\n",
    "            state, reward, done, _ = self.env.step(action)\n",
    "            total_reward += reward# * math.pow(gamma,t)\n",
    "            if done:\n",
    "                break\n",
    "        return total_reward"
   ]
  },
  {
   "cell_type": "markdown",
   "metadata": {},
   "source": [
    "# Hill Climbing\n",
    "\n",
    "With Torch NNs instead of np arrays"
   ]
  },
  {
   "cell_type": "code",
   "execution_count": 61,
   "metadata": {},
   "outputs": [
    {
     "name": "stderr",
     "output_type": "stream",
     "text": [
      "/anaconda3/envs/torch/lib/python3.6/site-packages/ipykernel_launcher.py:28: UserWarning: Implicit dimension choice for softmax has been deprecated. Change the call to include dim=X as an argument.\n"
     ]
    },
    {
     "name": "stdout",
     "output_type": "stream",
     "text": [
      "action_probs [0.48339996 0.5166001 ]\n",
      "action 1\n",
      "action_probs [0.48646936 0.5135306 ]\n",
      "action 1\n",
      "action_probs [0.4899933 0.5100067]\n",
      "action 1\n",
      "action_probs [0.4912174 0.5087825]\n",
      "action 1\n",
      "action_probs [0.49158344 0.5084166 ]\n",
      "action 0\n",
      "action_probs [0.49127054 0.5087295 ]\n",
      "action 0\n",
      "action_probs [0.49050406 0.5094959 ]\n",
      "action 1\n",
      "action_probs [0.49137488 0.5086251 ]\n",
      "action 1\n",
      "action_probs [0.49074233 0.5092576 ]\n",
      "action 1\n",
      "action_probs [0.48709518 0.51290476]\n",
      "action 1\n",
      "action_probs [0.48264414 0.5173558 ]\n",
      "action 0\n",
      "action_probs [0.4856125 0.5143875]\n",
      "action 0\n",
      "action_probs [0.48834038 0.5116596 ]\n",
      "action 1\n"
     ]
    },
    {
     "data": {
      "image/png": "[encoded data removed]",
      "text/plain": [
       "<Figure size 432x288 with 1 Axes>"
      ]
     },
     "metadata": {
      "needs_background": "light"
     },
     "output_type": "display_data"
    }
   ],
   "source": [
    "def hill_climb(nA,agent,env,n_episodes=1800, max_t=200):\n",
    "    scores = []\n",
    "    scores_window = deque(maxlen=100)\n",
    "    index = 0\n",
    "    for i_episode in range(1,n_episodes+1):\n",
    "        state = env.reset()\n",
    "        previous_score = 0\n",
    "        score = 0\n",
    "        best_agent = agent\n",
    "        for t in range(max_t):\n",
    "            action_probs = agent(state)[0]\n",
    "            print('action_probs',action_probs.detach().numpy())\n",
    "            action = np.random.choice(np.arange(nA),p=action_probs.detach().numpy())\n",
    "            print('action',action)\n",
    "            next_state,reward,done,_ = env.step(action)\n",
    "#             agent.step(state,action,reward,next_state,done,index)\n",
    "            state = next_state\n",
    "            score += reward\n",
    "            index += 1\n",
    "            if done:\n",
    "                break\n",
    "        scores_window.append(score)\n",
    "        scores.append(score)\n",
    "        if previous_score > score:\n",
    "            for parameter in agent.parameters():\n",
    "                parameter.data.copy_(previous_weights.data)\n",
    "        else:\n",
    "            for parameter in agent.parameters():\n",
    "                parameter.data.copy_(parameter.data + np.random.rand()/100)\n",
    "        break\n",
    "        print('\\rEpisode {}\\tAverage Score: {:.2f}'.format(i_episode, np.mean(scores_window)),end=\"\")\n",
    "        if i_episode % 100 == 0:\n",
    "            print('\\rEpisode {}\\tAverage Score: {:.2f}'.format(i_episode, np.mean(scores_window)))\n",
    "        if np.mean(scores_window) >= 200.0:\n",
    "            print('\\nEnvironment solved in {:d} episodes!\\tAverage Score: {:.2f}'.format(i_episode, np.mean(scores_window)))\n",
    "            torch.save(agent.qnetwork_local.state_dict(), 'checkpoint.pth')\n",
    "            break\n",
    "    return scores\n",
    "    \n",
    "    \n",
    "agent = Agent(env)\n",
    "scores = hill_climb(nA,agent,env)\n",
    "plot(scores)"
   ]
  },
  {
   "cell_type": "markdown",
   "metadata": {},
   "source": [
    "## Annealing"
   ]
  },
  {
   "cell_type": "markdown",
   "metadata": {},
   "source": [
    "## Cross Entropy Method (CEM)"
   ]
  },
  {
   "cell_type": "code",
   "execution_count": 64,
   "metadata": {},
   "outputs": [
    {
     "name": "stdout",
     "output_type": "stream",
     "text": [
      "2\n"
     ]
    },
    {
     "name": "stderr",
     "output_type": "stream",
     "text": [
      "/anaconda3/envs/torch/lib/python3.6/site-packages/ipykernel_launcher.py:28: UserWarning: Implicit dimension choice for softmax has been deprecated. Change the call to include dim=X as an argument.\n"
     ]
    },
    {
     "name": "stdout",
     "output_type": "stream",
     "text": [
      "Episode 10\tAverage Score: 44.80\n",
      "rewards [ 10.  79.  40.  24.  10.   9.  16.   9.  10.  95.  28.  30.  26. 132.\n",
      "  13.  97.  10.  24.  24.  11.  16.  11.  13.  15.  16.  10.  10.  53.\n",
      "  35.  13.  35.   9.  39.  22.  47.  42.   9.  20.   9.  75.  12. 113.\n",
      "  21.   9.  12.  35.   9.  10.   8.  59.]\n",
      "Episode 20\tAverage Score: 91.75\n",
      "rewards [200.  24.  58. 152. 164. 143. 103. 117. 200.  69.  25.  11. 164.  10.\n",
      " 108.  12. 119.  18. 106.  27. 124.  68.  79.  90.  53. 161. 166. 137.\n",
      "  11. 200.  40.  58.  32. 109.  33.  44. 200. 150. 200.  45.  88.  35.\n",
      " 122. 130. 111.  26.  63.  79.  58. 107.]\n",
      "Episode 30\tAverage Score: 127.83\n",
      "rewards [130.  26.  39. 119. 200.  21. 186. 168. 200. 179.  19. 200. 200.  94.\n",
      "  64.  29. 200.  35. 200. 200. 174.  21. 200.   8. 102. 200. 200. 200.\n",
      " 200. 119. 200. 200. 200. 200. 193.  32.  94. 200. 169.  23. 173.  23.\n",
      "  17. 200. 200.  46. 200. 180. 200. 200.]\n",
      "Episode 40\tAverage Score: 145.88\n",
      "rewards [200. 183. 105. 200. 200.  74. 200. 200. 123.  64.  17. 200. 200.  98.\n",
      " 185. 146. 166. 161.  21.  68. 200. 200. 158. 200. 200.  79. 200. 200.\n",
      "  14.  96. 200. 200. 152. 200. 200. 200.  61. 200.  21. 200. 200.  10.\n",
      " 200. 189. 193.  38. 192. 200. 200. 200.]\n",
      "Episode 50\tAverage Score: 156.70\n",
      "rewards [200. 200.  11. 200.  11. 165.  18. 132. 200. 200. 200.   9. 200. 200.\n",
      " 200. 129. 132.   9.  76.  79. 178. 200. 200. 200. 200. 200. 200. 200.\n",
      "  15. 200. 117. 200.  10. 164. 200.  87. 120. 200.  86.  12. 200. 200.\n",
      " 200.  85. 147.  90.   8.  17. 200. 200.]\n",
      "Episode 60\tAverage Score: 163.92\n",
      "rewards [  9.  20. 144. 200.  12. 170. 200. 176. 200.  15. 142.  61. 101. 157.\n",
      "  30. 200. 200. 200. 200. 200. 200. 200.  10.  28.  59. 200.  49.  10.\n",
      " 200. 200. 162.  20.  18.   9. 200. 155. 200. 200. 200. 200.  10. 153.\n",
      "  26. 200. 200. 187. 200.  23. 150. 200.]\n",
      "Episode 70\tAverage Score: 169.07\n",
      "rewards [200. 200.  10. 170. 200. 200. 190. 200. 200. 200. 200. 183. 200. 200.\n",
      "  18. 200. 200. 200. 200. 111. 200. 200. 200.  85. 200. 200. 200. 112.\n",
      " 200. 200. 200. 200. 200. 196. 200. 200. 200. 200. 200. 200. 200. 200.\n",
      " 200. 200. 200. 200. 200. 200. 200. 200.]\n",
      "Episode 80\tAverage Score: 172.94\n",
      "rewards [200. 200. 200. 200. 200.  10. 200. 200. 200. 200. 200. 200. 200. 200.\n",
      " 200. 200.   9.  65. 192. 200. 200. 200. 200. 200. 151. 158. 200. 200.\n",
      " 200. 200. 200. 200. 200. 200. 200. 200. 200. 170. 200. 200. 200. 200.\n",
      " 200.  11. 200. 200. 200. 109. 200. 200.]\n",
      "Episode 90\tAverage Score: 175.94\n",
      "rewards [200. 200. 200. 200. 200. 200. 200. 200. 200.  83. 183. 200. 200. 200.\n",
      " 200. 200. 200. 200. 200. 200. 200. 200. 200. 200. 200. 187.   9. 200.\n",
      "  17. 175. 200. 200. 200. 200. 200. 200. 200. 131. 200. 200. 200. 200.\n",
      " 146. 200. 200. 200. 200. 129. 200.  14.]\n",
      "Episode 100\tAverage Score: 178.35\n",
      "rewards [200.  10. 200. 200. 200. 200. 200.   9. 200. 200. 200. 200. 200. 200.\n",
      " 200. 200. 200. 200. 200. 200. 200.  27. 172. 164. 200. 200. 200. 200.\n",
      " 200.  28. 200. 200. 200. 165. 110.  15. 200. 200.  83. 200. 200.  10.\n",
      " 200. 200. 200. 200. 200. 200. 200. 155.]\n",
      "Episode 110\tAverage Score: 193.87\n",
      "rewards [200.  10. 175. 169. 200. 200. 145. 191. 177. 149. 127. 200. 200. 200.\n",
      " 200. 200. 200. 200. 200. 200. 200. 200. 200. 200. 200. 174. 200. 186.\n",
      " 200. 200.  10. 200. 200. 200. 200. 200. 200. 200. 200. 200. 200. 200.\n",
      " 200. 200. 200. 200. 200. 200. 149.   8.]\n",
      "\n",
      "Environment solved in 11 iterations!\tAverage Score: 195.13\n"
     ]
    },
    {
     "data": {
      "image/png": "[encoded data removed]",
      "text/plain": [
       "<Figure size 432x288 with 1 Axes>"
      ]
     },
     "metadata": {
      "needs_background": "light"
     },
     "output_type": "display_data"
    }
   ],
   "source": [
    "def agent_cem(agent,n_iterations=200,print_every=10,max_t=500,gamma=0.99,population=50,elite_frac=0.2,sigma=0.5):\n",
    "    n_elite = int(population*elite_frac)\n",
    "    scores_deque = deque(maxlen=100)\n",
    "    scores = []\n",
    "    best_weight = sigma*np.random.randn(agent.get_weights_dim())\n",
    "    \n",
    "    for i_iteration in range(1,n_iterations+1):\n",
    "        weights_pop = [best_weight + (sigma*np.random.randn(agent.get_weights_dim())) for i in range(population)]\n",
    "        rewards = np.array([agent.evaluate(weights,gamma,max_t) for weights in weights_pop])\n",
    "        \n",
    "        elite_idx = rewards.argsort()\n",
    "#         print('elite_idx',elite_idx)\n",
    "#         print('np.arange(population-n_elite,population)',np.arange(population-n_elite,population))\n",
    "        elite_select = elite_idx[np.arange(population-n_elite,population)]\n",
    "#         print('elite_select',elite_select)\n",
    "        elite_weights = [weights_pop[i] for i in elite_select]\n",
    "        best_weight = np.array(elite_weights).mean(axis=0)\n",
    "        \n",
    "        reward = agent.evaluate(best_weight,gamma)\n",
    "        scores_deque.append(reward)\n",
    "        scores.append(reward)\n",
    "        \n",
    "        torch.save(agent.state_dict(),'cem_checkpoint.pth')\n",
    "        \n",
    "        if i_iteration % print_every == 0:\n",
    "            print('Episode {}\\tAverage Score: {:.2f}'.format(i_iteration, np.mean(scores_deque)))\n",
    "            print('rewards',rewards)\n",
    "            \n",
    "        if np.mean(scores_deque)>=195.0:\n",
    "            print('\\nEnvironment solved in {:d} iterations!\\tAverage Score: {:.2f}'.format(i_iteration-100, np.mean(scores_deque)))\n",
    "            break\n",
    "    \n",
    "    return scores\n",
    "    \n",
    "print(env.action_space.n)\n",
    "agent = Agent(env)\n",
    "scores = agent_cem(agent)\n",
    "plot(scores)"
   ]
  },
  {
   "cell_type": "markdown",
   "metadata": {},
   "source": [
    "## REINFORCE"
   ]
  },
  {
   "cell_type": "code",
   "execution_count": 66,
   "metadata": {
    "collapsed": true
   },
   "outputs": [],
   "source": [
    "from torch.distributions import Categorical"
   ]
  },
  {
   "cell_type": "code",
   "execution_count": 129,
   "metadata": {
    "collapsed": true
   },
   "outputs": [],
   "source": [
    "class Policy_m(nn.Module):\n",
    "    def __init__(self,nS,nA,hidden_dims=(16,16)):\n",
    "        super(Policy_m,self).__init__()\n",
    "        print('nS,nA',nS,nA)\n",
    "        self.fc1 = nn.Linear(nS,hidden_dims[0])\n",
    "        self.fc2 = nn.Linear(hidden_dims[0],hidden_dims[1])\n",
    "        self.fc3 = nn.Linear(hidden_dims[-1],nA)\n",
    "        \n",
    "    def forward(self,state):\n",
    "        x = state\n",
    "        if not isinstance(state,torch.Tensor):\n",
    "            x = torch.tensor(x,dtype=torch.float32) #device = self.device,\n",
    "            x = x.unsqueeze(0)\n",
    "        x = F.relu(self.fc1(x))\n",
    "#         x = F.relu(self.fc2(x))\n",
    "        x = self.fc3(x)\n",
    "        return F.softmax(x,dim=1)\n",
    "    \n",
    "    def act(self,state):\n",
    "        state = torch.from_numpy(state).float().unsqueeze(0)\n",
    "        probs = self.forward(state)\n",
    "        m = Categorical(probs)\n",
    "        action = m.sample()\n",
    "        return action.item(),m.log_prob(action)"
   ]
  },
  {
   "cell_type": "code",
   "execution_count": 130,
   "metadata": {},
   "outputs": [
    {
     "name": "stdout",
     "output_type": "stream",
     "text": [
      "Episode 100\tAverage Score: 24.08\n",
      "Episode 200\tAverage Score: 37.82\n",
      "Episode 300\tAverage Score: 47.01\n",
      "Episode 400\tAverage Score: 49.64\n",
      "Episode 500\tAverage Score: 55.60\n",
      "Episode 600\tAverage Score: 53.09\n",
      "Episode 700\tAverage Score: 41.99\n",
      "Episode 800\tAverage Score: 55.57\n",
      "Episode 900\tAverage Score: 61.78\n",
      "Episode 1000\tAverage Score: 68.50\n"
     ]
    }
   ],
   "source": [
    "# policy_m = Policy_m(nS,nA)\n",
    "# policy = Policy_m(nS,nA).to(device)\n",
    "policy = Policy().to(device)\n",
    "optimizer = optim.Adam(policy.parameters(), lr = 1e-2)\n",
    "env = gym.make('CartPole-v0')\n",
    "env.seed(0)\n",
    "\n",
    "def reinforce_2(env,policy,optimizer,n_episodes=1000, max_t=1000, gamma=0.99, print_every=100):\n",
    "    scores_deque = deque(maxlen=100)\n",
    "    scores = []\n",
    "    for i_episode in range(1,n_episodes+1):\n",
    "        saved_log_probs = []\n",
    "        rewards = []\n",
    "        state = env.reset()\n",
    "        for t in range(max_t):\n",
    "            action,log_prob = policy.act(state)\n",
    "            state,reward,done,_ = env.step(action)\n",
    "            saved_log_probs.append(log_prob)\n",
    "            rewards.append(reward)\n",
    "            if done:\n",
    "                break\n",
    "        scores_deque.append(sum(rewards))\n",
    "        scores.append(sum(rewards))\n",
    "        \n",
    "        discounts = [gamma**i for i in range(len(rewards))]\n",
    "        R = sum([a*b for a,b in zip(discounts,rewards)])\n",
    "        \n",
    "        policy_loss = []\n",
    "        for log_prob in saved_log_probs:\n",
    "            policy_loss.append(-log_prob * R)\n",
    "        policy_loss = torch.cat(policy_loss).sum()\n",
    "        \n",
    "        optimizer.zero_grad()\n",
    "        policy_loss.backward()\n",
    "        optimizer.step()\n",
    "        \n",
    "        if i_episode % print_every == 0:\n",
    "            print('Episode {}\\tAverage Score: {:.2f}'.format(i_episode, np.mean(scores_deque)))\n",
    "        if np.mean(scores_deque)>=195.0:\n",
    "            print('Environment solved in {:d} episodes!\\tAverage Score: {:.2f}'.format(i_episode-100, np.mean(scores_deque)))\n",
    "            break\n",
    "        \n",
    "    return scores\n",
    "\n",
    "scores = reinforce_2(env,policy,optimizer)\n",
    "            \n",
    "    "
   ]
  },
  {
   "cell_type": "code",
   "execution_count": 123,
   "metadata": {},
   "outputs": [
    {
     "name": "stdout",
     "output_type": "stream",
     "text": [
      "observation space: Box(4,)\n",
      "action space: Discrete(2)\n"
     ]
    }
   ],
   "source": [
    "env = gym.make('CartPole-v0')\n",
    "env.seed(0)\n",
    "print('observation space:', env.observation_space)\n",
    "print('action space:', env.action_space)\n",
    "\n",
    "device = torch.device(\"cuda:0\" if torch.cuda.is_available() else \"cpu\")\n",
    "\n",
    "class Policy(nn.Module):\n",
    "    def __init__(self, s_size=4, h_size=16, a_size=2):\n",
    "        super(Policy, self).__init__()\n",
    "        self.fc1 = nn.Linear(s_size, h_size)\n",
    "        self.fc2 = nn.Linear(h_size, a_size)\n",
    "\n",
    "    def forward(self, x):\n",
    "        x = F.relu(self.fc1(x))\n",
    "        x = self.fc2(x)\n",
    "        return F.softmax(x, dim=1)\n",
    "    \n",
    "    def act(self, state):\n",
    "        state = torch.from_numpy(state).float().unsqueeze(0).to(device)\n",
    "        probs = self.forward(state).cpu()\n",
    "        m = Categorical(probs)\n",
    "        action = m.sample()\n",
    "        return action.item(), m.log_prob(action)"
   ]
  },
  {
   "cell_type": "code",
   "execution_count": 124,
   "metadata": {},
   "outputs": [
    {
     "name": "stdout",
     "output_type": "stream",
     "text": [
      "Episode 100\tAverage Score: 32.46\n",
      "Episode 200\tAverage Score: 48.34\n",
      "Episode 300\tAverage Score: 76.95\n",
      "Episode 400\tAverage Score: 135.24\n",
      "Episode 500\tAverage Score: 92.40\n",
      "Episode 600\tAverage Score: 139.46\n",
      "Episode 700\tAverage Score: 150.47\n",
      "Environment solved in 670 episodes!\tAverage Score: 195.23\n"
     ]
    }
   ],
   "source": [
    "policy = Policy().to(device)\n",
    "optimizer = optim.Adam(policy.parameters(), lr=1e-2)\n",
    "\n",
    "def reinforce(env,policy,n_episodes=1000, max_t=1000, gamma=1.0, print_every=100):\n",
    "    scores_deque = deque(maxlen=100)\n",
    "    scores = []\n",
    "    for i_episode in range(1, n_episodes+1):\n",
    "        saved_log_probs = []\n",
    "        rewards = []\n",
    "        state = env.reset()\n",
    "        for t in range(max_t):\n",
    "            action, log_prob = policy.act(state)\n",
    "            saved_log_probs.append(log_prob)\n",
    "            state, reward, done, _ = env.step(action)\n",
    "            rewards.append(reward)\n",
    "            if done:\n",
    "                break \n",
    "        scores_deque.append(sum(rewards))\n",
    "        scores.append(sum(rewards))\n",
    "        \n",
    "        discounts = [gamma**i for i in range(len(rewards)+1)]\n",
    "        R = sum([a*b for a,b in zip(discounts, rewards)])\n",
    "        \n",
    "        policy_loss = []\n",
    "        for log_prob in saved_log_probs:\n",
    "            policy_loss.append(-log_prob * R)\n",
    "        policy_loss = torch.cat(policy_loss).sum()\n",
    "        \n",
    "        optimizer.zero_grad()\n",
    "        policy_loss.backward()\n",
    "        optimizer.step()\n",
    "        \n",
    "        if i_episode % print_every == 0:\n",
    "            print('Episode {}\\tAverage Score: {:.2f}'.format(i_episode, np.mean(scores_deque)))\n",
    "        if np.mean(scores_deque)>=195.0:\n",
    "            print('Environment solved in {:d} episodes!\\tAverage Score: {:.2f}'.format(i_episode-100, np.mean(scores_deque)))\n",
    "            break\n",
    "        \n",
    "    return scores\n",
    "    \n",
    "scores = reinforce(env,policy)"
   ]
  },
  {
   "cell_type": "markdown",
   "metadata": {},
   "source": [
    "# Loss functions\n",
    "\n",
    "Categorical cross entropy:\n",
    "The final layer is a softmax, and then cross entropy\n",
    "\n",
    "−(ylog(p)+(1−y)log(1−p))"
   ]
  },
  {
   "cell_type": "code",
   "execution_count": null,
   "metadata": {
    "collapsed": true
   },
   "outputs": [],
   "source": [
    "def CrossEntropy(yhat,y):\n",
    "    if y == 1:\n",
    "        return -log(yhat)\n",
    "    else:\n",
    "        return -log(1 - yhat)\n",
    "    \n",
    "# short form\n",
    "def CE(yhat,y):\n",
    "    return -log((-1+y) + yhat)\n",
    "\n",
    "# multiclass\n",
    "def MCE(yhat,y):\n",
    "    # if they are vectors\n",
    "    return -log(np.add(yhat,np.add(y,-1)))\n",
    "    "
   ]
  },
  {
   "cell_type": "code",
   "execution_count": null,
   "metadata": {
    "collapsed": true
   },
   "outputs": [],
   "source": [
    "# Reinforce again\n",
    "class Policy(nn.Module):\n",
    "    def __init__(self,nS,nA,seed,hidden_dims=(32,32)):\n",
    "        super(Policy,self).__init__()\n",
    "        self.seed = torch.manual_seed(seed)\n",
    "        self.fc1 = nn.Linear()\n",
    "        self.fc2 = nn.Linear()\n",
    "        self.fc = nn.ModuleList()\n",
    "        \n",
    "    def forward(self):\n",
    "        pass\n",
    "    \n",
    "    def act(self):\n",
    "        pass\n",
    "    \n",
    "    "
   ]
  },
  {
   "cell_type": "code",
   "execution_count": null,
   "metadata": {
    "collapsed": true
   },
   "outputs": [],
   "source": [
    "def train(agent,env,i_episode=2,gamma=1.0):\n",
    "    trajectories = []\n",
    "    rewards = []\n",
    "    scores = []\n",
    "    for i_episode in range(n_episodes):\n",
    "        state = env.reset()\n",
    "        logs = []\n",
    "        for t in range(t_max):\n",
    "            \n",
    "            action,log_probs = agent.act(state)\n",
    "            next_state,reward,done,_ = env.step(action)\n",
    "            rewards.append(reward)\n",
    "            logs.append(log_probs)\n",
    "            trajectories.append((state,action,reward,next_state))\n",
    "            state = next_state\n",
    "        discounted_rewards = [reward*(gamma**i) for i,reward in enumerate(rewards)]\n",
    "        gradient = sum([d_reward * log for d_reward,log in zip(discounted_rewards,logs)]) \n",
    "        # Update parameters\n",
    "        optimizer.zero_grad()\n",
    "        learning_rate * gradient\n",
    "        optimizer.backward()\n",
    "        "
   ]
  },
  {
   "cell_type": "code",
   "execution_count": null,
   "metadata": {
    "collapsed": true
   },
   "outputs": [],
   "source": [
    "# Reward normalization\n",
    "\n",
    "def norm_train(agent,env,i_episode=2,gamma=1.0):\n",
    "    trajectories = []\n",
    "    rewards = []\n",
    "    scores = []\n",
    "    for i_episode in range(n_episodes):\n",
    "        state = env.reset()\n",
    "        logs = []\n",
    "        for t in range(t_max):\n",
    "            \n",
    "            action,log_probs = agent.act(state)\n",
    "            next_state,reward,done,_ = env.step(action)\n",
    "            rewards.append(reward)\n",
    "            logs.append(log_probs)\n",
    "            trajectories.append((state,action,reward,next_state))\n",
    "            state = next_state\n",
    "            \n",
    "        mean_r = np.mean(rewards)\n",
    "        N = len(rewards)\n",
    "        sigma_r = np.sqrt(sum((rewards-mean_r)**2)/N)\n",
    "        norm_r = rewards - mean_r / simga_r\n",
    "        \n",
    "        \n",
    "        discounted_rewards = [reward*(gamma**i) for i,reward in enumerate(rewards)]\n",
    "        gradient = sum([d_reward * log for d_reward,log in zip(discounted_rewards,logs)]) \n",
    "        # Update parameters\n",
    "        optimizer.zero_grad()\n",
    "        learning_rate * gradient\n",
    "        optimizer.backward()"
   ]
  },
  {
   "cell_type": "code",
   "execution_count": null,
   "metadata": {
    "collapsed": true
   },
   "outputs": [],
   "source": [
    "# Future rewards\n",
    "\n",
    "def future_train(agent,env,i_episode=2,gamma=1.0):\n",
    "    trajectories = []\n",
    "    rewards = []\n",
    "    scores = []\n",
    "    for i_episode in range(n_episodes):\n",
    "        state = env.reset()\n",
    "        logs = []\n",
    "        for t in range(t_max):\n",
    "            \n",
    "            action,log_probs = agent.act(state)\n",
    "            next_state,reward,done,_ = env.step(action)\n",
    "            rewards.append(reward)\n",
    "            logs.append(log_probs)\n",
    "            trajectories.append((state,action,reward,next_state))\n",
    "            state = next_state\n",
    "        future_rewards = [sum(rewards[i:]) for i in range(rewards)]\n",
    "        discounted_rewards = [reward*(gamma**i) for i,reward in enumerate(future_rewards)]\n",
    "        gradient = sum([d_reward * log for d_reward,log in zip(discounted_rewards,logs)]) \n",
    "        # Update parameters\n",
    "        optimizer.zero_grad()\n",
    "        learning_rate * gradient\n",
    "        optimizer.backward()"
   ]
  },
  {
   "cell_type": "code",
   "execution_count": null,
   "metadata": {
    "collapsed": true
   },
   "outputs": [],
   "source": []
  },
  {
   "cell_type": "markdown",
   "metadata": {},
   "source": [
    "# PPO\n",
    "\n",
    "Proximal Policy Optimization\n"
   ]
  },
  {
   "cell_type": "code",
   "execution_count": null,
   "metadata": {
    "collapsed": true
   },
   "outputs": [],
   "source": []
  }
 ],
 "metadata": {
  "kernelspec": {
   "display_name": "Python 3",
   "language": "python",
   "name": "python3"
  },
  "language_info": {
   "codemirror_mode": {
    "name": "ipython",
    "version": 3
   },
   "file_extension": ".py",
   "mimetype": "text/x-python",
   "name": "python",
   "nbconvert_exporter": "python",
   "pygments_lexer": "ipython3",
   "version": "3.5.4"
  }
 },
 "nbformat": 4,
 "nbformat_minor": 2
}

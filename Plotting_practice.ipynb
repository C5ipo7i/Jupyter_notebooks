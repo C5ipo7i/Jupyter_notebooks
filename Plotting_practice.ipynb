{
 "cells": [
  {
   "cell_type": "code",
   "execution_count": null,
   "metadata": {},
   "outputs": [],
   "source": []
  },
  {
   "cell_type": "code",
   "execution_count": null,
   "metadata": {},
   "outputs": [],
   "source": [
    "maxes = np.array([5,4,7,6])\n",
    "mins = np.array([2,3,1.5,2])\n",
    "means = np.array([3.5,3.5,4,4])\n",
    "\n",
    "xfit = np.linspace(0, means.shape[0], 4)\n",
    "yfit = means\n",
    "\n",
    "# Visualize the result\n",
    "# plt.plot(xfit, maxes, 'or')\n",
    "# plt.plot(xfit, mins, 'or')\n",
    "plt.plot(xfit, yfit, '-', color='gray')\n",
    "\n",
    "plt.fill_between(xfit, mins, maxes,\n",
    "                 color='red', alpha=0.2)\n",
    "plt.xlim(0, means.shape[0]);"
   ]
  },
  {
   "cell_type": "code",
   "execution_count": null,
   "metadata": {},
   "outputs": [],
   "source": [
    "def plot(stds,means,n_episodes):\n",
    "    \n",
    "    maxes = means+stds\n",
    "    mins = means-stds\n",
    "    \n",
    "    from scipy.interpolate import make_interp_spline, BSpline\n",
    "\n",
    "    xfit = np.linspace(0,n_episodes,n_episodes*10)\n",
    "    x_temp = np.arange(n_episodes)\n",
    "    spl = make_interp_spline(x_temp, means, k=3) #BSpline object\n",
    "    spl2 = make_interp_spline(x_temp, maxes, k=3) #BSpline object\n",
    "    spl3 = make_interp_spline(x_temp, mins, k=3) #BSpline object\n",
    "    \n",
    "    means_smooth = spl(xfit)\n",
    "    maxes_smooth = spl2(xfit)\n",
    "    mins_smooth = spl3(xfit)\n",
    "\n",
    "#     plt.plot(xnew,power_smooth)\n",
    "#     plt.show()\n",
    "    \n",
    "    # Create the plot object\n",
    "    _, ax = plt.subplots()\n",
    "    \n",
    "    title = \"PPO performance on Reacher with 20 agents\"\n",
    "    x_label = \"Number of Episodes\"\n",
    "    y_label = \"Score\"\n",
    "\n",
    "    # Plot the data, set the linewidth, color and transparency of the\n",
    "    # line, provide a label for the legend\n",
    "    ax.plot(xfit, means_smooth, lw = 1, color = '#539caf', alpha = 1, label = 'mean')\n",
    "    # Shade the confidence interval\n",
    "    ax.fill_between(xfit, mins_smooth, maxes_smooth, color = 'orange', alpha = 0.4, label = 'Min/Max')\n",
    "    # Label the axes and provide a title\n",
    "    ax.set_title(title)\n",
    "    ax.set_xlabel(x_label)\n",
    "    ax.set_ylabel(y_label)\n",
    "\n",
    "    # Display legend\n",
    "    ax.legend(loc = 'best')"
   ]
  },
  {
   "cell_type": "code",
   "execution_count": null,
   "metadata": {},
   "outputs": [],
   "source": [
    "stds = np.array([1,1.2,0.8,1.4])\n",
    "n_episodes = 4\n",
    "plot(stds,means,n_episodes)"
   ]
  }
 ],
 "metadata": {
  "kernelspec": {
   "display_name": "Python 3",
   "language": "python",
   "name": "python3"
  },
  "language_info": {
   "codemirror_mode": {
    "name": "ipython",
    "version": 3
   },
   "file_extension": ".py",
   "mimetype": "text/x-python",
   "name": "python",
   "nbconvert_exporter": "python",
   "pygments_lexer": "ipython3",
   "version": "3.6.7"
  }
 },
 "nbformat": 4,
 "nbformat_minor": 2
}

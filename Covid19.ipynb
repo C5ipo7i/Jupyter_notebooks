{
 "cells": [
  {
   "cell_type": "code",
   "execution_count": 592,
   "metadata": {},
   "outputs": [],
   "source": [
    "import numpy as np\n",
    "import pandas as pd\n",
    "import os\n",
    "import matplotlib.pyplot as plt\n",
    "import time\n",
    "import datetime\n",
    "from queue import Queue\n",
    "from collections import deque\n",
    "from scipy.stats import norm\n",
    "\n",
    "%matplotlib inline"
   ]
  },
  {
   "cell_type": "markdown",
   "metadata": {},
   "source": [
    "# Requirements\n",
    "\n",
    "The 4 Coronavirus Datasets\n",
    "- https://www.kaggle.com/sudalairajkumar/datasets\n",
    "- https://www.kaggle.com/kimjihoo/datasets"
   ]
  },
  {
   "cell_type": "code",
   "execution_count": 570,
   "metadata": {},
   "outputs": [],
   "source": [
    "base_dir = '/Users/morgan/Code/Data/Covid19'\n",
    "general_path = os.path.join(base_dir,'novel-corona-virus-2019-dataset')\n",
    "korea_path = os.path.join(base_dir,'coronavirusdataset')\n",
    "USA_path = os.path.join(base_dir,'covid19-in-usa')\n",
    "Italy_path = os.path.join(base_dir,'covid19-in-italy')"
   ]
  },
  {
   "cell_type": "code",
   "execution_count": 571,
   "metadata": {},
   "outputs": [],
   "source": [
    "korea_timeline = os.path.join(korea_path,'Time.csv')\n",
    "general_timeline = os.path.join(general_path,'time_series_covid_19_confirmed.csv')\n",
    "USA_1 = os.path.join(USA_path,'us_covid19_daily.csv')\n",
    "USA_2 = os.path.join(USA_path,'us_states_covid19_daily.csv')\n",
    "italy_file = os.path.join(Italy_path,'covid19_italy_region.csv')\n",
    "italy_file2 = os.path.join(Italy_path,'covid19_italy_province.csv')"
   ]
  },
  {
   "cell_type": "code",
   "execution_count": 572,
   "metadata": {},
   "outputs": [],
   "source": [
    "korea_df = pd.read_csv(korea_timeline)\n",
    "general_df = pd.read_csv(general_timeline)\n",
    "USA_1df = pd.read_csv(USA_1)\n",
    "USA_2df = pd.read_csv(USA_2)\n",
    "italy_df = pd.read_csv(italy_file)\n",
    "italy_df2 = pd.read_csv(italy_file2)"
   ]
  },
  {
   "cell_type": "code",
   "execution_count": 536,
   "metadata": {},
   "outputs": [
    {
     "data": {
      "text/html": [
       "<div>\n",
       "<style scoped>\n",
       "    .dataframe tbody tr th:only-of-type {\n",
       "        vertical-align: middle;\n",
       "    }\n",
       "\n",
       "    .dataframe tbody tr th {\n",
       "        vertical-align: top;\n",
       "    }\n",
       "\n",
       "    .dataframe thead th {\n",
       "        text-align: right;\n",
       "    }\n",
       "</style>\n",
       "<table border=\"1\" class=\"dataframe\">\n",
       "  <thead>\n",
       "    <tr style=\"text-align: right;\">\n",
       "      <th></th>\n",
       "      <th>SNo</th>\n",
       "      <th>Date</th>\n",
       "      <th>Country</th>\n",
       "      <th>RegionCode</th>\n",
       "      <th>RegionName</th>\n",
       "      <th>Latitude</th>\n",
       "      <th>Longitude</th>\n",
       "      <th>HospitalizedPatients</th>\n",
       "      <th>IntensiveCarePatients</th>\n",
       "      <th>TotalHospitalizedPatients</th>\n",
       "      <th>HomeConfinement</th>\n",
       "      <th>CurrentPositiveCases</th>\n",
       "      <th>NewPositiveCases</th>\n",
       "      <th>Recovered</th>\n",
       "      <th>Deaths</th>\n",
       "      <th>TotalPositiveCases</th>\n",
       "      <th>TestsPerformed</th>\n",
       "    </tr>\n",
       "  </thead>\n",
       "  <tbody>\n",
       "    <tr>\n",
       "      <th>478</th>\n",
       "      <td>478</td>\n",
       "      <td>2020-03-17 17:00:00</td>\n",
       "      <td>ITA</td>\n",
       "      <td>9</td>\n",
       "      <td>Toscana</td>\n",
       "      <td>43.769231</td>\n",
       "      <td>11.255889</td>\n",
       "      <td>329</td>\n",
       "      <td>143</td>\n",
       "      <td>472</td>\n",
       "      <td>552</td>\n",
       "      <td>1024</td>\n",
       "      <td>183</td>\n",
       "      <td>12</td>\n",
       "      <td>17</td>\n",
       "      <td>1053</td>\n",
       "      <td>6727</td>\n",
       "    </tr>\n",
       "    <tr>\n",
       "      <th>479</th>\n",
       "      <td>479</td>\n",
       "      <td>2020-03-17 17:00:00</td>\n",
       "      <td>ITA</td>\n",
       "      <td>4</td>\n",
       "      <td>P.A. Trento</td>\n",
       "      <td>46.068935</td>\n",
       "      <td>11.121231</td>\n",
       "      <td>107</td>\n",
       "      <td>22</td>\n",
       "      <td>129</td>\n",
       "      <td>239</td>\n",
       "      <td>368</td>\n",
       "      <td>1</td>\n",
       "      <td>10</td>\n",
       "      <td>7</td>\n",
       "      <td>385</td>\n",
       "      <td>1727</td>\n",
       "    </tr>\n",
       "    <tr>\n",
       "      <th>480</th>\n",
       "      <td>480</td>\n",
       "      <td>2020-03-17 17:00:00</td>\n",
       "      <td>ITA</td>\n",
       "      <td>10</td>\n",
       "      <td>Umbria</td>\n",
       "      <td>43.106758</td>\n",
       "      <td>12.388247</td>\n",
       "      <td>36</td>\n",
       "      <td>21</td>\n",
       "      <td>57</td>\n",
       "      <td>135</td>\n",
       "      <td>192</td>\n",
       "      <td>33</td>\n",
       "      <td>4</td>\n",
       "      <td>1</td>\n",
       "      <td>197</td>\n",
       "      <td>1323</td>\n",
       "    </tr>\n",
       "    <tr>\n",
       "      <th>481</th>\n",
       "      <td>481</td>\n",
       "      <td>2020-03-17 17:00:00</td>\n",
       "      <td>ITA</td>\n",
       "      <td>2</td>\n",
       "      <td>Valle d'Aosta</td>\n",
       "      <td>45.737503</td>\n",
       "      <td>7.320149</td>\n",
       "      <td>35</td>\n",
       "      <td>6</td>\n",
       "      <td>41</td>\n",
       "      <td>93</td>\n",
       "      <td>134</td>\n",
       "      <td>31</td>\n",
       "      <td>0</td>\n",
       "      <td>2</td>\n",
       "      <td>136</td>\n",
       "      <td>398</td>\n",
       "    </tr>\n",
       "    <tr>\n",
       "      <th>482</th>\n",
       "      <td>482</td>\n",
       "      <td>2020-03-17 17:00:00</td>\n",
       "      <td>ITA</td>\n",
       "      <td>5</td>\n",
       "      <td>Veneto</td>\n",
       "      <td>45.434905</td>\n",
       "      <td>12.338452</td>\n",
       "      <td>548</td>\n",
       "      <td>171</td>\n",
       "      <td>719</td>\n",
       "      <td>1769</td>\n",
       "      <td>2488</td>\n",
       "      <td>214</td>\n",
       "      <td>136</td>\n",
       "      <td>80</td>\n",
       "      <td>2704</td>\n",
       "      <td>35478</td>\n",
       "    </tr>\n",
       "  </tbody>\n",
       "</table>\n",
       "</div>"
      ],
      "text/plain": [
       "     SNo                 Date Country  RegionCode     RegionName   Latitude  \\\n",
       "478  478  2020-03-17 17:00:00     ITA           9        Toscana  43.769231   \n",
       "479  479  2020-03-17 17:00:00     ITA           4    P.A. Trento  46.068935   \n",
       "480  480  2020-03-17 17:00:00     ITA          10         Umbria  43.106758   \n",
       "481  481  2020-03-17 17:00:00     ITA           2  Valle d'Aosta  45.737503   \n",
       "482  482  2020-03-17 17:00:00     ITA           5         Veneto  45.434905   \n",
       "\n",
       "     Longitude  HospitalizedPatients  IntensiveCarePatients  \\\n",
       "478  11.255889                   329                    143   \n",
       "479  11.121231                   107                     22   \n",
       "480  12.388247                    36                     21   \n",
       "481   7.320149                    35                      6   \n",
       "482  12.338452                   548                    171   \n",
       "\n",
       "     TotalHospitalizedPatients  HomeConfinement  CurrentPositiveCases  \\\n",
       "478                        472              552                  1024   \n",
       "479                        129              239                   368   \n",
       "480                         57              135                   192   \n",
       "481                         41               93                   134   \n",
       "482                        719             1769                  2488   \n",
       "\n",
       "     NewPositiveCases  Recovered  Deaths  TotalPositiveCases  TestsPerformed  \n",
       "478               183         12      17                1053            6727  \n",
       "479                 1         10       7                 385            1727  \n",
       "480                33          4       1                 197            1323  \n",
       "481                31          0       2                 136             398  \n",
       "482               214        136      80                2704           35478  "
      ]
     },
     "execution_count": 536,
     "metadata": {},
     "output_type": "execute_result"
    }
   ],
   "source": [
    "italy_df.tail()"
   ]
  },
  {
   "cell_type": "markdown",
   "metadata": {},
   "source": [
    "# Hypothesis\n",
    "\n",
    "- Check doubling sequence with R not based on initial data. See how that matches up with reality\n",
    "- Perhaps as % of population\n",
    "- Match up increase rates with quarantine measures?\n",
    "\n",
    "Essentially what it takes is lockdown. So then the question is, when will the USA go into lockdown completely?\n",
    "\n",
    "- What metrics do other countries use to determine lockdowns? % of population, number of free hospital beds vs hospitalized covid patients, etc.\n",
    "- When will the US reach those metrics?\n",
    "- How effective is the soft lockdown? and how if so is it enough as to avoid lockdown?\n",
    "\n",
    "Italy may be the best comparison\n",
    "- 60M people\n",
    "- Quarantined on March 9 (with additional restrictions added later)\n",
    "\n",
    "It doesn't matter in terms of the exponential whether you consider each state separately or all together. Except in terms of very specific things like distribution of age, or other slight factors. It does however matter a lot in terms of the hospital beds. The hospital beds are being stressed locally. So if we model the exponential globally, but account for the hospital beds and % split of infected locally, that should be a pretty good indication.\n",
    "\n",
    "Hospital Beds in the USA https://www.kff.org/other/state-indicator/beds-by-ownership/?currentTimeframe=0&sortModel=%7B%22colId%22:%22Location%22,%22sort%22:%22asc%22%7D\n",
    "\n",
    "## New Goal\n",
    "\n",
    "Modeling the S curve as the R0 decreases due to preventative measures and social distancing. With this view, it appears that any of the worst case scenarios are of 0% and its very unlikely to even reach a million cases initially. If the curve is sufficently flattened, it may become another one of the flu strains that roams the world. But we won't be looking at the severe strain that some had projected.\n",
    "\n",
    "## USA\n",
    "\n",
    "from https://www.nytimes.com/interactive/2020/03/17/upshot/hospital-bed-shortages-coronavirus.html\n",
    "\n",
    "- Number of Hospitals 6,146\n",
    "- Number of admissions 36,353,946\n",
    "- total hospital beds 738,000 \n",
    "- total unoccupied beds 265,000\n",
    "- total ICU beds 85,000\n",
    "- total unoccupied ICU beds 32,000 - 45k\n",
    "\n",
    "## Italy\n",
    "\n",
    "- Number of hospital beds per 1k people 3.2\n",
    "- Number of people 60.48M\n",
    "- Number of hospital beds 18.9k\n",
    "- 12.5 critical care beds per 100k people https://www.ft.com/content/34f25036-62f4-11ea-a6cd-df28cc3c6a68\n",
    "- 7560 ICU beds\n",
    "\n",
    "#### Lockdown stats\n",
    "\n",
    "- Declared lockdown march 9 2020\n",
    "- 9172 cases\n",
    "- 1797 daily cases \n",
    "- 7985 currently infected \n",
    "- 463 deaths \n",
    "- 97 daily deaths \n",
    "- 638 or 8% Serious or critical\n",
    "\n",
    "USA has 5.4x the population of Italy. If we scale these numbers to USA\n",
    "\n",
    "- 45860 cases\n",
    "- 9703.8 daily cases \n",
    "- 43119 currently infected\n",
    "- 2500.2 deaths\n",
    "- 523.8 daily deaths\n",
    "- 3445.2 Serious or critical\n",
    "\n",
    "USA currently\n",
    "\n",
    "- 9259 total cases\n",
    "- 9003 active cases\n",
    "- 2848 daily cases\n",
    "- 155 total deaths\n",
    "- 41 daily deaths\n",
    "- 108 recovered\n",
    "\n",
    "# USA State specifics\n",
    "\n",
    "### New York\n",
    "\n",
    "- ICU Beds 3k\n",
    "- 80% are filled\n",
    "- Ordering an additional 18,600 - 37,200 beds\n",
    "- has 53k normal beds, wants 110k\n",
    "\n",
    "### Washington\n",
    "\n",
    "- 7.54M\n",
    "- 1.7 per 1000k people\n",
    "- 12.818k hospital beds\n",
    "\n",
    "### California\n",
    "\n",
    "- Pop 39.56M\n",
    "- 7274 ICU beds\n",
    "- 58% occupied\n",
    "- 4219 Unoccupied ICU beds\n",
    "- 1.8 per 1000k people\n",
    "- 71.208k hospital beds\n",
    "\n",
    "## C19 Characteristics\n",
    "\n",
    "- R0 of 2.5\n",
    "- Average of 5 days before symptoms\n",
    "- Hospital recovery time of 2.5 weeks\n",
    "- Average number of hospitalizations?"
   ]
  },
  {
   "cell_type": "code",
   "execution_count": 681,
   "metadata": {},
   "outputs": [],
   "source": [
    "def sigmoid(x):\n",
    "    return 1 / 1 + np.exp(-x)"
   ]
  },
  {
   "cell_type": "code",
   "execution_count": 698,
   "metadata": {},
   "outputs": [],
   "source": [
    "s = nn.Sigmoid()\n",
    "xax = np.arange(20) - 10\n",
    "inputs = torch.arange(20).float() - 10\n",
    "xaxis = s(inputs.reshape(1,20))"
   ]
  },
  {
   "cell_type": "code",
   "execution_count": 699,
   "metadata": {},
   "outputs": [
    {
     "data": {
      "text/plain": [
       "[<matplotlib.lines.Line2D at 0x1a367752b0>]"
      ]
     },
     "execution_count": 699,
     "metadata": {},
     "output_type": "execute_result"
    },
    {
     "data": {
      "image/png": "[encoded data removed]",
      "text/plain": [
       "<Figure size 432x288 with 1 Axes>"
      ]
     },
     "metadata": {
      "needs_background": "light"
     },
     "output_type": "display_data"
    }
   ],
   "source": [
    "plt.plot(xax,xaxis.view(-1).numpy())"
   ]
  },
  {
   "cell_type": "markdown",
   "metadata": {},
   "source": [
    "## Looking at infection cases"
   ]
  },
  {
   "cell_type": "code",
   "execution_count": 730,
   "metadata": {},
   "outputs": [],
   "source": [
    "def gen_infection_scurve(params):\n",
    "    population,R0,asymptomatic_period,hospitalization_rate,inflection_point,R0_reduction,base_R0 = params.values()\n",
    "    day = 0\n",
    "    total_infections = population\n",
    "    current_infections = population\n",
    "    hospitalized_patients = deque(maxlen=10)\n",
    "    while 1:\n",
    "        if day < inflection_point*asymptomatic_period:\n",
    "            current_infections = R0 * current_infections\n",
    "            total_infections += current_infections\n",
    "            day += asymptomatic_period\n",
    "            hospitalized_patients.append(current_infections * hospitalization_rate)\n",
    "    #         print(f'hospitalized_patients {sum(hospitalized_patients)}')\n",
    "        else:\n",
    "            R0 -= (R0 - base_R0) / 2\n",
    "            R0 = max(R0,base_R0)\n",
    "            current_infections = R0 * current_infections\n",
    "            total_infections += current_infections\n",
    "            day += asymptomatic_period\n",
    "            hospitalized_patients.append(current_infections * hospitalization_rate)\n",
    "        print(f'Day {day}, Current_infections: {current_infections:.0f}, total_infections: {total_infections:.0f}, Hospitalized_patients {sum(hospitalized_patients):.2f}, R0 {R0:.2f}')\n",
    "        yield (day,current_infections,total_infections,sum(hospitalized_patients),R0)\n",
    "    "
   ]
  },
  {
   "cell_type": "code",
   "execution_count": 752,
   "metadata": {},
   "outputs": [],
   "source": [
    "population = 3\n",
    "R0 = 2.3\n",
    "asymptomatic_period = 5\n",
    "hospitalization_rate = 0.05\n",
    "inflection_point = 10 # of cycles since to Jan 24 to March 16\n",
    "R0_reduction = 0.4\n",
    "base_R0 = 0.7\n",
    "params = {'population':population,\n",
    "         'R0':R0,\n",
    "         'asymptomatic_period':asymptomatic_period,\n",
    "         'hospitalization_rate':hospitalization_rate,\n",
    "         'inflection_point':inflection_point,\n",
    "         'R0_reduction':R0_reduction,\n",
    "         'base_R0':base_R0\n",
    "         }\n",
    "curveGenerator = gen_infection_scurve(params)"
   ]
  },
  {
   "cell_type": "code",
   "execution_count": 753,
   "metadata": {},
   "outputs": [
    {
     "name": "stdout",
     "output_type": "stream",
     "text": [
      "Day 5, Current_infections: 7, total_infections: 10, Hospitalized_patients 0.34, R0 2.30\n",
      "Day 10, Current_infections: 16, total_infections: 26, Hospitalized_patients 1.14, R0 2.30\n",
      "Day 15, Current_infections: 37, total_infections: 62, Hospitalized_patients 2.96, R0 2.30\n",
      "Day 20, Current_infections: 84, total_infections: 146, Hospitalized_patients 7.16, R0 2.30\n",
      "Day 25, Current_infections: 193, total_infections: 339, Hospitalized_patients 16.82, R0 2.30\n",
      "Day 30, Current_infections: 444, total_infections: 783, Hospitalized_patients 39.02, R0 2.30\n",
      "Day 35, Current_infections: 1021, total_infections: 1805, Hospitalized_patients 90.09, R0 2.30\n",
      "Day 40, Current_infections: 2349, total_infections: 4154, Hospitalized_patients 207.56, R0 2.30\n",
      "Day 45, Current_infections: 5403, total_infections: 9558, Hospitalized_patients 477.73, R0 2.30\n",
      "Day 50, Current_infections: 12428, total_infections: 21986, Hospitalized_patients 1099.13, R0 2.30\n",
      "Day 55, Current_infections: 18642, total_infections: 40628, Hospitalized_patients 2030.88, R0 1.50\n",
      "Day 60, Current_infections: 20506, total_infections: 61134, Hospitalized_patients 3055.39, R0 1.10\n",
      "Day 65, Current_infections: 18456, total_infections: 79589, Hospitalized_patients 3976.35, R0 0.90\n",
      "Day 70, Current_infections: 14764, total_infections: 94354, Hospitalized_patients 4710.37, R0 0.80\n",
      "Day 75, Current_infections: 11073, total_infections: 105427, Hospitalized_patients 5254.38, R0 0.75\n",
      "Day 80, Current_infections: 8028, total_infections: 113455, Hospitalized_patients 5633.58, R0 0.72\n",
      "Day 85, Current_infections: 5720, total_infections: 119175, Hospitalized_patients 5868.51, R0 0.71\n",
      "Day 90, Current_infections: 4040, total_infections: 123215, Hospitalized_patients 5953.03, R0 0.71\n",
      "Day 95, Current_infections: 2840, total_infections: 126055, Hospitalized_patients 5824.88, R0 0.70\n",
      "Day 100, Current_infections: 1993, total_infections: 128048, Hospitalized_patients 5303.13, R0 0.70\n",
      "Day 105, Current_infections: 1396, total_infections: 129445, Hospitalized_patients 4440.85, R0 0.70\n",
      "Day 110, Current_infections: 978, total_infections: 130423, Hospitalized_patients 3464.45, R0 0.70\n",
      "Day 115, Current_infections: 685, total_infections: 131108, Hospitalized_patients 2575.92, R0 0.70\n",
      "Day 120, Current_infections: 479, total_infections: 131587, Hospitalized_patients 1861.67, R0 0.70\n",
      "Day 125, Current_infections: 336, total_infections: 131923, Hospitalized_patients 1324.79, R0 0.70\n"
     ]
    }
   ],
   "source": [
    "scurve_data = []\n",
    "for _ in range(25):\n",
    "    scurve_data.append(next(curveGenerator))"
   ]
  },
  {
   "cell_type": "code",
   "execution_count": 751,
   "metadata": {},
   "outputs": [
    {
     "data": {
      "image/png": "[encoded data removed]",
      "text/plain": [
       "<Figure size 432x288 with 1 Axes>"
      ]
     },
     "metadata": {
      "needs_background": "light"
     },
     "output_type": "display_data"
    }
   ],
   "source": [
    "days,current_infections,total_infections,hospitalized_patients,R0s = [],[],[],[],[]\n",
    "for point in scurve_data:\n",
    "    day,current_infection,total_infection,hospitalized_patient,R0 = point\n",
    "    days.append(day)\n",
    "    current_infections.append(current_infection)\n",
    "    total_infections.append(total_infection)\n",
    "    hospitalized_patients.append(hospitalized_patient)\n",
    "    R0s.append(R0)\n",
    "    \n",
    "values = [total_infections,current_infections,hospitalized_patients,R0s,days]\n",
    "labels = ['total_infections','current_infections','hospitalized_patients','R0s','days']\n",
    "colors = ['b','g','r','c','m','y','lightblue','lightgreen','gray','teal']\n",
    "for i,x in enumerate(values[:-2]):\n",
    "    epochs = range(1,len(x)+1)\n",
    "    plt.plot(epochs,x,colors[i],label=f\"{labels[i]}\")\n",
    "    plt.title('Covid19')\n",
    "    plt.xlabel('5 Day cycles')\n",
    "    plt.ylabel('Cases')\n",
    "    plt.legend()\n",
    "plt.show()"
   ]
  },
  {
   "cell_type": "code",
   "execution_count": 745,
   "metadata": {},
   "outputs": [
    {
     "data": {
      "image/png": "[encoded data removed]",
      "text/plain": [
       "<Figure size 432x288 with 1 Axes>"
      ]
     },
     "metadata": {
      "needs_background": "light"
     },
     "output_type": "display_data"
    }
   ],
   "source": [
    "for i,x in enumerate(values[2:-1],2):\n",
    "    epochs = range(1,len(x)+1)\n",
    "    plt.plot(epochs,x,colors[i],label=f\"{labels[i]}\")\n",
    "    plt.title('Covid19')\n",
    "    plt.xlabel('5 Day cycles')\n",
    "    plt.ylabel('Cases')\n",
    "    plt.legend()\n",
    "plt.show()"
   ]
  },
  {
   "cell_type": "code",
   "execution_count": 743,
   "metadata": {},
   "outputs": [
    {
     "data": {
      "image/png": "[encoded data removed]",
      "text/plain": [
       "<Figure size 432x288 with 1 Axes>"
      ]
     },
     "metadata": {
      "needs_background": "light"
     },
     "output_type": "display_data"
    }
   ],
   "source": [
    "for i,x in enumerate(values[4:],4):\n",
    "    epochs = range(1,len(x)+1)\n",
    "    plt.plot(epochs,x,colors[i],label=f\"{labels[i]}\")\n",
    "    plt.title('Covid19')\n",
    "    plt.xlabel('5 Day cycles')\n",
    "    plt.ylabel('Cases')\n",
    "    plt.legend()\n",
    "plt.show()"
   ]
  },
  {
   "cell_type": "code",
   "execution_count": 626,
   "metadata": {},
   "outputs": [],
   "source": [
    "def gen_infections(population,R0,asymptomatic_period,hospitalization_rate):\n",
    "    day = 0\n",
    "    total_infections = population\n",
    "    current_infections = population\n",
    "    hospitalized_patients = deque(maxlen=10)\n",
    "    while 1:\n",
    "        current_infections = R0 * current_infections\n",
    "        total_infections += current_infections\n",
    "        day += asymptomatic_period\n",
    "        hospitalized_patients.append(current_infections * hospitalization_rate)\n",
    "#         print(f'hospitalized_patients {sum(hospitalized_patients)}')\n",
    "        print(f'Day {day}, Current_infections: {current_infections:.0f}, total_infections: {total_infections:.0f}, Hospitalized_patients {sum(hospitalized_patients):.2f}')\n",
    "        yield total_infections\n",
    "    "
   ]
  },
  {
   "cell_type": "code",
   "execution_count": 662,
   "metadata": {},
   "outputs": [],
   "source": [
    "population = 3\n",
    "R0 = 2.3\n",
    "asymptomatic_period = 5\n",
    "hospitalization_rate = 0.05\n",
    "generator = gen_infections(population,Rn,asymptomatic_period,hospitalization_rate)"
   ]
  },
  {
   "cell_type": "code",
   "execution_count": 663,
   "metadata": {},
   "outputs": [
    {
     "name": "stdout",
     "output_type": "stream",
     "text": [
      "Day 5, Current_infections: 7, total_infections: 10, Hospitalized_patients 0.34\n",
      "Day 10, Current_infections: 16, total_infections: 26, Hospitalized_patients 1.14\n",
      "Day 15, Current_infections: 37, total_infections: 62, Hospitalized_patients 2.96\n",
      "Day 20, Current_infections: 84, total_infections: 146, Hospitalized_patients 7.16\n",
      "Day 25, Current_infections: 193, total_infections: 339, Hospitalized_patients 16.82\n",
      "Day 30, Current_infections: 444, total_infections: 783, Hospitalized_patients 39.02\n",
      "Day 35, Current_infections: 1021, total_infections: 1805, Hospitalized_patients 90.09\n",
      "Day 40, Current_infections: 2349, total_infections: 4154, Hospitalized_patients 207.56\n",
      "Day 45, Current_infections: 5403, total_infections: 9558, Hospitalized_patients 477.73\n",
      "Day 50, Current_infections: 12428, total_infections: 21986, Hospitalized_patients 1099.13\n",
      "Day 55, Current_infections: 28584, total_infections: 50570, Hospitalized_patients 2528.00\n",
      "Day 60, Current_infections: 65744, total_infections: 116314, Hospitalized_patients 5814.40\n",
      "Day 65, Current_infections: 151211, total_infections: 267525, Hospitalized_patients 13373.12\n",
      "Day 70, Current_infections: 347785, total_infections: 615310, Hospitalized_patients 30758.18\n",
      "Day 75, Current_infections: 799906, total_infections: 1415215, Hospitalized_patients 70743.81\n",
      "Day 80, Current_infections: 1839783, total_infections: 3254999, Hospitalized_patients 162710.76\n"
     ]
    }
   ],
   "source": [
    "for i in range(1,17):\n",
    "    next(generator)\n",
    "#     print(f'Infected population {next(generator)}, Day {i*5}')"
   ]
  },
  {
   "cell_type": "markdown",
   "metadata": {},
   "source": [
    "## Graphs with different initial populations"
   ]
  },
  {
   "cell_type": "code",
   "execution_count": 380,
   "metadata": {},
   "outputs": [
    {
     "data": {
      "image/png": "[encoded data removed]",
      "text/plain": [
       "<Figure size 432x288 with 1 Axes>"
      ]
     },
     "metadata": {
      "needs_background": "light"
     },
     "output_type": "display_data"
    }
   ],
   "source": [
    "alternates = []\n",
    "data_points = {i:[] for i in range(10)}\n",
    "for i in range(1,11):\n",
    "    alternates.append(gen_infections(i,2.5,5))\n",
    "for i,gen in enumerate(alternates):\n",
    "    for _ in range(1,13):\n",
    "        data_points[i].append(next(gen))\n",
    "    \n",
    "\n",
    "colors = ['b','g','r','c','m','y','lightblue','lightgreen','gray','teal']\n",
    "xs = data_points.values()\n",
    "for i,x in enumerate(xs):\n",
    "    epochs = range(1,len(x)+1)\n",
    "    plt.plot(epochs,x,colors[i],label=f\"Initial pop {i+1}\")\n",
    "    plt.title('Covid19')\n",
    "    plt.xlabel('5 Day cycles')\n",
    "    plt.ylabel('Cases')\n",
    "    plt.legend()\n",
    "plt.show()"
   ]
  },
  {
   "cell_type": "markdown",
   "metadata": {},
   "source": [
    "## Different R0 values with pop 1"
   ]
  },
  {
   "cell_type": "code",
   "execution_count": 386,
   "metadata": {},
   "outputs": [],
   "source": [
    "R0s = np.linspace(2,3,11)"
   ]
  },
  {
   "cell_type": "code",
   "execution_count": 391,
   "metadata": {},
   "outputs": [
    {
     "data": {
      "image/png": "[encoded data removed]",
      "text/plain": [
       "<Figure size 432x288 with 1 Axes>"
      ]
     },
     "metadata": {
      "needs_background": "light"
     },
     "output_type": "display_data"
    }
   ],
   "source": [
    "alternates = []\n",
    "data_points = {i:[] for i in range(11)}\n",
    "for R0 in R0s:\n",
    "    alternates.append(gen_infections(1,R0,5))\n",
    "for i,gen in enumerate(alternates):\n",
    "    for _ in range(1,13):\n",
    "        data_points[i].append(next(gen))\n",
    "    \n",
    "\n",
    "colors = ['b','g','r','c','m','y','lightblue','lightgreen','gray','teal','brown']\n",
    "xs = data_points.values()\n",
    "for i,x in enumerate(xs):\n",
    "    epochs = range(1,len(x)+1)\n",
    "    plt.plot(epochs,x,colors[i],label=f\"R0 {R0s[i]}\")\n",
    "    plt.title('Covid19')\n",
    "    plt.xlabel('5 Day cycles')\n",
    "    plt.ylabel('Cases')\n",
    "    plt.legend()\n",
    "plt.show()"
   ]
  },
  {
   "cell_type": "markdown",
   "metadata": {},
   "source": [
    "# WHO projected R0"
   ]
  },
  {
   "cell_type": "code",
   "execution_count": 413,
   "metadata": {},
   "outputs": [
    {
     "name": "stdout",
     "output_type": "stream",
     "text": [
      "Max 4096, 59604.644775390625\n"
     ]
    },
    {
     "data": {
      "image/png": "[encoded data removed]",
      "text/plain": [
       "<Figure size 432x288 with 1 Axes>"
      ]
     },
     "metadata": {
      "needs_background": "light"
     },
     "output_type": "display_data"
    }
   ],
   "source": [
    "WHO_R0s = [2,2.5]\n",
    "\n",
    "alternates = []\n",
    "data_points = {i:[] for i in range(2)}\n",
    "for R0 in WHO_R0s:\n",
    "    alternates.append(gen_infections(1,R0,5))\n",
    "for i,gen in enumerate(alternates):\n",
    "    for _ in range(1,13):\n",
    "        data_points[i].append(next(gen))\n",
    "\n",
    "print(f'Max {np.max(data_points[0])}, {np.max(data_points[1])}')\n",
    "\n",
    "colors = ['b','g','r','c','m','y','lightblue','lightgreen','gray','teal','brown']\n",
    "epochs = range(1,len(data_points[0])+1)\n",
    "plt.plot(epochs,data_points[0],colors[0],label=f\"R0 {WHO_R0s[0]}\")\n",
    "plt.plot(epochs,data_points[1],colors[1],label=f\"R0 {WHO_R0s[1]}\")\n",
    "plt.fill_between(epochs, data_points[0], data_points[1],color='orange')\n",
    "plt.title('Covid19')\n",
    "plt.xlabel('5 Day cycles')\n",
    "plt.ylabel('Cases')\n",
    "# plt.yscale(\"log\")\n",
    "plt.legend()\n",
    "plt.show()"
   ]
  },
  {
   "cell_type": "markdown",
   "metadata": {},
   "source": [
    "# Utils"
   ]
  },
  {
   "cell_type": "code",
   "execution_count": 142,
   "metadata": {},
   "outputs": [],
   "source": [
    "def plot_totals(cases,deaths=None):\n",
    "    epochs = range(1,len(cases)+1)\n",
    "    plt.plot(epochs,cases,'g',label=\"Confirmed Cases\")\n",
    "    if deaths:\n",
    "        plt.plot(epochs,deaths,'m',label=\"Deaths\")\n",
    "    plt.title('Covid19')\n",
    "    plt.xlabel('Days')\n",
    "    plt.ylabel('Cases')\n",
    "    plt.legend()\n",
    "    plt.show()\n",
    "\n",
    "#     plt.clf()\n",
    "#     acc = history.history['acc']\n",
    "#     val_acc = history.history['val_acc']\n",
    "\n",
    "#     plt.plot(epochs,acc,'bo',label='Training acc')\n",
    "#     plt.plot(epochs,val_acc,'b',label='Validation acc')\n",
    "#     plt.title('Training and validation accuracy')\n",
    "#     plt.xlabel('Epochs')\n",
    "#     plt.ylabel('Accuracy')\n",
    "#     plt.legend()\n",
    "\n",
    "#     plt.show()"
   ]
  },
  {
   "cell_type": "code",
   "execution_count": 325,
   "metadata": {},
   "outputs": [],
   "source": [
    "def parse_date(date_str):\n",
    "    return datetime.datetime.strptime(date_str,'%m/%d/%y')"
   ]
  },
  {
   "cell_type": "markdown",
   "metadata": {},
   "source": [
    "# List all the contained countries"
   ]
  },
  {
   "cell_type": "code",
   "execution_count": 133,
   "metadata": {},
   "outputs": [
    {
     "data": {
      "text/plain": [
       "array(['Thailand', 'Japan', 'Singapore', 'Nepal', 'Malaysia', 'Canada',\n",
       "       'Australia', 'Cambodia', 'Sri Lanka', 'Germany', 'Finland',\n",
       "       'United Arab Emirates', 'Philippines', 'India', 'Italy', 'Sweden',\n",
       "       'Spain', 'Belgium', 'Egypt', 'Lebanon', 'Iraq', 'Oman',\n",
       "       'Afghanistan', 'Bahrain', 'Kuwait', 'Algeria', 'Croatia',\n",
       "       'Switzerland', 'Austria', 'Israel', 'Pakistan', 'Brazil',\n",
       "       'Georgia', 'Greece', 'North Macedonia', 'Norway', 'Romania',\n",
       "       'Estonia', 'Netherlands', 'San Marino', 'Belarus', 'Iceland',\n",
       "       'Lithuania', 'Mexico', 'New Zealand', 'Nigeria', 'Ireland',\n",
       "       'Luxembourg', 'Monaco', 'Qatar', 'Ecuador', 'Azerbaijan',\n",
       "       'Armenia', 'Dominican Republic', 'Indonesia', 'Portugal',\n",
       "       'Andorra', 'Latvia', 'Morocco', 'Saudi Arabia', 'Senegal',\n",
       "       'Argentina', 'Chile', 'Jordan', 'Ukraine', 'Hungary',\n",
       "       'Liechtenstein', 'Poland', 'Tunisia', 'Bosnia and Herzegovina',\n",
       "       'Slovenia', 'South Africa', 'Bhutan', 'Cameroon', 'Colombia',\n",
       "       'Costa Rica', 'Peru', 'Serbia', 'Slovakia', 'Togo',\n",
       "       'French Guiana', 'Malta', 'Martinique', 'Bulgaria', 'Maldives',\n",
       "       'Bangladesh', 'Paraguay', 'Albania', 'Cyprus', 'Brunei', 'US',\n",
       "       'Burkina Faso', 'Holy See', 'Mongolia', 'Panama', 'China', 'Iran',\n",
       "       'Korea, South', 'France', 'Cruise Ship', 'Denmark', 'Czechia',\n",
       "       'Taiwan*', 'Vietnam', 'Russia', 'Moldova', 'Bolivia', 'Honduras',\n",
       "       'United Kingdom', 'Congo (Kinshasa)', \"Cote d'Ivoire\", 'Jamaica',\n",
       "       'Reunion', 'Turkey', 'Cuba', 'Guyana', 'Kazakhstan',\n",
       "       'Cayman Islands', 'Guadeloupe', 'Ethiopia', 'Sudan', 'Guinea',\n",
       "       'Aruba', 'Kenya', 'Antigua and Barbuda', 'Uruguay', 'Ghana',\n",
       "       'Jersey', 'Namibia', 'Seychelles', 'Trinidad and Tobago',\n",
       "       'Venezuela', 'Curacao', 'Eswatini', 'Gabon', 'Guatemala',\n",
       "       'Guernsey', 'Mauritania', 'Rwanda', 'Saint Lucia',\n",
       "       'Saint Vincent and the Grenadines', 'Suriname',\n",
       "       'occupied Palestinian territory'], dtype=object)"
      ]
     },
     "execution_count": 133,
     "metadata": {},
     "output_type": "execute_result"
    }
   ],
   "source": [
    "general_df['Country/Region'].unique()"
   ]
  },
  {
   "cell_type": "code",
   "execution_count": 134,
   "metadata": {},
   "outputs": [],
   "source": [
    "France = general_df[general_df['Country/Region'] == 'France']\n",
    "Spain = general_df[general_df['Country/Region'] == 'Spain']\n",
    "Italy = general_df[general_df['Country/Region'] == 'Italy']\n",
    "US = general_df[general_df['Country/Region'] == 'US']\n",
    "China = general_df[general_df['Country/Region'] == 'China']"
   ]
  },
  {
   "cell_type": "markdown",
   "metadata": {},
   "source": [
    "# USA"
   ]
  },
  {
   "cell_type": "code",
   "execution_count": 135,
   "metadata": {},
   "outputs": [
    {
     "data": {
      "text/html": [
       "<div>\n",
       "<style scoped>\n",
       "    .dataframe tbody tr th:only-of-type {\n",
       "        vertical-align: middle;\n",
       "    }\n",
       "\n",
       "    .dataframe tbody tr th {\n",
       "        vertical-align: top;\n",
       "    }\n",
       "\n",
       "    .dataframe thead th {\n",
       "        text-align: right;\n",
       "    }\n",
       "</style>\n",
       "<table border=\"1\" class=\"dataframe\">\n",
       "  <thead>\n",
       "    <tr style=\"text-align: right;\">\n",
       "      <th></th>\n",
       "      <th>Province/State</th>\n",
       "      <th>Country/Region</th>\n",
       "      <th>Lat</th>\n",
       "      <th>Long</th>\n",
       "      <th>1/22/20</th>\n",
       "      <th>1/23/20</th>\n",
       "      <th>1/24/20</th>\n",
       "      <th>1/25/20</th>\n",
       "      <th>1/26/20</th>\n",
       "      <th>1/27/20</th>\n",
       "      <th>...</th>\n",
       "      <th>3/5/20</th>\n",
       "      <th>3/6/20</th>\n",
       "      <th>3/7/20</th>\n",
       "      <th>3/8/20</th>\n",
       "      <th>3/9/20</th>\n",
       "      <th>3/10/20</th>\n",
       "      <th>3/11/20</th>\n",
       "      <th>3/12/20</th>\n",
       "      <th>3/13/20</th>\n",
       "      <th>3/14/20</th>\n",
       "    </tr>\n",
       "  </thead>\n",
       "  <tbody>\n",
       "    <tr>\n",
       "      <th>100</th>\n",
       "      <td>Washington</td>\n",
       "      <td>US</td>\n",
       "      <td>47.4009</td>\n",
       "      <td>-121.4905</td>\n",
       "      <td>0</td>\n",
       "      <td>0</td>\n",
       "      <td>0</td>\n",
       "      <td>0</td>\n",
       "      <td>0</td>\n",
       "      <td>0</td>\n",
       "      <td>...</td>\n",
       "      <td>0</td>\n",
       "      <td>0</td>\n",
       "      <td>0</td>\n",
       "      <td>0</td>\n",
       "      <td>0</td>\n",
       "      <td>267</td>\n",
       "      <td>366</td>\n",
       "      <td>442</td>\n",
       "      <td>568</td>\n",
       "      <td>572</td>\n",
       "    </tr>\n",
       "    <tr>\n",
       "      <th>101</th>\n",
       "      <td>New York</td>\n",
       "      <td>US</td>\n",
       "      <td>42.1657</td>\n",
       "      <td>-74.9481</td>\n",
       "      <td>0</td>\n",
       "      <td>0</td>\n",
       "      <td>0</td>\n",
       "      <td>0</td>\n",
       "      <td>0</td>\n",
       "      <td>0</td>\n",
       "      <td>...</td>\n",
       "      <td>0</td>\n",
       "      <td>0</td>\n",
       "      <td>0</td>\n",
       "      <td>0</td>\n",
       "      <td>0</td>\n",
       "      <td>173</td>\n",
       "      <td>220</td>\n",
       "      <td>328</td>\n",
       "      <td>421</td>\n",
       "      <td>525</td>\n",
       "    </tr>\n",
       "    <tr>\n",
       "      <th>102</th>\n",
       "      <td>California</td>\n",
       "      <td>US</td>\n",
       "      <td>36.1162</td>\n",
       "      <td>-119.6816</td>\n",
       "      <td>0</td>\n",
       "      <td>0</td>\n",
       "      <td>0</td>\n",
       "      <td>0</td>\n",
       "      <td>0</td>\n",
       "      <td>0</td>\n",
       "      <td>...</td>\n",
       "      <td>0</td>\n",
       "      <td>0</td>\n",
       "      <td>0</td>\n",
       "      <td>0</td>\n",
       "      <td>0</td>\n",
       "      <td>144</td>\n",
       "      <td>177</td>\n",
       "      <td>221</td>\n",
       "      <td>282</td>\n",
       "      <td>340</td>\n",
       "    </tr>\n",
       "    <tr>\n",
       "      <th>103</th>\n",
       "      <td>Massachusetts</td>\n",
       "      <td>US</td>\n",
       "      <td>42.2302</td>\n",
       "      <td>-71.5301</td>\n",
       "      <td>0</td>\n",
       "      <td>0</td>\n",
       "      <td>0</td>\n",
       "      <td>0</td>\n",
       "      <td>0</td>\n",
       "      <td>0</td>\n",
       "      <td>...</td>\n",
       "      <td>0</td>\n",
       "      <td>0</td>\n",
       "      <td>0</td>\n",
       "      <td>0</td>\n",
       "      <td>0</td>\n",
       "      <td>92</td>\n",
       "      <td>95</td>\n",
       "      <td>108</td>\n",
       "      <td>123</td>\n",
       "      <td>138</td>\n",
       "    </tr>\n",
       "    <tr>\n",
       "      <th>104</th>\n",
       "      <td>Diamond Princess</td>\n",
       "      <td>US</td>\n",
       "      <td>35.4437</td>\n",
       "      <td>139.6380</td>\n",
       "      <td>0</td>\n",
       "      <td>0</td>\n",
       "      <td>0</td>\n",
       "      <td>0</td>\n",
       "      <td>0</td>\n",
       "      <td>0</td>\n",
       "      <td>...</td>\n",
       "      <td>45</td>\n",
       "      <td>45</td>\n",
       "      <td>45</td>\n",
       "      <td>45</td>\n",
       "      <td>45</td>\n",
       "      <td>46</td>\n",
       "      <td>46</td>\n",
       "      <td>46</td>\n",
       "      <td>46</td>\n",
       "      <td>46</td>\n",
       "    </tr>\n",
       "    <tr>\n",
       "      <th>...</th>\n",
       "      <td>...</td>\n",
       "      <td>...</td>\n",
       "      <td>...</td>\n",
       "      <td>...</td>\n",
       "      <td>...</td>\n",
       "      <td>...</td>\n",
       "      <td>...</td>\n",
       "      <td>...</td>\n",
       "      <td>...</td>\n",
       "      <td>...</td>\n",
       "      <td>...</td>\n",
       "      <td>...</td>\n",
       "      <td>...</td>\n",
       "      <td>...</td>\n",
       "      <td>...</td>\n",
       "      <td>...</td>\n",
       "      <td>...</td>\n",
       "      <td>...</td>\n",
       "      <td>...</td>\n",
       "      <td>...</td>\n",
       "      <td>...</td>\n",
       "    </tr>\n",
       "    <tr>\n",
       "      <th>401</th>\n",
       "      <td>Wayne, MI</td>\n",
       "      <td>US</td>\n",
       "      <td>42.2791</td>\n",
       "      <td>-83.3362</td>\n",
       "      <td>0</td>\n",
       "      <td>0</td>\n",
       "      <td>0</td>\n",
       "      <td>0</td>\n",
       "      <td>0</td>\n",
       "      <td>0</td>\n",
       "      <td>...</td>\n",
       "      <td>0</td>\n",
       "      <td>0</td>\n",
       "      <td>0</td>\n",
       "      <td>0</td>\n",
       "      <td>0</td>\n",
       "      <td>0</td>\n",
       "      <td>0</td>\n",
       "      <td>0</td>\n",
       "      <td>0</td>\n",
       "      <td>0</td>\n",
       "    </tr>\n",
       "    <tr>\n",
       "      <th>402</th>\n",
       "      <td>New Castle, DE</td>\n",
       "      <td>US</td>\n",
       "      <td>39.5393</td>\n",
       "      <td>-75.6674</td>\n",
       "      <td>0</td>\n",
       "      <td>0</td>\n",
       "      <td>0</td>\n",
       "      <td>0</td>\n",
       "      <td>0</td>\n",
       "      <td>0</td>\n",
       "      <td>...</td>\n",
       "      <td>0</td>\n",
       "      <td>0</td>\n",
       "      <td>0</td>\n",
       "      <td>0</td>\n",
       "      <td>0</td>\n",
       "      <td>0</td>\n",
       "      <td>0</td>\n",
       "      <td>0</td>\n",
       "      <td>0</td>\n",
       "      <td>0</td>\n",
       "    </tr>\n",
       "    <tr>\n",
       "      <th>420</th>\n",
       "      <td>Alabama</td>\n",
       "      <td>US</td>\n",
       "      <td>32.3182</td>\n",
       "      <td>-86.9023</td>\n",
       "      <td>0</td>\n",
       "      <td>0</td>\n",
       "      <td>0</td>\n",
       "      <td>0</td>\n",
       "      <td>0</td>\n",
       "      <td>0</td>\n",
       "      <td>...</td>\n",
       "      <td>0</td>\n",
       "      <td>0</td>\n",
       "      <td>0</td>\n",
       "      <td>0</td>\n",
       "      <td>0</td>\n",
       "      <td>0</td>\n",
       "      <td>0</td>\n",
       "      <td>0</td>\n",
       "      <td>5</td>\n",
       "      <td>6</td>\n",
       "    </tr>\n",
       "    <tr>\n",
       "      <th>424</th>\n",
       "      <td>Puerto Rico</td>\n",
       "      <td>US</td>\n",
       "      <td>18.2208</td>\n",
       "      <td>-66.5901</td>\n",
       "      <td>0</td>\n",
       "      <td>0</td>\n",
       "      <td>0</td>\n",
       "      <td>0</td>\n",
       "      <td>0</td>\n",
       "      <td>0</td>\n",
       "      <td>...</td>\n",
       "      <td>0</td>\n",
       "      <td>0</td>\n",
       "      <td>0</td>\n",
       "      <td>0</td>\n",
       "      <td>0</td>\n",
       "      <td>0</td>\n",
       "      <td>0</td>\n",
       "      <td>0</td>\n",
       "      <td>0</td>\n",
       "      <td>3</td>\n",
       "    </tr>\n",
       "    <tr>\n",
       "      <th>440</th>\n",
       "      <td>Virgin Islands, U.S.</td>\n",
       "      <td>US</td>\n",
       "      <td>18.3358</td>\n",
       "      <td>-64.8963</td>\n",
       "      <td>0</td>\n",
       "      <td>0</td>\n",
       "      <td>0</td>\n",
       "      <td>0</td>\n",
       "      <td>0</td>\n",
       "      <td>0</td>\n",
       "      <td>...</td>\n",
       "      <td>0</td>\n",
       "      <td>0</td>\n",
       "      <td>0</td>\n",
       "      <td>0</td>\n",
       "      <td>0</td>\n",
       "      <td>0</td>\n",
       "      <td>0</td>\n",
       "      <td>0</td>\n",
       "      <td>0</td>\n",
       "      <td>1</td>\n",
       "    </tr>\n",
       "  </tbody>\n",
       "</table>\n",
       "<p>246 rows × 57 columns</p>\n",
       "</div>"
      ],
      "text/plain": [
       "           Province/State Country/Region      Lat      Long  1/22/20  1/23/20  \\\n",
       "100            Washington             US  47.4009 -121.4905        0        0   \n",
       "101              New York             US  42.1657  -74.9481        0        0   \n",
       "102            California             US  36.1162 -119.6816        0        0   \n",
       "103         Massachusetts             US  42.2302  -71.5301        0        0   \n",
       "104      Diamond Princess             US  35.4437  139.6380        0        0   \n",
       "..                    ...            ...      ...       ...      ...      ...   \n",
       "401             Wayne, MI             US  42.2791  -83.3362        0        0   \n",
       "402        New Castle, DE             US  39.5393  -75.6674        0        0   \n",
       "420               Alabama             US  32.3182  -86.9023        0        0   \n",
       "424           Puerto Rico             US  18.2208  -66.5901        0        0   \n",
       "440  Virgin Islands, U.S.             US  18.3358  -64.8963        0        0   \n",
       "\n",
       "     1/24/20  1/25/20  1/26/20  1/27/20  ...  3/5/20  3/6/20  3/7/20  3/8/20  \\\n",
       "100        0        0        0        0  ...       0       0       0       0   \n",
       "101        0        0        0        0  ...       0       0       0       0   \n",
       "102        0        0        0        0  ...       0       0       0       0   \n",
       "103        0        0        0        0  ...       0       0       0       0   \n",
       "104        0        0        0        0  ...      45      45      45      45   \n",
       "..       ...      ...      ...      ...  ...     ...     ...     ...     ...   \n",
       "401        0        0        0        0  ...       0       0       0       0   \n",
       "402        0        0        0        0  ...       0       0       0       0   \n",
       "420        0        0        0        0  ...       0       0       0       0   \n",
       "424        0        0        0        0  ...       0       0       0       0   \n",
       "440        0        0        0        0  ...       0       0       0       0   \n",
       "\n",
       "     3/9/20  3/10/20  3/11/20  3/12/20  3/13/20  3/14/20  \n",
       "100       0      267      366      442      568      572  \n",
       "101       0      173      220      328      421      525  \n",
       "102       0      144      177      221      282      340  \n",
       "103       0       92       95      108      123      138  \n",
       "104      45       46       46       46       46       46  \n",
       "..      ...      ...      ...      ...      ...      ...  \n",
       "401       0        0        0        0        0        0  \n",
       "402       0        0        0        0        0        0  \n",
       "420       0        0        0        0        5        6  \n",
       "424       0        0        0        0        0        3  \n",
       "440       0        0        0        0        0        1  \n",
       "\n",
       "[246 rows x 57 columns]"
      ]
     },
     "execution_count": 135,
     "metadata": {},
     "output_type": "execute_result"
    }
   ],
   "source": [
    "US"
   ]
  },
  {
   "cell_type": "code",
   "execution_count": 145,
   "metadata": {},
   "outputs": [],
   "source": [
    "US_cases = US.iloc[:,4:]"
   ]
  },
  {
   "cell_type": "code",
   "execution_count": 338,
   "metadata": {},
   "outputs": [],
   "source": [
    "US_totals = US_cases.sum(axis=0).values"
   ]
  },
  {
   "cell_type": "code",
   "execution_count": 340,
   "metadata": {},
   "outputs": [
    {
     "data": {
      "image/png": "[encoded data removed]",
      "text/plain": [
       "<Figure size 432x288 with 1 Axes>"
      ]
     },
     "metadata": {
      "needs_background": "light"
     },
     "output_type": "display_data"
    }
   ],
   "source": [
    "plot_totals(US_totals)"
   ]
  },
  {
   "cell_type": "code",
   "execution_count": 341,
   "metadata": {},
   "outputs": [
    {
     "data": {
      "image/png": "[encoded data removed]",
      "text/plain": [
       "<Figure size 432x288 with 1 Axes>"
      ]
     },
     "metadata": {
      "needs_background": "light"
     },
     "output_type": "display_data"
    }
   ],
   "source": [
    "plot_totals(np.gradient(US_totals))"
   ]
  },
  {
   "cell_type": "code",
   "execution_count": 342,
   "metadata": {},
   "outputs": [
    {
     "name": "stdout",
     "output_type": "stream",
     "text": [
      "Peak index 52\n",
      "Confirmed cases 2727\n"
     ]
    }
   ],
   "source": [
    "peak_US_index = np.argmax(np.gradient(US_totals))\n",
    "print(f'Peak index {peak_US_index}')\n",
    "print(f'Confirmed cases {US_totals[peak_US_index]}')"
   ]
  },
  {
   "cell_type": "code",
   "execution_count": 629,
   "metadata": {},
   "outputs": [
    {
     "name": "stdout",
     "output_type": "stream",
     "text": [
      "Date of first case 1/24/20\n",
      "Date of peak 3/10/20\n",
      "Duration in days 46 days, 0:00:00\n",
      "Duration since first case 54 days, 22:50:15.900883\n"
     ]
    }
   ],
   "source": [
    "US_first_case_index = np.min(np.nonzero(US_totals))\n",
    "print(f'Date of first case {US.columns[4+first_case_index]}')\n",
    "print(f'Date of peak {US.columns[peak_US_index]}')\n",
    "US_start_date = parse_date(US.columns[4+first_case_index])\n",
    "US_peak_date = parse_date(US.columns[peak_US_index])\n",
    "\n",
    "print(f'Duration in days {US_peak_date - US_start_date}')\n",
    "print(f'Duration since first case {datetime.datetime.now() - US_start_date}')"
   ]
  },
  {
   "cell_type": "markdown",
   "metadata": {},
   "source": [
    "# Italy"
   ]
  },
  {
   "cell_type": "code",
   "execution_count": 70,
   "metadata": {},
   "outputs": [
    {
     "data": {
      "text/html": [
       "<div>\n",
       "<style scoped>\n",
       "    .dataframe tbody tr th:only-of-type {\n",
       "        vertical-align: middle;\n",
       "    }\n",
       "\n",
       "    .dataframe tbody tr th {\n",
       "        vertical-align: top;\n",
       "    }\n",
       "\n",
       "    .dataframe thead th {\n",
       "        text-align: right;\n",
       "    }\n",
       "</style>\n",
       "<table border=\"1\" class=\"dataframe\">\n",
       "  <thead>\n",
       "    <tr style=\"text-align: right;\">\n",
       "      <th></th>\n",
       "      <th>Province/State</th>\n",
       "      <th>Country/Region</th>\n",
       "      <th>Lat</th>\n",
       "      <th>Long</th>\n",
       "      <th>1/22/20</th>\n",
       "      <th>1/23/20</th>\n",
       "      <th>1/24/20</th>\n",
       "      <th>1/25/20</th>\n",
       "      <th>1/26/20</th>\n",
       "      <th>1/27/20</th>\n",
       "      <th>...</th>\n",
       "      <th>3/5/20</th>\n",
       "      <th>3/6/20</th>\n",
       "      <th>3/7/20</th>\n",
       "      <th>3/8/20</th>\n",
       "      <th>3/9/20</th>\n",
       "      <th>3/10/20</th>\n",
       "      <th>3/11/20</th>\n",
       "      <th>3/12/20</th>\n",
       "      <th>3/13/20</th>\n",
       "      <th>3/14/20</th>\n",
       "    </tr>\n",
       "  </thead>\n",
       "  <tbody>\n",
       "    <tr>\n",
       "      <th>16</th>\n",
       "      <td>NaN</td>\n",
       "      <td>Italy</td>\n",
       "      <td>43.0</td>\n",
       "      <td>12.0</td>\n",
       "      <td>0</td>\n",
       "      <td>0</td>\n",
       "      <td>0</td>\n",
       "      <td>0</td>\n",
       "      <td>0</td>\n",
       "      <td>0</td>\n",
       "      <td>...</td>\n",
       "      <td>3858</td>\n",
       "      <td>4636</td>\n",
       "      <td>5883</td>\n",
       "      <td>7375</td>\n",
       "      <td>9172</td>\n",
       "      <td>10149</td>\n",
       "      <td>12462</td>\n",
       "      <td>12462</td>\n",
       "      <td>17660</td>\n",
       "      <td>21157</td>\n",
       "    </tr>\n",
       "  </tbody>\n",
       "</table>\n",
       "<p>1 rows × 57 columns</p>\n",
       "</div>"
      ],
      "text/plain": [
       "   Province/State Country/Region   Lat  Long  1/22/20  1/23/20  1/24/20  \\\n",
       "16            NaN          Italy  43.0  12.0        0        0        0   \n",
       "\n",
       "    1/25/20  1/26/20  1/27/20  ...  3/5/20  3/6/20  3/7/20  3/8/20  3/9/20  \\\n",
       "16        0        0        0  ...    3858    4636    5883    7375    9172   \n",
       "\n",
       "    3/10/20  3/11/20  3/12/20  3/13/20  3/14/20  \n",
       "16    10149    12462    12462    17660    21157  \n",
       "\n",
       "[1 rows x 57 columns]"
      ]
     },
     "execution_count": 70,
     "metadata": {},
     "output_type": "execute_result"
    }
   ],
   "source": [
    "Italy"
   ]
  },
  {
   "cell_type": "code",
   "execution_count": 71,
   "metadata": {},
   "outputs": [],
   "source": [
    "italy_cases = Italy.iloc[:,4:]"
   ]
  },
  {
   "cell_type": "code",
   "execution_count": 150,
   "metadata": {},
   "outputs": [],
   "source": [
    "italy_totals = italy_cases.values[0]"
   ]
  },
  {
   "cell_type": "code",
   "execution_count": 151,
   "metadata": {},
   "outputs": [
    {
     "data": {
      "image/png": "[encoded data removed]",
      "text/plain": [
       "<Figure size 432x288 with 1 Axes>"
      ]
     },
     "metadata": {
      "needs_background": "light"
     },
     "output_type": "display_data"
    }
   ],
   "source": [
    "plot_totals(italy_totals)"
   ]
  },
  {
   "cell_type": "code",
   "execution_count": 153,
   "metadata": {},
   "outputs": [
    {
     "data": {
      "image/png": "[encoded data removed]",
      "text/plain": [
       "<Figure size 432x288 with 1 Axes>"
      ]
     },
     "metadata": {
      "needs_background": "light"
     },
     "output_type": "display_data"
    }
   ],
   "source": [
    "plot_totals(np.gradient(italy_totals))"
   ]
  },
  {
   "cell_type": "code",
   "execution_count": 631,
   "metadata": {},
   "outputs": [
    {
     "name": "stdout",
     "output_type": "stream",
     "text": [
      "Peak index 51\n",
      "Confirmed cases 17660\n"
     ]
    }
   ],
   "source": [
    "peak_italy_index = np.argmax(np.gradient(italy_totals))\n",
    "print(f'Peak index {peak_italy_index}')\n",
    "print(f'Confirmed cases {italy_totals[peak_italy_index]}')"
   ]
  },
  {
   "cell_type": "code",
   "execution_count": 634,
   "metadata": {},
   "outputs": [
    {
     "name": "stdout",
     "output_type": "stream",
     "text": [
      "Date of first case 2020-01-24 00:00:00\n",
      "Date of peak 2020-03-13 00:00:00\n",
      "Duration until peak 49 days, 0:00:00\n",
      "Duration since first case 54 days, 22:53:03.982380\n"
     ]
    }
   ],
   "source": [
    "italy_first_case_index = np.min(np.nonzero(italy_totals))\n",
    "italy_start_date = parse_date(Italy.columns[4+first_case_index])\n",
    "italy_peak_date = parse_date(Italy.columns[4+peak_italy_index])\n",
    "print(f'Date of first case {italy_start_date}')\n",
    "print(f'Date of peak {italy_peak_date}')\n",
    "\n",
    "print(f'Duration until peak {italy_peak_date - italy_start_date}')\n",
    "print(f'Duration since first case {datetime.datetime.now() - italy_start_date}')"
   ]
  },
  {
   "cell_type": "markdown",
   "metadata": {},
   "source": [
    "# France"
   ]
  },
  {
   "cell_type": "code",
   "execution_count": 74,
   "metadata": {},
   "outputs": [
    {
     "data": {
      "text/html": [
       "<div>\n",
       "<style scoped>\n",
       "    .dataframe tbody tr th:only-of-type {\n",
       "        vertical-align: middle;\n",
       "    }\n",
       "\n",
       "    .dataframe tbody tr th {\n",
       "        vertical-align: top;\n",
       "    }\n",
       "\n",
       "    .dataframe thead th {\n",
       "        text-align: right;\n",
       "    }\n",
       "</style>\n",
       "<table border=\"1\" class=\"dataframe\">\n",
       "  <thead>\n",
       "    <tr style=\"text-align: right;\">\n",
       "      <th></th>\n",
       "      <th>Province/State</th>\n",
       "      <th>Country/Region</th>\n",
       "      <th>Lat</th>\n",
       "      <th>Long</th>\n",
       "      <th>1/22/20</th>\n",
       "      <th>1/23/20</th>\n",
       "      <th>1/24/20</th>\n",
       "      <th>1/25/20</th>\n",
       "      <th>1/26/20</th>\n",
       "      <th>1/27/20</th>\n",
       "      <th>...</th>\n",
       "      <th>3/5/20</th>\n",
       "      <th>3/6/20</th>\n",
       "      <th>3/7/20</th>\n",
       "      <th>3/8/20</th>\n",
       "      <th>3/9/20</th>\n",
       "      <th>3/10/20</th>\n",
       "      <th>3/11/20</th>\n",
       "      <th>3/12/20</th>\n",
       "      <th>3/13/20</th>\n",
       "      <th>3/14/20</th>\n",
       "    </tr>\n",
       "  </thead>\n",
       "  <tbody>\n",
       "    <tr>\n",
       "      <th>159</th>\n",
       "      <td>France</td>\n",
       "      <td>France</td>\n",
       "      <td>46.2276</td>\n",
       "      <td>2.2137</td>\n",
       "      <td>0</td>\n",
       "      <td>0</td>\n",
       "      <td>2</td>\n",
       "      <td>3</td>\n",
       "      <td>3</td>\n",
       "      <td>3</td>\n",
       "      <td>...</td>\n",
       "      <td>377</td>\n",
       "      <td>653</td>\n",
       "      <td>949</td>\n",
       "      <td>1126</td>\n",
       "      <td>1209</td>\n",
       "      <td>1784</td>\n",
       "      <td>2281</td>\n",
       "      <td>2281</td>\n",
       "      <td>3661</td>\n",
       "      <td>4469</td>\n",
       "    </tr>\n",
       "    <tr>\n",
       "      <th>200</th>\n",
       "      <td>St Martin</td>\n",
       "      <td>France</td>\n",
       "      <td>18.0708</td>\n",
       "      <td>-63.0501</td>\n",
       "      <td>0</td>\n",
       "      <td>0</td>\n",
       "      <td>0</td>\n",
       "      <td>0</td>\n",
       "      <td>0</td>\n",
       "      <td>0</td>\n",
       "      <td>...</td>\n",
       "      <td>0</td>\n",
       "      <td>0</td>\n",
       "      <td>0</td>\n",
       "      <td>0</td>\n",
       "      <td>2</td>\n",
       "      <td>2</td>\n",
       "      <td>2</td>\n",
       "      <td>2</td>\n",
       "      <td>2</td>\n",
       "      <td>2</td>\n",
       "    </tr>\n",
       "    <tr>\n",
       "      <th>207</th>\n",
       "      <td>Saint Barthelemy</td>\n",
       "      <td>France</td>\n",
       "      <td>17.9000</td>\n",
       "      <td>-62.8333</td>\n",
       "      <td>0</td>\n",
       "      <td>0</td>\n",
       "      <td>0</td>\n",
       "      <td>0</td>\n",
       "      <td>0</td>\n",
       "      <td>0</td>\n",
       "      <td>...</td>\n",
       "      <td>3</td>\n",
       "      <td>3</td>\n",
       "      <td>3</td>\n",
       "      <td>3</td>\n",
       "      <td>1</td>\n",
       "      <td>1</td>\n",
       "      <td>1</td>\n",
       "      <td>1</td>\n",
       "      <td>1</td>\n",
       "      <td>1</td>\n",
       "    </tr>\n",
       "    <tr>\n",
       "      <th>408</th>\n",
       "      <td>French Polynesia</td>\n",
       "      <td>France</td>\n",
       "      <td>-17.6797</td>\n",
       "      <td>149.4068</td>\n",
       "      <td>0</td>\n",
       "      <td>0</td>\n",
       "      <td>0</td>\n",
       "      <td>0</td>\n",
       "      <td>0</td>\n",
       "      <td>0</td>\n",
       "      <td>...</td>\n",
       "      <td>0</td>\n",
       "      <td>0</td>\n",
       "      <td>0</td>\n",
       "      <td>0</td>\n",
       "      <td>0</td>\n",
       "      <td>0</td>\n",
       "      <td>0</td>\n",
       "      <td>0</td>\n",
       "      <td>3</td>\n",
       "      <td>3</td>\n",
       "    </tr>\n",
       "    <tr>\n",
       "      <th>421</th>\n",
       "      <td>Fench Guiana</td>\n",
       "      <td>France</td>\n",
       "      <td>4.0000</td>\n",
       "      <td>-53.0000</td>\n",
       "      <td>0</td>\n",
       "      <td>0</td>\n",
       "      <td>0</td>\n",
       "      <td>0</td>\n",
       "      <td>0</td>\n",
       "      <td>0</td>\n",
       "      <td>...</td>\n",
       "      <td>0</td>\n",
       "      <td>0</td>\n",
       "      <td>0</td>\n",
       "      <td>0</td>\n",
       "      <td>0</td>\n",
       "      <td>0</td>\n",
       "      <td>0</td>\n",
       "      <td>0</td>\n",
       "      <td>0</td>\n",
       "      <td>5</td>\n",
       "    </tr>\n",
       "  </tbody>\n",
       "</table>\n",
       "<p>5 rows × 57 columns</p>\n",
       "</div>"
      ],
      "text/plain": [
       "       Province/State Country/Region      Lat      Long  1/22/20  1/23/20  \\\n",
       "159            France         France  46.2276    2.2137        0        0   \n",
       "200         St Martin         France  18.0708  -63.0501        0        0   \n",
       "207  Saint Barthelemy         France  17.9000  -62.8333        0        0   \n",
       "408  French Polynesia         France -17.6797  149.4068        0        0   \n",
       "421      Fench Guiana         France   4.0000  -53.0000        0        0   \n",
       "\n",
       "     1/24/20  1/25/20  1/26/20  1/27/20  ...  3/5/20  3/6/20  3/7/20  3/8/20  \\\n",
       "159        2        3        3        3  ...     377     653     949    1126   \n",
       "200        0        0        0        0  ...       0       0       0       0   \n",
       "207        0        0        0        0  ...       3       3       3       3   \n",
       "408        0        0        0        0  ...       0       0       0       0   \n",
       "421        0        0        0        0  ...       0       0       0       0   \n",
       "\n",
       "     3/9/20  3/10/20  3/11/20  3/12/20  3/13/20  3/14/20  \n",
       "159    1209     1784     2281     2281     3661     4469  \n",
       "200       2        2        2        2        2        2  \n",
       "207       1        1        1        1        1        1  \n",
       "408       0        0        0        0        3        3  \n",
       "421       0        0        0        0        0        5  \n",
       "\n",
       "[5 rows x 57 columns]"
      ]
     },
     "execution_count": 74,
     "metadata": {},
     "output_type": "execute_result"
    }
   ],
   "source": [
    "France"
   ]
  },
  {
   "cell_type": "code",
   "execution_count": 154,
   "metadata": {},
   "outputs": [],
   "source": [
    "french_cases = France.iloc[:,4:]"
   ]
  },
  {
   "cell_type": "code",
   "execution_count": 155,
   "metadata": {},
   "outputs": [],
   "source": [
    "french_total = french_cases.sum(axis=0).values"
   ]
  },
  {
   "cell_type": "code",
   "execution_count": 156,
   "metadata": {},
   "outputs": [
    {
     "data": {
      "image/png": "[encoded data removed]",
      "text/plain": [
       "<Figure size 432x288 with 1 Axes>"
      ]
     },
     "metadata": {
      "needs_background": "light"
     },
     "output_type": "display_data"
    }
   ],
   "source": [
    "plot_totals(french_total)"
   ]
  },
  {
   "cell_type": "code",
   "execution_count": 158,
   "metadata": {},
   "outputs": [
    {
     "data": {
      "image/png": "[encoded data removed]",
      "text/plain": [
       "<Figure size 432x288 with 1 Axes>"
      ]
     },
     "metadata": {
      "needs_background": "light"
     },
     "output_type": "display_data"
    }
   ],
   "source": [
    "plot_totals(np.gradient(french_total))"
   ]
  },
  {
   "cell_type": "code",
   "execution_count": 249,
   "metadata": {},
   "outputs": [
    {
     "name": "stdout",
     "output_type": "stream",
     "text": [
      "Peak index 51\n",
      "Confirmed cases 3667\n"
     ]
    }
   ],
   "source": [
    "peak_france_index = np.argmax(np.gradient(french_total))\n",
    "print(f'Peak index {peak_france_index}')\n",
    "print(f'Confirmed cases {french_total[peak_france_index]}')"
   ]
  },
  {
   "cell_type": "code",
   "execution_count": 635,
   "metadata": {},
   "outputs": [
    {
     "name": "stdout",
     "output_type": "stream",
     "text": [
      "Start index 2\n",
      "Peak index 51\n",
      "Date of first case 2020-01-24 00:00:00\n",
      "Date of peak 2020-03-13 00:00:00\n",
      "Duration in days 49 days, 0:00:00\n",
      "Duration since first case 54 days, 22:53:52.033327\n"
     ]
    }
   ],
   "source": [
    "first_case_index = np.min(np.nonzero(french_total))\n",
    "france_start_date = parse_date(France.columns[4+first_case_index])\n",
    "france_peak_date = parse_date(France.columns[4+peak_france_index])\n",
    "print(f'Start index {first_case_index}')\n",
    "print(f'Peak index {peak_france_index}')\n",
    "print(f'Date of first case {france_start_date}')\n",
    "print(f'Date of peak {france_peak_date}')\n",
    "\n",
    "print(f'Duration in days {france_peak_date - france_start_date}')\n",
    "print(f'Duration since first case {datetime.datetime.now() - italy_start_date}')"
   ]
  },
  {
   "cell_type": "markdown",
   "metadata": {},
   "source": [
    "# Spain"
   ]
  },
  {
   "cell_type": "code",
   "execution_count": 82,
   "metadata": {},
   "outputs": [
    {
     "data": {
      "text/html": [
       "<div>\n",
       "<style scoped>\n",
       "    .dataframe tbody tr th:only-of-type {\n",
       "        vertical-align: middle;\n",
       "    }\n",
       "\n",
       "    .dataframe tbody tr th {\n",
       "        vertical-align: top;\n",
       "    }\n",
       "\n",
       "    .dataframe thead th {\n",
       "        text-align: right;\n",
       "    }\n",
       "</style>\n",
       "<table border=\"1\" class=\"dataframe\">\n",
       "  <thead>\n",
       "    <tr style=\"text-align: right;\">\n",
       "      <th></th>\n",
       "      <th>Province/State</th>\n",
       "      <th>Country/Region</th>\n",
       "      <th>Lat</th>\n",
       "      <th>Long</th>\n",
       "      <th>1/22/20</th>\n",
       "      <th>1/23/20</th>\n",
       "      <th>1/24/20</th>\n",
       "      <th>1/25/20</th>\n",
       "      <th>1/26/20</th>\n",
       "      <th>1/27/20</th>\n",
       "      <th>...</th>\n",
       "      <th>3/5/20</th>\n",
       "      <th>3/6/20</th>\n",
       "      <th>3/7/20</th>\n",
       "      <th>3/8/20</th>\n",
       "      <th>3/9/20</th>\n",
       "      <th>3/10/20</th>\n",
       "      <th>3/11/20</th>\n",
       "      <th>3/12/20</th>\n",
       "      <th>3/13/20</th>\n",
       "      <th>3/14/20</th>\n",
       "    </tr>\n",
       "  </thead>\n",
       "  <tbody>\n",
       "    <tr>\n",
       "      <th>18</th>\n",
       "      <td>NaN</td>\n",
       "      <td>Spain</td>\n",
       "      <td>40.0</td>\n",
       "      <td>-4.0</td>\n",
       "      <td>0</td>\n",
       "      <td>0</td>\n",
       "      <td>0</td>\n",
       "      <td>0</td>\n",
       "      <td>0</td>\n",
       "      <td>0</td>\n",
       "      <td>...</td>\n",
       "      <td>259</td>\n",
       "      <td>400</td>\n",
       "      <td>500</td>\n",
       "      <td>673</td>\n",
       "      <td>1073</td>\n",
       "      <td>1695</td>\n",
       "      <td>2277</td>\n",
       "      <td>2277</td>\n",
       "      <td>5232</td>\n",
       "      <td>6391</td>\n",
       "    </tr>\n",
       "  </tbody>\n",
       "</table>\n",
       "<p>1 rows × 57 columns</p>\n",
       "</div>"
      ],
      "text/plain": [
       "   Province/State Country/Region   Lat  Long  1/22/20  1/23/20  1/24/20  \\\n",
       "18            NaN          Spain  40.0  -4.0        0        0        0   \n",
       "\n",
       "    1/25/20  1/26/20  1/27/20  ...  3/5/20  3/6/20  3/7/20  3/8/20  3/9/20  \\\n",
       "18        0        0        0  ...     259     400     500     673    1073   \n",
       "\n",
       "    3/10/20  3/11/20  3/12/20  3/13/20  3/14/20  \n",
       "18     1695     2277     2277     5232     6391  \n",
       "\n",
       "[1 rows x 57 columns]"
      ]
     },
     "execution_count": 82,
     "metadata": {},
     "output_type": "execute_result"
    }
   ],
   "source": [
    "Spain"
   ]
  },
  {
   "cell_type": "code",
   "execution_count": 160,
   "metadata": {},
   "outputs": [],
   "source": [
    "spain_cases = Spain.iloc[:,4:]"
   ]
  },
  {
   "cell_type": "code",
   "execution_count": 161,
   "metadata": {},
   "outputs": [],
   "source": [
    "spain_totals = spain_cases.values[0]"
   ]
  },
  {
   "cell_type": "code",
   "execution_count": 162,
   "metadata": {},
   "outputs": [
    {
     "data": {
      "image/png": "[encoded data removed]",
      "text/plain": [
       "<Figure size 432x288 with 1 Axes>"
      ]
     },
     "metadata": {
      "needs_background": "light"
     },
     "output_type": "display_data"
    }
   ],
   "source": [
    "plot_totals(spain_totals)"
   ]
  },
  {
   "cell_type": "code",
   "execution_count": 163,
   "metadata": {},
   "outputs": [
    {
     "data": {
      "image/png": "[encoded data removed]",
      "text/plain": [
       "<Figure size 432x288 with 1 Axes>"
      ]
     },
     "metadata": {
      "needs_background": "light"
     },
     "output_type": "display_data"
    }
   ],
   "source": [
    "plot_totals(np.gradient(spain_totals))"
   ]
  },
  {
   "cell_type": "markdown",
   "metadata": {},
   "source": [
    "#### Peak spain"
   ]
  },
  {
   "cell_type": "code",
   "execution_count": 636,
   "metadata": {},
   "outputs": [
    {
     "name": "stdout",
     "output_type": "stream",
     "text": [
      "Peak index 51\n",
      "Confirmed cases 5232\n"
     ]
    }
   ],
   "source": [
    "peak_spain_index = np.argmax(np.gradient(spain_totals))\n",
    "print(f'Peak index {peak_spain_index}')\n",
    "print(f'Confirmed cases {spain_totals[peak_spain_index]}')"
   ]
  },
  {
   "cell_type": "code",
   "execution_count": 638,
   "metadata": {},
   "outputs": [
    {
     "name": "stdout",
     "output_type": "stream",
     "text": [
      "Date of first case 2/1/20\n",
      "Date of peak 3/13/20\n",
      "Duration in days 41 days, 0:00:00\n",
      "Duration since first case 46 days, 22:54:58.788225\n"
     ]
    }
   ],
   "source": [
    "first_case_index = np.min(np.nonzero(spain_totals))\n",
    "spain_start_date = parse_date(Spain.columns[4+first_case_index])\n",
    "spain_peak_date = parse_date(Spain.columns[4+peak_spain_index])\n",
    "print(f'Date of first case {Spain.columns[4+first_case_index]}')\n",
    "print(f'Date of peak {Spain.columns[4+peak_spain_index]}')\\\n",
    "\n",
    "print(f'Duration in days {spain_peak_date - spain_start_date}')\n",
    "print(f'Duration since first case {datetime.datetime.now() - spain_start_date}')"
   ]
  },
  {
   "cell_type": "markdown",
   "metadata": {},
   "source": [
    "# China"
   ]
  },
  {
   "cell_type": "code",
   "execution_count": 87,
   "metadata": {},
   "outputs": [
    {
     "data": {
      "text/html": [
       "<div>\n",
       "<style scoped>\n",
       "    .dataframe tbody tr th:only-of-type {\n",
       "        vertical-align: middle;\n",
       "    }\n",
       "\n",
       "    .dataframe tbody tr th {\n",
       "        vertical-align: top;\n",
       "    }\n",
       "\n",
       "    .dataframe thead th {\n",
       "        text-align: right;\n",
       "    }\n",
       "</style>\n",
       "<table border=\"1\" class=\"dataframe\">\n",
       "  <thead>\n",
       "    <tr style=\"text-align: right;\">\n",
       "      <th></th>\n",
       "      <th>Province/State</th>\n",
       "      <th>Country/Region</th>\n",
       "      <th>Lat</th>\n",
       "      <th>Long</th>\n",
       "      <th>1/22/20</th>\n",
       "      <th>1/23/20</th>\n",
       "      <th>1/24/20</th>\n",
       "      <th>1/25/20</th>\n",
       "      <th>1/26/20</th>\n",
       "      <th>1/27/20</th>\n",
       "      <th>...</th>\n",
       "      <th>3/5/20</th>\n",
       "      <th>3/6/20</th>\n",
       "      <th>3/7/20</th>\n",
       "      <th>3/8/20</th>\n",
       "      <th>3/9/20</th>\n",
       "      <th>3/10/20</th>\n",
       "      <th>3/11/20</th>\n",
       "      <th>3/12/20</th>\n",
       "      <th>3/13/20</th>\n",
       "      <th>3/14/20</th>\n",
       "    </tr>\n",
       "  </thead>\n",
       "  <tbody>\n",
       "    <tr>\n",
       "      <th>156</th>\n",
       "      <td>Hubei</td>\n",
       "      <td>China</td>\n",
       "      <td>30.9756</td>\n",
       "      <td>112.2707</td>\n",
       "      <td>444</td>\n",
       "      <td>444</td>\n",
       "      <td>549</td>\n",
       "      <td>761</td>\n",
       "      <td>1058</td>\n",
       "      <td>1423</td>\n",
       "      <td>...</td>\n",
       "      <td>67466</td>\n",
       "      <td>67592</td>\n",
       "      <td>67666</td>\n",
       "      <td>67707</td>\n",
       "      <td>67743</td>\n",
       "      <td>67760</td>\n",
       "      <td>67773</td>\n",
       "      <td>67781</td>\n",
       "      <td>67786</td>\n",
       "      <td>67790</td>\n",
       "    </tr>\n",
       "    <tr>\n",
       "      <th>160</th>\n",
       "      <td>Guangdong</td>\n",
       "      <td>China</td>\n",
       "      <td>23.3417</td>\n",
       "      <td>113.4244</td>\n",
       "      <td>26</td>\n",
       "      <td>32</td>\n",
       "      <td>53</td>\n",
       "      <td>78</td>\n",
       "      <td>111</td>\n",
       "      <td>151</td>\n",
       "      <td>...</td>\n",
       "      <td>1351</td>\n",
       "      <td>1352</td>\n",
       "      <td>1352</td>\n",
       "      <td>1352</td>\n",
       "      <td>1352</td>\n",
       "      <td>1353</td>\n",
       "      <td>1356</td>\n",
       "      <td>1356</td>\n",
       "      <td>1356</td>\n",
       "      <td>1356</td>\n",
       "    </tr>\n",
       "    <tr>\n",
       "      <th>161</th>\n",
       "      <td>Henan</td>\n",
       "      <td>China</td>\n",
       "      <td>33.8820</td>\n",
       "      <td>113.6140</td>\n",
       "      <td>5</td>\n",
       "      <td>5</td>\n",
       "      <td>9</td>\n",
       "      <td>32</td>\n",
       "      <td>83</td>\n",
       "      <td>128</td>\n",
       "      <td>...</td>\n",
       "      <td>1272</td>\n",
       "      <td>1272</td>\n",
       "      <td>1272</td>\n",
       "      <td>1272</td>\n",
       "      <td>1272</td>\n",
       "      <td>1272</td>\n",
       "      <td>1273</td>\n",
       "      <td>1273</td>\n",
       "      <td>1273</td>\n",
       "      <td>1273</td>\n",
       "    </tr>\n",
       "    <tr>\n",
       "      <th>162</th>\n",
       "      <td>Zhejiang</td>\n",
       "      <td>China</td>\n",
       "      <td>29.1832</td>\n",
       "      <td>120.0934</td>\n",
       "      <td>10</td>\n",
       "      <td>27</td>\n",
       "      <td>43</td>\n",
       "      <td>62</td>\n",
       "      <td>104</td>\n",
       "      <td>128</td>\n",
       "      <td>...</td>\n",
       "      <td>1215</td>\n",
       "      <td>1215</td>\n",
       "      <td>1215</td>\n",
       "      <td>1215</td>\n",
       "      <td>1215</td>\n",
       "      <td>1215</td>\n",
       "      <td>1215</td>\n",
       "      <td>1215</td>\n",
       "      <td>1215</td>\n",
       "      <td>1227</td>\n",
       "    </tr>\n",
       "    <tr>\n",
       "      <th>163</th>\n",
       "      <td>Hunan</td>\n",
       "      <td>China</td>\n",
       "      <td>27.6104</td>\n",
       "      <td>111.7088</td>\n",
       "      <td>4</td>\n",
       "      <td>9</td>\n",
       "      <td>24</td>\n",
       "      <td>43</td>\n",
       "      <td>69</td>\n",
       "      <td>100</td>\n",
       "      <td>...</td>\n",
       "      <td>1018</td>\n",
       "      <td>1018</td>\n",
       "      <td>1018</td>\n",
       "      <td>1018</td>\n",
       "      <td>1018</td>\n",
       "      <td>1018</td>\n",
       "      <td>1018</td>\n",
       "      <td>1018</td>\n",
       "      <td>1018</td>\n",
       "      <td>1018</td>\n",
       "    </tr>\n",
       "    <tr>\n",
       "      <th>164</th>\n",
       "      <td>Anhui</td>\n",
       "      <td>China</td>\n",
       "      <td>31.8257</td>\n",
       "      <td>117.2264</td>\n",
       "      <td>1</td>\n",
       "      <td>9</td>\n",
       "      <td>15</td>\n",
       "      <td>39</td>\n",
       "      <td>60</td>\n",
       "      <td>70</td>\n",
       "      <td>...</td>\n",
       "      <td>990</td>\n",
       "      <td>990</td>\n",
       "      <td>990</td>\n",
       "      <td>990</td>\n",
       "      <td>990</td>\n",
       "      <td>990</td>\n",
       "      <td>990</td>\n",
       "      <td>990</td>\n",
       "      <td>990</td>\n",
       "      <td>990</td>\n",
       "    </tr>\n",
       "    <tr>\n",
       "      <th>165</th>\n",
       "      <td>Jiangxi</td>\n",
       "      <td>China</td>\n",
       "      <td>27.6140</td>\n",
       "      <td>115.7221</td>\n",
       "      <td>2</td>\n",
       "      <td>7</td>\n",
       "      <td>18</td>\n",
       "      <td>18</td>\n",
       "      <td>36</td>\n",
       "      <td>72</td>\n",
       "      <td>...</td>\n",
       "      <td>935</td>\n",
       "      <td>935</td>\n",
       "      <td>935</td>\n",
       "      <td>935</td>\n",
       "      <td>935</td>\n",
       "      <td>935</td>\n",
       "      <td>935</td>\n",
       "      <td>935</td>\n",
       "      <td>935</td>\n",
       "      <td>935</td>\n",
       "    </tr>\n",
       "    <tr>\n",
       "      <th>166</th>\n",
       "      <td>Shandong</td>\n",
       "      <td>China</td>\n",
       "      <td>36.3427</td>\n",
       "      <td>118.1498</td>\n",
       "      <td>2</td>\n",
       "      <td>6</td>\n",
       "      <td>15</td>\n",
       "      <td>27</td>\n",
       "      <td>46</td>\n",
       "      <td>75</td>\n",
       "      <td>...</td>\n",
       "      <td>758</td>\n",
       "      <td>758</td>\n",
       "      <td>758</td>\n",
       "      <td>758</td>\n",
       "      <td>758</td>\n",
       "      <td>758</td>\n",
       "      <td>760</td>\n",
       "      <td>760</td>\n",
       "      <td>760</td>\n",
       "      <td>760</td>\n",
       "    </tr>\n",
       "    <tr>\n",
       "      <th>168</th>\n",
       "      <td>Jiangsu</td>\n",
       "      <td>China</td>\n",
       "      <td>32.9711</td>\n",
       "      <td>119.4550</td>\n",
       "      <td>1</td>\n",
       "      <td>5</td>\n",
       "      <td>9</td>\n",
       "      <td>18</td>\n",
       "      <td>33</td>\n",
       "      <td>47</td>\n",
       "      <td>...</td>\n",
       "      <td>631</td>\n",
       "      <td>631</td>\n",
       "      <td>631</td>\n",
       "      <td>631</td>\n",
       "      <td>631</td>\n",
       "      <td>631</td>\n",
       "      <td>631</td>\n",
       "      <td>631</td>\n",
       "      <td>631</td>\n",
       "      <td>631</td>\n",
       "    </tr>\n",
       "    <tr>\n",
       "      <th>169</th>\n",
       "      <td>Chongqing</td>\n",
       "      <td>China</td>\n",
       "      <td>30.0572</td>\n",
       "      <td>107.8740</td>\n",
       "      <td>6</td>\n",
       "      <td>9</td>\n",
       "      <td>27</td>\n",
       "      <td>57</td>\n",
       "      <td>75</td>\n",
       "      <td>110</td>\n",
       "      <td>...</td>\n",
       "      <td>576</td>\n",
       "      <td>576</td>\n",
       "      <td>576</td>\n",
       "      <td>576</td>\n",
       "      <td>576</td>\n",
       "      <td>576</td>\n",
       "      <td>576</td>\n",
       "      <td>576</td>\n",
       "      <td>576</td>\n",
       "      <td>576</td>\n",
       "    </tr>\n",
       "    <tr>\n",
       "      <th>170</th>\n",
       "      <td>Sichuan</td>\n",
       "      <td>China</td>\n",
       "      <td>30.6171</td>\n",
       "      <td>102.7103</td>\n",
       "      <td>5</td>\n",
       "      <td>8</td>\n",
       "      <td>15</td>\n",
       "      <td>28</td>\n",
       "      <td>44</td>\n",
       "      <td>69</td>\n",
       "      <td>...</td>\n",
       "      <td>539</td>\n",
       "      <td>539</td>\n",
       "      <td>539</td>\n",
       "      <td>539</td>\n",
       "      <td>539</td>\n",
       "      <td>539</td>\n",
       "      <td>539</td>\n",
       "      <td>539</td>\n",
       "      <td>539</td>\n",
       "      <td>539</td>\n",
       "    </tr>\n",
       "    <tr>\n",
       "      <th>171</th>\n",
       "      <td>Heilongjiang</td>\n",
       "      <td>China</td>\n",
       "      <td>47.8620</td>\n",
       "      <td>127.7615</td>\n",
       "      <td>0</td>\n",
       "      <td>2</td>\n",
       "      <td>4</td>\n",
       "      <td>9</td>\n",
       "      <td>15</td>\n",
       "      <td>21</td>\n",
       "      <td>...</td>\n",
       "      <td>481</td>\n",
       "      <td>481</td>\n",
       "      <td>481</td>\n",
       "      <td>481</td>\n",
       "      <td>481</td>\n",
       "      <td>481</td>\n",
       "      <td>482</td>\n",
       "      <td>482</td>\n",
       "      <td>482</td>\n",
       "      <td>482</td>\n",
       "    </tr>\n",
       "    <tr>\n",
       "      <th>173</th>\n",
       "      <td>Beijing</td>\n",
       "      <td>China</td>\n",
       "      <td>40.1824</td>\n",
       "      <td>116.4142</td>\n",
       "      <td>14</td>\n",
       "      <td>22</td>\n",
       "      <td>36</td>\n",
       "      <td>41</td>\n",
       "      <td>68</td>\n",
       "      <td>80</td>\n",
       "      <td>...</td>\n",
       "      <td>418</td>\n",
       "      <td>422</td>\n",
       "      <td>426</td>\n",
       "      <td>428</td>\n",
       "      <td>428</td>\n",
       "      <td>429</td>\n",
       "      <td>435</td>\n",
       "      <td>435</td>\n",
       "      <td>436</td>\n",
       "      <td>437</td>\n",
       "    </tr>\n",
       "    <tr>\n",
       "      <th>174</th>\n",
       "      <td>Shanghai</td>\n",
       "      <td>China</td>\n",
       "      <td>31.2020</td>\n",
       "      <td>121.4491</td>\n",
       "      <td>9</td>\n",
       "      <td>16</td>\n",
       "      <td>20</td>\n",
       "      <td>33</td>\n",
       "      <td>40</td>\n",
       "      <td>53</td>\n",
       "      <td>...</td>\n",
       "      <td>339</td>\n",
       "      <td>342</td>\n",
       "      <td>342</td>\n",
       "      <td>342</td>\n",
       "      <td>342</td>\n",
       "      <td>344</td>\n",
       "      <td>344</td>\n",
       "      <td>344</td>\n",
       "      <td>346</td>\n",
       "      <td>353</td>\n",
       "    </tr>\n",
       "    <tr>\n",
       "      <th>175</th>\n",
       "      <td>Hebei</td>\n",
       "      <td>China</td>\n",
       "      <td>39.5490</td>\n",
       "      <td>116.1306</td>\n",
       "      <td>1</td>\n",
       "      <td>1</td>\n",
       "      <td>2</td>\n",
       "      <td>8</td>\n",
       "      <td>13</td>\n",
       "      <td>18</td>\n",
       "      <td>...</td>\n",
       "      <td>318</td>\n",
       "      <td>318</td>\n",
       "      <td>318</td>\n",
       "      <td>318</td>\n",
       "      <td>318</td>\n",
       "      <td>318</td>\n",
       "      <td>318</td>\n",
       "      <td>318</td>\n",
       "      <td>318</td>\n",
       "      <td>318</td>\n",
       "    </tr>\n",
       "    <tr>\n",
       "      <th>176</th>\n",
       "      <td>Fujian</td>\n",
       "      <td>China</td>\n",
       "      <td>26.0789</td>\n",
       "      <td>117.9874</td>\n",
       "      <td>1</td>\n",
       "      <td>5</td>\n",
       "      <td>10</td>\n",
       "      <td>18</td>\n",
       "      <td>35</td>\n",
       "      <td>59</td>\n",
       "      <td>...</td>\n",
       "      <td>296</td>\n",
       "      <td>296</td>\n",
       "      <td>296</td>\n",
       "      <td>296</td>\n",
       "      <td>296</td>\n",
       "      <td>296</td>\n",
       "      <td>296</td>\n",
       "      <td>296</td>\n",
       "      <td>296</td>\n",
       "      <td>296</td>\n",
       "    </tr>\n",
       "    <tr>\n",
       "      <th>177</th>\n",
       "      <td>Guangxi</td>\n",
       "      <td>China</td>\n",
       "      <td>23.8298</td>\n",
       "      <td>108.7881</td>\n",
       "      <td>2</td>\n",
       "      <td>5</td>\n",
       "      <td>23</td>\n",
       "      <td>23</td>\n",
       "      <td>36</td>\n",
       "      <td>46</td>\n",
       "      <td>...</td>\n",
       "      <td>252</td>\n",
       "      <td>252</td>\n",
       "      <td>252</td>\n",
       "      <td>252</td>\n",
       "      <td>252</td>\n",
       "      <td>252</td>\n",
       "      <td>252</td>\n",
       "      <td>252</td>\n",
       "      <td>252</td>\n",
       "      <td>252</td>\n",
       "    </tr>\n",
       "    <tr>\n",
       "      <th>178</th>\n",
       "      <td>Shaanxi</td>\n",
       "      <td>China</td>\n",
       "      <td>35.1917</td>\n",
       "      <td>108.8701</td>\n",
       "      <td>0</td>\n",
       "      <td>3</td>\n",
       "      <td>5</td>\n",
       "      <td>15</td>\n",
       "      <td>22</td>\n",
       "      <td>35</td>\n",
       "      <td>...</td>\n",
       "      <td>245</td>\n",
       "      <td>245</td>\n",
       "      <td>245</td>\n",
       "      <td>245</td>\n",
       "      <td>245</td>\n",
       "      <td>245</td>\n",
       "      <td>245</td>\n",
       "      <td>245</td>\n",
       "      <td>245</td>\n",
       "      <td>245</td>\n",
       "    </tr>\n",
       "    <tr>\n",
       "      <th>179</th>\n",
       "      <td>Yunnan</td>\n",
       "      <td>China</td>\n",
       "      <td>24.9740</td>\n",
       "      <td>101.4870</td>\n",
       "      <td>1</td>\n",
       "      <td>2</td>\n",
       "      <td>5</td>\n",
       "      <td>11</td>\n",
       "      <td>16</td>\n",
       "      <td>26</td>\n",
       "      <td>...</td>\n",
       "      <td>174</td>\n",
       "      <td>174</td>\n",
       "      <td>174</td>\n",
       "      <td>174</td>\n",
       "      <td>174</td>\n",
       "      <td>174</td>\n",
       "      <td>174</td>\n",
       "      <td>174</td>\n",
       "      <td>174</td>\n",
       "      <td>174</td>\n",
       "    </tr>\n",
       "    <tr>\n",
       "      <th>180</th>\n",
       "      <td>Hainan</td>\n",
       "      <td>China</td>\n",
       "      <td>19.1959</td>\n",
       "      <td>109.7453</td>\n",
       "      <td>4</td>\n",
       "      <td>5</td>\n",
       "      <td>8</td>\n",
       "      <td>19</td>\n",
       "      <td>22</td>\n",
       "      <td>33</td>\n",
       "      <td>...</td>\n",
       "      <td>168</td>\n",
       "      <td>168</td>\n",
       "      <td>168</td>\n",
       "      <td>168</td>\n",
       "      <td>168</td>\n",
       "      <td>168</td>\n",
       "      <td>168</td>\n",
       "      <td>168</td>\n",
       "      <td>168</td>\n",
       "      <td>168</td>\n",
       "    </tr>\n",
       "    <tr>\n",
       "      <th>181</th>\n",
       "      <td>Guizhou</td>\n",
       "      <td>China</td>\n",
       "      <td>26.8154</td>\n",
       "      <td>106.8748</td>\n",
       "      <td>1</td>\n",
       "      <td>3</td>\n",
       "      <td>3</td>\n",
       "      <td>4</td>\n",
       "      <td>5</td>\n",
       "      <td>7</td>\n",
       "      <td>...</td>\n",
       "      <td>146</td>\n",
       "      <td>146</td>\n",
       "      <td>146</td>\n",
       "      <td>146</td>\n",
       "      <td>146</td>\n",
       "      <td>146</td>\n",
       "      <td>146</td>\n",
       "      <td>146</td>\n",
       "      <td>146</td>\n",
       "      <td>146</td>\n",
       "    </tr>\n",
       "    <tr>\n",
       "      <th>182</th>\n",
       "      <td>Tianjin</td>\n",
       "      <td>China</td>\n",
       "      <td>39.3054</td>\n",
       "      <td>117.3230</td>\n",
       "      <td>4</td>\n",
       "      <td>4</td>\n",
       "      <td>8</td>\n",
       "      <td>10</td>\n",
       "      <td>14</td>\n",
       "      <td>23</td>\n",
       "      <td>...</td>\n",
       "      <td>136</td>\n",
       "      <td>136</td>\n",
       "      <td>136</td>\n",
       "      <td>136</td>\n",
       "      <td>136</td>\n",
       "      <td>136</td>\n",
       "      <td>136</td>\n",
       "      <td>136</td>\n",
       "      <td>136</td>\n",
       "      <td>136</td>\n",
       "    </tr>\n",
       "    <tr>\n",
       "      <th>183</th>\n",
       "      <td>Shanxi</td>\n",
       "      <td>China</td>\n",
       "      <td>37.5777</td>\n",
       "      <td>112.2922</td>\n",
       "      <td>1</td>\n",
       "      <td>1</td>\n",
       "      <td>1</td>\n",
       "      <td>6</td>\n",
       "      <td>9</td>\n",
       "      <td>13</td>\n",
       "      <td>...</td>\n",
       "      <td>133</td>\n",
       "      <td>133</td>\n",
       "      <td>133</td>\n",
       "      <td>133</td>\n",
       "      <td>133</td>\n",
       "      <td>133</td>\n",
       "      <td>133</td>\n",
       "      <td>133</td>\n",
       "      <td>133</td>\n",
       "      <td>133</td>\n",
       "    </tr>\n",
       "    <tr>\n",
       "      <th>184</th>\n",
       "      <td>Gansu</td>\n",
       "      <td>China</td>\n",
       "      <td>37.8099</td>\n",
       "      <td>101.0583</td>\n",
       "      <td>0</td>\n",
       "      <td>2</td>\n",
       "      <td>2</td>\n",
       "      <td>4</td>\n",
       "      <td>7</td>\n",
       "      <td>14</td>\n",
       "      <td>...</td>\n",
       "      <td>102</td>\n",
       "      <td>119</td>\n",
       "      <td>120</td>\n",
       "      <td>124</td>\n",
       "      <td>124</td>\n",
       "      <td>125</td>\n",
       "      <td>127</td>\n",
       "      <td>127</td>\n",
       "      <td>127</td>\n",
       "      <td>129</td>\n",
       "    </tr>\n",
       "    <tr>\n",
       "      <th>185</th>\n",
       "      <td>Hong Kong</td>\n",
       "      <td>China</td>\n",
       "      <td>22.3000</td>\n",
       "      <td>114.2000</td>\n",
       "      <td>0</td>\n",
       "      <td>2</td>\n",
       "      <td>2</td>\n",
       "      <td>5</td>\n",
       "      <td>8</td>\n",
       "      <td>8</td>\n",
       "      <td>...</td>\n",
       "      <td>105</td>\n",
       "      <td>107</td>\n",
       "      <td>108</td>\n",
       "      <td>114</td>\n",
       "      <td>115</td>\n",
       "      <td>120</td>\n",
       "      <td>126</td>\n",
       "      <td>129</td>\n",
       "      <td>134</td>\n",
       "      <td>140</td>\n",
       "    </tr>\n",
       "    <tr>\n",
       "      <th>186</th>\n",
       "      <td>Liaoning</td>\n",
       "      <td>China</td>\n",
       "      <td>41.2956</td>\n",
       "      <td>122.6085</td>\n",
       "      <td>2</td>\n",
       "      <td>3</td>\n",
       "      <td>4</td>\n",
       "      <td>17</td>\n",
       "      <td>21</td>\n",
       "      <td>27</td>\n",
       "      <td>...</td>\n",
       "      <td>125</td>\n",
       "      <td>125</td>\n",
       "      <td>125</td>\n",
       "      <td>125</td>\n",
       "      <td>125</td>\n",
       "      <td>125</td>\n",
       "      <td>125</td>\n",
       "      <td>125</td>\n",
       "      <td>125</td>\n",
       "      <td>125</td>\n",
       "    </tr>\n",
       "    <tr>\n",
       "      <th>187</th>\n",
       "      <td>Jilin</td>\n",
       "      <td>China</td>\n",
       "      <td>43.6661</td>\n",
       "      <td>126.1923</td>\n",
       "      <td>0</td>\n",
       "      <td>1</td>\n",
       "      <td>3</td>\n",
       "      <td>4</td>\n",
       "      <td>4</td>\n",
       "      <td>6</td>\n",
       "      <td>...</td>\n",
       "      <td>93</td>\n",
       "      <td>93</td>\n",
       "      <td>93</td>\n",
       "      <td>93</td>\n",
       "      <td>93</td>\n",
       "      <td>93</td>\n",
       "      <td>93</td>\n",
       "      <td>93</td>\n",
       "      <td>93</td>\n",
       "      <td>93</td>\n",
       "    </tr>\n",
       "    <tr>\n",
       "      <th>189</th>\n",
       "      <td>Xinjiang</td>\n",
       "      <td>China</td>\n",
       "      <td>41.1129</td>\n",
       "      <td>85.2401</td>\n",
       "      <td>0</td>\n",
       "      <td>2</td>\n",
       "      <td>2</td>\n",
       "      <td>3</td>\n",
       "      <td>4</td>\n",
       "      <td>5</td>\n",
       "      <td>...</td>\n",
       "      <td>76</td>\n",
       "      <td>76</td>\n",
       "      <td>76</td>\n",
       "      <td>76</td>\n",
       "      <td>76</td>\n",
       "      <td>76</td>\n",
       "      <td>76</td>\n",
       "      <td>76</td>\n",
       "      <td>76</td>\n",
       "      <td>76</td>\n",
       "    </tr>\n",
       "    <tr>\n",
       "      <th>190</th>\n",
       "      <td>Inner Mongolia</td>\n",
       "      <td>China</td>\n",
       "      <td>44.0935</td>\n",
       "      <td>113.9448</td>\n",
       "      <td>0</td>\n",
       "      <td>0</td>\n",
       "      <td>1</td>\n",
       "      <td>7</td>\n",
       "      <td>7</td>\n",
       "      <td>11</td>\n",
       "      <td>...</td>\n",
       "      <td>75</td>\n",
       "      <td>75</td>\n",
       "      <td>75</td>\n",
       "      <td>75</td>\n",
       "      <td>75</td>\n",
       "      <td>75</td>\n",
       "      <td>75</td>\n",
       "      <td>75</td>\n",
       "      <td>75</td>\n",
       "      <td>75</td>\n",
       "    </tr>\n",
       "    <tr>\n",
       "      <th>191</th>\n",
       "      <td>Ningxia</td>\n",
       "      <td>China</td>\n",
       "      <td>37.2692</td>\n",
       "      <td>106.1655</td>\n",
       "      <td>1</td>\n",
       "      <td>1</td>\n",
       "      <td>2</td>\n",
       "      <td>3</td>\n",
       "      <td>4</td>\n",
       "      <td>7</td>\n",
       "      <td>...</td>\n",
       "      <td>75</td>\n",
       "      <td>75</td>\n",
       "      <td>75</td>\n",
       "      <td>75</td>\n",
       "      <td>75</td>\n",
       "      <td>75</td>\n",
       "      <td>75</td>\n",
       "      <td>75</td>\n",
       "      <td>75</td>\n",
       "      <td>75</td>\n",
       "    </tr>\n",
       "    <tr>\n",
       "      <th>195</th>\n",
       "      <td>Qinghai</td>\n",
       "      <td>China</td>\n",
       "      <td>35.7452</td>\n",
       "      <td>95.9956</td>\n",
       "      <td>0</td>\n",
       "      <td>0</td>\n",
       "      <td>0</td>\n",
       "      <td>1</td>\n",
       "      <td>1</td>\n",
       "      <td>6</td>\n",
       "      <td>...</td>\n",
       "      <td>18</td>\n",
       "      <td>18</td>\n",
       "      <td>18</td>\n",
       "      <td>18</td>\n",
       "      <td>18</td>\n",
       "      <td>18</td>\n",
       "      <td>18</td>\n",
       "      <td>18</td>\n",
       "      <td>18</td>\n",
       "      <td>18</td>\n",
       "    </tr>\n",
       "    <tr>\n",
       "      <th>196</th>\n",
       "      <td>Macau</td>\n",
       "      <td>China</td>\n",
       "      <td>22.1667</td>\n",
       "      <td>113.5500</td>\n",
       "      <td>1</td>\n",
       "      <td>2</td>\n",
       "      <td>2</td>\n",
       "      <td>2</td>\n",
       "      <td>5</td>\n",
       "      <td>6</td>\n",
       "      <td>...</td>\n",
       "      <td>10</td>\n",
       "      <td>10</td>\n",
       "      <td>10</td>\n",
       "      <td>10</td>\n",
       "      <td>10</td>\n",
       "      <td>10</td>\n",
       "      <td>10</td>\n",
       "      <td>10</td>\n",
       "      <td>10</td>\n",
       "      <td>10</td>\n",
       "    </tr>\n",
       "    <tr>\n",
       "      <th>204</th>\n",
       "      <td>Tibet</td>\n",
       "      <td>China</td>\n",
       "      <td>31.6927</td>\n",
       "      <td>88.0924</td>\n",
       "      <td>0</td>\n",
       "      <td>0</td>\n",
       "      <td>0</td>\n",
       "      <td>0</td>\n",
       "      <td>0</td>\n",
       "      <td>0</td>\n",
       "      <td>...</td>\n",
       "      <td>1</td>\n",
       "      <td>1</td>\n",
       "      <td>1</td>\n",
       "      <td>1</td>\n",
       "      <td>1</td>\n",
       "      <td>1</td>\n",
       "      <td>1</td>\n",
       "      <td>1</td>\n",
       "      <td>1</td>\n",
       "      <td>1</td>\n",
       "    </tr>\n",
       "  </tbody>\n",
       "</table>\n",
       "<p>33 rows × 57 columns</p>\n",
       "</div>"
      ],
      "text/plain": [
       "     Province/State Country/Region      Lat      Long  1/22/20  1/23/20  \\\n",
       "156           Hubei          China  30.9756  112.2707      444      444   \n",
       "160       Guangdong          China  23.3417  113.4244       26       32   \n",
       "161           Henan          China  33.8820  113.6140        5        5   \n",
       "162        Zhejiang          China  29.1832  120.0934       10       27   \n",
       "163           Hunan          China  27.6104  111.7088        4        9   \n",
       "164           Anhui          China  31.8257  117.2264        1        9   \n",
       "165         Jiangxi          China  27.6140  115.7221        2        7   \n",
       "166        Shandong          China  36.3427  118.1498        2        6   \n",
       "168         Jiangsu          China  32.9711  119.4550        1        5   \n",
       "169       Chongqing          China  30.0572  107.8740        6        9   \n",
       "170         Sichuan          China  30.6171  102.7103        5        8   \n",
       "171    Heilongjiang          China  47.8620  127.7615        0        2   \n",
       "173         Beijing          China  40.1824  116.4142       14       22   \n",
       "174        Shanghai          China  31.2020  121.4491        9       16   \n",
       "175           Hebei          China  39.5490  116.1306        1        1   \n",
       "176          Fujian          China  26.0789  117.9874        1        5   \n",
       "177         Guangxi          China  23.8298  108.7881        2        5   \n",
       "178         Shaanxi          China  35.1917  108.8701        0        3   \n",
       "179          Yunnan          China  24.9740  101.4870        1        2   \n",
       "180          Hainan          China  19.1959  109.7453        4        5   \n",
       "181         Guizhou          China  26.8154  106.8748        1        3   \n",
       "182         Tianjin          China  39.3054  117.3230        4        4   \n",
       "183          Shanxi          China  37.5777  112.2922        1        1   \n",
       "184           Gansu          China  37.8099  101.0583        0        2   \n",
       "185       Hong Kong          China  22.3000  114.2000        0        2   \n",
       "186        Liaoning          China  41.2956  122.6085        2        3   \n",
       "187           Jilin          China  43.6661  126.1923        0        1   \n",
       "189        Xinjiang          China  41.1129   85.2401        0        2   \n",
       "190  Inner Mongolia          China  44.0935  113.9448        0        0   \n",
       "191         Ningxia          China  37.2692  106.1655        1        1   \n",
       "195         Qinghai          China  35.7452   95.9956        0        0   \n",
       "196           Macau          China  22.1667  113.5500        1        2   \n",
       "204           Tibet          China  31.6927   88.0924        0        0   \n",
       "\n",
       "     1/24/20  1/25/20  1/26/20  1/27/20  ...  3/5/20  3/6/20  3/7/20  3/8/20  \\\n",
       "156      549      761     1058     1423  ...   67466   67592   67666   67707   \n",
       "160       53       78      111      151  ...    1351    1352    1352    1352   \n",
       "161        9       32       83      128  ...    1272    1272    1272    1272   \n",
       "162       43       62      104      128  ...    1215    1215    1215    1215   \n",
       "163       24       43       69      100  ...    1018    1018    1018    1018   \n",
       "164       15       39       60       70  ...     990     990     990     990   \n",
       "165       18       18       36       72  ...     935     935     935     935   \n",
       "166       15       27       46       75  ...     758     758     758     758   \n",
       "168        9       18       33       47  ...     631     631     631     631   \n",
       "169       27       57       75      110  ...     576     576     576     576   \n",
       "170       15       28       44       69  ...     539     539     539     539   \n",
       "171        4        9       15       21  ...     481     481     481     481   \n",
       "173       36       41       68       80  ...     418     422     426     428   \n",
       "174       20       33       40       53  ...     339     342     342     342   \n",
       "175        2        8       13       18  ...     318     318     318     318   \n",
       "176       10       18       35       59  ...     296     296     296     296   \n",
       "177       23       23       36       46  ...     252     252     252     252   \n",
       "178        5       15       22       35  ...     245     245     245     245   \n",
       "179        5       11       16       26  ...     174     174     174     174   \n",
       "180        8       19       22       33  ...     168     168     168     168   \n",
       "181        3        4        5        7  ...     146     146     146     146   \n",
       "182        8       10       14       23  ...     136     136     136     136   \n",
       "183        1        6        9       13  ...     133     133     133     133   \n",
       "184        2        4        7       14  ...     102     119     120     124   \n",
       "185        2        5        8        8  ...     105     107     108     114   \n",
       "186        4       17       21       27  ...     125     125     125     125   \n",
       "187        3        4        4        6  ...      93      93      93      93   \n",
       "189        2        3        4        5  ...      76      76      76      76   \n",
       "190        1        7        7       11  ...      75      75      75      75   \n",
       "191        2        3        4        7  ...      75      75      75      75   \n",
       "195        0        1        1        6  ...      18      18      18      18   \n",
       "196        2        2        5        6  ...      10      10      10      10   \n",
       "204        0        0        0        0  ...       1       1       1       1   \n",
       "\n",
       "     3/9/20  3/10/20  3/11/20  3/12/20  3/13/20  3/14/20  \n",
       "156   67743    67760    67773    67781    67786    67790  \n",
       "160    1352     1353     1356     1356     1356     1356  \n",
       "161    1272     1272     1273     1273     1273     1273  \n",
       "162    1215     1215     1215     1215     1215     1227  \n",
       "163    1018     1018     1018     1018     1018     1018  \n",
       "164     990      990      990      990      990      990  \n",
       "165     935      935      935      935      935      935  \n",
       "166     758      758      760      760      760      760  \n",
       "168     631      631      631      631      631      631  \n",
       "169     576      576      576      576      576      576  \n",
       "170     539      539      539      539      539      539  \n",
       "171     481      481      482      482      482      482  \n",
       "173     428      429      435      435      436      437  \n",
       "174     342      344      344      344      346      353  \n",
       "175     318      318      318      318      318      318  \n",
       "176     296      296      296      296      296      296  \n",
       "177     252      252      252      252      252      252  \n",
       "178     245      245      245      245      245      245  \n",
       "179     174      174      174      174      174      174  \n",
       "180     168      168      168      168      168      168  \n",
       "181     146      146      146      146      146      146  \n",
       "182     136      136      136      136      136      136  \n",
       "183     133      133      133      133      133      133  \n",
       "184     124      125      127      127      127      129  \n",
       "185     115      120      126      129      134      140  \n",
       "186     125      125      125      125      125      125  \n",
       "187      93       93       93       93       93       93  \n",
       "189      76       76       76       76       76       76  \n",
       "190      75       75       75       75       75       75  \n",
       "191      75       75       75       75       75       75  \n",
       "195      18       18       18       18       18       18  \n",
       "196      10       10       10       10       10       10  \n",
       "204       1        1        1        1        1        1  \n",
       "\n",
       "[33 rows x 57 columns]"
      ]
     },
     "execution_count": 87,
     "metadata": {},
     "output_type": "execute_result"
    }
   ],
   "source": [
    "China"
   ]
  },
  {
   "cell_type": "code",
   "execution_count": 88,
   "metadata": {},
   "outputs": [],
   "source": [
    "china_cases = China.iloc[:,4:]"
   ]
  },
  {
   "cell_type": "code",
   "execution_count": 171,
   "metadata": {},
   "outputs": [
    {
     "data": {
      "text/plain": [
       "(33, 53)"
      ]
     },
     "execution_count": 171,
     "metadata": {},
     "output_type": "execute_result"
    }
   ],
   "source": [
    "china_cases.shape"
   ]
  },
  {
   "cell_type": "code",
   "execution_count": 176,
   "metadata": {},
   "outputs": [],
   "source": [
    "china_totals = china_cases.sum(axis=0).values"
   ]
  },
  {
   "cell_type": "code",
   "execution_count": 178,
   "metadata": {},
   "outputs": [
    {
     "data": {
      "image/png": "[encoded data removed]",
      "text/plain": [
       "<Figure size 432x288 with 1 Axes>"
      ]
     },
     "metadata": {
      "needs_background": "light"
     },
     "output_type": "display_data"
    }
   ],
   "source": [
    "plot_totals(china_totals)"
   ]
  },
  {
   "cell_type": "code",
   "execution_count": 179,
   "metadata": {},
   "outputs": [
    {
     "data": {
      "image/png": "[encoded data removed]",
      "text/plain": [
       "<Figure size 432x288 with 1 Axes>"
      ]
     },
     "metadata": {
      "needs_background": "light"
     },
     "output_type": "display_data"
    }
   ],
   "source": [
    "plot_totals(np.gradient(china_totals))"
   ]
  },
  {
   "cell_type": "markdown",
   "metadata": {},
   "source": [
    "## Hubei specifically\n",
    "\n",
    "population 58.5M"
   ]
  },
  {
   "cell_type": "code",
   "execution_count": 115,
   "metadata": {},
   "outputs": [],
   "source": [
    "Hubei = China.loc[China['Province/State'].str.contains('Hubei')]"
   ]
  },
  {
   "cell_type": "code",
   "execution_count": 118,
   "metadata": {},
   "outputs": [
    {
     "data": {
      "text/html": [
       "<div>\n",
       "<style scoped>\n",
       "    .dataframe tbody tr th:only-of-type {\n",
       "        vertical-align: middle;\n",
       "    }\n",
       "\n",
       "    .dataframe tbody tr th {\n",
       "        vertical-align: top;\n",
       "    }\n",
       "\n",
       "    .dataframe thead th {\n",
       "        text-align: right;\n",
       "    }\n",
       "</style>\n",
       "<table border=\"1\" class=\"dataframe\">\n",
       "  <thead>\n",
       "    <tr style=\"text-align: right;\">\n",
       "      <th></th>\n",
       "      <th>Province/State</th>\n",
       "      <th>Country/Region</th>\n",
       "      <th>Lat</th>\n",
       "      <th>Long</th>\n",
       "      <th>1/22/20</th>\n",
       "      <th>1/23/20</th>\n",
       "      <th>1/24/20</th>\n",
       "      <th>1/25/20</th>\n",
       "      <th>1/26/20</th>\n",
       "      <th>1/27/20</th>\n",
       "      <th>...</th>\n",
       "      <th>3/5/20</th>\n",
       "      <th>3/6/20</th>\n",
       "      <th>3/7/20</th>\n",
       "      <th>3/8/20</th>\n",
       "      <th>3/9/20</th>\n",
       "      <th>3/10/20</th>\n",
       "      <th>3/11/20</th>\n",
       "      <th>3/12/20</th>\n",
       "      <th>3/13/20</th>\n",
       "      <th>3/14/20</th>\n",
       "    </tr>\n",
       "  </thead>\n",
       "  <tbody>\n",
       "    <tr>\n",
       "      <th>156</th>\n",
       "      <td>Hubei</td>\n",
       "      <td>China</td>\n",
       "      <td>30.9756</td>\n",
       "      <td>112.2707</td>\n",
       "      <td>444</td>\n",
       "      <td>444</td>\n",
       "      <td>549</td>\n",
       "      <td>761</td>\n",
       "      <td>1058</td>\n",
       "      <td>1423</td>\n",
       "      <td>...</td>\n",
       "      <td>67466</td>\n",
       "      <td>67592</td>\n",
       "      <td>67666</td>\n",
       "      <td>67707</td>\n",
       "      <td>67743</td>\n",
       "      <td>67760</td>\n",
       "      <td>67773</td>\n",
       "      <td>67781</td>\n",
       "      <td>67786</td>\n",
       "      <td>67790</td>\n",
       "    </tr>\n",
       "  </tbody>\n",
       "</table>\n",
       "<p>1 rows × 57 columns</p>\n",
       "</div>"
      ],
      "text/plain": [
       "    Province/State Country/Region      Lat      Long  1/22/20  1/23/20  \\\n",
       "156          Hubei          China  30.9756  112.2707      444      444   \n",
       "\n",
       "     1/24/20  1/25/20  1/26/20  1/27/20  ...  3/5/20  3/6/20  3/7/20  3/8/20  \\\n",
       "156      549      761     1058     1423  ...   67466   67592   67666   67707   \n",
       "\n",
       "     3/9/20  3/10/20  3/11/20  3/12/20  3/13/20  3/14/20  \n",
       "156   67743    67760    67773    67781    67786    67790  \n",
       "\n",
       "[1 rows x 57 columns]"
      ]
     },
     "execution_count": 118,
     "metadata": {},
     "output_type": "execute_result"
    }
   ],
   "source": [
    "Hubei"
   ]
  },
  {
   "cell_type": "code",
   "execution_count": 124,
   "metadata": {},
   "outputs": [],
   "source": [
    "Hubei_totals = Hubei.values[0][4:]"
   ]
  },
  {
   "cell_type": "code",
   "execution_count": 180,
   "metadata": {},
   "outputs": [
    {
     "data": {
      "image/png": "[encoded data removed]",
      "text/plain": [
       "<Figure size 432x288 with 1 Axes>"
      ]
     },
     "metadata": {
      "needs_background": "light"
     },
     "output_type": "display_data"
    }
   ],
   "source": [
    "plot_totals(Hubei_totals)"
   ]
  },
  {
   "cell_type": "code",
   "execution_count": 181,
   "metadata": {},
   "outputs": [
    {
     "data": {
      "image/png": "[encoded data removed]",
      "text/plain": [
       "<Figure size 432x288 with 1 Axes>"
      ]
     },
     "metadata": {
      "needs_background": "light"
     },
     "output_type": "display_data"
    }
   ],
   "source": [
    "plot_totals(np.gradient(Hubei_totals))"
   ]
  },
  {
   "cell_type": "markdown",
   "metadata": {},
   "source": [
    "# Hubei peak"
   ]
  },
  {
   "cell_type": "code",
   "execution_count": 269,
   "metadata": {},
   "outputs": [
    {
     "data": {
      "text/html": [
       "<div>\n",
       "<style scoped>\n",
       "    .dataframe tbody tr th:only-of-type {\n",
       "        vertical-align: middle;\n",
       "    }\n",
       "\n",
       "    .dataframe tbody tr th {\n",
       "        vertical-align: top;\n",
       "    }\n",
       "\n",
       "    .dataframe thead th {\n",
       "        text-align: right;\n",
       "    }\n",
       "</style>\n",
       "<table border=\"1\" class=\"dataframe\">\n",
       "  <thead>\n",
       "    <tr style=\"text-align: right;\">\n",
       "      <th></th>\n",
       "      <th>Province/State</th>\n",
       "      <th>Country/Region</th>\n",
       "      <th>Lat</th>\n",
       "      <th>Long</th>\n",
       "      <th>1/22/20</th>\n",
       "      <th>1/23/20</th>\n",
       "      <th>1/24/20</th>\n",
       "      <th>1/25/20</th>\n",
       "      <th>1/26/20</th>\n",
       "      <th>1/27/20</th>\n",
       "      <th>...</th>\n",
       "      <th>3/5/20</th>\n",
       "      <th>3/6/20</th>\n",
       "      <th>3/7/20</th>\n",
       "      <th>3/8/20</th>\n",
       "      <th>3/9/20</th>\n",
       "      <th>3/10/20</th>\n",
       "      <th>3/11/20</th>\n",
       "      <th>3/12/20</th>\n",
       "      <th>3/13/20</th>\n",
       "      <th>3/14/20</th>\n",
       "    </tr>\n",
       "  </thead>\n",
       "  <tbody>\n",
       "    <tr>\n",
       "      <th>156</th>\n",
       "      <td>Hubei</td>\n",
       "      <td>China</td>\n",
       "      <td>30.9756</td>\n",
       "      <td>112.2707</td>\n",
       "      <td>444</td>\n",
       "      <td>444</td>\n",
       "      <td>549</td>\n",
       "      <td>761</td>\n",
       "      <td>1058</td>\n",
       "      <td>1423</td>\n",
       "      <td>...</td>\n",
       "      <td>67466</td>\n",
       "      <td>67592</td>\n",
       "      <td>67666</td>\n",
       "      <td>67707</td>\n",
       "      <td>67743</td>\n",
       "      <td>67760</td>\n",
       "      <td>67773</td>\n",
       "      <td>67781</td>\n",
       "      <td>67786</td>\n",
       "      <td>67790</td>\n",
       "    </tr>\n",
       "  </tbody>\n",
       "</table>\n",
       "<p>1 rows × 57 columns</p>\n",
       "</div>"
      ],
      "text/plain": [
       "    Province/State Country/Region      Lat      Long  1/22/20  1/23/20  \\\n",
       "156          Hubei          China  30.9756  112.2707      444      444   \n",
       "\n",
       "     1/24/20  1/25/20  1/26/20  1/27/20  ...  3/5/20  3/6/20  3/7/20  3/8/20  \\\n",
       "156      549      761     1058     1423  ...   67466   67592   67666   67707   \n",
       "\n",
       "     3/9/20  3/10/20  3/11/20  3/12/20  3/13/20  3/14/20  \n",
       "156   67743    67760    67773    67781    67786    67790  \n",
       "\n",
       "[1 rows x 57 columns]"
      ]
     },
     "execution_count": 269,
     "metadata": {},
     "output_type": "execute_result"
    }
   ],
   "source": [
    "Hubei"
   ]
  },
  {
   "cell_type": "code",
   "execution_count": 760,
   "metadata": {},
   "outputs": [
    {
     "name": "stdout",
     "output_type": "stream",
     "text": [
      "Peak index 22\n",
      "confirmed: 48206\n",
      "Total Hubei pop 58.5M\n",
      "confirmed: 8.24034188034188e-05\n",
      "Peak Date 2020-02-13 00:00:00\n",
      "Initial start Nov 17\n",
      "Number of days 88\n",
      "Duration since first case 123\n"
     ]
    }
   ],
   "source": [
    "Hubei_pop = 58.5*1e+7\n",
    "peak_index = np.argmax(np.gradient(Hubei_totals))\n",
    "Hubei_ratio = Hubei_totals/Hubei_pop\n",
    "hubei_peak_date = datetime.datetime(2020,2,13)#parse_date(Hubei.columns[peak_index+4])\n",
    "hubei_start_date = datetime.datetime(2019,11,17)\n",
    "print(f'Peak index {peak_index}')\n",
    "print(f'confirmed: {Hubei_totals[peak_index]}')\n",
    "print(f'Total Hubei pop 58.5M')\n",
    "print(f'confirmed: {Hubei_ratio[peak_index]}')\n",
    "print(f'Peak Date {hubei_peak_date}')\n",
    "print(f'Initial start Nov 17')\n",
    "print(f'Number of days {(hubei_peak_date-hubei_start_date).days}')\n",
    "print(f'Duration since first case {(datetime.datetime.now() - hubei_start_date).days}')\n",
    "\n"
   ]
  },
  {
   "cell_type": "markdown",
   "metadata": {},
   "source": [
    "# Korea\n",
    "\n",
    "## Pop 51.47M\n",
    "\n",
    "## Seoul 9.77M"
   ]
  },
  {
   "cell_type": "code",
   "execution_count": 207,
   "metadata": {},
   "outputs": [],
   "source": [
    "def plot_comprehensive(data,labels,colors):\n",
    "    epochs = range(1,len(data[0])+1)\n",
    "    for i,label in enumerate(labels):\n",
    "        plt.plot(epochs,data[i],colors[i],label=label)\n",
    "    plt.title('Covid19')\n",
    "    plt.xlabel('Days')\n",
    "    plt.ylabel('Cases')\n",
    "    plt.legend()\n",
    "    plt.show()"
   ]
  },
  {
   "cell_type": "code",
   "execution_count": 241,
   "metadata": {},
   "outputs": [],
   "source": [
    "Seoul_pop = 9.77*1e+7"
   ]
  },
  {
   "cell_type": "code",
   "execution_count": 298,
   "metadata": {},
   "outputs": [
    {
     "data": {
      "text/html": [
       "<div>\n",
       "<style scoped>\n",
       "    .dataframe tbody tr th:only-of-type {\n",
       "        vertical-align: middle;\n",
       "    }\n",
       "\n",
       "    .dataframe tbody tr th {\n",
       "        vertical-align: top;\n",
       "    }\n",
       "\n",
       "    .dataframe thead th {\n",
       "        text-align: right;\n",
       "    }\n",
       "</style>\n",
       "<table border=\"1\" class=\"dataframe\">\n",
       "  <thead>\n",
       "    <tr style=\"text-align: right;\">\n",
       "      <th></th>\n",
       "      <th>date</th>\n",
       "      <th>time</th>\n",
       "      <th>test</th>\n",
       "      <th>negative</th>\n",
       "      <th>confirmed</th>\n",
       "      <th>released</th>\n",
       "      <th>deceased</th>\n",
       "    </tr>\n",
       "  </thead>\n",
       "  <tbody>\n",
       "    <tr>\n",
       "      <th>52</th>\n",
       "      <td>2020-03-12</td>\n",
       "      <td>0</td>\n",
       "      <td>234998</td>\n",
       "      <td>209402</td>\n",
       "      <td>7869</td>\n",
       "      <td>333</td>\n",
       "      <td>66</td>\n",
       "    </tr>\n",
       "    <tr>\n",
       "      <th>53</th>\n",
       "      <td>2020-03-13</td>\n",
       "      <td>0</td>\n",
       "      <td>248647</td>\n",
       "      <td>222728</td>\n",
       "      <td>7979</td>\n",
       "      <td>510</td>\n",
       "      <td>67</td>\n",
       "    </tr>\n",
       "    <tr>\n",
       "      <th>54</th>\n",
       "      <td>2020-03-14</td>\n",
       "      <td>0</td>\n",
       "      <td>261335</td>\n",
       "      <td>235615</td>\n",
       "      <td>8086</td>\n",
       "      <td>714</td>\n",
       "      <td>72</td>\n",
       "    </tr>\n",
       "    <tr>\n",
       "      <th>55</th>\n",
       "      <td>2020-03-15</td>\n",
       "      <td>0</td>\n",
       "      <td>268212</td>\n",
       "      <td>243778</td>\n",
       "      <td>8126</td>\n",
       "      <td>834</td>\n",
       "      <td>75</td>\n",
       "    </tr>\n",
       "    <tr>\n",
       "      <th>56</th>\n",
       "      <td>2020-03-16</td>\n",
       "      <td>0</td>\n",
       "      <td>274504</td>\n",
       "      <td>251297</td>\n",
       "      <td>8236</td>\n",
       "      <td>1137</td>\n",
       "      <td>75</td>\n",
       "    </tr>\n",
       "  </tbody>\n",
       "</table>\n",
       "</div>"
      ],
      "text/plain": [
       "          date  time    test  negative  confirmed  released  deceased\n",
       "52  2020-03-12     0  234998    209402       7869       333        66\n",
       "53  2020-03-13     0  248647    222728       7979       510        67\n",
       "54  2020-03-14     0  261335    235615       8086       714        72\n",
       "55  2020-03-15     0  268212    243778       8126       834        75\n",
       "56  2020-03-16     0  274504    251297       8236      1137        75"
      ]
     },
     "execution_count": 298,
     "metadata": {},
     "output_type": "execute_result"
    }
   ],
   "source": [
    "korea_df.tail()"
   ]
  },
  {
   "cell_type": "code",
   "execution_count": 515,
   "metadata": {},
   "outputs": [],
   "source": [
    "tests = korea_df['test'].values\n",
    "negative = korea_df['negative'].values\n",
    "confirmed = korea_df['confirmed'].values\n",
    "released = korea_df['released'].values\n",
    "deceased = korea_df['deceased'].values\n",
    "headers = korea_df.columns[2:]\n",
    "korea_data = [tests,negative,confirmed,released,deceased]\n",
    "colors = ['b','g','r','c','m','b']"
   ]
  },
  {
   "cell_type": "code",
   "execution_count": 221,
   "metadata": {},
   "outputs": [
    {
     "data": {
      "image/png": "[encoded data removed]",
      "text/plain": [
       "<Figure size 432x288 with 1 Axes>"
      ]
     },
     "metadata": {
      "needs_background": "light"
     },
     "output_type": "display_data"
    }
   ],
   "source": [
    "plot_comprehensive(korea_data,headers,colors)"
   ]
  },
  {
   "cell_type": "code",
   "execution_count": 214,
   "metadata": {},
   "outputs": [
    {
     "data": {
      "image/png": "[encoded data removed]",
      "text/plain": [
       "<Figure size 432x288 with 1 Axes>"
      ]
     },
     "metadata": {
      "needs_background": "light"
     },
     "output_type": "display_data"
    }
   ],
   "source": [
    "plot_comprehensive([tests,negative],['tests','negative'],['b','g'])"
   ]
  },
  {
   "cell_type": "code",
   "execution_count": 215,
   "metadata": {},
   "outputs": [
    {
     "data": {
      "image/png": "[encoded data removed]",
      "text/plain": [
       "<Figure size 432x288 with 1 Axes>"
      ]
     },
     "metadata": {
      "needs_background": "light"
     },
     "output_type": "display_data"
    }
   ],
   "source": [
    "plot_comprehensive([confirmed,released,deceased],['confirmed','released','deceased'],['b','g','m'])"
   ]
  },
  {
   "cell_type": "markdown",
   "metadata": {},
   "source": [
    "# Derivatives"
   ]
  },
  {
   "cell_type": "code",
   "execution_count": 211,
   "metadata": {},
   "outputs": [],
   "source": [
    "tests_derivative = np.gradient(tests)\n",
    "negative_derivative = np.gradient(negative)\n",
    "confirmed_derivative = np.gradient(confirmed)\n",
    "released_derivative = np.gradient(released)\n",
    "deceased_derivative = np.gradient(deceased)\n",
    "korea_derivatives = [tests_derivative,negative_derivative,confirmed_derivative,released_derivative,deceased_derivative]\n"
   ]
  },
  {
   "cell_type": "code",
   "execution_count": 212,
   "metadata": {},
   "outputs": [
    {
     "data": {
      "image/png": "[encoded data removed]",
      "text/plain": [
       "<Figure size 432x288 with 1 Axes>"
      ]
     },
     "metadata": {
      "needs_background": "light"
     },
     "output_type": "display_data"
    }
   ],
   "source": [
    "plot_comprehensive(korea_derivatives,headers,colors)"
   ]
  },
  {
   "cell_type": "code",
   "execution_count": 217,
   "metadata": {},
   "outputs": [
    {
     "data": {
      "image/png": "[encoded data removed]",
      "text/plain": [
       "<Figure size 432x288 with 1 Axes>"
      ]
     },
     "metadata": {
      "needs_background": "light"
     },
     "output_type": "display_data"
    }
   ],
   "source": [
    "plot_comprehensive([confirmed_derivative,released_derivative,deceased_derivative],['confirmed','released','deceased'],['b','g','m'])\n"
   ]
  },
  {
   "cell_type": "markdown",
   "metadata": {},
   "source": [
    "# Ratios with population"
   ]
  },
  {
   "cell_type": "code",
   "execution_count": 243,
   "metadata": {},
   "outputs": [],
   "source": [
    "ratios = [d/Seoul_pop for d in korea_data]\n",
    "ratio_derivatives = [np.gradient(d) for d in ratios]"
   ]
  },
  {
   "cell_type": "markdown",
   "metadata": {},
   "source": [
    "# When did korea reach its peak"
   ]
  },
  {
   "cell_type": "code",
   "execution_count": 293,
   "metadata": {},
   "outputs": [
    {
     "name": "stdout",
     "output_type": "stream",
     "text": [
      "Peak index 40\n",
      "tests: 94055\n",
      "negative: 55723\n",
      "confirmed: 3150\n",
      "released: 28\n",
      "deceased: 17\n",
      "Total Seoul pop 9.77M\n",
      "tests: 0.0009626919140225179\n",
      "negative: 0.0005703480040941658\n",
      "confirmed: 3.224155578300921e-05\n",
      "released: 2.8659160696008186e-07\n",
      "deceased: 1.7400204708290685e-07\n"
     ]
    }
   ],
   "source": [
    "peak_index = np.argmax(confirmed_derivative)\n",
    "print(f'Peak index {peak_index}')\n",
    "print(f'tests: {tests[peak_index]}')\n",
    "print(f'negative: {negative[peak_index]}')\n",
    "print(f'confirmed: {confirmed[peak_index]}')\n",
    "print(f'released: {released[peak_index]}')\n",
    "print(f'deceased: {deceased[peak_index]}')\n",
    "print(f'Total Seoul pop 9.77M')\n",
    "print(f'tests: {ratios[0][peak_index]}')\n",
    "print(f'negative: {ratios[1][peak_index]}')\n",
    "print(f'confirmed: {ratios[2][peak_index]}')\n",
    "print(f'released: {ratios[3][peak_index]}')\n",
    "print(f'deceased: {ratios[4][peak_index]}')"
   ]
  },
  {
   "cell_type": "code",
   "execution_count": 754,
   "metadata": {},
   "outputs": [
    {
     "name": "stdout",
     "output_type": "stream",
     "text": [
      "Korea first case 2020-01-20\n",
      "Korea Peak date 2020-02-29\n",
      "Days elapsed from start of transmission to peak 40 days, 0:00:00\n"
     ]
    }
   ],
   "source": [
    "print(f'Korea first case {korea_df[\"date\"][0]}')\n",
    "print(f'Korea Peak date {korea_df[\"date\"][peak_index]}')\n",
    "korea_peak_date = datetime.date(2020,2,29)\n",
    "korea_start_date = datetime.date(2020,1,20)\n",
    "print(f'Days elapsed from start of transmission to peak {korea_peak_date - korea_start_date}')"
   ]
  },
  {
   "cell_type": "code",
   "execution_count": 414,
   "metadata": {},
   "outputs": [
    {
     "data": {
      "text/plain": [
       "array([   1,    1,    1,    1,    2,    2,    3,    4,    4,    4,    6,\n",
       "         11,   12,   15,   15,   16,   18,   23,   24,   24,   27,   27,\n",
       "         28,   28,   28,   28,   28,   29,   30,   31,   51,  104,  204,\n",
       "        433,  602,  833,  977, 1261, 1766, 2337, 3150, 3736, 4212, 4812,\n",
       "       5328, 5766, 6284, 6767, 7134, 7382, 7513, 7755, 7869, 7979, 8086,\n",
       "       8126, 8236])"
      ]
     },
     "execution_count": 414,
     "metadata": {},
     "output_type": "execute_result"
    }
   ],
   "source": [
    "confirmed"
   ]
  },
  {
   "cell_type": "code",
   "execution_count": 434,
   "metadata": {},
   "outputs": [
    {
     "name": "stdout",
     "output_type": "stream",
     "text": [
      "day 0,infected 1\n",
      "day 5,infected 2\n",
      "day 10,infected 6\n",
      "day 15,infected 16\n",
      "day 20,infected 27\n",
      "day 25,infected 28\n",
      "day 30,infected 51\n",
      "day 35,infected 833\n",
      "day 40,infected 3150\n",
      "day 45,infected 5766\n",
      "day 50,infected 7513\n",
      "day 55,infected 8126\n",
      "day 0,infected 0.0\n",
      "day 5,infected 0.5\n",
      "day 10,infected 3.5\n",
      "day 15,infected 1.5\n",
      "day 20,infected 1.5\n",
      "day 25,infected 0.0\n",
      "day 30,infected 36.5\n",
      "day 35,infected 187.5\n",
      "day 40,infected 699.5\n",
      "day 45,infected 478.0\n",
      "day 50,infected 186.5\n",
      "day 55,infected 75.0\n"
     ]
    },
    {
     "data": {
      "text/plain": [
       "[None, None, None, None, None, None, None, None, None, None, None, None]"
      ]
     },
     "execution_count": 434,
     "metadata": {},
     "output_type": "execute_result"
    }
   ],
   "source": [
    "len(confirmed)\n",
    "day_5s = confirmed[::5]\n",
    "[print(f'day {i*5},infected {pop}') for i,pop in enumerate(day_5s)]\n",
    "day_5s_dir = confirmed_derivative[::5]\n",
    "[print(f'day {i*5},infected {pop}') for i,pop in enumerate(day_5s_dir)]"
   ]
  },
  {
   "cell_type": "code",
   "execution_count": 581,
   "metadata": {},
   "outputs": [
    {
     "name": "stdout",
     "output_type": "stream",
     "text": [
      "Infected population 1, Day 0\n",
      "Infected population 7.0, Day 5\n",
      "Infected population 19.5, Day 10\n",
      "Infected population 50.75, Day 15\n",
      "Infected population 128.875, Day 20\n",
      "Infected population 324.1875, Day 25\n",
      "Infected population 812.46875, Day 30\n",
      "Infected population 2033.171875, Day 35\n",
      "Infected population 5084.9296875, Day 40\n",
      "Infected population 12714.32421875, Day 45\n",
      "Infected population 31787.810546875, Day 50\n",
      "Infected population 79471.5263671875, Day 55\n",
      "Infected population 198680.81591796875, Day 60\n"
     ]
    }
   ],
   "source": [
    "generator = gen_infections(2,2.5,5)\n",
    "print(f'Infected population 1, Day 0')\n",
    "for i in range(1,13):\n",
    "    print(f'Infected population {next(generator)}, Day {i*5}')"
   ]
  },
  {
   "cell_type": "code",
   "execution_count": 484,
   "metadata": {},
   "outputs": [
    {
     "name": "stdout",
     "output_type": "stream",
     "text": [
      "-4999.0 5000.0\n",
      "[ 0  1  2  3  4  5  6  7  8  9 10 11 12 13 14 15 16 17 18 19 20 21 22 23\n",
      " 24 25 26 27 28 29 30 31 32 33 34 35 36 37 38 39 40 41 42 43 44 45 46 47\n",
      " 48 49 50 51 52 53 54 55 56 57 58 59 60 61 62 63 64 65 66 67 68 69 70 71\n",
      " 72 73 74 75 76 77 78 79]\n",
      "[3.52082929e-05 3.52258803e-05 3.52434412e-05 3.52609757e-05\n",
      " 3.52784836e-05 3.52959649e-05 3.53134195e-05 3.53308475e-05\n",
      " 3.53482486e-05 3.53656230e-05 3.53829706e-05 3.54002913e-05\n",
      " 3.54175850e-05 3.54348517e-05 3.54520914e-05 3.54693040e-05\n",
      " 3.54864895e-05 3.55036479e-05 3.55207790e-05 3.55378828e-05\n",
      " 3.55549593e-05 3.55720084e-05 3.55890301e-05 3.56060244e-05\n",
      " 3.56229911e-05 3.56399303e-05 3.56568419e-05 3.56737259e-05\n",
      " 3.56905821e-05 3.57074106e-05 3.57242113e-05 3.57409842e-05\n",
      " 3.57577292e-05 3.57744463e-05 3.57911354e-05 3.58077965e-05\n",
      " 3.58244295e-05 3.58410343e-05 3.58576111e-05 3.58741596e-05\n",
      " 3.58906799e-05 3.59071718e-05 3.59236354e-05 3.59400707e-05\n",
      " 3.59564775e-05 3.59728558e-05 3.59892056e-05 3.60055268e-05\n",
      " 3.60218193e-05 3.60380833e-05 3.60543185e-05 3.60705249e-05\n",
      " 3.60867026e-05 3.61028514e-05 3.61189713e-05 3.61350623e-05\n",
      " 3.61511243e-05 3.61671572e-05 3.61831611e-05 3.61991359e-05\n",
      " 3.62150815e-05 3.62309979e-05 3.62468850e-05 3.62627429e-05\n",
      " 3.62785714e-05 3.62943705e-05 3.63101402e-05 3.63258805e-05\n",
      " 3.63415912e-05 3.63572723e-05 3.63729239e-05 3.63885457e-05\n",
      " 3.64041379e-05 3.64197004e-05 3.64352331e-05 3.64507359e-05\n",
      " 3.64662089e-05 3.64816519e-05 3.64970651e-05 3.65124482e-05\n",
      " 3.65278012e-05 3.65431242e-05 3.65584170e-05 3.65736797e-05\n",
      " 3.65889121e-05 3.66041143e-05 3.66192862e-05 3.66344278e-05\n",
      " 3.66495389e-05 3.66646196e-05 3.66796699e-05 3.66946896e-05\n",
      " 3.67096788e-05 3.67246374e-05 3.67395653e-05 3.67544625e-05\n",
      " 3.67693290e-05 3.67841648e-05 3.67989697e-05 3.68137438e-05\n",
      " 3.68284870e-05 3.68431992e-05 3.68578804e-05 3.68725307e-05\n",
      " 3.68871498e-05 3.69017379e-05 3.69162948e-05 3.69308206e-05\n",
      " 3.69453151e-05 3.69597783e-05 3.69742102e-05 3.69886108e-05\n",
      " 3.70029799e-05 3.70173177e-05 3.70316239e-05 3.70458986e-05\n",
      " 3.70601418e-05 3.70743534e-05 3.70885334e-05 3.71026816e-05\n",
      " 3.71167982e-05 3.71308829e-05 3.71449359e-05 3.71589571e-05\n",
      " 3.71729463e-05 3.71869037e-05 3.72008291e-05 3.72147225e-05\n",
      " 3.72285838e-05 3.72424131e-05 3.72562102e-05 3.72699752e-05\n",
      " 3.72837080e-05 3.72974085e-05 3.73110768e-05 3.73247128e-05\n",
      " 3.73383164e-05 3.73518876e-05 3.73654264e-05 3.73789327e-05\n",
      " 3.73924065e-05 3.74058477e-05 3.74192564e-05 3.74326324e-05\n",
      " 3.74459758e-05 3.74592864e-05 3.74725643e-05 3.74858095e-05\n",
      " 3.74990218e-05 3.75122013e-05 3.75253479e-05 3.75384615e-05\n",
      " 3.75515422e-05 3.75645899e-05 3.75776045e-05 3.75905860e-05\n",
      " 3.76035345e-05 3.76164497e-05 3.76293318e-05 3.76421807e-05\n",
      " 3.76549962e-05 3.76677785e-05 3.76805275e-05 3.76932430e-05\n",
      " 3.77059251e-05 3.77185738e-05 3.77311890e-05 3.77437707e-05\n",
      " 3.77563188e-05 3.77688333e-05 3.77813142e-05 3.77937614e-05\n",
      " 3.78061750e-05 3.78185547e-05 3.78309007e-05 3.78432129e-05\n",
      " 3.78554912e-05 3.78677357e-05 3.78799462e-05 3.78921228e-05\n",
      " 3.79042653e-05 3.79163739e-05 3.79284484e-05 3.79404888e-05\n",
      " 3.79524951e-05 3.79644672e-05 3.79764051e-05 3.79883087e-05\n",
      " 3.80001781e-05 3.80120132e-05 3.80238140e-05 3.80355804e-05\n",
      " 3.80473124e-05 3.80590099e-05 3.80706730e-05 3.80823015e-05\n",
      " 3.80938956e-05 3.81054550e-05 3.81169798e-05 3.81284700e-05\n",
      " 3.81399255e-05 3.81513463e-05 3.81627324e-05 3.81740837e-05\n",
      " 3.81854002e-05 3.81966818e-05 3.82079286e-05 3.82191404e-05\n",
      " 3.82303173e-05 3.82414593e-05 3.82525662e-05 3.82636381e-05\n",
      " 3.82746749e-05 3.82856766e-05 3.82966432e-05 3.83075746e-05\n",
      " 3.83184709e-05 3.83293319e-05 3.83401576e-05 3.83509480e-05\n",
      " 3.83617031e-05 3.83724229e-05 3.83831073e-05 3.83937562e-05\n",
      " 3.84043697e-05 3.84149477e-05 3.84254902e-05 3.84359972e-05\n",
      " 3.84464686e-05 3.84569044e-05 3.84673045e-05 3.84776690e-05\n",
      " 3.84879978e-05 3.84982909e-05 3.85085482e-05 3.85187697e-05\n",
      " 3.85289554e-05 3.85391053e-05 3.85492193e-05 3.85592974e-05\n",
      " 3.85693395e-05 3.85793457e-05 3.85893159e-05 3.85992501e-05\n",
      " 3.86091482e-05 3.86190102e-05 3.86288361e-05 3.86386259e-05\n",
      " 3.86483795e-05 3.86580970e-05 3.86677782e-05 3.86774231e-05\n",
      " 3.86870318e-05 3.86966041e-05 3.87061402e-05 3.87156398e-05\n",
      " 3.87251031e-05 3.87345299e-05 3.87439203e-05 3.87532742e-05\n",
      " 3.87625916e-05 3.87718725e-05 3.87811168e-05 3.87903245e-05\n",
      " 3.87994956e-05 3.88086301e-05 3.88177279e-05 3.88267890e-05\n",
      " 3.88358134e-05 3.88448011e-05 3.88537520e-05 3.88626660e-05\n",
      " 3.88715433e-05 3.88803837e-05 3.88891872e-05 3.88979538e-05\n",
      " 3.89066835e-05 3.89153762e-05 3.89240319e-05 3.89326507e-05\n",
      " 3.89412324e-05 3.89497770e-05 3.89582846e-05 3.89667550e-05\n",
      " 3.89751884e-05 3.89835845e-05 3.89919435e-05 3.90002653e-05\n",
      " 3.90085498e-05 3.90167971e-05 3.90250071e-05 3.90331798e-05\n",
      " 3.90413151e-05 3.90494131e-05 3.90574738e-05 3.90654970e-05\n",
      " 3.90734828e-05 3.90814312e-05 3.90893420e-05 3.90972154e-05\n",
      " 3.91050513e-05 3.91128496e-05 3.91206104e-05 3.91283335e-05\n",
      " 3.91360191e-05 3.91436670e-05 3.91512773e-05 3.91588499e-05\n",
      " 3.91663848e-05 3.91738819e-05 3.91813414e-05 3.91887630e-05\n",
      " 3.91961469e-05 3.92034929e-05 3.92108011e-05 3.92180715e-05\n",
      " 3.92253040e-05 3.92324985e-05 3.92396552e-05 3.92467739e-05\n",
      " 3.92538547e-05 3.92608975e-05 3.92679022e-05 3.92748690e-05\n",
      " 3.92817977e-05 3.92886883e-05 3.92955408e-05 3.93023553e-05\n",
      " 3.93091316e-05 3.93158697e-05 3.93225697e-05 3.93292316e-05\n",
      " 3.93358552e-05 3.93424405e-05 3.93489877e-05 3.93554965e-05\n",
      " 3.93619671e-05 3.93683994e-05 3.93747933e-05 3.93811489e-05\n",
      " 3.93874662e-05 3.93937450e-05 3.93999855e-05 3.94061875e-05\n",
      " 3.94123511e-05 3.94184763e-05 3.94245630e-05 3.94306112e-05\n",
      " 3.94366208e-05 3.94425920e-05 3.94485246e-05 3.94544187e-05\n",
      " 3.94602741e-05 3.94660910e-05 3.94718693e-05 3.94776089e-05\n",
      " 3.94833099e-05 3.94889722e-05 3.94945958e-05 3.95001807e-05\n",
      " 3.95057270e-05 3.95112344e-05 3.95167032e-05 3.95221331e-05\n",
      " 3.95275243e-05 3.95328767e-05 3.95381903e-05 3.95434650e-05\n",
      " 3.95487009e-05 3.95538980e-05 3.95590562e-05 3.95641754e-05\n",
      " 3.95692558e-05 3.95742972e-05 3.95792997e-05 3.95842633e-05\n",
      " 3.95891879e-05 3.95940735e-05 3.95989201e-05 3.96037277e-05\n",
      " 3.96084963e-05 3.96132258e-05 3.96179163e-05 3.96225677e-05\n",
      " 3.96271801e-05 3.96317533e-05 3.96362874e-05 3.96407824e-05\n",
      " 3.96452383e-05 3.96496550e-05 3.96540326e-05 3.96583710e-05\n",
      " 3.96626702e-05 3.96669302e-05 3.96711510e-05 3.96753325e-05\n",
      " 3.96794749e-05 3.96835779e-05 3.96876417e-05 3.96916663e-05\n",
      " 3.96956515e-05 3.96995974e-05 3.97035041e-05 3.97073714e-05\n",
      " 3.97111994e-05 3.97149880e-05 3.97187373e-05 3.97224472e-05\n",
      " 3.97261177e-05 3.97297488e-05 3.97333406e-05 3.97368929e-05\n",
      " 3.97404058e-05 3.97438792e-05 3.97473133e-05 3.97507078e-05\n",
      " 3.97540629e-05 3.97573786e-05 3.97606547e-05 3.97638913e-05\n",
      " 3.97670885e-05 3.97702461e-05 3.97733642e-05 3.97764428e-05\n",
      " 3.97794818e-05 3.97824813e-05 3.97854413e-05 3.97883616e-05\n",
      " 3.97912424e-05 3.97940836e-05 3.97968852e-05 3.97996472e-05\n",
      " 3.98023696e-05 3.98050524e-05 3.98076955e-05 3.98102990e-05\n",
      " 3.98128629e-05 3.98153871e-05 3.98178716e-05 3.98203165e-05\n",
      " 3.98227218e-05 3.98250873e-05 3.98274131e-05 3.98296993e-05\n",
      " 3.98319458e-05 3.98341525e-05 3.98363196e-05 3.98384469e-05\n",
      " 3.98405345e-05 3.98425823e-05 3.98445904e-05 3.98465588e-05\n",
      " 3.98484874e-05 3.98503763e-05 3.98522254e-05 3.98540347e-05\n",
      " 3.98558043e-05 3.98575341e-05 3.98592241e-05 3.98608743e-05\n",
      " 3.98624847e-05 3.98640553e-05 3.98655861e-05 3.98670771e-05\n",
      " 3.98685283e-05 3.98699397e-05 3.98713112e-05 3.98726429e-05\n",
      " 3.98739348e-05 3.98751869e-05 3.98763991e-05 3.98775715e-05\n",
      " 3.98787040e-05 3.98797967e-05 3.98808496e-05 3.98818625e-05\n",
      " 3.98828357e-05 3.98837689e-05 3.98846624e-05 3.98855159e-05\n",
      " 3.98863296e-05 3.98871034e-05 3.98878373e-05 3.98885314e-05\n",
      " 3.98891855e-05 3.98897998e-05 3.98903742e-05 3.98909088e-05\n",
      " 3.98914034e-05 3.98918582e-05 3.98922731e-05 3.98926481e-05\n",
      " 3.98929832e-05 3.98932784e-05 3.98935337e-05 3.98937491e-05\n",
      " 3.98939246e-05 3.98940603e-05 3.98941560e-05 3.98942119e-05\n",
      " 3.98942278e-05 3.98942039e-05 3.98941401e-05 3.98940363e-05\n",
      " 3.98938927e-05 3.98937092e-05 3.98934858e-05 3.98932225e-05\n",
      " 3.98929193e-05 3.98925763e-05 3.98921933e-05 3.98917704e-05\n",
      " 3.98913077e-05 3.98908051e-05 3.98902626e-05 3.98896802e-05\n",
      " 3.98890579e-05 3.98883957e-05 3.98876937e-05 3.98869518e-05\n",
      " 3.98861700e-05 3.98853484e-05 3.98844869e-05 3.98835855e-05\n",
      " 3.98826442e-05 3.98816631e-05 3.98806422e-05 3.98795814e-05\n",
      " 3.98784807e-05 3.98773402e-05 3.98761598e-05 3.98749397e-05\n",
      " 3.98736796e-05 3.98723798e-05 3.98710401e-05 3.98696606e-05\n",
      " 3.98682412e-05 3.98667821e-05 3.98652831e-05 3.98637443e-05\n",
      " 3.98621658e-05 3.98605474e-05 3.98588892e-05 3.98571913e-05\n",
      " 3.98554535e-05 3.98536760e-05 3.98518587e-05 3.98500017e-05\n",
      " 3.98481049e-05 3.98461683e-05 3.98441920e-05 3.98421759e-05\n",
      " 3.98401201e-05 3.98380246e-05 3.98358893e-05 3.98337143e-05\n",
      " 3.98314997e-05 3.98292453e-05 3.98269512e-05 3.98246174e-05\n",
      " 3.98222439e-05 3.98198307e-05 3.98173779e-05 3.98148854e-05\n",
      " 3.98123533e-05 3.98097815e-05 3.98071700e-05 3.98045190e-05\n",
      " 3.98018283e-05 3.97990980e-05 3.97963280e-05 3.97935185e-05\n",
      " 3.97906694e-05 3.97877807e-05 3.97848524e-05 3.97818846e-05\n",
      " 3.97788772e-05 3.97758303e-05 3.97727438e-05 3.97696178e-05\n",
      " 3.97664522e-05 3.97632472e-05 3.97600026e-05 3.97567186e-05\n",
      " 3.97533951e-05 3.97500321e-05 3.97466296e-05 3.97431877e-05\n",
      " 3.97397063e-05 3.97361856e-05 3.97326254e-05 3.97290258e-05\n",
      " 3.97253867e-05 3.97217083e-05 3.97179906e-05 3.97142334e-05\n",
      " 3.97104369e-05 3.97066011e-05 3.97027259e-05 3.96988114e-05\n",
      " 3.96948576e-05 3.96908645e-05 3.96868321e-05 3.96827604e-05\n",
      " 3.96786495e-05 3.96744994e-05 3.96703100e-05 3.96660813e-05\n",
      " 3.96618135e-05 3.96575064e-05 3.96531602e-05 3.96487748e-05\n",
      " 3.96443503e-05 3.96398866e-05 3.96353837e-05 3.96308418e-05\n",
      " 3.96262607e-05 3.96216406e-05 3.96169813e-05 3.96122830e-05\n",
      " 3.96075457e-05 3.96027693e-05 3.95979539e-05 3.95930995e-05\n",
      " 3.95882061e-05 3.95832737e-05 3.95783024e-05 3.95732921e-05\n",
      " 3.95682428e-05 3.95631547e-05 3.95580276e-05 3.95528617e-05\n",
      " 3.95476569e-05 3.95424132e-05 3.95371307e-05 3.95318093e-05\n",
      " 3.95264492e-05 3.95210503e-05 3.95156125e-05 3.95101360e-05\n",
      " 3.95046208e-05 3.94990669e-05 3.94934742e-05 3.94878428e-05\n",
      " 3.94821728e-05 3.94764641e-05 3.94707167e-05 3.94649307e-05\n",
      " 3.94591061e-05 3.94532429e-05 3.94473412e-05 3.94414009e-05\n",
      " 3.94354220e-05 3.94294046e-05 3.94233487e-05 3.94172543e-05\n",
      " 3.94111215e-05 3.94049502e-05 3.93987405e-05 3.93924923e-05\n",
      " 3.93862058e-05 3.93798809e-05 3.93735176e-05 3.93671160e-05\n",
      " 3.93606760e-05 3.93541978e-05 3.93476813e-05 3.93411265e-05\n",
      " 3.93345335e-05 3.93279022e-05 3.93212328e-05 3.93145252e-05\n",
      " 3.93077794e-05 3.93009954e-05 3.92941734e-05 3.92873132e-05\n",
      " 3.92804150e-05 3.92734787e-05 3.92665043e-05 3.92594919e-05\n",
      " 3.92524416e-05 3.92453532e-05 3.92382269e-05 3.92310627e-05\n",
      " 3.92238605e-05 3.92166204e-05 3.92093425e-05 3.92020267e-05\n",
      " 3.91946731e-05 3.91872817e-05 3.91798525e-05 3.91723855e-05\n",
      " 3.91648808e-05 3.91573384e-05 3.91497583e-05 3.91421405e-05\n",
      " 3.91344850e-05 3.91267919e-05 3.91190612e-05 3.91112930e-05\n",
      " 3.91034871e-05 3.90956438e-05 3.90877629e-05 3.90798445e-05\n",
      " 3.90718886e-05 3.90638953e-05 3.90558646e-05 3.90477965e-05\n",
      " 3.90396910e-05 3.90315482e-05 3.90233681e-05 3.90151506e-05\n",
      " 3.90068959e-05 3.89986039e-05 3.89902747e-05 3.89819083e-05\n",
      " 3.89735047e-05 3.89650639e-05 3.89565860e-05 3.89480711e-05\n",
      " 3.89395190e-05 3.89309299e-05 3.89223038e-05 3.89136406e-05\n",
      " 3.89049405e-05 3.88962034e-05 3.88874294e-05 3.88786185e-05\n",
      " 3.88697708e-05 3.88608862e-05 3.88519647e-05 3.88430065e-05\n",
      " 3.88340115e-05 3.88249798e-05 3.88159113e-05 3.88068062e-05\n",
      " 3.87976644e-05 3.87884859e-05 3.87792709e-05 3.87700192e-05\n",
      " 3.87607310e-05 3.87514063e-05 3.87420451e-05 3.87326475e-05\n",
      " 3.87232133e-05 3.87137428e-05 3.87042359e-05 3.86946926e-05\n",
      " 3.86851130e-05 3.86754970e-05 3.86658448e-05 3.86561564e-05\n",
      " 3.86464317e-05 3.86366709e-05 3.86268738e-05 3.86170407e-05\n",
      " 3.86071714e-05 3.85972661e-05 3.85873247e-05 3.85773473e-05\n",
      " 3.85673340e-05 3.85572846e-05 3.85471994e-05 3.85370782e-05\n",
      " 3.85269212e-05 3.85167283e-05 3.85064996e-05 3.84962351e-05\n",
      " 3.84859349e-05 3.84755990e-05 3.84652274e-05 3.84548201e-05\n",
      " 3.84443772e-05 3.84338987e-05 3.84233846e-05 3.84128350e-05\n",
      " 3.84022499e-05 3.83916293e-05 3.83809732e-05 3.83702818e-05\n",
      " 3.83595549e-05 3.83487928e-05 3.83379953e-05 3.83271625e-05\n",
      " 3.83162944e-05 3.83053912e-05 3.82944527e-05 3.82834791e-05\n",
      " 3.82724703e-05 3.82614265e-05 3.82503476e-05 3.82392337e-05\n",
      " 3.82280847e-05 3.82169008e-05 3.82056820e-05 3.81944283e-05\n",
      " 3.81831397e-05 3.81718162e-05 3.81604580e-05 3.81490650e-05\n",
      " 3.81376372e-05 3.81261748e-05 3.81146776e-05 3.81031459e-05\n",
      " 3.80915795e-05 3.80799786e-05 3.80683431e-05 3.80566732e-05\n",
      " 3.80449687e-05 3.80332299e-05 3.80214566e-05 3.80096490e-05\n",
      " 3.79978070e-05 3.79859308e-05 3.79740202e-05 3.79620755e-05\n",
      " 3.79500965e-05 3.79380834e-05 3.79260362e-05 3.79139549e-05\n",
      " 3.79018395e-05 3.78896902e-05 3.78775068e-05 3.78652895e-05\n",
      " 3.78530383e-05 3.78407532e-05 3.78284342e-05 3.78160815e-05\n",
      " 3.78036949e-05 3.77912747e-05 3.77788207e-05 3.77663331e-05\n",
      " 3.77538119e-05 3.77412571e-05 3.77286687e-05 3.77160468e-05\n",
      " 3.77033914e-05 3.76907026e-05 3.76779803e-05 3.76652247e-05\n",
      " 3.76524358e-05 3.76396136e-05 3.76267581e-05 3.76138693e-05\n",
      " 3.76009474e-05 3.75879924e-05 3.75750042e-05 3.75619830e-05\n",
      " 3.75489287e-05 3.75358414e-05 3.75227212e-05 3.75095680e-05\n",
      " 3.74963820e-05 3.74831631e-05 3.74699114e-05 3.74566269e-05\n",
      " 3.74433097e-05 3.74299598e-05 3.74165772e-05 3.74031621e-05\n",
      " 3.73897143e-05 3.73762340e-05 3.73627212e-05 3.73491759e-05\n",
      " 3.73355982e-05 3.73219882e-05 3.73083457e-05 3.72946710e-05\n",
      " 3.72809640e-05 3.72672248e-05 3.72534533e-05 3.72396498e-05\n",
      " 3.72258141e-05 3.72119463e-05 3.71980465e-05 3.71841148e-05\n",
      " 3.71701510e-05 3.71561554e-05 3.71421279e-05 3.71280685e-05\n",
      " 3.71139774e-05 3.70998545e-05 3.70856999e-05 3.70715136e-05\n",
      " 3.70572957e-05 3.70430462e-05 3.70287652e-05 3.70144526e-05\n",
      " 3.70001086e-05 3.69857332e-05 3.69713263e-05 3.69568881e-05\n",
      " 3.69424187e-05 3.69279179e-05 3.69133859e-05 3.68988228e-05\n",
      " 3.68842285e-05 3.68696031e-05 3.68549467e-05 3.68402592e-05\n",
      " 3.68255408e-05 3.68107914e-05 3.67960112e-05 3.67812001e-05\n",
      " 3.67663582e-05 3.67514855e-05 3.67365822e-05 3.67216481e-05\n",
      " 3.67066834e-05 3.66916881e-05 3.66766623e-05 3.66616059e-05\n",
      " 3.66465191e-05 3.66314019e-05 3.66162543e-05 3.66010763e-05\n",
      " 3.65858681e-05 3.65706296e-05 3.65553609e-05 3.65400620e-05\n",
      " 3.65247330e-05 3.65093739e-05 3.64939848e-05 3.64785657e-05\n",
      " 3.64631167e-05 3.64476377e-05 3.64321289e-05 3.64165903e-05\n",
      " 3.64010219e-05 3.63854237e-05 3.63697959e-05 3.63541385e-05\n",
      " 3.63384514e-05 3.63227348e-05 3.63069887e-05 3.62912131e-05\n",
      " 3.62754081e-05 3.62595737e-05 3.62437100e-05 3.62278170e-05\n",
      " 3.62118947e-05 3.61959433e-05 3.61799627e-05 3.61639529e-05\n",
      " 3.61479142e-05 3.61318464e-05 3.61157496e-05 3.60996239e-05\n",
      " 3.60834694e-05 3.60672859e-05 3.60510737e-05 3.60348328e-05\n",
      " 3.60185631e-05 3.60022648e-05 3.59859379e-05 3.59695824e-05\n",
      " 3.59531984e-05 3.59367859e-05 3.59203450e-05 3.59038757e-05\n",
      " 3.58873781e-05 3.58708521e-05 3.58542980e-05 3.58377156e-05\n",
      " 3.58211051e-05 3.58044665e-05 3.57877998e-05 3.57711051e-05\n",
      " 3.57543825e-05 3.57376319e-05 3.57208534e-05 3.57040471e-05\n",
      " 3.56872131e-05 3.56703513e-05 3.56534618e-05 3.56365447e-05\n",
      " 3.56196000e-05 3.56026277e-05 3.55856280e-05 3.55686008e-05\n",
      " 3.55515462e-05 3.55344642e-05 3.55173549e-05 3.55002184e-05\n",
      " 3.54830546e-05 3.54658637e-05 3.54486457e-05 3.54314005e-05\n",
      " 3.54141284e-05 3.53968293e-05 3.53795032e-05 3.53621503e-05\n",
      " 3.53447705e-05 3.53273640e-05 3.53099307e-05 3.52924707e-05\n",
      " 3.52749841e-05 3.52574709e-05 3.52399312e-05 3.52223649e-05]\n"
     ]
    }
   ],
   "source": [
    "mu = 5000\n",
    "sigma = 1\n",
    "x1 = 1\n",
    "x2 = 10000\n",
    "\n",
    "# calculate the z-transform\n",
    "z1 = ( x1 - mu ) / sigma\n",
    "z2 = ( x2 - mu ) / sigma\n",
    "print(z1,z2)\n",
    "\n",
    "x = np.arange(z1, z2, 10) # range of x in spec\n",
    "x_all = np.arange(0, 80, 1) # entire range of x, both in and out of spec\n",
    "# mean = 0, stddev = 1, since Z-transform was calculated\n",
    "y = norm.pdf(x,0,10000)\n",
    "y2 = norm.pdf(x_all,0,10000)\n",
    "\n",
    "print(x_all)\n",
    "print(y)\n",
    "# points = np.random.normal(mu,sigma,100)\n"
   ]
  },
  {
   "cell_type": "code",
   "execution_count": 487,
   "metadata": {},
   "outputs": [
    {
     "data": {
      "image/png": "[encoded data removed]",
      "text/plain": [
       "<Figure size 648x432 with 1 Axes>"
      ]
     },
     "metadata": {},
     "output_type": "display_data"
    }
   ],
   "source": [
    "# build the plot\n",
    "fig, ax = plt.subplots(figsize=(9,6))\n",
    "plt.style.use('fivethirtyeight')\n",
    "ax.plot(x_all,y2)\n",
    "\n",
    "# ax.fill_between(x,y,0, alpha=0.3, color='b')\n",
    "# ax.fill_between(x_all,y2,0, alpha=0.1)\n",
    "ax.set_xlim([0,80])\n",
    "ax.set_xlabel('# of Standard Deviations Outside the Mean')\n",
    "ax.set_yticklabels([])\n",
    "ax.set_title('Normal Gaussian Curve')\n",
    "\n",
    "plt.savefig('normal_curve.png', dpi=72, bbox_inches='tight')\n",
    "plt.show()"
   ]
  },
  {
   "cell_type": "markdown",
   "metadata": {},
   "source": [
    "# Predictions\n",
    "\n",
    "using time series to predict the next number of cases\n",
    "\n",
    "## Inputs\n",
    "\n",
    "More informative\n",
    "\n",
    "- current number of confirmed cases\n",
    "- number of tests so far\n",
    "\n",
    "Less informative\n",
    "\n",
    "- current number of confirmed cases\n",
    "\n",
    "## Extract and shape the data"
   ]
  },
  {
   "cell_type": "code",
   "execution_count": 561,
   "metadata": {},
   "outputs": [],
   "source": [
    "unique_dates = italy_df['Date'].unique()\n",
    "# print('unique_dates',unique_dates)\n",
    "tests_preformed = []\n",
    "tests_positive = []\n",
    "for date in unique_dates:\n",
    "    rows = italy_df[italy_df['Date'] == date]\n",
    "    tests_preformed.append(rows['TestsPerformed'].sum())\n",
    "    tests_positive.append(rows['TotalPositiveCases'].sum())"
   ]
  },
  {
   "cell_type": "code",
   "execution_count": 565,
   "metadata": {},
   "outputs": [],
   "source": [
    "korea_ml = np.stack([tests,confirmed])\n",
    "italy_ml = np.stack([tests_preformed,tests_positive])\n",
    "# china_ml =\n",
    "usa_ml =  np.stack([USA_1df['posNeg'].values,USA_1df['positive'].values])"
   ]
  },
  {
   "cell_type": "code",
   "execution_count": 566,
   "metadata": {},
   "outputs": [
    {
     "name": "stdout",
     "output_type": "stream",
     "text": [
      "(2, 57) (2, 23) (2, 14)\n"
     ]
    }
   ],
   "source": [
    "print(korea_ml.shape,italy_ml.shape,usa_ml.shape)"
   ]
  },
  {
   "cell_type": "markdown",
   "metadata": {},
   "source": [
    "# Networks"
   ]
  },
  {
   "cell_type": "code",
   "execution_count": 573,
   "metadata": {},
   "outputs": [],
   "source": [
    "import torch\n",
    "import torch.nn as nn\n",
    "import torch.nn.functional as F\n",
    "from torch.autograd import Variable as V\n",
    "from torch import optim\n",
    "from torch.distributions import Categorical"
   ]
  },
  {
   "cell_type": "code",
   "execution_count": 578,
   "metadata": {},
   "outputs": [],
   "source": [
    "class Baseline(nn.Module):\n",
    "    def __init__(self,seed,nS,nA,hidden_dims=(64,64),activation=F.leaky_relu):\n",
    "        super(Baseline,self).__init__()\n",
    "        self.activation = activation\n",
    "        self.nS = nS\n",
    "        self.nA = nA\n",
    "        self.seed = torch.manual_seed(seed)\n",
    "        self.fc1 = nn.Linear(nS,hidden_dims[0])\n",
    "        self.fc2 = nn.Linear(hidden_dims[0],hidden_dims[1])\n",
    "        self.fc3 = nn.Linear(hidden_dims[1],nA)\n",
    "        \n",
    "    def forward(self,state,mask):\n",
    "        x = state\n",
    "        if not isinstance(state,torch.Tensor):\n",
    "            x = torch.tensor(x,dtype=torch.float32)\n",
    "            x = x.unsqueeze(0)\n",
    "        x = self.activation(self.fc1(x))\n",
    "        x = self.activation(self.fc2(x))\n",
    "        return self.fc3(x)\n",
    "    \n",
    "class Convnet(nn.Module):\n",
    "    def __init__(self,seed,nS,nA,hidden_dims=(64,64),activation=F.leaky_relu):\n",
    "        super(Baseline,self).__init__()\n",
    "        self.activation = activation\n",
    "        self.nS = nS\n",
    "        self.nA = nA\n",
    "        self.seed = torch.manual_seed(seed)\n",
    "        self.fc1 = nn.Conv2d(nS,hidden_dims[0])\n",
    "        self.fc2 = nn.Linear(hidden_dims[0],hidden_dims[1])\n",
    "        self.fc3 = nn.Linear(hidden_dims[1],nA)\n",
    "        \n",
    "    def forward(self,state,mask):\n",
    "        x = state\n",
    "        if not isinstance(state,torch.Tensor):\n",
    "            x = torch.tensor(x,dtype=torch.float32)\n",
    "            x = x.unsqueeze(0)\n",
    "        x = self.activation(self.fc1(x))\n",
    "        x = self.activation(self.fc2(x))\n",
    "        return self.fc3(x)\n",
    "\n",
    "class LSTM():\n",
    "    def __init__(self,seed,nS,nA,hidden_dims=(64,64),activation=F.leaky_relu):\n",
    "        super(Baseline,self).__init__()\n",
    "        self.activation = activation\n",
    "        self.nS = nS\n",
    "        self.nA = nA\n",
    "        self.seed = torch.manual_seed(seed)\n",
    "        self.lstm = nn.LSTM(nS,hidden_dims[0])\n",
    "        \n",
    "    def forward(self,state,mask):\n",
    "        x = state\n",
    "        if not isinstance(state,torch.Tensor):\n",
    "            x = torch.tensor(x,dtype=torch.float32)\n",
    "            x = x.unsqueeze(0)\n",
    "        x,h = self.lstm(x)\n",
    "        return x\n",
    "\n"
   ]
  },
  {
   "cell_type": "markdown",
   "metadata": {},
   "source": [
    "# Train"
   ]
  },
  {
   "cell_type": "code",
   "execution_count": null,
   "metadata": {},
   "outputs": [],
   "source": [
    "def train(params):\n",
    "    for "
   ]
  },
  {
   "cell_type": "code",
   "execution_count": 579,
   "metadata": {},
   "outputs": [],
   "source": [
    "nS = 2\n",
    "nA = 1\n",
    "seed = 1078\n",
    "net = Baseline(seed,nS,nA)"
   ]
  },
  {
   "cell_type": "code",
   "execution_count": null,
   "metadata": {},
   "outputs": [],
   "source": []
  }
 ],
 "metadata": {
  "kernelspec": {
   "display_name": "Python 3",
   "language": "python",
   "name": "python3"
  },
  "language_info": {
   "codemirror_mode": {
    "name": "ipython",
    "version": 3
   },
   "file_extension": ".py",
   "mimetype": "text/x-python",
   "name": "python",
   "nbconvert_exporter": "python",
   "pygments_lexer": "ipython3",
   "version": "3.6.7"
  }
 },
 "nbformat": 4,
 "nbformat_minor": 2
}
